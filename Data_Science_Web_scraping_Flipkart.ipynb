{
  "cells": [
    {
      "cell_type": "markdown",
      "metadata": {
        "id": "view-in-github",
        "colab_type": "text"
      },
      "source": [
        "<a href=\"https://colab.research.google.com/github/MariyaJosep/Data-Science--Web-Scraping/blob/main/Data_Science_Web_scraping_Flipkart.ipynb\" target=\"_parent\"><img src=\"https://colab.research.google.com/assets/colab-badge.svg\" alt=\"Open In Colab\"/></a>"
      ]
    },
    {
      "cell_type": "code",
      "execution_count": null,
      "id": "d12ba5d5",
      "metadata": {
        "id": "d12ba5d5"
      },
      "outputs": [],
      "source": [
        "import numpy as np\n",
        "import pandas as pd\n",
        "import requests as req\n",
        "from bs4 import BeautifulSoup"
      ]
    },
    {
      "cell_type": "code",
      "execution_count": null,
      "id": "3358b1c9",
      "metadata": {
        "id": "3358b1c9"
      },
      "outputs": [],
      "source": [
        "page_url = 'https://www.flipkart.com/search?q=mobiles&as=on&as-show=on&otracker=AS_Query_HistoryAutoSuggest_1_2_na_na_na&otracker1=AS_Query_HistoryAutoSuggest_1_2_na_na_na&as-pos=1&as-type=HISTORY&suggestionId=mobiles&requestId=d5cc3575-88f3-43c0-a455-3bceb1644301&as-searchtext=mo&page=1'\n",
        "page_data = req.get(page_url)"
      ]
    },
    {
      "cell_type": "code",
      "execution_count": null,
      "id": "baa1ea38",
      "metadata": {
        "id": "baa1ea38",
        "outputId": "521adbdd-8f93-4592-d5eb-18c7ca27bfad"
      },
      "outputs": [
        {
          "data": {
            "text/plain": [
              "b'<!doctype html><html lang=\"en\"><head><link href=\"https://rukminim1.flixcart.com\" rel=\"preconnect\"/><link rel=\"stylesheet\" href=\"//static-assets-web.flixcart.com/fk-p-linchpin-web/fk-cp-zion/css/app_modules.chunk.905c37.css\"/><link rel=\"stylesheet\" href=\"//static-assets-web.flixcart.com/fk-p-linchpin-web/fk-cp-zion/css/app.chunk.c46047.css\"/><meta http-equiv=\"Content-type\" content=\"text/html; charset=utf-8\"/><meta http-equiv=\"X-UA-Compatible\" content=\"IE=Edge\"/><meta property=\"fb:page_id\" content=\"102988293558\"/><meta property=\"fb:admins\" content=\"658873552,624500995,100000233612389\"/><meta name=\"robots\" content=\"noodp\"/><link rel=\"shortcut icon\" href=\"https:///www/promos/new/20150528-140547-favicon-retina.ico\"/><link type=\"application/opensearchdescription+xml\" rel=\"search\" href=\"/osdd.xml?v=2\"/><meta property=\"og:type\" content=\"website\"/><meta name=\"og_site_name\" property=\"og:site_name\" content=\"Flipkart.com\"/><link rel=\"apple-touch-icon\" sizes=\"57x57\" href=\"/apple-touch-icon-57x57.png\"/><link rel=\"apple-touch-icon\" sizes=\"72x72\" href=\"/apple-touch-icon-72x72.png\"/><link rel=\"apple-touch-icon\" sizes=\"114x114\" href=\"/apple-touch-icon-114x114.png\"/><link rel=\"apple-touch-icon\" sizes=\"144x144\" href=\"/apple-touch-icon-144x144.png\"/><link rel=\"apple-touch-icon\" href=\"/apple-touch-icon-57x57.png\"/><meta name=\"twitter:card\" content=\"app\"><meta name=\"twitter:site\" content=\"@flipkart\"><meta name=\"twitter:creator\" content=\"@flipkart\"><meta name=\"twitter:title\" content=\"Mobiles- Buy Products Online at Best Price in India - All Categories | Flipkart.com\"><meta name=\"twitter:description\" content=\"Shop for electronics, apparels & more using our Flipkart app Free shipping & COD.\"><meta name=\"twitter:app:country\" content=\"in\"><meta name=\"al:ios:app_name\" content=\"Flipkart\"><meta name=\"al:ios:app_store_id\" content=\"742044692\"><meta name=\"twitter:app:name:iphone\" content=\"Flipkart\"><meta name=\"twitter:app:id:iphone\" content=\"742044692\"><meta name=\"twitter:app:url:iphone\" content=\"http://dl.flipkart.com/dl/home?\"><meta name=\"twitter:app:name:ipad\" content=\"Flipkart\"><meta name=\"twitter:app:id:ipad\" content=\"742044692\"><meta name=\"twitter:app:url:ipad\" content=\"http://dl.flipkart.com/dl/home?\"><meta name=\"twitter:app:name:googleplay\" content=\"Flipkart\"><meta name=\"twitter:app:id:googleplay\" content=\"com.flipkart.android\"><meta name=\"twitter:app:url:googleplay\" content=\"http://dl.flipkart.com/dl/home?\"><style>#container {\\n\\t\\t\\theight: 100%;\\n\\t\\t}</style>  <link rel=\"stylesheet\" href=\"///fk-cp-zion/css/Browse.chunk.ff59ed.css\"/><title>Mobiles- Buy Products Online at Best Price in India - All Categories | Flipkart.com</title><meta name=\"og_title\" property=\"og:title\" content=\"Mobiles- Buy Products Online at Best Price in India - All Categories | Flipkart.com\"/><meta name=\"Keywords\" content=\"Mobiles\"/> <meta name=\"Description\" content=\"Mobiles- Buy Products Online at Best Price in India. India&#x27;s Leading E-commerce Company - Free Home Delivery - All Categories | Flipkart.com\"/><meta property=\"og:description\" content=\"Mobiles- Buy Products Online at Best Price in India. India&#x27;s Leading E-commerce Company - Free Home Delivery - All Categories | Flipkart.com\"/> <meta name=\"robots\" content=\"noindex\"/>   <meta name=\"msvalidate.01\" content=\"F4EEB3A0AFFDD385992A06E6920C0AC3\"/> <!--[if IE 9 ]>\\n\\t<script nonce=\"3185603209901496840\">\\n\\t\\twindow.browserVersion = \\'IE9\\';\\n\\t\\tdocument.documentElement.className += \\' ie9\\';\\n\\t</script>\\n\\t<![endif]--><!--[if !IE]><!--><script nonce=\"3185603209901496840\">if (/*@cc_on!@*/false) {\\n\\t\\t\\twindow.browserVersion = \\'IE10\\';\\n\\t\\t\\tdocument.documentElement.className += \\' ie10\\';\\n\\t\\t}</script><!--<![endif]-->   <link href=\"https://www.flipkart.com/search?q&#x3D;mobiles&amp;as&#x3D;on&amp;as-show&#x3D;on&amp;otracker&#x3D;AS_Query_HistoryAutoSuggest_1_2_na_na_na&amp;otracker1&#x3D;AS_Query_HistoryAutoSuggest_1_2_na_na_na&amp;as-pos&#x3D;1&amp;as-type&#x3D;HISTORY&amp;suggestionId&#x3D;mobiles&amp;requestId&#x3D;d5cc3575-88f3-43c0-a455-3bceb1644301&amp;as-searchtext&#x3D;mo&amp;page&#x3D;2\" id=\"next-page-link-tag\" rel=\"next\"><script nonce=\"3185603209901496840\">!function(){if(\"PerformancePaintTiming\" in window){var e=window.__perf={e:[]};e.o=new PerformanceObserver(function(n){e.e=e.e.concat(n.getEntries())});try{e.o.observe({entryTypes:[\"paint\"]})}catch(e){}}}();\\n\\n\\t\\tif (requestAnimationFrame && performance && performance.mark) {\\n\\t\\t\\trequestAnimationFrame(function () {\\n\\t\\t\\t\\twindow.first_paint = performance.now();\\n\\t\\t\\t\\tperformance.mark(\"first_paint\");\\n\\t\\t\\t});\\n\\t\\t}\\n\\n        // web-vitals polyfill for FID\\n        !function(n,e){var t,o,i,c=[],f={passive:!0,capture:!0},r=new Date,a=\"pointerup\",u=\"pointercancel\";function p(n,c){t||(t=c,o=n,i=new Date,w(e),s())}function s(){o>=0&&o<i-r&&(c.forEach(function(n){n(o,t)}),c=[])}function l(t){if(t.cancelable){var o=(t.timeStamp>1e12?new Date:performance.now())-t.timeStamp;\"pointerdown\"==t.type?function(t,o){function i(){p(t,o),r()}function c(){r()}function r(){e(a,i,f),e(u,c,f)}n(a,i,f),n(u,c,f)}(o,t):p(o,t)}}function w(n){[\"click\",\"mousedown\",\"keydown\",\"touchstart\",\"pointerdown\"].forEach(function(e){n(e,l,f)})}w(n),self.perfMetrics=self.perfMetrics||{},self.perfMetrics.onFirstInputDelay=function(n){c.push(n),s()}}(addEventListener,removeEventListener);</script><script async src=\"https://www.googletagmanager.com/gtag/js?id=AW-594691041\"></script><script nonce=\"3185603209901496840\">window.dataLayer = window.dataLayer || [];\\n\\t\\tfunction gtag(){dataLayer.push(arguments)};\\n\\t\\tgtag(\\'js\\', new Date());</script></head><body><div id=\"container\"><div><div class=\"_1kfTjk\"><div class=\"_1rH5Jn\"><div class=\"_1TmfNK\"></div><div class=\"_2Xfa2_\"><div class=\"_3_C9Hx\"><div class=\"_3qX0zy\"><a href=\"/\"><img width=\"75\" src=\"//static-assets-web.flixcart.com/fk-p-linchpin-web/fk-cp-zion/img/flipkart-plus_8d85f4.png\" alt=\"Flipkart\" title=\"Flipkart\" class=\"_2xm1JU\"/></a><a class=\"_21ljIi\" href=\"/plus\">Explore<!-- --> <span class=\"_2FVHGh\">Plus</span><img width=\"10\" src=\"//static-assets-web.flixcart.com/fk-p-linchpin-web/fk-cp-zion/img/plus_aef861.png\"/></a></div></div><div class=\"_1cmsER\"><form class=\"_2M8cLY header-form-search\" action=\"/search\" method=\"GET\"><div class=\"col-12-12 _2oO9oE\"><div class=\"_3OO5Xc\"><input type=\"text\" value=\"mobiles\" class=\"_3704LK\" title=\"Search for products, brands and more\" name=\"q\" autoComplete=\"off\" placeholder=\"Search for products, brands and more\"/></div><button class=\"L0Z3Pu\" type=\"submit\"><svg width=\"20\" height=\"20\" viewBox=\"0 0 17 18\" class=\"\" xmlns=\"http://www.w3.org/2000/svg\"><g fill=\"#2874F1\" fill-rule=\"evenodd\"><path class=\"_34RNph\" d=\"m11.618 9.897l4.225 4.212c.092.092.101.232.02.313l-1.465 1.46c-.081.081-.221.072-.314-.02l-4.216-4.203\"></path><path class=\"_34RNph\" d=\"m6.486 10.901c-2.42 0-4.381-1.956-4.381-4.368 0-2.413 1.961-4.369 4.381-4.369 2.42 0 4.381 1.956 4.381 4.369 0 2.413-1.961 4.368-4.381 4.368m0-10.835c-3.582 0-6.486 2.895-6.486 6.467 0 3.572 2.904 6.467 6.486 6.467 3.582 0 6.486-2.895 6.486-6.467 0-3.572-2.904-6.467-6.486-6.467\"></path></g></svg></button><input type=\"hidden\" name=\"otracker\" value=\"search\"/><input type=\"hidden\" name=\"otracker1\" value=\"search\"/><input type=\"hidden\" name=\"marketplace\" value=\"FLIPKART\"/><input type=\"hidden\" name=\"as-show\" value=\"off\"/><input type=\"hidden\" name=\"as\" value=\"off\"/></div><ul class=\"col-12-12 _1MRYA1\"></ul></form></div><div class=\"go_DOp _2errNR\"><div class=\"_28p97w\"><div class=\"_1psGvi _3BvnxG\"><div><a class=\"_1_3w1N\" href=\"/account/login?ret=/search%3Fq%3Dmobiles%26as%3Don%26as-show%3Don%26otracker%3DAS_Query_HistoryAutoSuggest_1_2_na_na_na%26otracker1%3DAS_Query_HistoryAutoSuggest_1_2_na_na_na%26as-pos%3D1%26as-type%3DHISTORY%26suggestionId%3Dmobiles%26requestId%3Dd5cc3575-88f3-43c0-a455-3bceb1644301%26as-searchtext%3Dmo%26page%3D1\">Login</a></div></div></div></div><div class=\"go_DOp\"><a href=\"https://seller.flipkart.com/sell-online/?utm_source=fkwebsite&amp;utm_medium=websitedirect\" class=\"_3-PJz-\"><span>Become a Seller</span></a></div><div class=\"go_DOp\"><div class=\"_28p97w\"><div class=\"_1psGvi _3BvnxG\"><div><div class=\"exehdJ\"> <!-- -->More<!-- --> </div></div></div><svg width=\"4.7\" height=\"8\" viewBox=\"0 0 16 27\" xmlns=\"http://www.w3.org/2000/svg\" class=\"zZ3yfL\"><path d=\"M16 23.207L6.11 13.161 16 3.093 12.955 0 0 13.161l12.955 13.161z\" fill=\"#fff\" class=\"_2gTTdy\"></path></svg></div></div><div class=\"go_DOp\"><div class=\"_1psGvi\"><div class=\"YUhWwv\"><a class=\"_3SkBxJ\" href=\"/viewcart?exploreMode=true&amp;preference=FLIPKART\"><svg class=\"V3C5bO\" width=\"14\" height=\"14\" viewBox=\"0 0 16 16\" xmlns=\"http://www.w3.org/2000/svg\"><path class=\"_1bS9ic\" d=\"M15.32 2.405H4.887C3 2.405 2.46.805 2.46.805L2.257.21C2.208.085 2.083 0 1.946 0H.336C.1 0-.064.24.024.46l.644 1.945L3.11 9.767c.047.137.175.23.32.23h8.418l-.493 1.958H3.768l.002.003c-.017 0-.033-.003-.05-.003-1.06 0-1.92.86-1.92 1.92s.86 1.92 1.92 1.92c.99 0 1.805-.75 1.91-1.712l5.55.076c.12.922.91 1.636 1.867 1.636 1.04 0 1.885-.844 1.885-1.885 0-.866-.584-1.593-1.38-1.814l2.423-8.832c.12-.433-.206-.86-.655-.86\" fill=\"#fff\"></path></svg><span>Cart</span></a></div></div></div></div><div class=\"_1TmfNK\"></div></div><div class=\"_1mUdNz\"></div></div><div class=\"_331-kn\"></div><div class=\"_36fx1h _6t1WkM _3HqJxg\"><div class=\"_1YokD2 _2GoDe3\"><div class=\"_1YokD2 _3Mn1Gg col-2-12\" style=\"flex:0 0 280px;max-width:280px;padding:0px 10px 0px 0px\"><div class=\"_1YokD2 _3Mn1Gg col-12-12\"><div class=\"_1AtVbE col-12-12\"><div class=\"_1KOcBL\"><section class=\"JWMl0H _2hbLCH\"><div class=\"_2ssEMF\"><div class=\"_3V8rao\"><span>Filters</span></div></div></section><div class=\"_2q_g77\"><section class=\"_2aDURW\"><div class=\"_2lfNTw\"><span>CATEGORIES</span></div><div><div class=\"TB_InB\"><span><svg width=\"10\" height=\"10\" viewBox=\"0 0 16 27\" xmlns=\"http://www.w3.org/2000/svg\" class=\"_2Iqv73\"><path d=\"M16 23.207L6.11 13.161 16 3.093 12.955 0 0 13.161l12.955 13.161z\" fill=\"#fff\" class=\"_3zK8He\"></path></svg></span><a class=\"_2qvBBJ _2Mji8F\" title=\"Mobiles &amp; Accessories\" href=\"/mobiles-accessories/pr?sid=tyy&amp;q=mobiles&amp;otracker=categorytree\">Mobiles &amp; Accessories</a></div></div><div><div class=\"TB_InB\"><span><svg width=\"10\" height=\"10\" viewBox=\"0 0 16 27\" xmlns=\"http://www.w3.org/2000/svg\" class=\"_2Iqv73\"><path d=\"M16 23.207L6.11 13.161 16 3.093 12.955 0 0 13.161l12.955 13.161z\" fill=\"#fff\" class=\"\"></path></svg></span><a class=\"_1jJQdf _2Mji8F\" title=\"Mobiles\" href=\"/mobiles/pr?sid=tyy,4io&amp;q=mobiles&amp;otracker=categorytree\">Mobiles</a></div></div></section></div><section class=\"_2yz7eI _2hbLCH\"><div class=\"_3KxRU6 _2ssEMF\"><div class=\"UR1L2I _3V8rao\"><span>Price</span></div></div><div class=\"_2NBiOm\"><div class=\"_1nneZ0\"><div class=\"_2TbXIJ\" style=\"height:0;width:0\"></div><div class=\"_2TbXIJ\" style=\"height:0;width:0\"></div><div class=\"_2TbXIJ\" style=\"height:0;width:0\"></div><div class=\"_2TbXIJ\" style=\"height:0;width:0\"></div><div class=\"_2TbXIJ\" style=\"height:0;width:0\"></div></div></div><div class=\"_2r34SG\"><div class=\"_12FhcQ\"><div class=\"_31Kbhn _28DFQy\"><div class=\"_3FdLqY\"></div></div><div class=\"_31Kbhn WC_zGJ\"><div class=\"_3FdLqY\"></div></div><div class=\"_2IN3-t\"></div><div class=\"_2IN3-t _1mRwrD\"></div></div><div class=\"_15GU70\"><div class=\"_1ftpgI\" style=\"width:undefinedpx\">.</div><div class=\"_1ftpgI\" style=\"width:undefinedpx\">.</div><div class=\"_1ftpgI\" style=\"width:undefinedpx\">.</div><div class=\"_1ftpgI\" style=\"width:undefinedpx\">.</div><div class=\"_1ftpgI\" style=\"width:undefinedpx\">.</div><div class=\"_1ftpgI\" style=\"width:0px\">.</div></div></div><div class=\"_2b0bUo\"><div class=\"_1YAKP4\"><select class=\"_2YxCDZ\"><option selected=\"\" value=\"Min\" class=\"_3AsjWR\">Min</option><option value=\"10000\" class=\"_3AsjWR\">\\xe2\\x82\\xb910000</option><option value=\"15000\" class=\"_3AsjWR\">\\xe2\\x82\\xb915000</option><option value=\"20000\" class=\"_3AsjWR\">\\xe2\\x82\\xb920000</option><option value=\"30000\" class=\"_3AsjWR\">\\xe2\\x82\\xb930000</option></select></div><div class=\"_3zohzR\">to</div><div class=\"_3uDYxP\"><select class=\"_2YxCDZ\"><option value=\"10000\" class=\"_3AsjWR\">\\xe2\\x82\\xb910000</option><option value=\"15000\" class=\"_3AsjWR\">\\xe2\\x82\\xb915000</option><option value=\"20000\" class=\"_3AsjWR\">\\xe2\\x82\\xb920000</option><option value=\"30000\" class=\"_3AsjWR\">\\xe2\\x82\\xb930000</option><option selected=\"\" value=\"Max\" class=\"_3AsjWR\">\\xe2\\x82\\xb930000+</option></select></div></div></section><section class=\"_167Mu3 _2hbLCH\"><div class=\"_213eRC _2ssEMF\"><div class=\"_2gmUFU _3V8rao\">Brand</div><svg width=\"16\" height=\"27\" viewBox=\"0 0 16 27\" xmlns=\"http://www.w3.org/2000/svg\" class=\"ttx38n _3DyGEM\"><path d=\"M16 23.207L6.11 13.161 16 3.093 12.955 0 0 13.161l12.955 13.161z\" fill=\"#fff\" class=\"IIvmWM\"></path></svg></div><div class=\"_3FPh42\"><div class=\"_2d0we9\"><div class=\"_2pBqj6\"><svg width=\"20\" height=\"20\" viewBox=\"0 0 17 18\" class=\"_3WAvPc\" xmlns=\"http://www.w3.org/2000/svg\"><g fill=\"#2874F1\" fill-rule=\"evenodd\"><path class=\"-OwdlC\" d=\"m11.618 9.897l4.225 4.212c.092.092.101.232.02.313l-1.465 1.46c-.081.081-.221.072-.314-.02l-4.216-4.203\"></path><path class=\"-OwdlC\" d=\"m6.486 10.901c-2.42 0-4.381-1.956-4.381-4.368 0-2.413 1.961-4.369 4.381-4.369 2.42 0 4.381 1.956 4.381 4.369 0 2.413-1.961 4.368-4.381 4.368m0-10.835c-3.582 0-6.486 2.895-6.486 6.467 0 3.572 2.904 6.467 6.486 6.467 3.582 0 6.486-2.895 6.486-6.467 0-3.572-2.904-6.467-6.486-6.467\"></path></g></svg><input type=\"text\" value=\"\" class=\"_34uFYj\" placeholder=\"Search Brand\"/></div><div class=\"_4921Z t0pPfW\" title=\"realme\"><div class=\"_1Y4Vhm _4FO7b6\"><label class=\"_2iDkf8 t0pPfW\"><input type=\"checkbox\" class=\"_30VH1S\" readonly=\"\"/><div class=\"_24_Dny\"></div><div class=\"_3879cV\">realme</div></label></div></div><div class=\"_4921Z t0pPfW\" title=\"POCO\"><div class=\"_1Y4Vhm _4FO7b6\"><label class=\"_2iDkf8 t0pPfW\"><input type=\"checkbox\" class=\"_30VH1S\" readonly=\"\"/><div class=\"_24_Dny\"></div><div class=\"_3879cV\">POCO</div></label></div></div><div class=\"_4921Z t0pPfW\" title=\"Infinix\"><div class=\"_1Y4Vhm _4FO7b6\"><label class=\"_2iDkf8 t0pPfW\"><input type=\"checkbox\" class=\"_30VH1S\" readonly=\"\"/><div class=\"_24_Dny\"></div><div class=\"_3879cV\">Infinix</div></label></div></div><div class=\"_4921Z t0pPfW\" title=\"SAMSUNG\"><div class=\"_1Y4Vhm _4FO7b6\"><label class=\"_2iDkf8 t0pPfW\"><input type=\"checkbox\" class=\"_30VH1S\" readonly=\"\"/><div class=\"_24_Dny\"></div><div class=\"_3879cV\">SAMSUNG</div></label></div></div><div class=\"_4921Z t0pPfW\" title=\"Mi\"><div class=\"_1Y4Vhm _4FO7b6\"><label class=\"_2iDkf8 t0pPfW\"><input type=\"checkbox\" class=\"_30VH1S\" readonly=\"\"/><div class=\"_24_Dny\"></div><div class=\"_3879cV\">Mi</div></label></div></div><div class=\"_4921Z t0pPfW\" title=\"APPLE\"><div class=\"_1Y4Vhm _4FO7b6\"><label class=\"_2iDkf8 t0pPfW\"><input type=\"checkbox\" class=\"_30VH1S\" readonly=\"\"/><div class=\"_24_Dny\"></div><div class=\"_3879cV\">APPLE</div></label></div></div></div><div class=\"QvtND5 _2w_U27\"><span>173 MORE</span></div></div></section><section class=\"_2hbLCH _24gLJx\"><label class=\"_2iDkf8 shbqsL\"><input type=\"checkbox\" class=\"_30VH1S\" readonly=\"\"/><div class=\"_24_Dny _3tCU7L\"></div><div class=\"_3879cV\"><div class=\"_3U-Vxu\"><img height=\"21\" src=\"//static-assets-web.flixcart.com/fk-p-linchpin-web/fk-cp-zion/img/fa_62673a.png\" class=\"_3U-Vxu\"/></div></div></label><div class=\"Bv11UC\"><span class=\"question\">?</span></div></section><section class=\"_167Mu3 _2hbLCH\"><div class=\"_213eRC _2ssEMF\"><div class=\"_2gmUFU _3V8rao\">Customer Ratings</div><svg width=\"16\" height=\"27\" viewBox=\"0 0 16 27\" xmlns=\"http://www.w3.org/2000/svg\" class=\"ttx38n _3DyGEM\"><path d=\"M16 23.207L6.11 13.161 16 3.093 12.955 0 0 13.161l12.955 13.161z\" fill=\"#fff\" class=\"IIvmWM\"></path></svg></div><div class=\"_3FPh42\"><div class=\"_2d0we9\"><div class=\"_4921Z t0pPfW\" title=\"4\\xe2\\x98\\x85 &amp; above\"><div class=\"_1Y4Vhm _4FO7b6\"><label class=\"_2iDkf8 t0pPfW\"><input type=\"checkbox\" class=\"_30VH1S\" readonly=\"\"/><div class=\"_24_Dny\"></div><div class=\"_3879cV\">4\\xe2\\x98\\x85 &amp; above</div></label></div></div><div class=\"_4921Z t0pPfW\" title=\"3\\xe2\\x98\\x85 &amp; above\"><div class=\"_1Y4Vhm _4FO7b6\"><label class=\"_2iDkf8 t0pPfW\"><input type=\"checkbox\" class=\"_30VH1S\" readonly=\"\"/><div class=\"_24_Dny\"></div><div class=\"_3879cV\">3\\xe2\\x98\\x85 &amp; above</div></label></div></div></div></div></section><section class=\"_167Mu3 _2hbLCH\"><div class=\"_213eRC _2ssEMF\"><div class=\"_2gmUFU _3V8rao\">GST Invoice Available</div><svg width=\"16\" height=\"27\" viewBox=\"0 0 16 27\" xmlns=\"http://www.w3.org/2000/svg\" class=\"ttx38n\"><path d=\"M16 23.207L6.11 13.161 16 3.093 12.955 0 0 13.161l12.955 13.161z\" fill=\"#fff\" class=\"IIvmWM\"></path></svg></div></section><section class=\"_167Mu3 _2hbLCH\"><div class=\"_213eRC _2ssEMF\"><div class=\"_2gmUFU _3V8rao\">RAM</div><svg width=\"16\" height=\"27\" viewBox=\"0 0 16 27\" xmlns=\"http://www.w3.org/2000/svg\" class=\"ttx38n _3DyGEM\"><path d=\"M16 23.207L6.11 13.161 16 3.093 12.955 0 0 13.161l12.955 13.161z\" fill=\"#fff\" class=\"IIvmWM\"></path></svg></div><div class=\"_3FPh42\"><div class=\"_2d0we9\"><div class=\"_4921Z t0pPfW\" title=\"4 GB\"><div class=\"_1Y4Vhm _4FO7b6\"><label class=\"_2iDkf8 t0pPfW\"><input type=\"checkbox\" class=\"_30VH1S\" readonly=\"\"/><div class=\"_24_Dny\"></div><div class=\"_3879cV\">4 GB</div></label></div></div><div class=\"_4921Z t0pPfW\" title=\"3 GB\"><div class=\"_1Y4Vhm _4FO7b6\"><label class=\"_2iDkf8 t0pPfW\"><input type=\"checkbox\" class=\"_30VH1S\" readonly=\"\"/><div class=\"_24_Dny\"></div><div class=\"_3879cV\">3 GB</div></label></div></div><div class=\"_4921Z t0pPfW\" title=\"2 GB\"><div class=\"_1Y4Vhm _4FO7b6\"><label class=\"_2iDkf8 t0pPfW\"><input type=\"checkbox\" class=\"_30VH1S\" readonly=\"\"/><div class=\"_24_Dny\"></div><div class=\"_3879cV\">2 GB</div></label></div></div><div class=\"_4921Z t0pPfW\" title=\"1GB and Below\"><div class=\"_1Y4Vhm _4FO7b6\"><label class=\"_2iDkf8 t0pPfW\"><input type=\"checkbox\" class=\"_30VH1S\" readonly=\"\"/><div class=\"_24_Dny\"></div><div class=\"_3879cV\">1GB and Below</div></label></div></div><div class=\"_4921Z t0pPfW\" title=\"8 GB and Above\"><div class=\"_1Y4Vhm _4FO7b6\"><label class=\"_2iDkf8 t0pPfW\"><input type=\"checkbox\" class=\"_30VH1S\" readonly=\"\"/><div class=\"_24_Dny\"></div><div class=\"_3879cV\">8 GB and Above</div></label></div></div><div class=\"_4921Z t0pPfW\" title=\"6 GB\"><div class=\"_1Y4Vhm _4FO7b6\"><label class=\"_2iDkf8 t0pPfW\"><input type=\"checkbox\" class=\"_30VH1S\" readonly=\"\"/><div class=\"_24_Dny\"></div><div class=\"_3879cV\">6 GB</div></label></div></div></div></div></section><section class=\"_167Mu3 _2hbLCH\"><div class=\"_213eRC _2ssEMF\"><div class=\"_2gmUFU _3V8rao\">Internal Storage</div><svg width=\"16\" height=\"27\" viewBox=\"0 0 16 27\" xmlns=\"http://www.w3.org/2000/svg\" class=\"ttx38n\"><path d=\"M16 23.207L6.11 13.161 16 3.093 12.955 0 0 13.161l12.955 13.161z\" fill=\"#fff\" class=\"IIvmWM\"></path></svg></div></section><section class=\"_167Mu3 _2hbLCH\"><div class=\"_213eRC _2ssEMF\"><div class=\"_2gmUFU _3V8rao\">Battery Capacity</div><svg width=\"16\" height=\"27\" viewBox=\"0 0 16 27\" xmlns=\"http://www.w3.org/2000/svg\" class=\"ttx38n\"><path d=\"M16 23.207L6.11 13.161 16 3.093 12.955 0 0 13.161l12.955 13.161z\" fill=\"#fff\" class=\"IIvmWM\"></path></svg></div></section><section class=\"_167Mu3 _2hbLCH\"><div class=\"_213eRC _2ssEMF\"><div class=\"_2gmUFU _3V8rao\">Screen Size</div><svg width=\"16\" height=\"27\" viewBox=\"0 0 16 27\" xmlns=\"http://www.w3.org/2000/svg\" class=\"ttx38n\"><path d=\"M16 23.207L6.11 13.161 16 3.093 12.955 0 0 13.161l12.955 13.161z\" fill=\"#fff\" class=\"IIvmWM\"></path></svg></div></section><section class=\"_167Mu3 _2hbLCH\"><div class=\"_213eRC _2ssEMF\"><div class=\"_2gmUFU _3V8rao\">Primary Camera</div><svg width=\"16\" height=\"27\" viewBox=\"0 0 16 27\" xmlns=\"http://www.w3.org/2000/svg\" class=\"ttx38n\"><path d=\"M16 23.207L6.11 13.161 16 3.093 12.955 0 0 13.161l12.955 13.161z\" fill=\"#fff\" class=\"IIvmWM\"></path></svg></div></section><section class=\"_167Mu3 _2hbLCH\"><div class=\"_213eRC _2ssEMF\"><div class=\"_2gmUFU _3V8rao\">Secondary Camera</div><svg width=\"16\" height=\"27\" viewBox=\"0 0 16 27\" xmlns=\"http://www.w3.org/2000/svg\" class=\"ttx38n\"><path d=\"M16 23.207L6.11 13.161 16 3.093 12.955 0 0 13.161l12.955 13.161z\" fill=\"#fff\" class=\"IIvmWM\"></path></svg></div></section><section class=\"_167Mu3 _2hbLCH\"><div class=\"_213eRC _2ssEMF\"><div class=\"_2gmUFU _3V8rao\">Processor Brand</div><svg width=\"16\" height=\"27\" viewBox=\"0 0 16 27\" xmlns=\"http://www.w3.org/2000/svg\" class=\"ttx38n\"><path d=\"M16 23.207L6.11 13.161 16 3.093 12.955 0 0 13.161l12.955 13.161z\" fill=\"#fff\" class=\"IIvmWM\"></path></svg></div></section><section class=\"_167Mu3 _2hbLCH\"><div class=\"_213eRC _2ssEMF\"><div class=\"_2gmUFU _3V8rao\">Speciality</div><svg width=\"16\" height=\"27\" viewBox=\"0 0 16 27\" xmlns=\"http://www.w3.org/2000/svg\" class=\"ttx38n\"><path d=\"M16 23.207L6.11 13.161 16 3.093 12.955 0 0 13.161l12.955 13.161z\" fill=\"#fff\" class=\"IIvmWM\"></path></svg></div></section><section class=\"_167Mu3 _2hbLCH\"><div class=\"_213eRC _2ssEMF\"><div class=\"_2gmUFU _3V8rao\">Resolution Type</div><svg width=\"16\" height=\"27\" viewBox=\"0 0 16 27\" xmlns=\"http://www.w3.org/2000/svg\" class=\"ttx38n\"><path d=\"M16 23.207L6.11 13.161 16 3.093 12.955 0 0 13.161l12.955 13.161z\" fill=\"#fff\" class=\"IIvmWM\"></path></svg></div></section><section class=\"_167Mu3 _2hbLCH\"><div class=\"_213eRC _2ssEMF\"><div class=\"_2gmUFU _3V8rao\">Operating System</div><svg width=\"16\" height=\"27\" viewBox=\"0 0 16 27\" xmlns=\"http://www.w3.org/2000/svg\" class=\"ttx38n\"><path d=\"M16 23.207L6.11 13.161 16 3.093 12.955 0 0 13.161l12.955 13.161z\" fill=\"#fff\" class=\"IIvmWM\"></path></svg></div></section><section class=\"_167Mu3 _2hbLCH\"><div class=\"_213eRC _2ssEMF\"><div class=\"_2gmUFU _3V8rao\">Network Type</div><svg width=\"16\" height=\"27\" viewBox=\"0 0 16 27\" xmlns=\"http://www.w3.org/2000/svg\" class=\"ttx38n\"><path d=\"M16 23.207L6.11 13.161 16 3.093 12.955 0 0 13.161l12.955 13.161z\" fill=\"#fff\" class=\"IIvmWM\"></path></svg></div></section><section class=\"_167Mu3 _2hbLCH\"><div class=\"_213eRC _2ssEMF\"><div class=\"_2gmUFU _3V8rao\">Sim Type</div><svg width=\"16\" height=\"27\" viewBox=\"0 0 16 27\" xmlns=\"http://www.w3.org/2000/svg\" class=\"ttx38n\"><path d=\"M16 23.207L6.11 13.161 16 3.093 12.955 0 0 13.161l12.955 13.161z\" fill=\"#fff\" class=\"IIvmWM\"></path></svg></div></section><section class=\"_167Mu3 _2hbLCH\"><div class=\"_213eRC _2ssEMF\"><div class=\"_2gmUFU _3V8rao\">Offers</div><svg width=\"16\" height=\"27\" viewBox=\"0 0 16 27\" xmlns=\"http://www.w3.org/2000/svg\" class=\"ttx38n _3DyGEM\"><path d=\"M16 23.207L6.11 13.161 16 3.093 12.955 0 0 13.161l12.955 13.161z\" fill=\"#fff\" class=\"IIvmWM\"></path></svg></div><div class=\"_3FPh42\"><div class=\"_2d0we9\"><div class=\"_4921Z t0pPfW\" title=\"Buy More, Save More\"><div class=\"_1Y4Vhm _4FO7b6\"><label class=\"_2iDkf8 t0pPfW\"><input type=\"checkbox\" class=\"_30VH1S\" readonly=\"\"/><div class=\"_24_Dny\"></div><div class=\"_3879cV\">Buy More, Save More</div></label></div></div><div class=\"_4921Z t0pPfW\" title=\"No Cost EMI\"><div class=\"_1Y4Vhm _4FO7b6\"><label class=\"_2iDkf8 t0pPfW\"><input type=\"checkbox\" class=\"_30VH1S\" readonly=\"\"/><div class=\"_24_Dny\"></div><div class=\"_3879cV\">No Cost EMI</div></label></div></div><div class=\"_4921Z t0pPfW\" title=\"Special Price\"><div class=\"_1Y4Vhm _4FO7b6\"><label class=\"_2iDkf8 t0pPfW\"><input type=\"checkbox\" class=\"_30VH1S\" readonly=\"\"/><div class=\"_24_Dny\"></div><div class=\"_3879cV\">Special Price</div></label></div></div></div></div></section><section class=\"_167Mu3 _2hbLCH\"><div class=\"_213eRC _2ssEMF\"><div class=\"_2gmUFU _3V8rao\">Features</div><svg width=\"16\" height=\"27\" viewBox=\"0 0 16 27\" xmlns=\"http://www.w3.org/2000/svg\" class=\"ttx38n\"><path d=\"M16 23.207L6.11 13.161 16 3.093 12.955 0 0 13.161l12.955 13.161z\" fill=\"#fff\" class=\"IIvmWM\"></path></svg></div></section><section class=\"_167Mu3 _2hbLCH\"><div class=\"_213eRC _2ssEMF\"><div class=\"_2gmUFU _3V8rao\">Type</div><svg width=\"16\" height=\"27\" viewBox=\"0 0 16 27\" xmlns=\"http://www.w3.org/2000/svg\" class=\"ttx38n\"><path d=\"M16 23.207L6.11 13.161 16 3.093 12.955 0 0 13.161l12.955 13.161z\" fill=\"#fff\" class=\"IIvmWM\"></path></svg></div></section><section class=\"_167Mu3 _2hbLCH\"><div class=\"_213eRC _2ssEMF\"><div class=\"_2gmUFU _3V8rao\">Number of Cores</div><svg width=\"16\" height=\"27\" viewBox=\"0 0 16 27\" xmlns=\"http://www.w3.org/2000/svg\" class=\"ttx38n\"><path d=\"M16 23.207L6.11 13.161 16 3.093 12.955 0 0 13.161l12.955 13.161z\" fill=\"#fff\" class=\"IIvmWM\"></path></svg></div></section><section class=\"_167Mu3 _2hbLCH\"><div class=\"_213eRC _2ssEMF\"><div class=\"_2gmUFU _3V8rao\">Availability</div><svg width=\"16\" height=\"27\" viewBox=\"0 0 16 27\" xmlns=\"http://www.w3.org/2000/svg\" class=\"ttx38n\"><path d=\"M16 23.207L6.11 13.161 16 3.093 12.955 0 0 13.161l12.955 13.161z\" fill=\"#fff\" class=\"IIvmWM\"></path></svg></div></section><section class=\"_167Mu3 _2hbLCH\"><div class=\"_213eRC _2ssEMF\"><div class=\"_2gmUFU _3V8rao\">Discount</div><svg width=\"16\" height=\"27\" viewBox=\"0 0 16 27\" xmlns=\"http://www.w3.org/2000/svg\" class=\"ttx38n _3DyGEM\"><path d=\"M16 23.207L6.11 13.161 16 3.093 12.955 0 0 13.161l12.955 13.161z\" fill=\"#fff\" class=\"IIvmWM\"></path></svg></div><div class=\"_3FPh42\"><div class=\"_2d0we9\"><div class=\"_4921Z t0pPfW\" title=\"50% or more\"><div class=\"_1Y4Vhm _4FO7b6\"><label class=\"_2iDkf8 t0pPfW\"><input type=\"checkbox\" class=\"_30VH1S\" readonly=\"\"/><div class=\"_24_Dny\"></div><div class=\"_3879cV\">50% or more</div></label></div></div><div class=\"_4921Z t0pPfW\" title=\"40% or more\"><div class=\"_1Y4Vhm _4FO7b6\"><label class=\"_2iDkf8 t0pPfW\"><input type=\"checkbox\" class=\"_30VH1S\" readonly=\"\"/><div class=\"_24_Dny\"></div><div class=\"_3879cV\">40% or more</div></label></div></div><div class=\"_4921Z t0pPfW\" title=\"30% or more\"><div class=\"_1Y4Vhm _4FO7b6\"><label class=\"_2iDkf8 t0pPfW\"><input type=\"checkbox\" class=\"_30VH1S\" readonly=\"\"/><div class=\"_24_Dny\"></div><div class=\"_3879cV\">30% or more</div></label></div></div><div class=\"_4921Z t0pPfW\" title=\"20% or more\"><div class=\"_1Y4Vhm _4FO7b6\"><label class=\"_2iDkf8 t0pPfW\"><input type=\"checkbox\" class=\"_30VH1S\" readonly=\"\"/><div class=\"_24_Dny\"></div><div class=\"_3879cV\">20% or more</div></label></div></div><div class=\"_4921Z t0pPfW\" title=\"10% or more\"><div class=\"_1Y4Vhm _4FO7b6\"><label class=\"_2iDkf8 t0pPfW\"><input type=\"checkbox\" class=\"_30VH1S\" readonly=\"\"/><div class=\"_24_Dny\"></div><div class=\"_3879cV\">10% or more</div></label></div></div></div></div></section><section class=\"_167Mu3 _2hbLCH\"><div class=\"_213eRC _2ssEMF\"><div class=\"_2gmUFU _3V8rao\">Operating System Version Name</div><svg width=\"16\" height=\"27\" viewBox=\"0 0 16 27\" xmlns=\"http://www.w3.org/2000/svg\" class=\"ttx38n\"><path d=\"M16 23.207L6.11 13.161 16 3.093 12.955 0 0 13.161l12.955 13.161z\" fill=\"#fff\" class=\"IIvmWM\"></path></svg></div></section><section class=\"_167Mu3 _2hbLCH\"><div class=\"_213eRC _2ssEMF\"><div class=\"_2gmUFU _3V8rao\">Clock Speed</div><svg width=\"16\" height=\"27\" viewBox=\"0 0 16 27\" xmlns=\"http://www.w3.org/2000/svg\" class=\"ttx38n\"><path d=\"M16 23.207L6.11 13.161 16 3.093 12.955 0 0 13.161l12.955 13.161z\" fill=\"#fff\" class=\"IIvmWM\"></path></svg></div></section></div></div><div class=\"_1AtVbE col-12-12\"><a class=\"_1nY1tt\" title=\"Buying Guide\" href=\"/buying-guide/mobiles?sid=tyy,4io&amp;otracker=bg_from_browse_lhs\"><div><span>Need help?</span></div><div class=\"_1mVNvF\"><span>Help me decide</span><svg width=\"16\" height=\"27\" viewBox=\"0 0 16 27\" xmlns=\"http://www.w3.org/2000/svg\" class=\"ViewtL\"><path d=\"M16 23.207L6.11 13.161 16 3.093 12.955 0 0 13.161l12.955 13.161z\" fill=\"#fff\" class=\"_2Zt1Py\"></path></svg></div><img alt=\"Buying Guide\" src=\"//static-assets-web.flixcart.com/fk-p-linchpin-web/fk-cp-zion/img/buying-guide-illustration_4dd325.png\"/></a></div></div></div><div class=\"_1YokD2 _3Mn1Gg\" style=\"flex-grow:1;overflow:auto\"><div class=\"_1YokD2 _2GoDe3 col-12-12\" style=\"background-color:#ffffff;align-items:flex-end\"><div class=\"_1AtVbE\" style=\"flex-grow:1;overflow:auto\"><div class=\"W_R1IA\"><div class=\"_1MR4o5\"><div class=\"_3GIHBu\"><a class=\"_2whKao\" href=\"/\">Home</a><svg width=\"16\" height=\"27\" viewBox=\"0 0 16 27\" xmlns=\"http://www.w3.org/2000/svg\" class=\"_39X-Og\"><path d=\"M16 23.207L6.11 13.161 16 3.093 12.955 0 0 13.161l12.955 13.161z\" fill=\"#fff\" class=\"DpXnhQ\"></path></svg></div><div class=\"_3GIHBu\"><a class=\"_2whKao\" href=\"/mobiles-accessories/pr?sid=tyy&amp;marketplace=FLIPKART\">Mobiles &amp; Accessories</a><svg width=\"16\" height=\"27\" viewBox=\"0 0 16 27\" xmlns=\"http://www.w3.org/2000/svg\" class=\"_39X-Og\"><path d=\"M16 23.207L6.11 13.161 16 3.093 12.955 0 0 13.161l12.955 13.161z\" fill=\"#fff\" class=\"DpXnhQ\"></path></svg></div><div class=\"_3GIHBu\"><a class=\"_2whKao\" href=\"/mobiles/pr?sid=tyy,4io&amp;marketplace=FLIPKART\">Mobiles</a><svg width=\"16\" height=\"27\" viewBox=\"0 0 16 27\" xmlns=\"http://www.w3.org/2000/svg\" class=\"_39X-Og\"><path d=\"M16 23.207L6.11 13.161 16 3.093 12.955 0 0 13.161l12.955 13.161z\" fill=\"#fff\" class=\"DpXnhQ\"></path></svg></div></div><span class=\"_10Ermr\">Showing 1 \\xe2\\x80\\x93 24 of 7,965 results for &quot;<span>mobiles</span>&quot;</span><div class=\"_5THWM1\"><span class=\"_2i7N3j\">Sort By</span><div class=\"_10UF8M _3LsR0e\">Relevance</div><div class=\"_10UF8M\">Popularity</div><div class=\"_10UF8M\">Price -- Low to High</div><div class=\"_10UF8M\">Price -- High to Low</div><div class=\"_10UF8M\">Newest First</div></div></div></div></div><div class=\"_1AtVbE col-12-12\"><div class=\"_13oc-S\"><div data-id=\"MOBG2EMWUMUFGSZE\" style=\"width:100%\"><div class=\"_2kHMtA\"><a class=\"_1fQZEK\" target=\"_blank\" rel=\"noopener noreferrer\" href=\"/motorola-e40-carbon-gray-64-gb/p/itm0ca635007c9e2?pid=MOBG2EMWUMUFGSZE&amp;lid=LSTMOBG2EMWUMUFGSZEJNGZMU&amp;marketplace=FLIPKART&amp;q=mobiles&amp;store=tyy%2F4io&amp;spotlightTagId=BestsellerId_tyy%2F4io&amp;srno=s_1_1&amp;otracker=AS_Query_HistoryAutoSuggest_1_2_na_na_na&amp;otracker1=AS_Query_HistoryAutoSuggest_1_2_na_na_na&amp;fm=organic&amp;iid=d0cca885-1040-4f45-b74c-f6b804d9fca0.MOBG2EMWUMUFGSZE.SEARCH&amp;ppt=None&amp;ppn=None&amp;ssid=fcl8n3hgyo0000001674966157161&amp;qH=eb4af0bf07c16429\"><div></div><div class=\"MIXNux\"><div class=\"_2QcLo-\"><div><div class=\"CXW8mj\" style=\"height:200px;width:200px\"><img loading=\"eager\" class=\"_396cs4\" alt=\"MOTOROLA e40 (Carbon Gray, 64 GB)\" src=\"https://rukminim1.flixcart.com/image/312/312/l1l1rww0/mobile/v/7/n/-original-imagd48zkjwujxzz.jpeg?q=70\"/></div></div></div><div class=\"_3wLduG\"><div class=\"_3PzNI-\"><span class=\"f3A4_V\"><label class=\"_2iDkf8\"><input type=\"checkbox\" class=\"_30VH1S\" readonly=\"\"/><div class=\"_24_Dny\"></div></label></span><label class=\"_6Up2sF\"><span>Add to Compare</span></label></div></div><div class=\"_2hVSre _3nq8ih\"><div class=\"_36FSn5\"><svg xmlns=\"http://www.w3.org/2000/svg\" class=\"_1l0elc\" width=\"16\" height=\"16\" viewBox=\"0 0 20 16\"><path d=\"M8.695 16.682C4.06 12.382 1 9.536 1 6.065 1 3.219 3.178 1 5.95 1c1.566 0 3.069.746 4.05 1.915C10.981 1.745 12.484 1 14.05 1 16.822 1 19 3.22 19 6.065c0 3.471-3.06 6.316-7.695 10.617L10 17.897l-1.305-1.215z\" fill=\"#2874F0\" class=\"eX72wL\" stroke=\"#FFF\" fill-rule=\"evenodd\" opacity=\".9\"></path></svg></div></div></div><div class=\"_3pLy-c row\"><div class=\"col col-7-12\"><div class=\"_4rR01T\">MOTOROLA e40 (Carbon Gray, 64 GB)</div><div class=\"gUuXy-\"><span id=\"productRating_LSTMOBG2EMWUMUFGSZEJNGZMU_MOBG2EMWUMUFGSZE_\" class=\"_1lRcqv\"><div class=\"_3LWZlK\">4.1<img src=\"data:image/svg+xml;base64,PHN2ZyB4bWxucz0iaHR0cDovL3d3dy53My5vcmcvMjAwMC9zdmciIHdpZHRoPSIxMyIgaGVpZ2h0PSIxMiI+PHBhdGggZmlsbD0iI0ZGRiIgZD0iTTYuNSA5LjQzOWwtMy42NzQgMi4yMy45NC00LjI2LTMuMjEtMi44ODMgNC4yNTQtLjQwNEw2LjUuMTEybDEuNjkgNC4wMSA0LjI1NC40MDQtMy4yMSAyLjg4Mi45NCA0LjI2eiIvPjwvc3ZnPg==\" class=\"_1wB99o\"/></div></span><span class=\"_2_R_DZ\"><span><span>63,192 Ratings\\xc2\\xa0</span><span class=\"_13vcmD\">&amp;</span><span>\\xc2\\xa06,113 Reviews</span></span></span></div><div class=\"fMghEO\"><ul class=\"_1xgFaf\"><li class=\"rgWa7D\">4 GB RAM | 64 GB ROM | Expandable Upto 1 TB</li><li class=\"rgWa7D\">16.51 cm (6.5 inch) HD+ Display</li><li class=\"rgWa7D\">48MP + 2MP + 2MP | 8MP Front Camera</li><li class=\"rgWa7D\">5000 mAh Battery</li><li class=\"rgWa7D\">UNISOC T700 Processor</li><li class=\"rgWa7D\">1 Year on Handset and 6 Months on Accessories</li></ul></div></div><div class=\"col col-5-12 nlI3QM\"><div class=\"_3tbKJL\"><div class=\"_25b18c\"><div class=\"_30jeq3 _1_WHN1\">\\xe2\\x82\\xb97,999</div><div class=\"_3I9_wc _27UcVY\">\\xe2\\x82\\xb9<!-- -->10,999</div><div class=\"_3Ay6Sb\"><span>27% off</span></div></div><div class=\"_3tcB5a p8ucoS\"><div><div class=\"_2Tpdn3\" style=\"color:#000000;font-size:12px;font-weight:400\">Free delivery</div></div></div></div><div class=\"_13J9qT\"><img height=\"21\" src=\"//static-assets-web.flixcart.com/fk-p-linchpin-web/fk-cp-zion/img/fa_62673a.png\"/></div><div class=\"_2ZdXDB\"><div class=\"_3xFhiH\"><div class=\"_2Tpdn3 _18hQoS\" style=\"color:#000000;font-size:14px;font-style:normal;font-weight:400\">Upto </div><div class=\"_2Tpdn3 _18hQoS\" style=\"color:#000000;font-size:14px;font-style:normal;font-weight:700\">\\xe2\\x82\\xb97,450</div><div class=\"_2Tpdn3 _18hQoS\" style=\"color:#000000;font-size:14px;font-style:normal;font-weight:400\"> Off on Exchange</div></div></div><div class=\"_2ZdXDB\"><div class=\"_3xFhiH\"><div class=\"_2Tpdn3 _18hQoS\" style=\"color:#26A541;font-size:14px;font-weight:700\">Bank Offer</div></div></div></div></div></a></div></div></div></div><div class=\"_1AtVbE col-12-12\"><div class=\"_13oc-S\"><div data-id=\"MOBGHWFHSV7GUFWA\" style=\"width:100%\"><div class=\"_2kHMtA\"><a class=\"_1fQZEK\" target=\"_blank\" rel=\"noopener noreferrer\" href=\"/apple-iphone-14-blue-128-gb/p/itmdb77f40da6b6d?pid=MOBGHWFHSV7GUFWA&amp;lid=LSTMOBGHWFHSV7GUFWA3AV8J8&amp;marketplace=FLIPKART&amp;q=mobiles&amp;store=tyy%2F4io&amp;srno=s_1_2&amp;otracker=AS_Query_HistoryAutoSuggest_1_2_na_na_na&amp;otracker1=AS_Query_HistoryAutoSuggest_1_2_na_na_na&amp;fm=organic&amp;iid=d0cca885-1040-4f45-b74c-f6b804d9fca0.MOBGHWFHSV7GUFWA.SEARCH&amp;ppt=None&amp;ppn=None&amp;ssid=fcl8n3hgyo0000001674966157161&amp;qH=eb4af0bf07c16429\"><div class=\"MIXNux\"><div class=\"_2QcLo-\"><div><div class=\"CXW8mj\" style=\"height:200px;width:200px\"><img loading=\"eager\" class=\"_396cs4\" alt=\"APPLE iPhone 14 (Blue, 128 GB)\" src=\"https://rukminim1.flixcart.com/image/312/312/xif0q/mobile/3/5/l/-original-imaghx9qmgqsk9s4.jpeg?q=70\"/></div></div></div><div class=\"_3wLduG\"><div class=\"_3PzNI-\"><span class=\"f3A4_V\"><label class=\"_2iDkf8\"><input type=\"checkbox\" class=\"_30VH1S\" readonly=\"\"/><div class=\"_24_Dny\"></div></label></span><label class=\"_6Up2sF\"><span>Add to Compare</span></label></div></div><div class=\"_2hVSre _3nq8ih\"><div class=\"_36FSn5\"><svg xmlns=\"http://www.w3.org/2000/svg\" class=\"_1l0elc\" width=\"16\" height=\"16\" viewBox=\"0 0 20 16\"><path d=\"M8.695 16.682C4.06 12.382 1 9.536 1 6.065 1 3.219 3.178 1 5.95 1c1.566 0 3.069.746 4.05 1.915C10.981 1.745 12.484 1 14.05 1 16.822 1 19 3.22 19 6.065c0 3.471-3.06 6.316-7.695 10.617L10 17.897l-1.305-1.215z\" fill=\"#2874F0\" class=\"eX72wL\" stroke=\"#FFF\" fill-rule=\"evenodd\" opacity=\".9\"></path></svg></div></div></div><div class=\"_3pLy-c row\"><div class=\"col col-7-12\"><div class=\"_4rR01T\">APPLE iPhone 14 (Blue, 128 GB)</div><div class=\"gUuXy-\"><span id=\"productRating_LSTMOBGHWFHSV7GUFWA3AV8J8_MOBGHWFHSV7GUFWA_\" class=\"_1lRcqv\"><div class=\"_3LWZlK\">4.7<img src=\"data:image/svg+xml;base64,PHN2ZyB4bWxucz0iaHR0cDovL3d3dy53My5vcmcvMjAwMC9zdmciIHdpZHRoPSIxMyIgaGVpZ2h0PSIxMiI+PHBhdGggZmlsbD0iI0ZGRiIgZD0iTTYuNSA5LjQzOWwtMy42NzQgMi4yMy45NC00LjI2LTMuMjEtMi44ODMgNC4yNTQtLjQwNEw2LjUuMTEybDEuNjkgNC4wMSA0LjI1NC40MDQtMy4yMSAyLjg4Mi45NCA0LjI2eiIvPjwvc3ZnPg==\" class=\"_1wB99o\"/></div></span><span class=\"_2_R_DZ\"><span><span>7,810 Ratings\\xc2\\xa0</span><span class=\"_13vcmD\">&amp;</span><span>\\xc2\\xa0330 Reviews</span></span></span></div><div class=\"fMghEO\"><ul class=\"_1xgFaf\"><li class=\"rgWa7D\">128 GB ROM</li><li class=\"rgWa7D\">15.49 cm (6.1 inch) Super Retina XDR Display</li><li class=\"rgWa7D\">12MP + 12MP | 12MP Front Camera</li><li class=\"rgWa7D\">A15 Bionic Chip, 6 Core Processor Processor</li><li class=\"rgWa7D\">1 Year Warranty for Phone and 6 Months Warranty for In-Box Accessories</li></ul></div></div><div class=\"col col-5-12 nlI3QM\"><div class=\"_3tbKJL\"><div class=\"_25b18c\"><div class=\"_30jeq3 _1_WHN1\">\\xe2\\x82\\xb966,999</div><div class=\"_3I9_wc _27UcVY\">\\xe2\\x82\\xb9<!-- -->79,900</div><div class=\"_3Ay6Sb\"><span>16% off</span></div></div><div class=\"_3tcB5a p8ucoS\"><div><div class=\"_2Tpdn3\" style=\"color:#000000;font-size:12px;font-weight:400\">Free delivery</div></div></div></div><div class=\"_13J9qT\"><img height=\"21\" src=\"//static-assets-web.flixcart.com/fk-p-linchpin-web/fk-cp-zion/img/fa_62673a.png\"/></div><div class=\"_2ZdXDB\"><div class=\"_3xFhiH\"><div class=\"_2Tpdn3 _18hQoS\" style=\"color:#000000;font-size:14px;font-style:normal;font-weight:400\">Upto </div><div class=\"_2Tpdn3 _18hQoS\" style=\"color:#000000;font-size:14px;font-style:normal;font-weight:700\">\\xe2\\x82\\xb921,400</div><div class=\"_2Tpdn3 _18hQoS\" style=\"color:#000000;font-size:14px;font-style:normal;font-weight:400\"> Off on Exchange</div></div></div><div class=\"_2ZdXDB\"><div class=\"_3xFhiH\"><div class=\"_2Tpdn3 _18hQoS\" style=\"color:#26A541;font-size:14px;font-weight:700\">Bank Offer</div></div></div></div></div></a></div></div></div></div><div class=\"_1AtVbE col-12-12\"><div class=\"_13oc-S\"><div data-id=\"MOBGHDXFMYZXCHHQ\" style=\"width:100%\"><div class=\"_2kHMtA\"><a class=\"_1fQZEK\" target=\"_blank\" rel=\"noopener noreferrer\" href=\"/samsung-galaxy-f23-5g-copper-blush-128-gb/p/itm59c8bf3255ef6?pid=MOBGHDXFMYZXCHHQ&amp;lid=LSTMOBGHDXFMYZXCHHQOQNPUX&amp;marketplace=FLIPKART&amp;q=mobiles&amp;store=tyy%2F4io&amp;srno=s_1_3&amp;otracker=AS_Query_HistoryAutoSuggest_1_2_na_na_na&amp;otracker1=AS_Query_HistoryAutoSuggest_1_2_na_na_na&amp;fm=organic&amp;iid=d0cca885-1040-4f45-b74c-f6b804d9fca0.MOBGHDXFMYZXCHHQ.SEARCH&amp;ppt=None&amp;ppn=None&amp;ssid=fcl8n3hgyo0000001674966157161&amp;qH=eb4af0bf07c16429\"><div class=\"MIXNux\"><div class=\"_2QcLo-\"><div><div class=\"CXW8mj\" style=\"height:200px;width:200px\"><img loading=\"eager\" class=\"_396cs4\" alt=\"SAMSUNG Galaxy F23 5G (Copper Blush, 128 GB)\" src=\"https://rukminim1.flixcart.com/image/312/312/xif0q/mobile/f/c/v/-original-imagehzbaw2wugme.jpeg?q=70\"/></div></div></div><div class=\"_3wLduG\"><div class=\"_3PzNI-\"><span class=\"f3A4_V\"><label class=\"_2iDkf8\"><input type=\"checkbox\" class=\"_30VH1S\" readonly=\"\"/><div class=\"_24_Dny\"></div></label></span><label class=\"_6Up2sF\"><span>Add to Compare</span></label></div></div><div class=\"_2hVSre _3nq8ih\"><div class=\"_36FSn5\"><svg xmlns=\"http://www.w3.org/2000/svg\" class=\"_1l0elc\" width=\"16\" height=\"16\" viewBox=\"0 0 20 16\"><path d=\"M8.695 16.682C4.06 12.382 1 9.536 1 6.065 1 3.219 3.178 1 5.95 1c1.566 0 3.069.746 4.05 1.915C10.981 1.745 12.484 1 14.05 1 16.822 1 19 3.22 19 6.065c0 3.471-3.06 6.316-7.695 10.617L10 17.897l-1.305-1.215z\" fill=\"#2874F0\" class=\"eX72wL\" stroke=\"#FFF\" fill-rule=\"evenodd\" opacity=\".9\"></path></svg></div></div></div><div class=\"_3pLy-c row\"><div class=\"col col-7-12\"><div class=\"_4rR01T\">SAMSUNG Galaxy F23 5G (Copper Blush, 128 GB)</div><div class=\"gUuXy-\"><span id=\"productRating_LSTMOBGHDXFMYZXCHHQOQNPUX_MOBGHDXFMYZXCHHQ_\" class=\"_1lRcqv\"><div class=\"_3LWZlK\">4.3<img src=\"data:image/svg+xml;base64,PHN2ZyB4bWxucz0iaHR0cDovL3d3dy53My5vcmcvMjAwMC9zdmciIHdpZHRoPSIxMyIgaGVpZ2h0PSIxMiI+PHBhdGggZmlsbD0iI0ZGRiIgZD0iTTYuNSA5LjQzOWwtMy42NzQgMi4yMy45NC00LjI2LTMuMjEtMi44ODMgNC4yNTQtLjQwNEw2LjUuMTEybDEuNjkgNC4wMSA0LjI1NC40MDQtMy4yMSAyLjg4Mi45NCA0LjI2eiIvPjwvc3ZnPg==\" class=\"_1wB99o\"/></div></span><span class=\"_2_R_DZ\"><span><span>1,45,075 Ratings\\xc2\\xa0</span><span class=\"_13vcmD\">&amp;</span><span>\\xc2\\xa011,783 Reviews</span></span></span></div><div class=\"fMghEO\"><ul class=\"_1xgFaf\"><li class=\"rgWa7D\">6 GB RAM | 128 GB ROM</li><li class=\"rgWa7D\">16.76 cm (6.6 inch) Display</li><li class=\"rgWa7D\">50MP Rear Camera</li><li class=\"rgWa7D\">5000 mAh Battery</li><li class=\"rgWa7D\">1 Year Warranty</li></ul></div></div><div class=\"col col-5-12 nlI3QM\"><div class=\"_3tbKJL\"><div class=\"_25b18c\"><div class=\"_30jeq3 _1_WHN1\">\\xe2\\x82\\xb916,999</div></div><div class=\"_3tcB5a p8ucoS\"><div><div class=\"_2Tpdn3\" style=\"color:#000000;font-size:12px;font-weight:400\">Free delivery</div></div></div></div><div class=\"_13J9qT\"><img height=\"21\" src=\"//static-assets-web.flixcart.com/fk-p-linchpin-web/fk-cp-zion/img/fa_62673a.png\"/></div><div class=\"_2ZdXDB\"><div class=\"_3xFhiH\"><div class=\"_2Tpdn3 _18hQoS\" style=\"color:#26A541;font-size:14px;font-weight:700\">Bank Offer</div></div></div></div></div></a></div></div></div></div><div class=\"_1AtVbE col-12-12\"><div class=\"_13oc-S\"><div data-id=\"MOBG73E7VZH7XHJY\" style=\"width:100%\"><div class=\"_2kHMtA\"><a class=\"_1fQZEK\" target=\"_blank\" rel=\"noopener noreferrer\" href=\"/poco-c31-shadow-gray-32-gb/p/itmffefb8bb085e3?pid=MOBG73E7VZH7XHJY&amp;lid=LSTMOBG73E7VZH7XHJYYXFO9I&amp;marketplace=FLIPKART&amp;q=mobiles&amp;store=tyy%2F4io&amp;srno=s_1_4&amp;otracker=AS_Query_HistoryAutoSuggest_1_2_na_na_na&amp;otracker1=AS_Query_HistoryAutoSuggest_1_2_na_na_na&amp;fm=organic&amp;iid=d0cca885-1040-4f45-b74c-f6b804d9fca0.MOBG73E7VZH7XHJY.SEARCH&amp;ppt=None&amp;ppn=None&amp;ssid=fcl8n3hgyo0000001674966157161&amp;qH=eb4af0bf07c16429\"><div class=\"MIXNux\"><div class=\"_2QcLo-\"><div><div class=\"CXW8mj\" style=\"height:200px;width:200px\"><img loading=\"eager\" class=\"_396cs4\" alt=\"POCO C31 (Shadow Gray, 32 GB)\" src=\"https://rukminim1.flixcart.com/image/312/312/ku4ezrk0/mobile/b/o/m/c31-mzb0a0min-poco-original-imag7bzqxekkpkrv.jpeg?q=70\"/></div></div></div><div class=\"_3wLduG\"><div class=\"_3PzNI-\"><span class=\"f3A4_V\"><label class=\"_2iDkf8\"><input type=\"checkbox\" class=\"_30VH1S\" readonly=\"\"/><div class=\"_24_Dny\"></div></label></span><label class=\"_6Up2sF\"><span>Add to Compare</span></label></div></div><div class=\"_2hVSre _3nq8ih\"><div class=\"_36FSn5\"><svg xmlns=\"http://www.w3.org/2000/svg\" class=\"_1l0elc\" width=\"16\" height=\"16\" viewBox=\"0 0 20 16\"><path d=\"M8.695 16.682C4.06 12.382 1 9.536 1 6.065 1 3.219 3.178 1 5.95 1c1.566 0 3.069.746 4.05 1.915C10.981 1.745 12.484 1 14.05 1 16.822 1 19 3.22 19 6.065c0 3.471-3.06 6.316-7.695 10.617L10 17.897l-1.305-1.215z\" fill=\"#2874F0\" class=\"eX72wL\" stroke=\"#FFF\" fill-rule=\"evenodd\" opacity=\".9\"></path></svg></div></div></div><div class=\"_3pLy-c row\"><div class=\"col col-7-12\"><div class=\"_4rR01T\">POCO C31 (Shadow Gray, 32 GB)</div><div class=\"gUuXy-\"><span id=\"productRating_LSTMOBG73E7VZH7XHJYYXFO9I_MOBG73E7VZH7XHJY_\" class=\"_1lRcqv\"><div class=\"_3LWZlK\">4.3<img src=\"data:image/svg+xml;base64,PHN2ZyB4bWxucz0iaHR0cDovL3d3dy53My5vcmcvMjAwMC9zdmciIHdpZHRoPSIxMyIgaGVpZ2h0PSIxMiI+PHBhdGggZmlsbD0iI0ZGRiIgZD0iTTYuNSA5LjQzOWwtMy42NzQgMi4yMy45NC00LjI2LTMuMjEtMi44ODMgNC4yNTQtLjQwNEw2LjUuMTEybDEuNjkgNC4wMSA0LjI1NC40MDQtMy4yMSAyLjg4Mi45NCA0LjI2eiIvPjwvc3ZnPg==\" class=\"_1wB99o\"/></div></span><span class=\"_2_R_DZ\"><span><span>1,27,266 Ratings\\xc2\\xa0</span><span class=\"_13vcmD\">&amp;</span><span>\\xc2\\xa07,488 Reviews</span></span></span></div><div class=\"fMghEO\"><ul class=\"_1xgFaf\"><li class=\"rgWa7D\">3 GB RAM | 32 GB ROM | Expandable Upto 512 GB</li><li class=\"rgWa7D\">16.59 cm (6.53 inch) HD+ Display</li><li class=\"rgWa7D\">13MP + 2MP + 2MP | 5MP Front Camera</li><li class=\"rgWa7D\">5000 mAh Lithium-ion Polymer Battery</li><li class=\"rgWa7D\">MediaTek Helio G35 Processor</li><li class=\"rgWa7D\">1 Year Warranty for Handset, 6 Months for Accessories</li></ul></div></div><div class=\"col col-5-12 nlI3QM\"><div class=\"_3tbKJL\"><div class=\"_25b18c\"><div class=\"_30jeq3 _1_WHN1\">\\xe2\\x82\\xb96,499</div><div class=\"_3I9_wc _27UcVY\">\\xe2\\x82\\xb9<!-- -->10,999</div><div class=\"_3Ay6Sb\"><span>40% off</span></div></div><div class=\"_3tcB5a p8ucoS\"><div><div class=\"_2Tpdn3\" style=\"color:#000000;font-size:12px;font-weight:400\">Free delivery</div></div></div></div><div class=\"_13J9qT\"><img height=\"21\" src=\"//static-assets-web.flixcart.com/fk-p-linchpin-web/fk-cp-zion/img/fa_62673a.png\"/></div><div class=\"_2ZdXDB\"><div class=\"_3xFhiH\"><div class=\"_2Tpdn3 _18hQoS\" style=\"color:#000000;font-size:14px;font-style:normal;font-weight:400\">Upto </div><div class=\"_2Tpdn3 _18hQoS\" style=\"color:#000000;font-size:14px;font-style:normal;font-weight:700\">\\xe2\\x82\\xb95,950</div><div class=\"_2Tpdn3 _18hQoS\" style=\"color:#000000;font-size:14px;font-style:normal;font-weight:400\"> Off on Exchange</div></div></div><div class=\"_2ZdXDB\"><div class=\"_3xFhiH\"><div class=\"_2Tpdn3 _18hQoS\" style=\"color:#26A541;font-size:14px;font-weight:700\">Bank Offer</div></div></div></div></div></a></div></div></div></div><div class=\"_1AtVbE col-12-12\"><div class=\"_13oc-S\"><div data-id=\"MOBG73E7UBFXXMCH\" style=\"width:100%\"><div class=\"_2kHMtA\"><a class=\"_1fQZEK\" target=\"_blank\" rel=\"noopener noreferrer\" href=\"/poco-c31-shadow-gray-64-gb/p/itm162375acb8370?pid=MOBG73E7UBFXXMCH&amp;lid=LSTMOBG73E7UBFXXMCHSM0ZN5&amp;marketplace=FLIPKART&amp;q=mobiles&amp;store=tyy%2F4io&amp;srno=s_1_5&amp;otracker=AS_Query_HistoryAutoSuggest_1_2_na_na_na&amp;otracker1=AS_Query_HistoryAutoSuggest_1_2_na_na_na&amp;fm=organic&amp;iid=d0cca885-1040-4f45-b74c-f6b804d9fca0.MOBG73E7UBFXXMCH.SEARCH&amp;ppt=None&amp;ppn=None&amp;ssid=fcl8n3hgyo0000001674966157161&amp;qH=eb4af0bf07c16429\"><div class=\"MIXNux\"><div class=\"_2QcLo-\"><div><div class=\"CXW8mj\" style=\"height:200px;width:200px\"><img loading=\"eager\" class=\"_396cs4\" alt=\"POCO C31 (Shadow Gray, 64 GB)\" src=\"https://rukminim1.flixcart.com/image/312/312/ku4ezrk0/mobile/b/o/m/c31-mzb0a0min-poco-original-imag7bzqxekkpkrv.jpeg?q=70\"/></div></div></div><div class=\"_3wLduG\"><div class=\"_3PzNI-\"><span class=\"f3A4_V\"><label class=\"_2iDkf8\"><input type=\"checkbox\" class=\"_30VH1S\" readonly=\"\"/><div class=\"_24_Dny\"></div></label></span><label class=\"_6Up2sF\"><span>Add to Compare</span></label></div></div><div class=\"_2hVSre _3nq8ih\"><div class=\"_36FSn5\"><svg xmlns=\"http://www.w3.org/2000/svg\" class=\"_1l0elc\" width=\"16\" height=\"16\" viewBox=\"0 0 20 16\"><path d=\"M8.695 16.682C4.06 12.382 1 9.536 1 6.065 1 3.219 3.178 1 5.95 1c1.566 0 3.069.746 4.05 1.915C10.981 1.745 12.484 1 14.05 1 16.822 1 19 3.22 19 6.065c0 3.471-3.06 6.316-7.695 10.617L10 17.897l-1.305-1.215z\" fill=\"#2874F0\" class=\"eX72wL\" stroke=\"#FFF\" fill-rule=\"evenodd\" opacity=\".9\"></path></svg></div></div></div><div class=\"_3pLy-c row\"><div class=\"col col-7-12\"><div class=\"_4rR01T\">POCO C31 (Shadow Gray, 64 GB)</div><div class=\"gUuXy-\"><span id=\"productRating_LSTMOBG73E7UBFXXMCHSM0ZN5_MOBG73E7UBFXXMCH_\" class=\"_1lRcqv\"><div class=\"_3LWZlK\">4.3<img src=\"data:image/svg+xml;base64,PHN2ZyB4bWxucz0iaHR0cDovL3d3dy53My5vcmcvMjAwMC9zdmciIHdpZHRoPSIxMyIgaGVpZ2h0PSIxMiI+PHBhdGggZmlsbD0iI0ZGRiIgZD0iTTYuNSA5LjQzOWwtMy42NzQgMi4yMy45NC00LjI2LTMuMjEtMi44ODMgNC4yNTQtLjQwNEw2LjUuMTEybDEuNjkgNC4wMSA0LjI1NC40MDQtMy4yMSAyLjg4Mi45NCA0LjI2eiIvPjwvc3ZnPg==\" class=\"_1wB99o\"/></div></span><span class=\"_2_R_DZ\"><span><span>1,90,631 Ratings\\xc2\\xa0</span><span class=\"_13vcmD\">&amp;</span><span>\\xc2\\xa011,392 Reviews</span></span></span></div><div class=\"fMghEO\"><ul class=\"_1xgFaf\"><li class=\"rgWa7D\">4 GB RAM | 64 GB ROM | Expandable Upto 512 GB</li><li class=\"rgWa7D\">16.59 cm (6.53 inch) HD+ Display</li><li class=\"rgWa7D\">13MP + 2MP + 2MP | 5MP Front Camera</li><li class=\"rgWa7D\">5000 mAh Lithium-ion Polymer Battery</li><li class=\"rgWa7D\">MediaTek Helio G35 Processor</li><li class=\"rgWa7D\">1 Year Warranty for Handset, 6 Months for Accessories</li></ul></div></div><div class=\"col col-5-12 nlI3QM\"><div class=\"_3tbKJL\"><div class=\"_25b18c\"><div class=\"_30jeq3 _1_WHN1\">\\xe2\\x82\\xb97,749</div><div class=\"_3I9_wc _27UcVY\">\\xe2\\x82\\xb9<!-- -->11,999</div><div class=\"_3Ay6Sb\"><span>35% off</span></div></div><div class=\"_3tcB5a p8ucoS\"><div><div class=\"_2Tpdn3\" style=\"color:#000000;font-size:12px;font-weight:400\">Free delivery</div></div></div></div><div class=\"_13J9qT\"><img height=\"21\" src=\"//static-assets-web.flixcart.com/fk-p-linchpin-web/fk-cp-zion/img/fa_62673a.png\"/></div><div class=\"_2ZdXDB\"><div class=\"_3xFhiH\"><div class=\"_2Tpdn3 _18hQoS\" style=\"color:#000000;font-size:14px;font-style:normal;font-weight:400\">Upto </div><div class=\"_2Tpdn3 _18hQoS\" style=\"color:#000000;font-size:14px;font-style:normal;font-weight:700\">\\xe2\\x82\\xb97,200</div><div class=\"_2Tpdn3 _18hQoS\" style=\"color:#000000;font-size:14px;font-style:normal;font-weight:400\"> Off on Exchange</div></div></div><div class=\"_2ZdXDB\"><div class=\"_3xFhiH\"><div class=\"_2Tpdn3 _18hQoS\" style=\"color:#26A541;font-size:14px;font-weight:700\">Bank Offer</div></div></div></div></div></a></div></div></div></div><div class=\"_1AtVbE col-12-12\"><div class=\"_13oc-S\"><div data-id=\"MOBGEDT5ZZMZQZSJ\" style=\"width:100%\"><div class=\"_2kHMtA\"><a class=\"_1fQZEK\" target=\"_blank\" rel=\"noopener noreferrer\" href=\"/motorola-g62-5g-midnight-gray-128-gb/p/itm37da299ffb2d0?pid=MOBGEDT5ZZMZQZSJ&amp;lid=LSTMOBGEDT5ZZMZQZSJFXDZSQ&amp;marketplace=FLIPKART&amp;q=mobiles&amp;store=tyy%2F4io&amp;srno=s_1_6&amp;otracker=AS_Query_HistoryAutoSuggest_1_2_na_na_na&amp;otracker1=AS_Query_HistoryAutoSuggest_1_2_na_na_na&amp;fm=organic&amp;iid=d0cca885-1040-4f45-b74c-f6b804d9fca0.MOBGEDT5ZZMZQZSJ.SEARCH&amp;ppt=None&amp;ppn=None&amp;ssid=fcl8n3hgyo0000001674966157161&amp;qH=eb4af0bf07c16429\"><div class=\"MIXNux\"><div class=\"_2QcLo-\"><div><div class=\"CXW8mj\" style=\"height:200px;width:200px\"><img loading=\"eager\" class=\"_396cs4\" alt=\"MOTOROLA G62 5G (Midnight Gray, 128 GB)\" src=\"https://rukminim1.flixcart.com/image/312/312/xif0q/mobile/h/r/b/-original-imagh29eqd3zrvaf.jpeg?q=70\"/></div></div></div><div class=\"_3wLduG\"><div class=\"_3PzNI-\"><span class=\"f3A4_V\"><label class=\"_2iDkf8\"><input type=\"checkbox\" class=\"_30VH1S\" readonly=\"\"/><div class=\"_24_Dny\"></div></label></span><label class=\"_6Up2sF\"><span>Add to Compare</span></label></div></div><div class=\"_2hVSre _3nq8ih\"><div class=\"_36FSn5\"><svg xmlns=\"http://www.w3.org/2000/svg\" class=\"_1l0elc\" width=\"16\" height=\"16\" viewBox=\"0 0 20 16\"><path d=\"M8.695 16.682C4.06 12.382 1 9.536 1 6.065 1 3.219 3.178 1 5.95 1c1.566 0 3.069.746 4.05 1.915C10.981 1.745 12.484 1 14.05 1 16.822 1 19 3.22 19 6.065c0 3.471-3.06 6.316-7.695 10.617L10 17.897l-1.305-1.215z\" fill=\"#2874F0\" class=\"eX72wL\" stroke=\"#FFF\" fill-rule=\"evenodd\" opacity=\".9\"></path></svg></div></div></div><div class=\"_3pLy-c row\"><div class=\"col col-7-12\"><div class=\"_4rR01T\">MOTOROLA G62 5G (Midnight Gray, 128 GB)</div><div class=\"gUuXy-\"><span id=\"productRating_LSTMOBGEDT5ZZMZQZSJFXDZSQ_MOBGEDT5ZZMZQZSJ_\" class=\"_1lRcqv\"><div class=\"_3LWZlK\">4.1<img src=\"data:image/svg+xml;base64,PHN2ZyB4bWxucz0iaHR0cDovL3d3dy53My5vcmcvMjAwMC9zdmciIHdpZHRoPSIxMyIgaGVpZ2h0PSIxMiI+PHBhdGggZmlsbD0iI0ZGRiIgZD0iTTYuNSA5LjQzOWwtMy42NzQgMi4yMy45NC00LjI2LTMuMjEtMi44ODMgNC4yNTQtLjQwNEw2LjUuMTEybDEuNjkgNC4wMSA0LjI1NC40MDQtMy4yMSAyLjg4Mi45NCA0LjI2eiIvPjwvc3ZnPg==\" class=\"_1wB99o\"/></div></span><span class=\"_2_R_DZ\"><span><span>12,345 Ratings\\xc2\\xa0</span><span class=\"_13vcmD\">&amp;</span><span>\\xc2\\xa01,289 Reviews</span></span></span></div><div class=\"fMghEO\"><ul class=\"_1xgFaf\"><li class=\"rgWa7D\">6 GB RAM | 128 GB ROM</li><li class=\"rgWa7D\">16.64 cm (6.55 inch) Full HD+ Display</li><li class=\"rgWa7D\">50MP + 8MP + 2MP | 16MP Front Camera</li><li class=\"rgWa7D\">5000 mAh Lithium Polymer Battery</li><li class=\"rgWa7D\">Qualcomm Snapdragon 695 5G Processor</li><li class=\"rgWa7D\">1 Year on Handset and 6 Months on Accessories</li></ul></div></div><div class=\"col col-5-12 nlI3QM\"><div class=\"_3tbKJL\"><div class=\"_25b18c\"><div class=\"_30jeq3 _1_WHN1\">\\xe2\\x82\\xb914,999</div><div class=\"_3I9_wc _27UcVY\">\\xe2\\x82\\xb9<!-- -->21,999</div><div class=\"_3Ay6Sb\"><span>31% off</span></div></div><div class=\"_3tcB5a p8ucoS\"><div><div class=\"_2Tpdn3\" style=\"color:#000000;font-size:12px;font-weight:400\">Free delivery</div></div></div></div><div class=\"_13J9qT\"><img height=\"21\" src=\"//static-assets-web.flixcart.com/fk-p-linchpin-web/fk-cp-zion/img/fa_62673a.png\"/></div><div class=\"_2ZdXDB\"><div class=\"_3xFhiH\"><div class=\"_2Tpdn3 _18hQoS\" style=\"color:#000000;font-size:14px;font-style:normal;font-weight:400\">Upto </div><div class=\"_2Tpdn3 _18hQoS\" style=\"color:#000000;font-size:14px;font-style:normal;font-weight:700\">\\xe2\\x82\\xb914,000</div><div class=\"_2Tpdn3 _18hQoS\" style=\"color:#000000;font-size:14px;font-style:normal;font-weight:400\"> Off on Exchange</div></div></div><div class=\"_2ZdXDB\"><div class=\"_3xFhiH\"><div class=\"_2Tpdn3 _18hQoS\" style=\"color:#26A541;font-size:14px;font-weight:700\">Bank Offer</div></div></div></div></div></a></div></div></div></div><div class=\"_1AtVbE col-12-12\"><div class=\"_13oc-S\"><div data-id=\"MOBGK23WAVERAMGZ\" style=\"width:100%\"><div class=\"_2kHMtA\"><a class=\"_1fQZEK\" target=\"_blank\" rel=\"noopener noreferrer\" href=\"/infinix-hot-20-play-fantasy-purple-64-gb/p/itm1e6903eb0203e?pid=MOBGK23WAVERAMGZ&amp;lid=LSTMOBGK23WAVERAMGZAZG2VD&amp;marketplace=FLIPKART&amp;q=mobiles&amp;store=tyy%2F4io&amp;srno=s_1_7&amp;otracker=AS_Query_HistoryAutoSuggest_1_2_na_na_na&amp;otracker1=AS_Query_HistoryAutoSuggest_1_2_na_na_na&amp;fm=organic&amp;iid=d0cca885-1040-4f45-b74c-f6b804d9fca0.MOBGK23WAVERAMGZ.SEARCH&amp;ppt=None&amp;ppn=None&amp;ssid=fcl8n3hgyo0000001674966157161&amp;qH=eb4af0bf07c16429\"><div class=\"MIXNux\"><div class=\"_2QcLo-\"><div><div class=\"CXW8mj\" style=\"height:200px;width:200px\"><img loading=\"eager\" class=\"_396cs4\" alt=\"Infinix HOT 20 Play (Fantasy Purple, 64 GB)\" src=\"https://rukminim1.flixcart.com/image/312/312/xif0q/mobile/a/p/r/-original-imagkgrxwg386pjk.jpeg?q=70\"/></div></div></div><div class=\"_3wLduG\"><div class=\"_3PzNI-\"><span class=\"f3A4_V\"><label class=\"_2iDkf8\"><input type=\"checkbox\" class=\"_30VH1S\" readonly=\"\"/><div class=\"_24_Dny\"></div></label></span><label class=\"_6Up2sF\"><span>Add to Compare</span></label></div></div><div class=\"_2hVSre _3nq8ih\"><div class=\"_36FSn5\"><svg xmlns=\"http://www.w3.org/2000/svg\" class=\"_1l0elc\" width=\"16\" height=\"16\" viewBox=\"0 0 20 16\"><path d=\"M8.695 16.682C4.06 12.382 1 9.536 1 6.065 1 3.219 3.178 1 5.95 1c1.566 0 3.069.746 4.05 1.915C10.981 1.745 12.484 1 14.05 1 16.822 1 19 3.22 19 6.065c0 3.471-3.06 6.316-7.695 10.617L10 17.897l-1.305-1.215z\" fill=\"#2874F0\" class=\"eX72wL\" stroke=\"#FFF\" fill-rule=\"evenodd\" opacity=\".9\"></path></svg></div></div></div><div class=\"_3pLy-c row\"><div class=\"col col-7-12\"><div class=\"_4rR01T\">Infinix HOT 20 Play (Fantasy Purple, 64 GB)</div><div class=\"gUuXy-\"><span id=\"productRating_LSTMOBGK23WAVERAMGZAZG2VD_MOBGK23WAVERAMGZ_\" class=\"_1lRcqv\"><div class=\"_3LWZlK\">4.5<img src=\"data:image/svg+xml;base64,PHN2ZyB4bWxucz0iaHR0cDovL3d3dy53My5vcmcvMjAwMC9zdmciIHdpZHRoPSIxMyIgaGVpZ2h0PSIxMiI+PHBhdGggZmlsbD0iI0ZGRiIgZD0iTTYuNSA5LjQzOWwtMy42NzQgMi4yMy45NC00LjI2LTMuMjEtMi44ODMgNC4yNTQtLjQwNEw2LjUuMTEybDEuNjkgNC4wMSA0LjI1NC40MDQtMy4yMSAyLjg4Mi45NCA0LjI2eiIvPjwvc3ZnPg==\" class=\"_1wB99o\"/></div></span><span class=\"_2_R_DZ\"><span><span>3,608 Ratings\\xc2\\xa0</span><span class=\"_13vcmD\">&amp;</span><span>\\xc2\\xa0205 Reviews</span></span></span></div><div class=\"fMghEO\"><ul class=\"_1xgFaf\"><li class=\"rgWa7D\">4 GB RAM | 64 GB ROM | Expandable Upto 256 GB</li><li class=\"rgWa7D\">17.32 cm (6.82 inch) HD+ Display</li><li class=\"rgWa7D\">13Mp + AI Lens | 8MP Front Camera</li><li class=\"rgWa7D\">6000 mAh Li-ion Polymer Battery</li><li class=\"rgWa7D\">MediaTek G37 Processor</li><li class=\"rgWa7D\">1 Year on Handset and 6 Months on Accessories</li></ul></div></div><div class=\"col col-5-12 nlI3QM\"><div class=\"_3tbKJL\"><div class=\"_25b18c\"><div class=\"_30jeq3 _1_WHN1\">\\xe2\\x82\\xb98,199</div><div class=\"_3I9_wc _27UcVY\">\\xe2\\x82\\xb9<!-- -->11,999</div><div class=\"_3Ay6Sb\"><span>31% off</span></div></div><div class=\"_3tcB5a p8ucoS\"><div><div class=\"_2Tpdn3\" style=\"color:#000000;font-size:12px;font-weight:400\">Free delivery</div></div></div></div><div class=\"_13J9qT\"><img height=\"21\" src=\"//static-assets-web.flixcart.com/fk-p-linchpin-web/fk-cp-zion/img/fa_62673a.png\"/></div><div class=\"_2ZdXDB\"><div class=\"_3xFhiH\"><div class=\"_2Tpdn3 _18hQoS\" style=\"color:#000000;font-size:14px;font-style:normal;font-weight:400\">Upto </div><div class=\"_2Tpdn3 _18hQoS\" style=\"color:#000000;font-size:14px;font-style:normal;font-weight:700\">\\xe2\\x82\\xb97,550</div><div class=\"_2Tpdn3 _18hQoS\" style=\"color:#000000;font-size:14px;font-style:normal;font-weight:400\"> Off on Exchange</div></div></div><div class=\"_2ZdXDB\"><div class=\"_3xFhiH\"><div class=\"_2Tpdn3 _18hQoS\" style=\"color:#26A541;font-size:14px;font-weight:700\">Bank Offer</div></div></div></div></div></a></div></div></div></div><div class=\"_1AtVbE col-12-12\"><div class=\"_13oc-S\"><div data-id=\"MOBGBKQF3QM4GHWN\" style=\"width:100%\"><div class=\"_2kHMtA\"><a class=\"_1fQZEK\" target=\"_blank\" rel=\"noopener noreferrer\" href=\"/samsung-galaxy-f23-5g-forest-green-128-gb/p/itm4001e68fda319?pid=MOBGBKQF3QM4GHWN&amp;lid=LSTMOBGBKQF3QM4GHWNJ56YXY&amp;marketplace=FLIPKART&amp;q=mobiles&amp;store=tyy%2F4io&amp;srno=s_1_8&amp;otracker=AS_Query_HistoryAutoSuggest_1_2_na_na_na&amp;otracker1=AS_Query_HistoryAutoSuggest_1_2_na_na_na&amp;fm=organic&amp;iid=d0cca885-1040-4f45-b74c-f6b804d9fca0.MOBGBKQF3QM4GHWN.SEARCH&amp;ppt=None&amp;ppn=None&amp;ssid=fcl8n3hgyo0000001674966157161&amp;qH=eb4af0bf07c16429\"><div class=\"MIXNux\"><div class=\"_2QcLo-\"><div><div class=\"CXW8mj\" style=\"height:200px;width:200px\"><img loading=\"eager\" class=\"_396cs4\" alt=\"SAMSUNG Galaxy F23 5G (Forest Green, 128 GB)\" src=\"https://rukminim1.flixcart.com/image/312/312/xif0q/mobile/o/p/z/-original-imagcg22pf79cgau.jpeg?q=70\"/></div></div></div><div class=\"_3wLduG\"><div class=\"_3PzNI-\"><span class=\"f3A4_V\"><label class=\"_2iDkf8\"><input type=\"checkbox\" class=\"_30VH1S\" readonly=\"\"/><div class=\"_24_Dny\"></div></label></span><label class=\"_6Up2sF\"><span>Add to Compare</span></label></div></div><div class=\"_2hVSre _3nq8ih\"><div class=\"_36FSn5\"><svg xmlns=\"http://www.w3.org/2000/svg\" class=\"_1l0elc\" width=\"16\" height=\"16\" viewBox=\"0 0 20 16\"><path d=\"M8.695 16.682C4.06 12.382 1 9.536 1 6.065 1 3.219 3.178 1 5.95 1c1.566 0 3.069.746 4.05 1.915C10.981 1.745 12.484 1 14.05 1 16.822 1 19 3.22 19 6.065c0 3.471-3.06 6.316-7.695 10.617L10 17.897l-1.305-1.215z\" fill=\"#2874F0\" class=\"eX72wL\" stroke=\"#FFF\" fill-rule=\"evenodd\" opacity=\".9\"></path></svg></div></div></div><div class=\"_3pLy-c row\"><div class=\"col col-7-12\"><div class=\"_4rR01T\">SAMSUNG Galaxy F23 5G (Forest Green, 128 GB)</div><div class=\"gUuXy-\"><span id=\"productRating_LSTMOBGBKQF3QM4GHWNJ56YXY_MOBGBKQF3QM4GHWN_\" class=\"_1lRcqv\"><div class=\"_3LWZlK\">4.3<img src=\"data:image/svg+xml;base64,PHN2ZyB4bWxucz0iaHR0cDovL3d3dy53My5vcmcvMjAwMC9zdmciIHdpZHRoPSIxMyIgaGVpZ2h0PSIxMiI+PHBhdGggZmlsbD0iI0ZGRiIgZD0iTTYuNSA5LjQzOWwtMy42NzQgMi4yMy45NC00LjI2LTMuMjEtMi44ODMgNC4yNTQtLjQwNEw2LjUuMTEybDEuNjkgNC4wMSA0LjI1NC40MDQtMy4yMSAyLjg4Mi45NCA0LjI2eiIvPjwvc3ZnPg==\" class=\"_1wB99o\"/></div></span><span class=\"_2_R_DZ\"><span><span>1,45,075 Ratings\\xc2\\xa0</span><span class=\"_13vcmD\">&amp;</span><span>\\xc2\\xa011,783 Reviews</span></span></span></div><div class=\"fMghEO\"><ul class=\"_1xgFaf\"><li class=\"rgWa7D\">6 GB RAM | 128 GB ROM | Expandable Upto 1 TB</li><li class=\"rgWa7D\">16.76 cm (6.6 inch) Full HD+ Display</li><li class=\"rgWa7D\">50MP + 8MP + 2MP | 8MP Front Camera</li><li class=\"rgWa7D\">5000 mAh Lithium Ion Battery</li><li class=\"rgWa7D\">Qualcomm Snapdragon 750G Processor</li><li class=\"rgWa7D\">1 Year Warranty Provided by the Manufacturer from Date of Purchase</li></ul></div></div><div class=\"col col-5-12 nlI3QM\"><div class=\"_3tbKJL\"><div class=\"_25b18c\"><div class=\"_30jeq3 _1_WHN1\">\\xe2\\x82\\xb916,999</div><div class=\"_3I9_wc _27UcVY\">\\xe2\\x82\\xb9<!-- -->23,999</div><div class=\"_3Ay6Sb\"><span>29% off</span></div></div><div class=\"_3tcB5a p8ucoS\"><div><div class=\"_2Tpdn3\" style=\"color:#000000;font-size:12px;font-weight:400\">Free delivery</div></div></div></div><div class=\"_13J9qT\"><img height=\"21\" src=\"//static-assets-web.flixcart.com/fk-p-linchpin-web/fk-cp-zion/img/fa_62673a.png\"/></div><div class=\"_2ZdXDB\"><div class=\"_3xFhiH\"><div class=\"_2Tpdn3 _18hQoS\" style=\"color:#000000;font-size:14px;font-style:normal;font-weight:400\">Upto </div><div class=\"_2Tpdn3 _18hQoS\" style=\"color:#000000;font-size:14px;font-style:normal;font-weight:700\">\\xe2\\x82\\xb915,650</div><div class=\"_2Tpdn3 _18hQoS\" style=\"color:#000000;font-size:14px;font-style:normal;font-weight:400\"> Off on Exchange</div></div></div><div class=\"_2ZdXDB\"><div class=\"_3xFhiH\"><div class=\"_2Tpdn3 _18hQoS\" style=\"color:#000000;font-size:12px;font-weight:400\">No Cost EMI from \\xe2\\x82\\xb92,834/month</div></div></div></div></div></a></div></div></div></div><div class=\"_1AtVbE col-12-12\"><div class=\"_13oc-S\"><div data-id=\"MOBGEDT5YQ2YFVTQ\" style=\"width:100%\"><div class=\"_2kHMtA\"><a class=\"_1fQZEK\" target=\"_blank\" rel=\"noopener noreferrer\" href=\"/motorola-g62-5g-frosted-blue-128-gb/p/itm556a0153d9a10?pid=MOBGEDT5YQ2YFVTQ&amp;lid=LSTMOBGEDT5YQ2YFVTQQ0KAIT&amp;marketplace=FLIPKART&amp;q=mobiles&amp;store=tyy%2F4io&amp;srno=s_1_9&amp;otracker=AS_Query_HistoryAutoSuggest_1_2_na_na_na&amp;otracker1=AS_Query_HistoryAutoSuggest_1_2_na_na_na&amp;fm=organic&amp;iid=d0cca885-1040-4f45-b74c-f6b804d9fca0.MOBGEDT5YQ2YFVTQ.SEARCH&amp;ppt=None&amp;ppn=None&amp;ssid=fcl8n3hgyo0000001674966157161&amp;qH=eb4af0bf07c16429\"><div class=\"MIXNux\"><div class=\"_2QcLo-\"><div><div class=\"CXW8mj\" style=\"height:200px;width:200px\"><img loading=\"eager\" class=\"_396cs4\" alt=\"MOTOROLA G62 5G (Frosted Blue, 128 GB)\" src=\"https://rukminim1.flixcart.com/image/312/312/xif0q/mobile/t/6/g/-original-imagh29eknx3cavh.jpeg?q=70\"/></div></div></div><div class=\"_3wLduG\"><div class=\"_3PzNI-\"><span class=\"f3A4_V\"><label class=\"_2iDkf8\"><input type=\"checkbox\" class=\"_30VH1S\" readonly=\"\"/><div class=\"_24_Dny\"></div></label></span><label class=\"_6Up2sF\"><span>Add to Compare</span></label></div></div><div class=\"_2hVSre _3nq8ih\"><div class=\"_36FSn5\"><svg xmlns=\"http://www.w3.org/2000/svg\" class=\"_1l0elc\" width=\"16\" height=\"16\" viewBox=\"0 0 20 16\"><path d=\"M8.695 16.682C4.06 12.382 1 9.536 1 6.065 1 3.219 3.178 1 5.95 1c1.566 0 3.069.746 4.05 1.915C10.981 1.745 12.484 1 14.05 1 16.822 1 19 3.22 19 6.065c0 3.471-3.06 6.316-7.695 10.617L10 17.897l-1.305-1.215z\" fill=\"#2874F0\" class=\"eX72wL\" stroke=\"#FFF\" fill-rule=\"evenodd\" opacity=\".9\"></path></svg></div></div></div><div class=\"_3pLy-c row\"><div class=\"col col-7-12\"><div class=\"_4rR01T\">MOTOROLA G62 5G (Frosted Blue, 128 GB)</div><div class=\"gUuXy-\"><span id=\"productRating_LSTMOBGEDT5YQ2YFVTQQ0KAIT_MOBGEDT5YQ2YFVTQ_\" class=\"_1lRcqv\"><div class=\"_3LWZlK\">4.1<img src=\"data:image/svg+xml;base64,PHN2ZyB4bWxucz0iaHR0cDovL3d3dy53My5vcmcvMjAwMC9zdmciIHdpZHRoPSIxMyIgaGVpZ2h0PSIxMiI+PHBhdGggZmlsbD0iI0ZGRiIgZD0iTTYuNSA5LjQzOWwtMy42NzQgMi4yMy45NC00LjI2LTMuMjEtMi44ODMgNC4yNTQtLjQwNEw2LjUuMTEybDEuNjkgNC4wMSA0LjI1NC40MDQtMy4yMSAyLjg4Mi45NCA0LjI2eiIvPjwvc3ZnPg==\" class=\"_1wB99o\"/></div></span><span class=\"_2_R_DZ\"><span><span>12,345 Ratings\\xc2\\xa0</span><span class=\"_13vcmD\">&amp;</span><span>\\xc2\\xa01,289 Reviews</span></span></span></div><div class=\"fMghEO\"><ul class=\"_1xgFaf\"><li class=\"rgWa7D\">6 GB RAM | 128 GB ROM</li><li class=\"rgWa7D\">16.64 cm (6.55 inch) Full HD+ Display</li><li class=\"rgWa7D\">50MP + 8MP + 2MP | 16MP Front Camera</li><li class=\"rgWa7D\">5000 mAh Lithium Polymer Battery</li><li class=\"rgWa7D\">Qualcomm Snapdragon 695 5G Processor</li><li class=\"rgWa7D\">1 Year on Handset and 6 Months on Accessories</li></ul></div></div><div class=\"col col-5-12 nlI3QM\"><div class=\"_3tbKJL\"><div class=\"_25b18c\"><div class=\"_30jeq3 _1_WHN1\">\\xe2\\x82\\xb914,999</div><div class=\"_3I9_wc _27UcVY\">\\xe2\\x82\\xb9<!-- -->21,999</div><div class=\"_3Ay6Sb\"><span>31% off</span></div></div><div class=\"_3tcB5a p8ucoS\"><div><div class=\"_2Tpdn3\" style=\"color:#000000;font-size:12px;font-weight:400\">Free delivery</div></div></div></div><div class=\"_13J9qT\"><img height=\"21\" src=\"//static-assets-web.flixcart.com/fk-p-linchpin-web/fk-cp-zion/img/fa_62673a.png\"/></div><div class=\"_2ZdXDB\"><div class=\"_3xFhiH\"><div class=\"_2Tpdn3 _18hQoS\" style=\"color:#000000;font-size:14px;font-style:normal;font-weight:400\">Upto </div><div class=\"_2Tpdn3 _18hQoS\" style=\"color:#000000;font-size:14px;font-style:normal;font-weight:700\">\\xe2\\x82\\xb914,000</div><div class=\"_2Tpdn3 _18hQoS\" style=\"color:#000000;font-size:14px;font-style:normal;font-weight:400\"> Off on Exchange</div></div></div><div class=\"_2ZdXDB\"><div class=\"_3xFhiH\"><div class=\"_2Tpdn3 _18hQoS\" style=\"color:#26A541;font-size:14px;font-weight:700\">Bank Offer</div></div></div></div></div></a></div></div></div></div><div class=\"_1AtVbE col-12-12\"><div class=\"_13oc-S\"><div data-id=\"MOBGHBKHJFCAHP7C\" style=\"width:100%\"><div class=\"_2kHMtA\"><a class=\"_1fQZEK\" target=\"_blank\" rel=\"noopener noreferrer\" href=\"/redmi-note-11-se-cosmic-white-64-gb/p/itm894dab106a9b1?pid=MOBGHBKHJFCAHP7C&amp;lid=LSTMOBGHBKHJFCAHP7CWJDEOM&amp;marketplace=FLIPKART&amp;q=mobiles&amp;store=tyy%2F4io&amp;srno=s_1_10&amp;otracker=AS_Query_HistoryAutoSuggest_1_2_na_na_na&amp;otracker1=AS_Query_HistoryAutoSuggest_1_2_na_na_na&amp;fm=organic&amp;iid=d0cca885-1040-4f45-b74c-f6b804d9fca0.MOBGHBKHJFCAHP7C.SEARCH&amp;ppt=None&amp;ppn=None&amp;ssid=fcl8n3hgyo0000001674966157161&amp;qH=eb4af0bf07c16429\"><div class=\"MIXNux\"><div class=\"_2QcLo-\"><div><div class=\"CXW8mj\" style=\"height:200px;width:200px\"><img loading=\"eager\" class=\"_396cs4\" alt=\"REDMI Note 11 SE (Cosmic White, 64 GB)\" src=\"https://rukminim1.flixcart.com/image/312/312/xif0q/mobile/r/7/s/-original-imaghh2fmnzyzn2g.jpeg?q=70\"/></div></div></div><div class=\"_3wLduG\"><div class=\"_3PzNI-\"><span class=\"f3A4_V\"><label class=\"_2iDkf8\"><input type=\"checkbox\" class=\"_30VH1S\" readonly=\"\"/><div class=\"_24_Dny\"></div></label></span><label class=\"_6Up2sF\"><span>Add to Compare</span></label></div></div><div class=\"_2hVSre _3nq8ih\"><div class=\"_36FSn5\"><svg xmlns=\"http://www.w3.org/2000/svg\" class=\"_1l0elc\" width=\"16\" height=\"16\" viewBox=\"0 0 20 16\"><path d=\"M8.695 16.682C4.06 12.382 1 9.536 1 6.065 1 3.219 3.178 1 5.95 1c1.566 0 3.069.746 4.05 1.915C10.981 1.745 12.484 1 14.05 1 16.822 1 19 3.22 19 6.065c0 3.471-3.06 6.316-7.695 10.617L10 17.897l-1.305-1.215z\" fill=\"#2874F0\" class=\"eX72wL\" stroke=\"#FFF\" fill-rule=\"evenodd\" opacity=\".9\"></path></svg></div></div></div><div class=\"_3pLy-c row\"><div class=\"col col-7-12\"><div class=\"_4rR01T\">REDMI Note 11 SE (Cosmic White, 64 GB)</div><div class=\"gUuXy-\"><span id=\"productRating_LSTMOBGHBKHJFCAHP7CWJDEOM_MOBGHBKHJFCAHP7C_\" class=\"_1lRcqv\"><div class=\"_3LWZlK\">4.3<img src=\"data:image/svg+xml;base64,PHN2ZyB4bWxucz0iaHR0cDovL3d3dy53My5vcmcvMjAwMC9zdmciIHdpZHRoPSIxMyIgaGVpZ2h0PSIxMiI+PHBhdGggZmlsbD0iI0ZGRiIgZD0iTTYuNSA5LjQzOWwtMy42NzQgMi4yMy45NC00LjI2LTMuMjEtMi44ODMgNC4yNTQtLjQwNEw2LjUuMTEybDEuNjkgNC4wMSA0LjI1NC40MDQtMy4yMSAyLjg4Mi45NCA0LjI2eiIvPjwvc3ZnPg==\" class=\"_1wB99o\"/></div></span><span class=\"_2_R_DZ\"><span><span>34,542 Ratings\\xc2\\xa0</span><span class=\"_13vcmD\">&amp;</span><span>\\xc2\\xa02,171 Reviews</span></span></span></div><div class=\"fMghEO\"><ul class=\"_1xgFaf\"><li class=\"rgWa7D\">6 GB RAM | 64 GB ROM | Expandable Upto 512 GB</li><li class=\"rgWa7D\">16.33 cm (6.43 inch) Full HD+ Display</li><li class=\"rgWa7D\">64MP + 8MP + 2MP + 2MP | 13MP Front Camera</li><li class=\"rgWa7D\">5000 mAh Lithium Polymer Battery</li><li class=\"rgWa7D\">Mediatek Helio G95 Octa Core Processor</li><li class=\"rgWa7D\">1 Year Manufacturer Warranty for Phone and 6 Months Warranty for In the Box Accessories</li></ul></div></div><div class=\"col col-5-12 nlI3QM\"><div class=\"_3tbKJL\"><div class=\"_25b18c\"><div class=\"_30jeq3 _1_WHN1\">\\xe2\\x82\\xb911,999</div><div class=\"_3I9_wc _27UcVY\">\\xe2\\x82\\xb9<!-- -->16,999</div><div class=\"_3Ay6Sb\"><span>29% off</span></div></div><div class=\"_3tcB5a p8ucoS\"><div><div class=\"_2Tpdn3\" style=\"color:#000000;font-size:12px;font-weight:400\">Free delivery</div></div></div></div><div class=\"_13J9qT\"><img height=\"21\" src=\"//static-assets-web.flixcart.com/fk-p-linchpin-web/fk-cp-zion/img/fa_62673a.png\"/></div><div class=\"_2ZdXDB\"><div class=\"_3xFhiH\"><div class=\"_2Tpdn3 _18hQoS\" style=\"color:#000000;font-size:14px;font-style:normal;font-weight:400\">Upto </div><div class=\"_2Tpdn3 _18hQoS\" style=\"color:#000000;font-size:14px;font-style:normal;font-weight:700\">\\xe2\\x82\\xb911,450</div><div class=\"_2Tpdn3 _18hQoS\" style=\"color:#000000;font-size:14px;font-style:normal;font-weight:400\"> Off on Exchange</div></div></div><div class=\"_2ZdXDB\"><div class=\"_3xFhiH\"><div class=\"_2Tpdn3 _18hQoS\" style=\"color:#26A541;font-size:14px;font-weight:700\">Bank Offer</div></div></div></div></div></a></div></div></div></div><div class=\"_1AtVbE col-12-12\"><div class=\"_13oc-S\"><div data-id=\"MOBGE2ZU2YBUAEVZ\" style=\"width:100%\"><div class=\"_2kHMtA\"><a class=\"_1fQZEK\" target=\"_blank\" rel=\"noopener noreferrer\" href=\"/samsung-galaxy-f23-5g-copper-blush-128-gb/p/itm59c8bf3255ef6?pid=MOBGE2ZU2YBUAEVZ&amp;lid=LSTMOBGE2ZU2YBUAEVZJXNB2M&amp;marketplace=FLIPKART&amp;q=mobiles&amp;store=tyy%2F4io&amp;srno=s_1_11&amp;otracker=AS_Query_HistoryAutoSuggest_1_2_na_na_na&amp;otracker1=AS_Query_HistoryAutoSuggest_1_2_na_na_na&amp;fm=organic&amp;iid=d0cca885-1040-4f45-b74c-f6b804d9fca0.MOBGE2ZU2YBUAEVZ.SEARCH&amp;ppt=None&amp;ppn=None&amp;ssid=fcl8n3hgyo0000001674966157161&amp;qH=eb4af0bf07c16429\"><div class=\"MIXNux\"><div class=\"_2QcLo-\"><div><div class=\"CXW8mj\" style=\"height:200px;width:200px\"><img loading=\"eager\" class=\"_396cs4\" alt=\"SAMSUNG Galaxy F23 5G (Copper Blush, 128 GB)\" src=\"https://rukminim1.flixcart.com/image/312/312/xif0q/mobile/f/c/v/-original-imagehzbaw2wugme.jpeg?q=70\"/></div></div></div><div class=\"_3wLduG\"><div class=\"_3PzNI-\"><span class=\"f3A4_V\"><label class=\"_2iDkf8\"><input type=\"checkbox\" class=\"_30VH1S\" readonly=\"\"/><div class=\"_24_Dny\"></div></label></span><label class=\"_6Up2sF\"><span>Add to Compare</span></label></div></div><div class=\"_2hVSre _3nq8ih\"><div class=\"_36FSn5\"><svg xmlns=\"http://www.w3.org/2000/svg\" class=\"_1l0elc\" width=\"16\" height=\"16\" viewBox=\"0 0 20 16\"><path d=\"M8.695 16.682C4.06 12.382 1 9.536 1 6.065 1 3.219 3.178 1 5.95 1c1.566 0 3.069.746 4.05 1.915C10.981 1.745 12.484 1 14.05 1 16.822 1 19 3.22 19 6.065c0 3.471-3.06 6.316-7.695 10.617L10 17.897l-1.305-1.215z\" fill=\"#2874F0\" class=\"eX72wL\" stroke=\"#FFF\" fill-rule=\"evenodd\" opacity=\".9\"></path></svg></div></div></div><div class=\"_3pLy-c row\"><div class=\"col col-7-12\"><div class=\"_4rR01T\">SAMSUNG Galaxy F23 5G (Copper Blush, 128 GB)</div><div class=\"gUuXy-\"><span id=\"productRating_LSTMOBGE2ZU2YBUAEVZJXNB2M_MOBGE2ZU2YBUAEVZ_\" class=\"_1lRcqv\"><div class=\"_3LWZlK\">4.3<img src=\"data:image/svg+xml;base64,PHN2ZyB4bWxucz0iaHR0cDovL3d3dy53My5vcmcvMjAwMC9zdmciIHdpZHRoPSIxMyIgaGVpZ2h0PSIxMiI+PHBhdGggZmlsbD0iI0ZGRiIgZD0iTTYuNSA5LjQzOWwtMy42NzQgMi4yMy45NC00LjI2LTMuMjEtMi44ODMgNC4yNTQtLjQwNEw2LjUuMTEybDEuNjkgNC4wMSA0LjI1NC40MDQtMy4yMSAyLjg4Mi45NCA0LjI2eiIvPjwvc3ZnPg==\" class=\"_1wB99o\"/></div></span><span class=\"_2_R_DZ\"><span><span>1,45,075 Ratings\\xc2\\xa0</span><span class=\"_13vcmD\">&amp;</span><span>\\xc2\\xa011,783 Reviews</span></span></span></div><div class=\"fMghEO\"><ul class=\"_1xgFaf\"><li class=\"rgWa7D\">6 GB RAM | 128 GB ROM | Expandable Upto 1 TB</li><li class=\"rgWa7D\">16.76 cm (6.6 inch) Full HD+ Display</li><li class=\"rgWa7D\">50MP + 8MP + 2MP | 8MP Front Camera</li><li class=\"rgWa7D\">5000 mAh Lithium Ion Battery</li><li class=\"rgWa7D\">Qualcomm Snapdragon 750G Processor</li><li class=\"rgWa7D\">1 Year Warranty Provided by the Manufacturer from Date of Purchase</li></ul></div></div><div class=\"col col-5-12 nlI3QM\"><div class=\"_3tbKJL\"><div class=\"_25b18c\"><div class=\"_30jeq3 _1_WHN1\">\\xe2\\x82\\xb916,999</div><div class=\"_3I9_wc _27UcVY\">\\xe2\\x82\\xb9<!-- -->23,999</div><div class=\"_3Ay6Sb\"><span>29% off</span></div></div><div class=\"_3tcB5a p8ucoS\"><div><div class=\"_2Tpdn3\" style=\"color:#000000;font-size:12px;font-weight:400\">Free delivery</div></div></div></div><div class=\"_13J9qT\"><img height=\"21\" src=\"//static-assets-web.flixcart.com/fk-p-linchpin-web/fk-cp-zion/img/fa_62673a.png\"/></div><div class=\"_2ZdXDB\"><div class=\"_3xFhiH\"><div class=\"_2Tpdn3 _18hQoS\" style=\"color:#000000;font-size:14px;font-style:normal;font-weight:400\">Upto </div><div class=\"_2Tpdn3 _18hQoS\" style=\"color:#000000;font-size:14px;font-style:normal;font-weight:700\">\\xe2\\x82\\xb915,650</div><div class=\"_2Tpdn3 _18hQoS\" style=\"color:#000000;font-size:14px;font-style:normal;font-weight:400\"> Off on Exchange</div></div></div><div class=\"_2ZdXDB\"><div class=\"_3xFhiH\"><div class=\"_2Tpdn3 _18hQoS\" style=\"color:#000000;font-size:12px;font-weight:400\">No Cost EMI from \\xe2\\x82\\xb92,834/month</div></div></div></div></div></a></div></div></div></div><div class=\"_1AtVbE col-12-12\"><div class=\"_13oc-S\"><div data-id=\"MOBGK23WWFC8SUZZ\" style=\"width:100%\"><div class=\"_2kHMtA\"><a class=\"_1fQZEK\" target=\"_blank\" rel=\"noopener noreferrer\" href=\"/infinix-hot-20-play-aurora-green-64-gb/p/itm1e6903eb0203e?pid=MOBGK23WWFC8SUZZ&amp;lid=LSTMOBGK23WWFC8SUZZTMFJG8&amp;marketplace=FLIPKART&amp;q=mobiles&amp;store=tyy%2F4io&amp;srno=s_1_12&amp;otracker=AS_Query_HistoryAutoSuggest_1_2_na_na_na&amp;otracker1=AS_Query_HistoryAutoSuggest_1_2_na_na_na&amp;fm=organic&amp;iid=d0cca885-1040-4f45-b74c-f6b804d9fca0.MOBGK23WWFC8SUZZ.SEARCH&amp;ppt=None&amp;ppn=None&amp;ssid=fcl8n3hgyo0000001674966157161&amp;qH=eb4af0bf07c16429\"><div class=\"MIXNux\"><div class=\"_2QcLo-\"><div><div class=\"CXW8mj\" style=\"height:200px;width:200px\"><img loading=\"eager\" class=\"_396cs4\" alt=\"Infinix HOT 20 Play (Aurora Green, 64 GB)\" src=\"https://rukminim1.flixcart.com/image/312/312/xif0q/mobile/s/b/e/-original-imagkgrxdzzjuguw.jpeg?q=70\"/></div></div></div><div class=\"_3wLduG\"><div class=\"_3PzNI-\"><span class=\"f3A4_V\"><label class=\"_2iDkf8\"><input type=\"checkbox\" class=\"_30VH1S\" readonly=\"\"/><div class=\"_24_Dny\"></div></label></span><label class=\"_6Up2sF\"><span>Add to Compare</span></label></div></div><div class=\"_2hVSre _3nq8ih\"><div class=\"_36FSn5\"><svg xmlns=\"http://www.w3.org/2000/svg\" class=\"_1l0elc\" width=\"16\" height=\"16\" viewBox=\"0 0 20 16\"><path d=\"M8.695 16.682C4.06 12.382 1 9.536 1 6.065 1 3.219 3.178 1 5.95 1c1.566 0 3.069.746 4.05 1.915C10.981 1.745 12.484 1 14.05 1 16.822 1 19 3.22 19 6.065c0 3.471-3.06 6.316-7.695 10.617L10 17.897l-1.305-1.215z\" fill=\"#2874F0\" class=\"eX72wL\" stroke=\"#FFF\" fill-rule=\"evenodd\" opacity=\".9\"></path></svg></div></div></div><div class=\"_3pLy-c row\"><div class=\"col col-7-12\"><div class=\"_4rR01T\">Infinix HOT 20 Play (Aurora Green, 64 GB)</div><div class=\"gUuXy-\"><span id=\"productRating_LSTMOBGK23WWFC8SUZZTMFJG8_MOBGK23WWFC8SUZZ_\" class=\"_1lRcqv\"><div class=\"_3LWZlK\">4.5<img src=\"data:image/svg+xml;base64,PHN2ZyB4bWxucz0iaHR0cDovL3d3dy53My5vcmcvMjAwMC9zdmciIHdpZHRoPSIxMyIgaGVpZ2h0PSIxMiI+PHBhdGggZmlsbD0iI0ZGRiIgZD0iTTYuNSA5LjQzOWwtMy42NzQgMi4yMy45NC00LjI2LTMuMjEtMi44ODMgNC4yNTQtLjQwNEw2LjUuMTEybDEuNjkgNC4wMSA0LjI1NC40MDQtMy4yMSAyLjg4Mi45NCA0LjI2eiIvPjwvc3ZnPg==\" class=\"_1wB99o\"/></div></span><span class=\"_2_R_DZ\"><span><span>3,608 Ratings\\xc2\\xa0</span><span class=\"_13vcmD\">&amp;</span><span>\\xc2\\xa0205 Reviews</span></span></span></div><div class=\"fMghEO\"><ul class=\"_1xgFaf\"><li class=\"rgWa7D\">4 GB RAM | 64 GB ROM | Expandable Upto 256 GB</li><li class=\"rgWa7D\">17.32 cm (6.82 inch) HD+ Display</li><li class=\"rgWa7D\">13Mp + AI Lens | 8MP Front Camera</li><li class=\"rgWa7D\">6000 mAh Li-ion Polymer Battery</li><li class=\"rgWa7D\">MediaTek G37 Processor</li><li class=\"rgWa7D\">1 Year on Handset and 6 Months on Accessories</li></ul></div></div><div class=\"col col-5-12 nlI3QM\"><div class=\"_3tbKJL\"><div class=\"_25b18c\"><div class=\"_30jeq3 _1_WHN1\">\\xe2\\x82\\xb98,199</div><div class=\"_3I9_wc _27UcVY\">\\xe2\\x82\\xb9<!-- -->11,999</div><div class=\"_3Ay6Sb\"><span>31% off</span></div></div><div class=\"_3tcB5a p8ucoS\"><div><div class=\"_2Tpdn3\" style=\"color:#000000;font-size:12px;font-weight:400\">Free delivery</div></div></div></div><div class=\"_13J9qT\"><img height=\"21\" src=\"//static-assets-web.flixcart.com/fk-p-linchpin-web/fk-cp-zion/img/fa_62673a.png\"/></div><div class=\"_2ZdXDB\"><div class=\"_3xFhiH\"><div class=\"_2Tpdn3 _18hQoS\" style=\"color:#000000;font-size:14px;font-style:normal;font-weight:400\">Upto </div><div class=\"_2Tpdn3 _18hQoS\" style=\"color:#000000;font-size:14px;font-style:normal;font-weight:700\">\\xe2\\x82\\xb97,550</div><div class=\"_2Tpdn3 _18hQoS\" style=\"color:#000000;font-size:14px;font-style:normal;font-weight:400\"> Off on Exchange</div></div></div><div class=\"_2ZdXDB\"><div class=\"_3xFhiH\"><div class=\"_2Tpdn3 _18hQoS\" style=\"color:#26A541;font-size:14px;font-weight:700\">Bank Offer</div></div></div></div></div></a></div></div></div></div><div class=\"_1AtVbE col-12-12\"><div class=\"_13oc-S\"><div data-id=\"MOBGK23WGFWJHRQD\" style=\"width:100%\"><div class=\"_2kHMtA\"><a class=\"_1fQZEK\" target=\"_blank\" rel=\"noopener noreferrer\" href=\"/infinix-hot-20-play-racing-black-64-gb/p/itm1e6903eb0203e?pid=MOBGK23WGFWJHRQD&amp;lid=LSTMOBGK23WGFWJHRQD90DLPU&amp;marketplace=FLIPKART&amp;q=mobiles&amp;store=tyy%2F4io&amp;srno=s_1_13&amp;otracker=AS_Query_HistoryAutoSuggest_1_2_na_na_na&amp;otracker1=AS_Query_HistoryAutoSuggest_1_2_na_na_na&amp;fm=organic&amp;iid=d0cca885-1040-4f45-b74c-f6b804d9fca0.MOBGK23WGFWJHRQD.SEARCH&amp;ppt=None&amp;ppn=None&amp;ssid=fcl8n3hgyo0000001674966157161&amp;qH=eb4af0bf07c16429\"><div class=\"MIXNux\"><div class=\"_2QcLo-\"><div><div class=\"CXW8mj\" style=\"height:200px;width:200px\"><img loading=\"eager\" class=\"_396cs4\" alt=\"Infinix HOT 20 Play (Racing Black, 64 GB)\" src=\"https://rukminim1.flixcart.com/image/312/312/xif0q/mobile/p/f/u/-original-imagkgrxdsqpdznh.jpeg?q=70\"/></div></div></div><div class=\"_3wLduG\"><div class=\"_3PzNI-\"><span class=\"f3A4_V\"><label class=\"_2iDkf8\"><input type=\"checkbox\" class=\"_30VH1S\" readonly=\"\"/><div class=\"_24_Dny\"></div></label></span><label class=\"_6Up2sF\"><span>Add to Compare</span></label></div></div><div class=\"_2hVSre _3nq8ih\"><div class=\"_36FSn5\"><svg xmlns=\"http://www.w3.org/2000/svg\" class=\"_1l0elc\" width=\"16\" height=\"16\" viewBox=\"0 0 20 16\"><path d=\"M8.695 16.682C4.06 12.382 1 9.536 1 6.065 1 3.219 3.178 1 5.95 1c1.566 0 3.069.746 4.05 1.915C10.981 1.745 12.484 1 14.05 1 16.822 1 19 3.22 19 6.065c0 3.471-3.06 6.316-7.695 10.617L10 17.897l-1.305-1.215z\" fill=\"#2874F0\" class=\"eX72wL\" stroke=\"#FFF\" fill-rule=\"evenodd\" opacity=\".9\"></path></svg></div></div></div><div class=\"_3pLy-c row\"><div class=\"col col-7-12\"><div class=\"_4rR01T\">Infinix HOT 20 Play (Racing Black, 64 GB)</div><div class=\"gUuXy-\"><span id=\"productRating_LSTMOBGK23WGFWJHRQD90DLPU_MOBGK23WGFWJHRQD_\" class=\"_1lRcqv\"><div class=\"_3LWZlK\">4.5<img src=\"data:image/svg+xml;base64,PHN2ZyB4bWxucz0iaHR0cDovL3d3dy53My5vcmcvMjAwMC9zdmciIHdpZHRoPSIxMyIgaGVpZ2h0PSIxMiI+PHBhdGggZmlsbD0iI0ZGRiIgZD0iTTYuNSA5LjQzOWwtMy42NzQgMi4yMy45NC00LjI2LTMuMjEtMi44ODMgNC4yNTQtLjQwNEw2LjUuMTEybDEuNjkgNC4wMSA0LjI1NC40MDQtMy4yMSAyLjg4Mi45NCA0LjI2eiIvPjwvc3ZnPg==\" class=\"_1wB99o\"/></div></span><span class=\"_2_R_DZ\"><span><span>3,608 Ratings\\xc2\\xa0</span><span class=\"_13vcmD\">&amp;</span><span>\\xc2\\xa0205 Reviews</span></span></span></div><div class=\"fMghEO\"><ul class=\"_1xgFaf\"><li class=\"rgWa7D\">4 GB RAM | 64 GB ROM | Expandable Upto 256 GB</li><li class=\"rgWa7D\">17.32 cm (6.82 inch) HD+ Display</li><li class=\"rgWa7D\">13Mp + AI Lens | 8MP Front Camera</li><li class=\"rgWa7D\">6000 mAh Li-ion Polymer Battery</li><li class=\"rgWa7D\">MediaTek G37 Processor</li><li class=\"rgWa7D\">1 Year on Handset and 6 Months on Accessories</li></ul></div></div><div class=\"col col-5-12 nlI3QM\"><div class=\"_3tbKJL\"><div class=\"_25b18c\"><div class=\"_30jeq3 _1_WHN1\">\\xe2\\x82\\xb98,199</div><div class=\"_3I9_wc _27UcVY\">\\xe2\\x82\\xb9<!-- -->11,999</div><div class=\"_3Ay6Sb\"><span>31% off</span></div></div><div class=\"_3tcB5a p8ucoS\"><div><div class=\"_2Tpdn3\" style=\"color:#000000;font-size:12px;font-weight:400\">Free delivery</div></div></div></div><div class=\"_13J9qT\"><img height=\"21\" src=\"//static-assets-web.flixcart.com/fk-p-linchpin-web/fk-cp-zion/img/fa_62673a.png\"/></div><div class=\"_2ZdXDB\"><div class=\"_3xFhiH\"><div class=\"_2Tpdn3 _18hQoS\" style=\"color:#000000;font-size:14px;font-style:normal;font-weight:400\">Upto </div><div class=\"_2Tpdn3 _18hQoS\" style=\"color:#000000;font-size:14px;font-style:normal;font-weight:700\">\\xe2\\x82\\xb97,550</div><div class=\"_2Tpdn3 _18hQoS\" style=\"color:#000000;font-size:14px;font-style:normal;font-weight:400\"> Off on Exchange</div></div></div><div class=\"_2ZdXDB\"><div class=\"_3xFhiH\"><div class=\"_2Tpdn3 _18hQoS\" style=\"color:#26A541;font-size:14px;font-weight:700\">Bank Offer</div></div></div></div></div></a></div></div></div></div><div class=\"_1AtVbE col-12-12\"><div class=\"_13oc-S\"><div data-id=\"MOBGBTHFBKGG6AVB\" style=\"width:100%\"><div class=\"_2kHMtA\"><a class=\"_1fQZEK\" target=\"_blank\" rel=\"noopener noreferrer\" href=\"/poco-m4-pro-cool-blue-128-gb/p/itm98e13f0c82b82?pid=MOBGBTHFBKGG6AVB&amp;lid=LSTMOBGBTHFBKGG6AVBZXCSFJ&amp;marketplace=FLIPKART&amp;q=mobiles&amp;store=tyy%2F4io&amp;srno=s_1_14&amp;otracker=AS_Query_HistoryAutoSuggest_1_2_na_na_na&amp;otracker1=AS_Query_HistoryAutoSuggest_1_2_na_na_na&amp;fm=organic&amp;iid=d0cca885-1040-4f45-b74c-f6b804d9fca0.MOBGBTHFBKGG6AVB.SEARCH&amp;ppt=None&amp;ppn=None&amp;ssid=fcl8n3hgyo0000001674966157161&amp;qH=eb4af0bf07c16429\"><div class=\"MIXNux\"><div class=\"_2QcLo-\"><div><div class=\"CXW8mj\" style=\"height:200px;width:200px\"><img loading=\"eager\" class=\"_396cs4\" alt=\"POCO M4 Pro (Cool Blue, 128 GB)\" src=\"https://rukminim1.flixcart.com/image/312/312/l0fm07k0/mobile/8/9/n/-original-imagc7tmhcbrarpk.jpeg?q=70\"/></div></div></div><div class=\"_3wLduG\"><div class=\"_3PzNI-\"><span class=\"f3A4_V\"><label class=\"_2iDkf8\"><input type=\"checkbox\" class=\"_30VH1S\" readonly=\"\"/><div class=\"_24_Dny\"></div></label></span><label class=\"_6Up2sF\"><span>Add to Compare</span></label></div></div><div class=\"_2hVSre _3nq8ih\"><div class=\"_36FSn5\"><svg xmlns=\"http://www.w3.org/2000/svg\" class=\"_1l0elc\" width=\"16\" height=\"16\" viewBox=\"0 0 20 16\"><path d=\"M8.695 16.682C4.06 12.382 1 9.536 1 6.065 1 3.219 3.178 1 5.95 1c1.566 0 3.069.746 4.05 1.915C10.981 1.745 12.484 1 14.05 1 16.822 1 19 3.22 19 6.065c0 3.471-3.06 6.316-7.695 10.617L10 17.897l-1.305-1.215z\" fill=\"#2874F0\" class=\"eX72wL\" stroke=\"#FFF\" fill-rule=\"evenodd\" opacity=\".9\"></path></svg></div></div></div><div class=\"_3pLy-c row\"><div class=\"col col-7-12\"><div class=\"_4rR01T\">POCO M4 Pro (Cool Blue, 128 GB)</div><div class=\"gUuXy-\"><span id=\"productRating_LSTMOBGBTHFBKGG6AVBZXCSFJ_MOBGBTHFBKGG6AVB_\" class=\"_1lRcqv\"><div class=\"_3LWZlK\">4.3<img src=\"data:image/svg+xml;base64,PHN2ZyB4bWxucz0iaHR0cDovL3d3dy53My5vcmcvMjAwMC9zdmciIHdpZHRoPSIxMyIgaGVpZ2h0PSIxMiI+PHBhdGggZmlsbD0iI0ZGRiIgZD0iTTYuNSA5LjQzOWwtMy42NzQgMi4yMy45NC00LjI2LTMuMjEtMi44ODMgNC4yNTQtLjQwNEw2LjUuMTEybDEuNjkgNC4wMSA0LjI1NC40MDQtMy4yMSAyLjg4Mi45NCA0LjI2eiIvPjwvc3ZnPg==\" class=\"_1wB99o\"/></div></span><span class=\"_2_R_DZ\"><span><span>1,38,917 Ratings\\xc2\\xa0</span><span class=\"_13vcmD\">&amp;</span><span>\\xc2\\xa012,624 Reviews</span></span></span></div><div class=\"fMghEO\"><ul class=\"_1xgFaf\"><li class=\"rgWa7D\">6 GB RAM | 128 GB ROM | Expandable Upto 1 TB</li><li class=\"rgWa7D\">16.33 cm (6.43 inch) Full HD+ AMOLED Display</li><li class=\"rgWa7D\">64MP + 8MP + 2MP | 16MP Front Camera</li><li class=\"rgWa7D\">5000 mAh Lithium-ion Polymer Battery</li><li class=\"rgWa7D\">Mediatek Helio G96 Processor</li><li class=\"rgWa7D\">One Year for Handset, 6 Months for Accessories</li></ul></div></div><div class=\"col col-5-12 nlI3QM\"><div class=\"_3tbKJL\"><div class=\"_25b18c\"><div class=\"_30jeq3 _1_WHN1\">\\xe2\\x82\\xb912,999</div><div class=\"_3I9_wc _27UcVY\">\\xe2\\x82\\xb9<!-- -->19,999</div><div class=\"_3Ay6Sb\"><span>35% off</span></div></div><div class=\"_3tcB5a p8ucoS\"><div><div class=\"_2Tpdn3\" style=\"color:#000000;font-size:12px;font-weight:400\">Free delivery</div></div></div></div><div class=\"_13J9qT\"><img height=\"21\" src=\"//static-assets-web.flixcart.com/fk-p-linchpin-web/fk-cp-zion/img/fa_62673a.png\"/></div><div class=\"_2ZdXDB\"><div class=\"_3xFhiH\"><div class=\"_2Tpdn3 _18hQoS\" style=\"color:#000000;font-size:14px;font-style:normal;font-weight:400\">Upto </div><div class=\"_2Tpdn3 _18hQoS\" style=\"color:#000000;font-size:14px;font-style:normal;font-weight:700\">\\xe2\\x82\\xb912,000</div><div class=\"_2Tpdn3 _18hQoS\" style=\"color:#000000;font-size:14px;font-style:normal;font-weight:400\"> Off on Exchange</div></div></div><div class=\"_2ZdXDB\"><div class=\"_3xFhiH\"><div class=\"_2Tpdn3 _18hQoS\" style=\"color:#26A541;font-size:14px;font-weight:700\">Bank Offer</div></div></div></div></div></a></div></div></div></div><div class=\"_1AtVbE col-12-12\"><div class=\"_13oc-S\"><div data-id=\"MOBG73E7ZBHHQ3RB\" style=\"width:100%\"><div class=\"_2kHMtA\"><a class=\"_1fQZEK\" target=\"_blank\" rel=\"noopener noreferrer\" href=\"/poco-c31-royal-blue-32-gb/p/itm9656ebd21e0b3?pid=MOBG73E7ZBHHQ3RB&amp;lid=LSTMOBG73E7ZBHHQ3RBPQ3FU1&amp;marketplace=FLIPKART&amp;q=mobiles&amp;store=tyy%2F4io&amp;spotlightTagId=BestvalueId_tyy%2F4io&amp;srno=s_1_15&amp;otracker=AS_Query_HistoryAutoSuggest_1_2_na_na_na&amp;otracker1=AS_Query_HistoryAutoSuggest_1_2_na_na_na&amp;fm=organic&amp;iid=d0cca885-1040-4f45-b74c-f6b804d9fca0.MOBG73E7ZBHHQ3RB.SEARCH&amp;ppt=None&amp;ppn=None&amp;ssid=fcl8n3hgyo0000001674966157161&amp;qH=eb4af0bf07c16429\"><div></div><div class=\"MIXNux\"><div class=\"_2QcLo-\"><div><div class=\"CXW8mj\" style=\"height:200px;width:200px\"><img loading=\"eager\" class=\"_396cs4\" alt=\"POCO C31 (Royal Blue, 32 GB)\" src=\"https://rukminim1.flixcart.com/image/312/312/ku4ezrk0/mobile/p/e/4/c31-mzb0a0jin-poco-original-imag7bzqxgdhgf2n.jpeg?q=70\"/></div></div></div><div class=\"_3wLduG\"><div class=\"_3PzNI-\"><span class=\"f3A4_V\"><label class=\"_2iDkf8\"><input type=\"checkbox\" class=\"_30VH1S\" readonly=\"\"/><div class=\"_24_Dny\"></div></label></span><label class=\"_6Up2sF\"><span>Add to Compare</span></label></div></div><div class=\"_2hVSre _3nq8ih\"><div class=\"_36FSn5\"><svg xmlns=\"http://www.w3.org/2000/svg\" class=\"_1l0elc\" width=\"16\" height=\"16\" viewBox=\"0 0 20 16\"><path d=\"M8.695 16.682C4.06 12.382 1 9.536 1 6.065 1 3.219 3.178 1 5.95 1c1.566 0 3.069.746 4.05 1.915C10.981 1.745 12.484 1 14.05 1 16.822 1 19 3.22 19 6.065c0 3.471-3.06 6.316-7.695 10.617L10 17.897l-1.305-1.215z\" fill=\"#2874F0\" class=\"eX72wL\" stroke=\"#FFF\" fill-rule=\"evenodd\" opacity=\".9\"></path></svg></div></div></div><div class=\"_3pLy-c row\"><div class=\"col col-7-12\"><div class=\"_4rR01T\">POCO C31 (Royal Blue, 32 GB)</div><div class=\"gUuXy-\"><span id=\"productRating_LSTMOBG73E7ZBHHQ3RBPQ3FU1_MOBG73E7ZBHHQ3RB_\" class=\"_1lRcqv\"><div class=\"_3LWZlK\">4.3<img src=\"data:image/svg+xml;base64,PHN2ZyB4bWxucz0iaHR0cDovL3d3dy53My5vcmcvMjAwMC9zdmciIHdpZHRoPSIxMyIgaGVpZ2h0PSIxMiI+PHBhdGggZmlsbD0iI0ZGRiIgZD0iTTYuNSA5LjQzOWwtMy42NzQgMi4yMy45NC00LjI2LTMuMjEtMi44ODMgNC4yNTQtLjQwNEw2LjUuMTEybDEuNjkgNC4wMSA0LjI1NC40MDQtMy4yMSAyLjg4Mi45NCA0LjI2eiIvPjwvc3ZnPg==\" class=\"_1wB99o\"/></div></span><span class=\"_2_R_DZ\"><span><span>1,27,266 Ratings\\xc2\\xa0</span><span class=\"_13vcmD\">&amp;</span><span>\\xc2\\xa07,488 Reviews</span></span></span></div><div class=\"fMghEO\"><ul class=\"_1xgFaf\"><li class=\"rgWa7D\">3 GB RAM | 32 GB ROM | Expandable Upto 512 GB</li><li class=\"rgWa7D\">16.59 cm (6.53 inch) HD+ Display</li><li class=\"rgWa7D\">13MP + 2MP + 2MP | 5MP Front Camera</li><li class=\"rgWa7D\">5000 mAh Lithium-ion Polymer Battery</li><li class=\"rgWa7D\">MediaTek Helio G35 Processor</li><li class=\"rgWa7D\">1 Year Warranty for Handset, 6 Months for Accessories</li></ul></div></div><div class=\"col col-5-12 nlI3QM\"><div class=\"_3tbKJL\"><div class=\"_25b18c\"><div class=\"_30jeq3 _1_WHN1\">\\xe2\\x82\\xb96,499</div><div class=\"_3I9_wc _27UcVY\">\\xe2\\x82\\xb9<!-- -->10,999</div><div class=\"_3Ay6Sb\"><span>40% off</span></div></div><div class=\"_3tcB5a p8ucoS\"><div><div class=\"_2Tpdn3\" style=\"color:#000000;font-size:12px;font-weight:400\">Free delivery</div></div></div></div><div class=\"_13J9qT\"><img height=\"21\" src=\"//static-assets-web.flixcart.com/fk-p-linchpin-web/fk-cp-zion/img/fa_62673a.png\"/></div><div class=\"_2ZdXDB\"><div class=\"_3xFhiH\"><div class=\"_2Tpdn3 _18hQoS\" style=\"color:#000000;font-size:14px;font-style:normal;font-weight:400\">Upto </div><div class=\"_2Tpdn3 _18hQoS\" style=\"color:#000000;font-size:14px;font-style:normal;font-weight:700\">\\xe2\\x82\\xb95,950</div><div class=\"_2Tpdn3 _18hQoS\" style=\"color:#000000;font-size:14px;font-style:normal;font-weight:400\"> Off on Exchange</div></div></div><div class=\"_2ZdXDB\"><div class=\"_3xFhiH\"><div class=\"_2Tpdn3 _18hQoS\" style=\"color:#26A541;font-size:14px;font-weight:700\">Bank Offer</div></div></div></div></div></a></div></div></div></div><div class=\"_1AtVbE col-12-12\"><div class=\"_13oc-S\"><div data-id=\"MOBG6WQWQZZMGQCU\" style=\"width:100%\"><div class=\"_2kHMtA\"><a class=\"_1fQZEK\" target=\"_blank\" rel=\"noopener noreferrer\" href=\"/redmi-9i-sport-metallic-blue-64-gb/p/itmeb95d0b4616cc?pid=MOBG6WQWQZZMGQCU&amp;lid=LSTMOBG6WQWQZZMGQCUD4GKAH&amp;marketplace=FLIPKART&amp;q=mobiles&amp;store=tyy%2F4io&amp;srno=s_1_16&amp;otracker=AS_Query_HistoryAutoSuggest_1_2_na_na_na&amp;otracker1=AS_Query_HistoryAutoSuggest_1_2_na_na_na&amp;fm=organic&amp;iid=d0cca885-1040-4f45-b74c-f6b804d9fca0.MOBG6WQWQZZMGQCU.SEARCH&amp;ppt=None&amp;ppn=None&amp;ssid=fcl8n3hgyo0000001674966157161&amp;qH=eb4af0bf07c16429\"><div class=\"MIXNux\"><div class=\"_2QcLo-\"><div><div class=\"CXW8mj\" style=\"height:200px;width:200px\"><img loading=\"eager\" class=\"_396cs4\" alt=\"REDMI 9i Sport (Metallic Blue, 64 GB)\" src=\"https://rukminim1.flixcart.com/image/312/312/ku04o7k0/mobile/x/x/t/9i-sport-mzb0a10in-redmi-original-imag785rwf3q8sft.jpeg?q=70\"/></div></div></div><div class=\"_3wLduG\"><div class=\"_3PzNI-\"><span class=\"f3A4_V\"><label class=\"_2iDkf8\"><input type=\"checkbox\" class=\"_30VH1S\" readonly=\"\"/><div class=\"_24_Dny\"></div></label></span><label class=\"_6Up2sF\"><span>Add to Compare</span></label></div></div><div class=\"_2hVSre _3nq8ih\"><div class=\"_36FSn5\"><svg xmlns=\"http://www.w3.org/2000/svg\" class=\"_1l0elc\" width=\"16\" height=\"16\" viewBox=\"0 0 20 16\"><path d=\"M8.695 16.682C4.06 12.382 1 9.536 1 6.065 1 3.219 3.178 1 5.95 1c1.566 0 3.069.746 4.05 1.915C10.981 1.745 12.484 1 14.05 1 16.822 1 19 3.22 19 6.065c0 3.471-3.06 6.316-7.695 10.617L10 17.897l-1.305-1.215z\" fill=\"#2874F0\" class=\"eX72wL\" stroke=\"#FFF\" fill-rule=\"evenodd\" opacity=\".9\"></path></svg></div></div></div><div class=\"_3pLy-c row\"><div class=\"col col-7-12\"><div class=\"_4rR01T\">REDMI 9i Sport (Metallic Blue, 64 GB)</div><div class=\"gUuXy-\"><span id=\"productRating_LSTMOBG6WQWQZZMGQCUD4GKAH_MOBG6WQWQZZMGQCU_\" class=\"_1lRcqv\"><div class=\"_3LWZlK\">4.3<img src=\"data:image/svg+xml;base64,PHN2ZyB4bWxucz0iaHR0cDovL3d3dy53My5vcmcvMjAwMC9zdmciIHdpZHRoPSIxMyIgaGVpZ2h0PSIxMiI+PHBhdGggZmlsbD0iI0ZGRiIgZD0iTTYuNSA5LjQzOWwtMy42NzQgMi4yMy45NC00LjI2LTMuMjEtMi44ODMgNC4yNTQtLjQwNEw2LjUuMTEybDEuNjkgNC4wMSA0LjI1NC40MDQtMy4yMSAyLjg4Mi45NCA0LjI2eiIvPjwvc3ZnPg==\" class=\"_1wB99o\"/></div></span><span class=\"_2_R_DZ\"><span><span>2,21,960 Ratings\\xc2\\xa0</span><span class=\"_13vcmD\">&amp;</span><span>\\xc2\\xa012,499 Reviews</span></span></span></div><div class=\"fMghEO\"><ul class=\"_1xgFaf\"><li class=\"rgWa7D\">4 GB RAM | 64 GB ROM | Expandable Upto 512 GB</li><li class=\"rgWa7D\">16.59 cm (6.53 inch) HD+ Display</li><li class=\"rgWa7D\">13MP Rear Camera | 5MP Front Camera</li><li class=\"rgWa7D\">5000 mAh Li-Polymer Battery</li><li class=\"rgWa7D\">MediaTek Helio G25 Processor</li><li class=\"rgWa7D\">Brand Warranty of 1 Year Available for Mobile and 6 Months for Accessories</li></ul></div></div><div class=\"col col-5-12 nlI3QM\"><div class=\"_3tbKJL\"><div class=\"_25b18c\"><div class=\"_30jeq3 _1_WHN1\">\\xe2\\x82\\xb97,499</div><div class=\"_3I9_wc _27UcVY\">\\xe2\\x82\\xb9<!-- -->9,999</div><div class=\"_3Ay6Sb\"><span>25% off</span></div></div><div class=\"_3tcB5a p8ucoS\"><div><div class=\"_2Tpdn3\" style=\"color:#000000;font-size:12px;font-weight:400\">Free delivery</div></div></div></div><div class=\"_13J9qT\"><img height=\"21\" src=\"//static-assets-web.flixcart.com/fk-p-linchpin-web/fk-cp-zion/img/fa_62673a.png\"/></div><div class=\"_2ZdXDB\"><div class=\"_3xFhiH\"><div class=\"_2Tpdn3 _18hQoS\" style=\"color:#000000;font-size:14px;font-style:normal;font-weight:400\">Upto </div><div class=\"_2Tpdn3 _18hQoS\" style=\"color:#000000;font-size:14px;font-style:normal;font-weight:700\">\\xe2\\x82\\xb96,950</div><div class=\"_2Tpdn3 _18hQoS\" style=\"color:#000000;font-size:14px;font-style:normal;font-weight:400\"> Off on Exchange</div></div></div><div class=\"_2ZdXDB\"><div class=\"_3xFhiH\"><div class=\"_2Tpdn3 _18hQoS\" style=\"color:#26A541;font-size:14px;font-weight:700\">Bank Offer</div></div></div></div></div></a></div></div></div></div><div class=\"_1AtVbE col-12-12\"><div class=\"_13oc-S\"><div data-id=\"MOBGC9GYQGGKWEU3\" style=\"width:100%\"><div class=\"_2kHMtA\"><a class=\"_1fQZEK\" target=\"_blank\" rel=\"noopener noreferrer\" href=\"/redmi-10-caribbean-green-64-gb/p/itmbfb8dfcdd6e10?pid=MOBGC9GYQGGKWEU3&amp;lid=LSTMOBGC9GYQGGKWEU3SLBNSD&amp;marketplace=FLIPKART&amp;q=mobiles&amp;store=tyy%2F4io&amp;srno=s_1_17&amp;otracker=AS_Query_HistoryAutoSuggest_1_2_na_na_na&amp;otracker1=AS_Query_HistoryAutoSuggest_1_2_na_na_na&amp;fm=organic&amp;iid=d0cca885-1040-4f45-b74c-f6b804d9fca0.MOBGC9GYQGGKWEU3.SEARCH&amp;ppt=None&amp;ppn=None&amp;ssid=fcl8n3hgyo0000001674966157161&amp;qH=eb4af0bf07c16429\"><div class=\"MIXNux\"><div class=\"_2QcLo-\"><div><div class=\"CXW8mj\" style=\"height:200px;width:200px\"><img loading=\"eager\" class=\"_396cs4\" alt=\"REDMI 10 (Caribbean Green, 64 GB)\" src=\"https://rukminim1.flixcart.com/image/312/312/xif0q/mobile/g/p/x/-original-imagk4nz54s7a7rf.jpeg?q=70\"/></div></div></div><div class=\"_3wLduG\"><div class=\"_3PzNI-\"><span class=\"f3A4_V\"><label class=\"_2iDkf8\"><input type=\"checkbox\" class=\"_30VH1S\" readonly=\"\"/><div class=\"_24_Dny\"></div></label></span><label class=\"_6Up2sF\"><span>Add to Compare</span></label></div></div><div class=\"_2hVSre _3nq8ih\"><div class=\"_36FSn5\"><svg xmlns=\"http://www.w3.org/2000/svg\" class=\"_1l0elc\" width=\"16\" height=\"16\" viewBox=\"0 0 20 16\"><path d=\"M8.695 16.682C4.06 12.382 1 9.536 1 6.065 1 3.219 3.178 1 5.95 1c1.566 0 3.069.746 4.05 1.915C10.981 1.745 12.484 1 14.05 1 16.822 1 19 3.22 19 6.065c0 3.471-3.06 6.316-7.695 10.617L10 17.897l-1.305-1.215z\" fill=\"#2874F0\" class=\"eX72wL\" stroke=\"#FFF\" fill-rule=\"evenodd\" opacity=\".9\"></path></svg></div></div></div><div class=\"_3pLy-c row\"><div class=\"col col-7-12\"><div class=\"_4rR01T\">REDMI 10 (Caribbean Green, 64 GB)</div><div class=\"gUuXy-\"><span id=\"productRating_LSTMOBGC9GYQGGKWEU3SLBNSD_MOBGC9GYQGGKWEU3_\" class=\"_1lRcqv\"><div class=\"_3LWZlK\">4.3<img src=\"data:image/svg+xml;base64,PHN2ZyB4bWxucz0iaHR0cDovL3d3dy53My5vcmcvMjAwMC9zdmciIHdpZHRoPSIxMyIgaGVpZ2h0PSIxMiI+PHBhdGggZmlsbD0iI0ZGRiIgZD0iTTYuNSA5LjQzOWwtMy42NzQgMi4yMy45NC00LjI2LTMuMjEtMi44ODMgNC4yNTQtLjQwNEw2LjUuMTEybDEuNjkgNC4wMSA0LjI1NC40MDQtMy4yMSAyLjg4Mi45NCA0LjI2eiIvPjwvc3ZnPg==\" class=\"_1wB99o\"/></div></span><span class=\"_2_R_DZ\"><span><span>1,75,722 Ratings\\xc2\\xa0</span><span class=\"_13vcmD\">&amp;</span><span>\\xc2\\xa011,500 Reviews</span></span></span></div><div class=\"fMghEO\"><ul class=\"_1xgFaf\"><li class=\"rgWa7D\">4 GB RAM | 64 GB ROM | Expandable Upto 1 TB</li><li class=\"rgWa7D\">17.02 cm (6.7 inch) HD+ Display</li><li class=\"rgWa7D\">50MP + 2MP | 5MP Front Camera</li><li class=\"rgWa7D\">6000 mAh Lithium Polymer Battery</li><li class=\"rgWa7D\">Qualcomm Snapdragon 680 Processor</li><li class=\"rgWa7D\">1 Year Warranty for Phone and 6 Months Warranty for In-Box Accessories</li></ul></div></div><div class=\"col col-5-12 nlI3QM\"><div class=\"_3tbKJL\"><div class=\"_25b18c\"><div class=\"_30jeq3 _1_WHN1\">\\xe2\\x82\\xb99,999</div><div class=\"_3I9_wc _27UcVY\">\\xe2\\x82\\xb9<!-- -->14,999</div><div class=\"_3Ay6Sb\"><span>33% off</span></div></div><div class=\"_3tcB5a p8ucoS\"><div><div class=\"_2Tpdn3\" style=\"color:#000000;font-size:12px;font-weight:400\">Free delivery</div></div></div></div><div class=\"_13J9qT\"><img height=\"21\" src=\"//static-assets-web.flixcart.com/fk-p-linchpin-web/fk-cp-zion/img/fa_62673a.png\"/></div><div class=\"_2ZdXDB\"><div class=\"_3xFhiH\"><div class=\"_2Tpdn3 _18hQoS\" style=\"color:#000000;font-size:14px;font-style:normal;font-weight:400\">Upto </div><div class=\"_2Tpdn3 _18hQoS\" style=\"color:#000000;font-size:14px;font-style:normal;font-weight:700\">\\xe2\\x82\\xb99,450</div><div class=\"_2Tpdn3 _18hQoS\" style=\"color:#000000;font-size:14px;font-style:normal;font-weight:400\"> Off on Exchange</div></div></div><div class=\"_2ZdXDB\"><div class=\"_3xFhiH\"><div class=\"_2Tpdn3 _18hQoS\" style=\"color:#26A541;font-size:14px;font-weight:700\">Bank Offer</div></div></div></div></div></a></div></div></div></div><div class=\"_1AtVbE col-12-12\"><div class=\"_13oc-S\"><div data-id=\"MOBGAKFYFCZJ8JVY\" style=\"width:100%\"><div class=\"_2kHMtA\"><a class=\"_1fQZEK\" target=\"_blank\" rel=\"noopener noreferrer\" href=\"/motorola-g52-charcoal-grey-128-gb/p/itmea9ebe003e26c?pid=MOBGAKFYFCZJ8JVY&amp;lid=LSTMOBGAKFYFCZJ8JVY99JHKD&amp;marketplace=FLIPKART&amp;q=mobiles&amp;store=tyy%2F4io&amp;srno=s_1_18&amp;otracker=AS_Query_HistoryAutoSuggest_1_2_na_na_na&amp;otracker1=AS_Query_HistoryAutoSuggest_1_2_na_na_na&amp;fm=organic&amp;iid=d0cca885-1040-4f45-b74c-f6b804d9fca0.MOBGAKFYFCZJ8JVY.SEARCH&amp;ppt=None&amp;ppn=None&amp;ssid=fcl8n3hgyo0000001674966157161&amp;qH=eb4af0bf07c16429\"><div class=\"MIXNux\"><div class=\"_2QcLo-\"><div><div class=\"CXW8mj\" style=\"height:200px;width:200px\"><img loading=\"eager\" class=\"_396cs4\" alt=\"MOTOROLA g52 (Charcoal Grey, 128 GB)\" src=\"https://rukminim1.flixcart.com/image/312/312/l29c9e80/mobile/l/g/m/-original-imagdnefhnhztahe.jpeg?q=70\"/></div></div></div><div class=\"_3wLduG\"><div class=\"_3PzNI-\"><span class=\"f3A4_V\"><label class=\"_2iDkf8\"><input type=\"checkbox\" class=\"_30VH1S\" readonly=\"\"/><div class=\"_24_Dny\"></div></label></span><label class=\"_6Up2sF\"><span>Add to Compare</span></label></div></div><div class=\"_2hVSre _3nq8ih\"><div class=\"_36FSn5\"><svg xmlns=\"http://www.w3.org/2000/svg\" class=\"_1l0elc\" width=\"16\" height=\"16\" viewBox=\"0 0 20 16\"><path d=\"M8.695 16.682C4.06 12.382 1 9.536 1 6.065 1 3.219 3.178 1 5.95 1c1.566 0 3.069.746 4.05 1.915C10.981 1.745 12.484 1 14.05 1 16.822 1 19 3.22 19 6.065c0 3.471-3.06 6.316-7.695 10.617L10 17.897l-1.305-1.215z\" fill=\"#2874F0\" class=\"eX72wL\" stroke=\"#FFF\" fill-rule=\"evenodd\" opacity=\".9\"></path></svg></div></div></div><div class=\"_3pLy-c row\"><div class=\"col col-7-12\"><div class=\"_4rR01T\">MOTOROLA g52 (Charcoal Grey, 128 GB)</div><div class=\"gUuXy-\"><span id=\"productRating_LSTMOBGAKFYFCZJ8JVY99JHKD_MOBGAKFYFCZJ8JVY_\" class=\"_1lRcqv\"><div class=\"_3LWZlK\">4.2<img src=\"data:image/svg+xml;base64,PHN2ZyB4bWxucz0iaHR0cDovL3d3dy53My5vcmcvMjAwMC9zdmciIHdpZHRoPSIxMyIgaGVpZ2h0PSIxMiI+PHBhdGggZmlsbD0iI0ZGRiIgZD0iTTYuNSA5LjQzOWwtMy42NzQgMi4yMy45NC00LjI2LTMuMjEtMi44ODMgNC4yNTQtLjQwNEw2LjUuMTEybDEuNjkgNC4wMSA0LjI1NC40MDQtMy4yMSAyLjg4Mi45NCA0LjI2eiIvPjwvc3ZnPg==\" class=\"_1wB99o\"/></div></span><span class=\"_2_R_DZ\"><span><span>23,769 Ratings\\xc2\\xa0</span><span class=\"_13vcmD\">&amp;</span><span>\\xc2\\xa02,907 Reviews</span></span></span></div><div class=\"fMghEO\"><ul class=\"_1xgFaf\"><li class=\"rgWa7D\">6 GB RAM | 128 GB ROM</li><li class=\"rgWa7D\">16.76 cm (6.6 inch) Full HD+ Display</li><li class=\"rgWa7D\">50MP + 8MP + 2MP | 16MP Front Camera</li><li class=\"rgWa7D\">5000 mAh Lithium Battery</li><li class=\"rgWa7D\">Qualcomm Snapdragon 680 Processor</li><li class=\"rgWa7D\">1 Year on Handset and 6 Months on Accessories</li></ul></div></div><div class=\"col col-5-12 nlI3QM\"><div class=\"_3tbKJL\"><div class=\"_25b18c\"><div class=\"_30jeq3 _1_WHN1\">\\xe2\\x82\\xb912,999</div><div class=\"_3I9_wc _27UcVY\">\\xe2\\x82\\xb9<!-- -->19,999</div><div class=\"_3Ay6Sb\"><span>35% off</span></div></div><div class=\"_3tcB5a p8ucoS\"><div><div class=\"_2Tpdn3\" style=\"color:#000000;font-size:12px;font-weight:400\">Free delivery</div></div></div></div><div class=\"_13J9qT\"><img height=\"21\" src=\"//static-assets-web.flixcart.com/fk-p-linchpin-web/fk-cp-zion/img/fa_62673a.png\"/></div><div class=\"_2ZdXDB\"><div class=\"_3xFhiH\"><div class=\"_2Tpdn3 _18hQoS\" style=\"color:#000000;font-size:14px;font-style:normal;font-weight:400\">Upto </div><div class=\"_2Tpdn3 _18hQoS\" style=\"color:#000000;font-size:14px;font-style:normal;font-weight:700\">\\xe2\\x82\\xb911,750</div><div class=\"_2Tpdn3 _18hQoS\" style=\"color:#000000;font-size:14px;font-style:normal;font-weight:400\"> Off on Exchange</div></div></div><div class=\"_2ZdXDB\"><div class=\"_3xFhiH\"><div class=\"_2Tpdn3 _18hQoS\" style=\"color:#26A541;font-size:14px;font-weight:700\">Bank Offer</div></div></div></div></div></a></div></div></div></div><div class=\"_1AtVbE col-12-12\"><div class=\"_13oc-S\"><div data-id=\"MOBGK23WTVZZ3DDD\" style=\"width:100%\"><div class=\"_2kHMtA\"><a class=\"_1fQZEK\" target=\"_blank\" rel=\"noopener noreferrer\" href=\"/infinix-hot-20-play-luna-blue-64-gb/p/itm1e6903eb0203e?pid=MOBGK23WTVZZ3DDD&amp;lid=LSTMOBGK23WTVZZ3DDDLYVBCR&amp;marketplace=FLIPKART&amp;q=mobiles&amp;store=tyy%2F4io&amp;srno=s_1_19&amp;otracker=AS_Query_HistoryAutoSuggest_1_2_na_na_na&amp;otracker1=AS_Query_HistoryAutoSuggest_1_2_na_na_na&amp;fm=organic&amp;iid=d0cca885-1040-4f45-b74c-f6b804d9fca0.MOBGK23WTVZZ3DDD.SEARCH&amp;ppt=None&amp;ppn=None&amp;ssid=fcl8n3hgyo0000001674966157161&amp;qH=eb4af0bf07c16429\"><div class=\"MIXNux\"><div class=\"_2QcLo-\"><div><div class=\"CXW8mj\" style=\"height:200px;width:200px\"><img loading=\"eager\" class=\"_396cs4\" alt=\"Infinix HOT 20 Play (Luna Blue, 64 GB)\" src=\"https://rukminim1.flixcart.com/image/312/312/xif0q/mobile/b/o/e/-original-imagkgrxzahq3egj.jpeg?q=70\"/></div></div></div><div class=\"_3wLduG\"><div class=\"_3PzNI-\"><span class=\"f3A4_V\"><label class=\"_2iDkf8\"><input type=\"checkbox\" class=\"_30VH1S\" readonly=\"\"/><div class=\"_24_Dny\"></div></label></span><label class=\"_6Up2sF\"><span>Add to Compare</span></label></div></div><div class=\"_2hVSre _3nq8ih\"><div class=\"_36FSn5\"><svg xmlns=\"http://www.w3.org/2000/svg\" class=\"_1l0elc\" width=\"16\" height=\"16\" viewBox=\"0 0 20 16\"><path d=\"M8.695 16.682C4.06 12.382 1 9.536 1 6.065 1 3.219 3.178 1 5.95 1c1.566 0 3.069.746 4.05 1.915C10.981 1.745 12.484 1 14.05 1 16.822 1 19 3.22 19 6.065c0 3.471-3.06 6.316-7.695 10.617L10 17.897l-1.305-1.215z\" fill=\"#2874F0\" class=\"eX72wL\" stroke=\"#FFF\" fill-rule=\"evenodd\" opacity=\".9\"></path></svg></div></div></div><div class=\"_3pLy-c row\"><div class=\"col col-7-12\"><div class=\"_4rR01T\">Infinix HOT 20 Play (Luna Blue, 64 GB)</div><div class=\"gUuXy-\"><span id=\"productRating_LSTMOBGK23WTVZZ3DDDLYVBCR_MOBGK23WTVZZ3DDD_\" class=\"_1lRcqv\"><div class=\"_3LWZlK\">4.5<img src=\"data:image/svg+xml;base64,PHN2ZyB4bWxucz0iaHR0cDovL3d3dy53My5vcmcvMjAwMC9zdmciIHdpZHRoPSIxMyIgaGVpZ2h0PSIxMiI+PHBhdGggZmlsbD0iI0ZGRiIgZD0iTTYuNSA5LjQzOWwtMy42NzQgMi4yMy45NC00LjI2LTMuMjEtMi44ODMgNC4yNTQtLjQwNEw2LjUuMTEybDEuNjkgNC4wMSA0LjI1NC40MDQtMy4yMSAyLjg4Mi45NCA0LjI2eiIvPjwvc3ZnPg==\" class=\"_1wB99o\"/></div></span><span class=\"_2_R_DZ\"><span><span>3,608 Ratings\\xc2\\xa0</span><span class=\"_13vcmD\">&amp;</span><span>\\xc2\\xa0205 Reviews</span></span></span></div><div class=\"fMghEO\"><ul class=\"_1xgFaf\"><li class=\"rgWa7D\">4 GB RAM | 64 GB ROM | Expandable Upto 256 GB</li><li class=\"rgWa7D\">17.32 cm (6.82 inch) HD+ Display</li><li class=\"rgWa7D\">13Mp + AI Lens | 8MP Front Camera</li><li class=\"rgWa7D\">6000 mAh Li-ion Polymer Battery</li><li class=\"rgWa7D\">MediaTek G37 Processor</li><li class=\"rgWa7D\">1 Year on Handset and 6 Months on Accessories</li></ul></div></div><div class=\"col col-5-12 nlI3QM\"><div class=\"_3tbKJL\"><div class=\"_25b18c\"><div class=\"_30jeq3 _1_WHN1\">\\xe2\\x82\\xb98,199</div><div class=\"_3I9_wc _27UcVY\">\\xe2\\x82\\xb9<!-- -->11,999</div><div class=\"_3Ay6Sb\"><span>31% off</span></div></div><div class=\"_3tcB5a p8ucoS\"><div><div class=\"_2Tpdn3\" style=\"color:#000000;font-size:12px;font-weight:400\">Free delivery</div></div></div></div><div class=\"_13J9qT\"><img height=\"21\" src=\"//static-assets-web.flixcart.com/fk-p-linchpin-web/fk-cp-zion/img/fa_62673a.png\"/></div><div class=\"_2ZdXDB\"><div class=\"_3xFhiH\"><div class=\"_2Tpdn3 _18hQoS\" style=\"color:#000000;font-size:14px;font-style:normal;font-weight:400\">Upto </div><div class=\"_2Tpdn3 _18hQoS\" style=\"color:#000000;font-size:14px;font-style:normal;font-weight:700\">\\xe2\\x82\\xb97,550</div><div class=\"_2Tpdn3 _18hQoS\" style=\"color:#000000;font-size:14px;font-style:normal;font-weight:400\"> Off on Exchange</div></div></div><div class=\"_2ZdXDB\"><div class=\"_3xFhiH\"><div class=\"_2Tpdn3 _18hQoS\" style=\"color:#26A541;font-size:14px;font-weight:700\">Bank Offer</div></div></div></div></div></a></div></div></div></div><div class=\"_1AtVbE col-12-12\"><div class=\"_13oc-S\"><div data-id=\"MOBG6WQWJRFZ5WDG\" style=\"width:100%\"><div class=\"_2kHMtA\"><a class=\"_1fQZEK\" target=\"_blank\" rel=\"noopener noreferrer\" href=\"/redmi-9i-sport-coral-green-64-gb/p/itmb5e8d8186b602?pid=MOBG6WQWJRFZ5WDG&amp;lid=LSTMOBG6WQWJRFZ5WDGJDTSKF&amp;marketplace=FLIPKART&amp;q=mobiles&amp;store=tyy%2F4io&amp;spotlightTagId=BestsellerId_tyy%2F4io&amp;srno=s_1_20&amp;otracker=AS_Query_HistoryAutoSuggest_1_2_na_na_na&amp;otracker1=AS_Query_HistoryAutoSuggest_1_2_na_na_na&amp;fm=organic&amp;iid=d0cca885-1040-4f45-b74c-f6b804d9fca0.MOBG6WQWJRFZ5WDG.SEARCH&amp;ppt=None&amp;ppn=None&amp;ssid=fcl8n3hgyo0000001674966157161&amp;qH=eb4af0bf07c16429\"><div></div><div class=\"MIXNux\"><div class=\"_2QcLo-\"><div><div class=\"CXW8mj\" style=\"height:200px;width:200px\"><img loading=\"eager\" class=\"_396cs4\" alt=\"REDMI 9i Sport (Coral Green, 64 GB)\" src=\"https://rukminim1.flixcart.com/image/312/312/ku04o7k0/mobile/m/w/p/9i-sport-mzb0a0yin-redmi-original-imag785ryfspqg3a.jpeg?q=70\"/></div></div></div><div class=\"_3wLduG\"><div class=\"_3PzNI-\"><span class=\"f3A4_V\"><label class=\"_2iDkf8\"><input type=\"checkbox\" class=\"_30VH1S\" readonly=\"\"/><div class=\"_24_Dny\"></div></label></span><label class=\"_6Up2sF\"><span>Add to Compare</span></label></div></div><div class=\"_2hVSre _3nq8ih\"><div class=\"_36FSn5\"><svg xmlns=\"http://www.w3.org/2000/svg\" class=\"_1l0elc\" width=\"16\" height=\"16\" viewBox=\"0 0 20 16\"><path d=\"M8.695 16.682C4.06 12.382 1 9.536 1 6.065 1 3.219 3.178 1 5.95 1c1.566 0 3.069.746 4.05 1.915C10.981 1.745 12.484 1 14.05 1 16.822 1 19 3.22 19 6.065c0 3.471-3.06 6.316-7.695 10.617L10 17.897l-1.305-1.215z\" fill=\"#2874F0\" class=\"eX72wL\" stroke=\"#FFF\" fill-rule=\"evenodd\" opacity=\".9\"></path></svg></div></div></div><div class=\"_3pLy-c row\"><div class=\"col col-7-12\"><div class=\"_4rR01T\">REDMI 9i Sport (Coral Green, 64 GB)</div><div class=\"gUuXy-\"><span id=\"productRating_LSTMOBG6WQWJRFZ5WDGJDTSKF_MOBG6WQWJRFZ5WDG_\" class=\"_1lRcqv\"><div class=\"_3LWZlK\">4.3<img src=\"data:image/svg+xml;base64,PHN2ZyB4bWxucz0iaHR0cDovL3d3dy53My5vcmcvMjAwMC9zdmciIHdpZHRoPSIxMyIgaGVpZ2h0PSIxMiI+PHBhdGggZmlsbD0iI0ZGRiIgZD0iTTYuNSA5LjQzOWwtMy42NzQgMi4yMy45NC00LjI2LTMuMjEtMi44ODMgNC4yNTQtLjQwNEw2LjUuMTEybDEuNjkgNC4wMSA0LjI1NC40MDQtMy4yMSAyLjg4Mi45NCA0LjI2eiIvPjwvc3ZnPg==\" class=\"_1wB99o\"/></div></span><span class=\"_2_R_DZ\"><span><span>2,21,960 Ratings\\xc2\\xa0</span><span class=\"_13vcmD\">&amp;</span><span>\\xc2\\xa012,499 Reviews</span></span></span></div><div class=\"fMghEO\"><ul class=\"_1xgFaf\"><li class=\"rgWa7D\">4 GB RAM | 64 GB ROM | Expandable Upto 512 GB</li><li class=\"rgWa7D\">16.59 cm (6.53 inch) HD+ Display</li><li class=\"rgWa7D\">13MP Rear Camera | 5MP Front Camera</li><li class=\"rgWa7D\">5000 mAh Li-Polymer Battery</li><li class=\"rgWa7D\">MediaTek Helio G25 Processor</li><li class=\"rgWa7D\">Brand Warranty of 1 Year Available for Mobile and 6 Months for Accessories</li></ul></div></div><div class=\"col col-5-12 nlI3QM\"><div class=\"_3tbKJL\"><div class=\"_25b18c\"><div class=\"_30jeq3 _1_WHN1\">\\xe2\\x82\\xb97,499</div><div class=\"_3I9_wc _27UcVY\">\\xe2\\x82\\xb9<!-- -->9,999</div><div class=\"_3Ay6Sb\"><span>25% off</span></div></div><div class=\"_3tcB5a p8ucoS\"><div><div class=\"_2Tpdn3\" style=\"color:#000000;font-size:12px;font-weight:400\">Free delivery</div></div></div></div><div class=\"_13J9qT\"><img height=\"21\" src=\"//static-assets-web.flixcart.com/fk-p-linchpin-web/fk-cp-zion/img/fa_62673a.png\"/></div><div class=\"_2ZdXDB\"><div class=\"_3xFhiH\"><div class=\"_2Tpdn3 _18hQoS\" style=\"color:#000000;font-size:14px;font-style:normal;font-weight:400\">Upto </div><div class=\"_2Tpdn3 _18hQoS\" style=\"color:#000000;font-size:14px;font-style:normal;font-weight:700\">\\xe2\\x82\\xb96,950</div><div class=\"_2Tpdn3 _18hQoS\" style=\"color:#000000;font-size:14px;font-style:normal;font-weight:400\"> Off on Exchange</div></div></div><div class=\"_2ZdXDB\"><div class=\"_3xFhiH\"><div class=\"_2Tpdn3 _18hQoS\" style=\"color:#26A541;font-size:14px;font-weight:700\">Bank Offer</div></div></div></div></div></a></div></div></div></div><div class=\"_1AtVbE col-12-12\"><div class=\"_13oc-S\"><div data-id=\"MOBGAKFYDDSNZGR8\" style=\"width:100%\"><div class=\"_2kHMtA\"><a class=\"_1fQZEK\" target=\"_blank\" rel=\"noopener noreferrer\" href=\"/motorola-g52-metallic-white-128-gb/p/itm469efad765b98?pid=MOBGAKFYDDSNZGR8&amp;lid=LSTMOBGAKFYDDSNZGR8W6QBUV&amp;marketplace=FLIPKART&amp;q=mobiles&amp;store=tyy%2F4io&amp;srno=s_1_21&amp;otracker=AS_Query_HistoryAutoSuggest_1_2_na_na_na&amp;otracker1=AS_Query_HistoryAutoSuggest_1_2_na_na_na&amp;fm=organic&amp;iid=d0cca885-1040-4f45-b74c-f6b804d9fca0.MOBGAKFYDDSNZGR8.SEARCH&amp;ppt=None&amp;ppn=None&amp;ssid=fcl8n3hgyo0000001674966157161&amp;qH=eb4af0bf07c16429\"><div class=\"MIXNux\"><div class=\"_2QcLo-\"><div><div class=\"CXW8mj\" style=\"height:200px;width:200px\"><img loading=\"eager\" class=\"_396cs4\" alt=\"MOTOROLA g52 (Metallic White, 128 GB)\" src=\"https://rukminim1.flixcart.com/image/312/312/l29c9e80/mobile/4/f/z/-original-imagdnefpypk9cgx.jpeg?q=70\"/></div></div></div><div class=\"_3wLduG\"><div class=\"_3PzNI-\"><span class=\"f3A4_V\"><label class=\"_2iDkf8\"><input type=\"checkbox\" class=\"_30VH1S\" readonly=\"\"/><div class=\"_24_Dny\"></div></label></span><label class=\"_6Up2sF\"><span>Add to Compare</span></label></div></div><div class=\"_2hVSre _3nq8ih\"><div class=\"_36FSn5\"><svg xmlns=\"http://www.w3.org/2000/svg\" class=\"_1l0elc\" width=\"16\" height=\"16\" viewBox=\"0 0 20 16\"><path d=\"M8.695 16.682C4.06 12.382 1 9.536 1 6.065 1 3.219 3.178 1 5.95 1c1.566 0 3.069.746 4.05 1.915C10.981 1.745 12.484 1 14.05 1 16.822 1 19 3.22 19 6.065c0 3.471-3.06 6.316-7.695 10.617L10 17.897l-1.305-1.215z\" fill=\"#2874F0\" class=\"eX72wL\" stroke=\"#FFF\" fill-rule=\"evenodd\" opacity=\".9\"></path></svg></div></div></div><div class=\"_3pLy-c row\"><div class=\"col col-7-12\"><div class=\"_4rR01T\">MOTOROLA g52 (Metallic White, 128 GB)</div><div class=\"gUuXy-\"><span id=\"productRating_LSTMOBGAKFYDDSNZGR8W6QBUV_MOBGAKFYDDSNZGR8_\" class=\"_1lRcqv\"><div class=\"_3LWZlK\">4.2<img src=\"data:image/svg+xml;base64,PHN2ZyB4bWxucz0iaHR0cDovL3d3dy53My5vcmcvMjAwMC9zdmciIHdpZHRoPSIxMyIgaGVpZ2h0PSIxMiI+PHBhdGggZmlsbD0iI0ZGRiIgZD0iTTYuNSA5LjQzOWwtMy42NzQgMi4yMy45NC00LjI2LTMuMjEtMi44ODMgNC4yNTQtLjQwNEw2LjUuMTEybDEuNjkgNC4wMSA0LjI1NC40MDQtMy4yMSAyLjg4Mi45NCA0LjI2eiIvPjwvc3ZnPg==\" class=\"_1wB99o\"/></div></span><span class=\"_2_R_DZ\"><span><span>23,769 Ratings\\xc2\\xa0</span><span class=\"_13vcmD\">&amp;</span><span>\\xc2\\xa02,907 Reviews</span></span></span></div><div class=\"fMghEO\"><ul class=\"_1xgFaf\"><li class=\"rgWa7D\">6 GB RAM | 128 GB ROM</li><li class=\"rgWa7D\">16.76 cm (6.6 inch) Full HD+ Display</li><li class=\"rgWa7D\">50MP + 8MP + 2MP | 16MP Front Camera</li><li class=\"rgWa7D\">5000 mAh Lithium Battery</li><li class=\"rgWa7D\">Qualcomm Snapdragon 680 Processor</li><li class=\"rgWa7D\">1 Year on Handset and 6 Months on Accessories</li></ul></div></div><div class=\"col col-5-12 nlI3QM\"><div class=\"_3tbKJL\"><div class=\"_25b18c\"><div class=\"_30jeq3 _1_WHN1\">\\xe2\\x82\\xb912,999</div><div class=\"_3I9_wc _27UcVY\">\\xe2\\x82\\xb9<!-- -->19,999</div><div class=\"_3Ay6Sb\"><span>35% off</span></div></div><div class=\"_3tcB5a p8ucoS\"><div><div class=\"_2Tpdn3\" style=\"color:#000000;font-size:12px;font-weight:400\">Free delivery</div></div></div></div><div class=\"_13J9qT\"><img height=\"21\" src=\"//static-assets-web.flixcart.com/fk-p-linchpin-web/fk-cp-zion/img/fa_62673a.png\"/></div><div class=\"_2ZdXDB\"><div class=\"_3xFhiH\"><div class=\"_2Tpdn3 _18hQoS\" style=\"color:#000000;font-size:14px;font-style:normal;font-weight:400\">Upto </div><div class=\"_2Tpdn3 _18hQoS\" style=\"color:#000000;font-size:14px;font-style:normal;font-weight:700\">\\xe2\\x82\\xb911,750</div><div class=\"_2Tpdn3 _18hQoS\" style=\"color:#000000;font-size:14px;font-style:normal;font-weight:400\"> Off on Exchange</div></div></div><div class=\"_2ZdXDB\"><div class=\"_3xFhiH\"><div class=\"_2Tpdn3 _18hQoS\" style=\"color:#26A541;font-size:14px;font-weight:700\">Bank Offer</div></div></div></div></div></a></div></div></div></div><div class=\"_1AtVbE col-12-12\"><div class=\"_13oc-S\"><div data-id=\"MOBGEA3CZ8Z7HWCY\" style=\"width:100%\"><div class=\"_2kHMtA\"><a class=\"_1fQZEK\" target=\"_blank\" rel=\"noopener noreferrer\" href=\"/motorola-g32-mineral-gray-64-gb/p/itmdcfa4c4022714?pid=MOBGEA3CZ8Z7HWCY&amp;lid=LSTMOBGEA3CZ8Z7HWCYPHBSGA&amp;marketplace=FLIPKART&amp;q=mobiles&amp;store=tyy%2F4io&amp;srno=s_1_22&amp;otracker=AS_Query_HistoryAutoSuggest_1_2_na_na_na&amp;otracker1=AS_Query_HistoryAutoSuggest_1_2_na_na_na&amp;fm=organic&amp;iid=d0cca885-1040-4f45-b74c-f6b804d9fca0.MOBGEA3CZ8Z7HWCY.SEARCH&amp;ppt=None&amp;ppn=None&amp;ssid=fcl8n3hgyo0000001674966157161&amp;qH=eb4af0bf07c16429\"><div class=\"MIXNux\"><div class=\"_2QcLo-\"><div><div class=\"CXW8mj\" style=\"height:200px;width:200px\"><img loading=\"eager\" class=\"_396cs4\" alt=\"MOTOROLA G32 (Mineral Gray, 64 GB)\" src=\"https://rukminim1.flixcart.com/image/312/312/xif0q/mobile/l/l/z/-original-imaggvfzzt7qhhax.jpeg?q=70\"/></div></div></div><div class=\"_3wLduG\"><div class=\"_3PzNI-\"><span class=\"f3A4_V\"><label class=\"_2iDkf8\"><input type=\"checkbox\" class=\"_30VH1S\" readonly=\"\"/><div class=\"_24_Dny\"></div></label></span><label class=\"_6Up2sF\"><span>Add to Compare</span></label></div></div><div class=\"_2hVSre _3nq8ih\"><div class=\"_36FSn5\"><svg xmlns=\"http://www.w3.org/2000/svg\" class=\"_1l0elc\" width=\"16\" height=\"16\" viewBox=\"0 0 20 16\"><path d=\"M8.695 16.682C4.06 12.382 1 9.536 1 6.065 1 3.219 3.178 1 5.95 1c1.566 0 3.069.746 4.05 1.915C10.981 1.745 12.484 1 14.05 1 16.822 1 19 3.22 19 6.065c0 3.471-3.06 6.316-7.695 10.617L10 17.897l-1.305-1.215z\" fill=\"#2874F0\" class=\"eX72wL\" stroke=\"#FFF\" fill-rule=\"evenodd\" opacity=\".9\"></path></svg></div></div></div><div class=\"_3pLy-c row\"><div class=\"col col-7-12\"><div class=\"_4rR01T\">MOTOROLA G32 (Mineral Gray, 64 GB)</div><div class=\"gUuXy-\"><span id=\"productRating_LSTMOBGEA3CZ8Z7HWCYPHBSGA_MOBGEA3CZ8Z7HWCY_\" class=\"_1lRcqv\"><div class=\"_3LWZlK\">4.2<img src=\"data:image/svg+xml;base64,PHN2ZyB4bWxucz0iaHR0cDovL3d3dy53My5vcmcvMjAwMC9zdmciIHdpZHRoPSIxMyIgaGVpZ2h0PSIxMiI+PHBhdGggZmlsbD0iI0ZGRiIgZD0iTTYuNSA5LjQzOWwtMy42NzQgMi4yMy45NC00LjI2LTMuMjEtMi44ODMgNC4yNTQtLjQwNEw2LjUuMTEybDEuNjkgNC4wMSA0LjI1NC40MDQtMy4yMSAyLjg4Mi45NCA0LjI2eiIvPjwvc3ZnPg==\" class=\"_1wB99o\"/></div></span><span class=\"_2_R_DZ\"><span><span>22,057 Ratings\\xc2\\xa0</span><span class=\"_13vcmD\">&amp;</span><span>\\xc2\\xa02,179 Reviews</span></span></span></div><div class=\"fMghEO\"><ul class=\"_1xgFaf\"><li class=\"rgWa7D\">4 GB RAM | 64 GB ROM</li><li class=\"rgWa7D\">16.64 cm (6.55 inch) Full HD+ Display</li><li class=\"rgWa7D\">50MP + 8MP + 2MP | 16MP Front Camera</li><li class=\"rgWa7D\">5000 mAh Lithium Polymer Battery</li><li class=\"rgWa7D\">Qualcomm Snapdragon 680 Processor</li><li class=\"rgWa7D\">1 Year on Handset and 6 Months on Accessories</li></ul></div></div><div class=\"col col-5-12 nlI3QM\"><div class=\"_3tbKJL\"><div class=\"_25b18c\"><div class=\"_30jeq3 _1_WHN1\">\\xe2\\x82\\xb910,499</div><div class=\"_3I9_wc _27UcVY\">\\xe2\\x82\\xb9<!-- -->16,999</div><div class=\"_3Ay6Sb\"><span>38% off</span></div></div><div class=\"_3tcB5a p8ucoS\"><div><div class=\"_2Tpdn3\" style=\"color:#000000;font-size:12px;font-weight:400\">Free delivery</div></div></div></div><div class=\"_13J9qT\"><img height=\"21\" src=\"//static-assets-web.flixcart.com/fk-p-linchpin-web/fk-cp-zion/img/fa_62673a.png\"/></div><div class=\"_2ZdXDB\"><div class=\"_3xFhiH\"><div class=\"_2Tpdn3 _18hQoS\" style=\"color:#000000;font-size:14px;font-style:normal;font-weight:400\">Upto </div><div class=\"_2Tpdn3 _18hQoS\" style=\"color:#000000;font-size:14px;font-style:normal;font-weight:700\">\\xe2\\x82\\xb99,700</div><div class=\"_2Tpdn3 _18hQoS\" style=\"color:#000000;font-size:14px;font-style:normal;font-weight:400\"> Off on Exchange</div></div></div><div class=\"_2ZdXDB\"><div class=\"_3xFhiH\"><div class=\"_2Tpdn3 _18hQoS\" style=\"color:#26A541;font-size:14px;font-weight:700\">Bank Offer</div></div></div></div></div></a></div></div></div></div><div class=\"_1AtVbE col-12-12\"><div class=\"_13oc-S\"><div data-id=\"MOBGEWUYZ2Z9FSQG\" style=\"width:100%\"><div class=\"_2kHMtA\"><a class=\"_1fQZEK\" target=\"_blank\" rel=\"noopener noreferrer\" href=\"/oppo-k10-5g-ocean-blue-128-gb/p/itm28cf887931942?pid=MOBGEWUYZ2Z9FSQG&amp;lid=LSTMOBGEWUYZ2Z9FSQGC2YHFU&amp;marketplace=FLIPKART&amp;q=mobiles&amp;store=tyy%2F4io&amp;srno=s_1_23&amp;otracker=AS_Query_HistoryAutoSuggest_1_2_na_na_na&amp;otracker1=AS_Query_HistoryAutoSuggest_1_2_na_na_na&amp;fm=organic&amp;iid=d0cca885-1040-4f45-b74c-f6b804d9fca0.MOBGEWUYZ2Z9FSQG.SEARCH&amp;ppt=None&amp;ppn=None&amp;ssid=fcl8n3hgyo0000001674966157161&amp;qH=eb4af0bf07c16429\"><div class=\"MIXNux\"><div class=\"_2QcLo-\"><div><div class=\"CXW8mj\" style=\"height:200px;width:200px\"><img loading=\"eager\" class=\"_396cs4\" alt=\"OPPO K10 5G (Ocean Blue, 128 GB)\" src=\"https://rukminim1.flixcart.com/image/312/312/l4d2ljk0/mobile/x/d/z/-original-imagf9wt5emzsjqz.jpeg?q=70\"/></div></div></div><div class=\"_3wLduG\"><div class=\"_3PzNI-\"><span class=\"f3A4_V\"><label class=\"_2iDkf8\"><input type=\"checkbox\" class=\"_30VH1S\" readonly=\"\"/><div class=\"_24_Dny\"></div></label></span><label class=\"_6Up2sF\"><span>Add to Compare</span></label></div></div><div class=\"_2hVSre _3nq8ih\"><div class=\"_36FSn5\"><svg xmlns=\"http://www.w3.org/2000/svg\" class=\"_1l0elc\" width=\"16\" height=\"16\" viewBox=\"0 0 20 16\"><path d=\"M8.695 16.682C4.06 12.382 1 9.536 1 6.065 1 3.219 3.178 1 5.95 1c1.566 0 3.069.746 4.05 1.915C10.981 1.745 12.484 1 14.05 1 16.822 1 19 3.22 19 6.065c0 3.471-3.06 6.316-7.695 10.617L10 17.897l-1.305-1.215z\" fill=\"#2874F0\" class=\"eX72wL\" stroke=\"#FFF\" fill-rule=\"evenodd\" opacity=\".9\"></path></svg></div></div></div><div class=\"_3pLy-c row\"><div class=\"col col-7-12\"><div class=\"_4rR01T\">OPPO K10 5G (Ocean Blue, 128 GB)</div><div class=\"gUuXy-\"><span id=\"productRating_LSTMOBGEWUYZ2Z9FSQGC2YHFU_MOBGEWUYZ2Z9FSQG_\" class=\"_1lRcqv\"><div class=\"_3LWZlK\">4.4<img src=\"data:image/svg+xml;base64,PHN2ZyB4bWxucz0iaHR0cDovL3d3dy53My5vcmcvMjAwMC9zdmciIHdpZHRoPSIxMyIgaGVpZ2h0PSIxMiI+PHBhdGggZmlsbD0iI0ZGRiIgZD0iTTYuNSA5LjQzOWwtMy42NzQgMi4yMy45NC00LjI2LTMuMjEtMi44ODMgNC4yNTQtLjQwNEw2LjUuMTEybDEuNjkgNC4wMSA0LjI1NC40MDQtMy4yMSAyLjg4Mi45NCA0LjI2eiIvPjwvc3ZnPg==\" class=\"_1wB99o\"/></div></span><span class=\"_2_R_DZ\"><span><span>54,261 Ratings\\xc2\\xa0</span><span class=\"_13vcmD\">&amp;</span><span>\\xc2\\xa04,126 Reviews</span></span></span></div><div class=\"fMghEO\"><ul class=\"_1xgFaf\"><li class=\"rgWa7D\">8 GB RAM | 128 GB ROM | Expandable Upto 1 TB</li><li class=\"rgWa7D\">16.66 cm (6.56 inch) HD+ Display</li><li class=\"rgWa7D\">48MP + 2MP | 8MP Front Camera</li><li class=\"rgWa7D\">5000 mAh Lithium Ion Polymer Battery</li><li class=\"rgWa7D\">Mediatek Dimensity 810 Processor</li><li class=\"rgWa7D\">1 Year Manufacturer Warranty for Phone and 6 Months Warranty for In-Box Accessories</li></ul></div></div><div class=\"col col-5-12 nlI3QM\"><div class=\"_3tbKJL\"><div class=\"_25b18c\"><div class=\"_30jeq3 _1_WHN1\">\\xe2\\x82\\xb916,999</div><div class=\"_3I9_wc _27UcVY\">\\xe2\\x82\\xb9<!-- -->25,999</div><div class=\"_3Ay6Sb\"><span>34% off</span></div></div><div class=\"_3tcB5a p8ucoS\"><div><div class=\"_2Tpdn3\" style=\"color:#000000;font-size:12px;font-weight:400\">Free delivery</div></div></div></div><div class=\"_13J9qT\"><img height=\"21\" src=\"//static-assets-web.flixcart.com/fk-p-linchpin-web/fk-cp-zion/img/fa_62673a.png\"/></div><div class=\"_2ZdXDB\"><div class=\"_3xFhiH\"><div class=\"_2Tpdn3 _18hQoS\" style=\"color:#000000;font-size:14px;font-style:normal;font-weight:400\">Upto </div><div class=\"_2Tpdn3 _18hQoS\" style=\"color:#000000;font-size:14px;font-style:normal;font-weight:700\">\\xe2\\x82\\xb915,650</div><div class=\"_2Tpdn3 _18hQoS\" style=\"color:#000000;font-size:14px;font-style:normal;font-weight:400\"> Off on Exchange</div></div></div><div class=\"_2ZdXDB\"><div class=\"_3xFhiH\"><div class=\"_2Tpdn3 _18hQoS\" style=\"color:#26A541;font-size:14px;font-weight:700\">Bank Offer</div></div></div></div></div></a></div></div></div></div><div class=\"_1AtVbE col-12-12\"><div class=\"_13oc-S\"><div data-id=\"MOBGETEKHMT7HMR7\" style=\"width:100%\"><div class=\"_2kHMtA\"><a class=\"_1fQZEK\" target=\"_blank\" rel=\"noopener noreferrer\" href=\"/oppo-k10-5g-midnight-black-128-gb/p/itm28cf887931942?pid=MOBGETEKHMT7HMR7&amp;lid=LSTMOBGETEKHMT7HMR7WHUWBT&amp;marketplace=FLIPKART&amp;q=mobiles&amp;store=tyy%2F4io&amp;srno=s_1_24&amp;otracker=AS_Query_HistoryAutoSuggest_1_2_na_na_na&amp;otracker1=AS_Query_HistoryAutoSuggest_1_2_na_na_na&amp;fm=organic&amp;iid=d0cca885-1040-4f45-b74c-f6b804d9fca0.MOBGETEKHMT7HMR7.SEARCH&amp;ppt=None&amp;ppn=None&amp;ssid=fcl8n3hgyo0000001674966157161&amp;qH=eb4af0bf07c16429\"><div class=\"MIXNux\"><div class=\"_2QcLo-\"><div><div class=\"CXW8mj\" style=\"height:200px;width:200px\"><img loading=\"eager\" class=\"_396cs4\" alt=\"OPPO K10 5G (Midnight Black, 128 GB)\" src=\"https://rukminim1.flixcart.com/image/312/312/l4d2ljk0/mobile/z/i/s/-original-imagf9wt7v5pugmy.jpeg?q=70\"/></div></div></div><div class=\"_3wLduG\"><div class=\"_3PzNI-\"><span class=\"f3A4_V\"><label class=\"_2iDkf8\"><input type=\"checkbox\" class=\"_30VH1S\" readonly=\"\"/><div class=\"_24_Dny\"></div></label></span><label class=\"_6Up2sF\"><span>Add to Compare</span></label></div></div><div class=\"_2hVSre _3nq8ih\"><div class=\"_36FSn5\"><svg xmlns=\"http://www.w3.org/2000/svg\" class=\"_1l0elc\" width=\"16\" height=\"16\" viewBox=\"0 0 20 16\"><path d=\"M8.695 16.682C4.06 12.382 1 9.536 1 6.065 1 3.219 3.178 1 5.95 1c1.566 0 3.069.746 4.05 1.915C10.981 1.745 12.484 1 14.05 1 16.822 1 19 3.22 19 6.065c0 3.471-3.06 6.316-7.695 10.617L10 17.897l-1.305-1.215z\" fill=\"#2874F0\" class=\"eX72wL\" stroke=\"#FFF\" fill-rule=\"evenodd\" opacity=\".9\"></path></svg></div></div></div><div class=\"_3pLy-c row\"><div class=\"col col-7-12\"><div class=\"_4rR01T\">OPPO K10 5G (Midnight Black, 128 GB)</div><div class=\"gUuXy-\"><span id=\"productRating_LSTMOBGETEKHMT7HMR7WHUWBT_MOBGETEKHMT7HMR7_\" class=\"_1lRcqv\"><div class=\"_3LWZlK\">4.4<img src=\"data:image/svg+xml;base64,PHN2ZyB4bWxucz0iaHR0cDovL3d3dy53My5vcmcvMjAwMC9zdmciIHdpZHRoPSIxMyIgaGVpZ2h0PSIxMiI+PHBhdGggZmlsbD0iI0ZGRiIgZD0iTTYuNSA5LjQzOWwtMy42NzQgMi4yMy45NC00LjI2LTMuMjEtMi44ODMgNC4yNTQtLjQwNEw2LjUuMTEybDEuNjkgNC4wMSA0LjI1NC40MDQtMy4yMSAyLjg4Mi45NCA0LjI2eiIvPjwvc3ZnPg==\" class=\"_1wB99o\"/></div></span><span class=\"_2_R_DZ\"><span><span>54,261 Ratings\\xc2\\xa0</span><span class=\"_13vcmD\">&amp;</span><span>\\xc2\\xa04,126 Reviews</span></span></span></div><div class=\"fMghEO\"><ul class=\"_1xgFaf\"><li class=\"rgWa7D\">8 GB RAM | 128 GB ROM | Expandable Upto 1 TB</li><li class=\"rgWa7D\">16.66 cm (6.56 inch) HD+ Display</li><li class=\"rgWa7D\">48MP + 2MP | 8MP Front Camera</li><li class=\"rgWa7D\">5000 mAh Lithium Ion Polymer Battery</li><li class=\"rgWa7D\">Mediatek Dimensity 810 Processor</li><li class=\"rgWa7D\">1 Year Manufacturer Warranty for Phone and 6 Months Warranty for In-Box Accessories</li></ul></div></div><div class=\"col col-5-12 nlI3QM\"><div class=\"_3tbKJL\"><div class=\"_25b18c\"><div class=\"_30jeq3 _1_WHN1\">\\xe2\\x82\\xb916,999</div><div class=\"_3I9_wc _27UcVY\">\\xe2\\x82\\xb9<!-- -->25,999</div><div class=\"_3Ay6Sb\"><span>34% off</span></div></div><div class=\"_3tcB5a p8ucoS\"><div><div class=\"_2Tpdn3\" style=\"color:#000000;font-size:12px;font-weight:400\">Free delivery</div></div></div></div><div class=\"_13J9qT\"><img height=\"21\" src=\"//static-assets-web.flixcart.com/fk-p-linchpin-web/fk-cp-zion/img/fa_62673a.png\"/></div><div class=\"_2ZdXDB\"><div class=\"_3xFhiH\"><div class=\"_2Tpdn3 _18hQoS\" style=\"color:#000000;font-size:14px;font-style:normal;font-weight:400\">Upto </div><div class=\"_2Tpdn3 _18hQoS\" style=\"color:#000000;font-size:14px;font-style:normal;font-weight:700\">\\xe2\\x82\\xb915,650</div><div class=\"_2Tpdn3 _18hQoS\" style=\"color:#000000;font-size:14px;font-style:normal;font-weight:400\"> Off on Exchange</div></div></div><div class=\"_2ZdXDB\"><div class=\"_3xFhiH\"><div class=\"_2Tpdn3 _18hQoS\" style=\"color:#26A541;font-size:14px;font-weight:700\">Bank Offer</div></div></div></div></div></a></div></div></div></div><div class=\"_1AtVbE col-12-12\"><div><div class=\"_2MImiq\"><span>Page 1 of 332</span><nav class=\"yFHi8N\"><a class=\"ge-49M _2Kfbh8\" href=\"/search?q=mobiles&amp;as=on&amp;as-show=on&amp;otracker=AS_Query_HistoryAutoSuggest_1_2_na_na_na&amp;otracker1=AS_Query_HistoryAutoSuggest_1_2_na_na_na&amp;as-pos=1&amp;as-type=HISTORY&amp;suggestionId=mobiles&amp;requestId=d5cc3575-88f3-43c0-a455-3bceb1644301&amp;as-searchtext=mo&amp;page=1\">1</a><a class=\"ge-49M\" href=\"/search?q=mobiles&amp;as=on&amp;as-show=on&amp;otracker=AS_Query_HistoryAutoSuggest_1_2_na_na_na&amp;otracker1=AS_Query_HistoryAutoSuggest_1_2_na_na_na&amp;as-pos=1&amp;as-type=HISTORY&amp;suggestionId=mobiles&amp;requestId=d5cc3575-88f3-43c0-a455-3bceb1644301&amp;as-searchtext=mo&amp;page=2\">2</a><a class=\"ge-49M\" href=\"/search?q=mobiles&amp;as=on&amp;as-show=on&amp;otracker=AS_Query_HistoryAutoSuggest_1_2_na_na_na&amp;otracker1=AS_Query_HistoryAutoSuggest_1_2_na_na_na&amp;as-pos=1&amp;as-type=HISTORY&amp;suggestionId=mobiles&amp;requestId=d5cc3575-88f3-43c0-a455-3bceb1644301&amp;as-searchtext=mo&amp;page=3\">3</a><a class=\"ge-49M\" href=\"/search?q=mobiles&amp;as=on&amp;as-show=on&amp;otracker=AS_Query_HistoryAutoSuggest_1_2_na_na_na&amp;otracker1=AS_Query_HistoryAutoSuggest_1_2_na_na_na&amp;as-pos=1&amp;as-type=HISTORY&amp;suggestionId=mobiles&amp;requestId=d5cc3575-88f3-43c0-a455-3bceb1644301&amp;as-searchtext=mo&amp;page=4\">4</a><a class=\"ge-49M\" href=\"/search?q=mobiles&amp;as=on&amp;as-show=on&amp;otracker=AS_Query_HistoryAutoSuggest_1_2_na_na_na&amp;otracker1=AS_Query_HistoryAutoSuggest_1_2_na_na_na&amp;as-pos=1&amp;as-type=HISTORY&amp;suggestionId=mobiles&amp;requestId=d5cc3575-88f3-43c0-a455-3bceb1644301&amp;as-searchtext=mo&amp;page=5\">5</a><a class=\"ge-49M\" href=\"/search?q=mobiles&amp;as=on&amp;as-show=on&amp;otracker=AS_Query_HistoryAutoSuggest_1_2_na_na_na&amp;otracker1=AS_Query_HistoryAutoSuggest_1_2_na_na_na&amp;as-pos=1&amp;as-type=HISTORY&amp;suggestionId=mobiles&amp;requestId=d5cc3575-88f3-43c0-a455-3bceb1644301&amp;as-searchtext=mo&amp;page=6\">6</a><a class=\"ge-49M\" href=\"/search?q=mobiles&amp;as=on&amp;as-show=on&amp;otracker=AS_Query_HistoryAutoSuggest_1_2_na_na_na&amp;otracker1=AS_Query_HistoryAutoSuggest_1_2_na_na_na&amp;as-pos=1&amp;as-type=HISTORY&amp;suggestionId=mobiles&amp;requestId=d5cc3575-88f3-43c0-a455-3bceb1644301&amp;as-searchtext=mo&amp;page=7\">7</a><a class=\"ge-49M\" href=\"/search?q=mobiles&amp;as=on&amp;as-show=on&amp;otracker=AS_Query_HistoryAutoSuggest_1_2_na_na_na&amp;otracker1=AS_Query_HistoryAutoSuggest_1_2_na_na_na&amp;as-pos=1&amp;as-type=HISTORY&amp;suggestionId=mobiles&amp;requestId=d5cc3575-88f3-43c0-a455-3bceb1644301&amp;as-searchtext=mo&amp;page=8\">8</a><a class=\"ge-49M\" href=\"/search?q=mobiles&amp;as=on&amp;as-show=on&amp;otracker=AS_Query_HistoryAutoSuggest_1_2_na_na_na&amp;otracker1=AS_Query_HistoryAutoSuggest_1_2_na_na_na&amp;as-pos=1&amp;as-type=HISTORY&amp;suggestionId=mobiles&amp;requestId=d5cc3575-88f3-43c0-a455-3bceb1644301&amp;as-searchtext=mo&amp;page=9\">9</a><a class=\"ge-49M\" href=\"/search?q=mobiles&amp;as=on&amp;as-show=on&amp;otracker=AS_Query_HistoryAutoSuggest_1_2_na_na_na&amp;otracker1=AS_Query_HistoryAutoSuggest_1_2_na_na_na&amp;as-pos=1&amp;as-type=HISTORY&amp;suggestionId=mobiles&amp;requestId=d5cc3575-88f3-43c0-a455-3bceb1644301&amp;as-searchtext=mo&amp;page=10\">10</a><a class=\"_1LKTO3\" href=\"/search?q=mobiles&amp;as=on&amp;as-show=on&amp;otracker=AS_Query_HistoryAutoSuggest_1_2_na_na_na&amp;otracker1=AS_Query_HistoryAutoSuggest_1_2_na_na_na&amp;as-pos=1&amp;as-type=HISTORY&amp;suggestionId=mobiles&amp;requestId=d5cc3575-88f3-43c0-a455-3bceb1644301&amp;as-searchtext=mo&amp;page=2\"><span>Next</span></a></nav><span class=\"_22Tduf\"></span></div></div></div><div class=\"_1AtVbE col-12-12\" style=\"margin:10px 0px 0px 0px\"><div class=\"_1anD2T\"><span class=\"PTpXCl\">Did you find what you were looking for?</span><div class=\"_1ye8x2 _1xLf4B\"><span class=\"_2eFmU2 _3ZMjMT\">Yes</span><span class=\"_2eFmU2 _3ZMjMT\">No</span></div></div></div></div></div><div class=\"_1AtVbE col-12-12\" style=\"padding:16px 0px 0px 0px\"><div class=\"_3E8aIl X3IECw row\"><div class=\"_88-NUv\">Reviews for Popular Mobiles</div><div class=\"_2nRPpA\"><div class=\"_1Ni40J\"><div class=\"_3hVUcF\"><div class=\"CXW8mj\" style=\"height:150px;width:150px\"><img loading=\"lazy\" class=\"_396cs4\" alt=\"APPLE iPhone 14 (Blue, 128 GB)\" src=\"https://rukminim1.flixcart.com/image/300/300/xif0q/mobile/3/5/l/-original-imaghx9qmgqsk9s4.jpeg?q=90\"/></div></div><div class=\"_1kLt05\"><a target=\"_blank\" rel=\"noopener noreferrer\" href=\"/apple-iphone-14-blue-128-gb/p/itmdb77f40da6b6d?pid=MOBGHWFHSV7GUFWA&amp;marketplace=FLIPKART\"><div class=\"_1W9f5C\"><div>1. APPLE iPhone 14 (Blue, 128 ...</div></div><div class=\"_3VDxyD\"><div class=\"_3LWZlK\">4.7<img src=\"data:image/svg+xml;base64,PHN2ZyB4bWxucz0iaHR0cDovL3d3dy53My5vcmcvMjAwMC9zdmciIHdpZHRoPSIxMyIgaGVpZ2h0PSIxMiI+PHBhdGggZmlsbD0iI0ZGRiIgZD0iTTYuNSA5LjQzOWwtMy42NzQgMi4yMy45NC00LjI2LTMuMjEtMi44ODMgNC4yNTQtLjQwNEw2LjUuMTEybDEuNjkgNC4wMSA0LjI1NC40MDQtMy4yMSAyLjg4Mi45NCA0LjI2eiIvPjwvc3ZnPg==\" class=\"_1wB99o\"/></div><span class=\"_34hpFu\"><span>7,810 Ratings</span><span><span class=\"_2oY1qB\">&amp;</span><span>330 Reviews</span></span></span></div><div class=\"_2wYYVP\"><div class=\"_25b18c\"><div class=\"_30jeq3 UMT9wN\">\\xe2\\x82\\xb966,999</div><div class=\"_3Ay6Sb _2FuKQX\"><span>16% off</span></div></div></div></a><ul class=\"_1Sq2Fs\"><li class=\"_2OosNL\">128 GB ROM</li><li class=\"_2OosNL\">15.49 cm (6.1 inch) Super Retina XDR Display</li><li class=\"_2OosNL\">12MP + 12MP | 12MP Front Camera</li></ul></div></div><div class=\"_2tzWk4\"><div class=\"_1A_Aux\">Most Helpful Review</div><div class=\"col\"><div class=\"col _2wzgFH _2cVXgz\"><div class=\"row\"><div class=\"_3LWZlK _1BLPMq\">5<img src=\"data:image/svg+xml;base64,PHN2ZyB4bWxucz0iaHR0cDovL3d3dy53My5vcmcvMjAwMC9zdmciIHdpZHRoPSIxMyIgaGVpZ2h0PSIxMiI+PHBhdGggZmlsbD0iI0ZGRiIgZD0iTTYuNSA5LjQzOWwtMy42NzQgMi4yMy45NC00LjI2LTMuMjEtMi44ODMgNC4yNTQtLjQwNEw2LjUuMTEybDEuNjkgNC4wMSA0LjI1NC40MDQtMy4yMSAyLjg4Mi45NCA0LjI2eiIvPjwvc3ZnPg==\" class=\"_1wB99o\"/></div><p class=\"_2-N8zT\">Fabulous!</p></div><div class=\"row\"><div class=\"t-ZTKy\"><div><div class=\"\">Best smart phone under this price range compare to other phones in 2023 if you see overall build quality, performance and Camera with autofocus and video act...</div><span class=\"_1BWGvX\"><span>Read full review</span></span></div></div></div><div class=\"row _3n8db9\"><div class=\"row\"><p class=\"_2sc7ZR _2V5EHH\">Rahul Prasad </p><svg width=\"14\" height=\"14\" viewBox=\"0 0 12 12\" xmlns=\"http://www.w3.org/2000/svg\" class=\"_2a1p_T\"><g><circle cx=\"6\" cy=\"6\" r=\"6\" fill=\"#878787\"></circle><path stroke=\"#FFF\" stroke-width=\"1.5\" d=\"M3 6l2 2 4-4\" fill=\"#878787\"></path></g></svg><p id=\"review-ad76379e-f205-4246-856e-3917f89751d5\" class=\"_2mcZGG\"><span>Certified Buyer</span></p><p class=\"_2sc7ZR\">10 days ago</p></div></div></div></div></div><div class=\"_2tzWk4\"><div class=\"_1A_Aux\">Recent Review</div><div class=\"col\"><div class=\"col _2wzgFH _2cVXgz\"><div class=\"row\"><div class=\"_3LWZlK _1BLPMq\">5<img src=\"data:image/svg+xml;base64,PHN2ZyB4bWxucz0iaHR0cDovL3d3dy53My5vcmcvMjAwMC9zdmciIHdpZHRoPSIxMyIgaGVpZ2h0PSIxMiI+PHBhdGggZmlsbD0iI0ZGRiIgZD0iTTYuNSA5LjQzOWwtMy42NzQgMi4yMy45NC00LjI2LTMuMjEtMi44ODMgNC4yNTQtLjQwNEw2LjUuMTEybDEuNjkgNC4wMSA0LjI1NC40MDQtMy4yMSAyLjg4Mi45NCA0LjI2eiIvPjwvc3ZnPg==\" class=\"_1wB99o\"/></div><p class=\"_2-N8zT\">Super!</p></div><div class=\"row\"><div class=\"t-ZTKy\"><div><div class=\"\">I ordered this in republic sale in 65k. I wasnt sure that i will get new product in good condition but there is this feature of flipkart where we can check b...</div><span class=\"_1BWGvX\"><span>Read full review</span></span></div></div></div><div class=\"row _3n8db9\"><div class=\"row\"><p class=\"_2sc7ZR _2V5EHH\">priyanka sangwai</p><svg width=\"14\" height=\"14\" viewBox=\"0 0 12 12\" xmlns=\"http://www.w3.org/2000/svg\" class=\"_2a1p_T\"><g><circle cx=\"6\" cy=\"6\" r=\"6\" fill=\"#878787\"></circle><path stroke=\"#FFF\" stroke-width=\"1.5\" d=\"M3 6l2 2 4-4\" fill=\"#878787\"></path></g></svg><p id=\"review-dfebd8d6-948c-4ed3-a4fd-e247268e0f00\" class=\"_2mcZGG\"><span>Certified Buyer</span></p><p class=\"_2sc7ZR\">Today</p></div></div></div></div></div></div><div class=\"_2nRPpA\"><div class=\"_1Ni40J\"><div class=\"_3hVUcF\"><div class=\"CXW8mj\" style=\"height:150px;width:150px\"><img loading=\"lazy\" class=\"_396cs4\" alt=\"MOTOROLA G62 5G (Midnight Gray, 128 GB)\" src=\"https://rukminim1.flixcart.com/image/300/300/xif0q/mobile/h/r/b/-original-imagh29eqd3zrvaf.jpeg?q=90\"/></div></div><div class=\"_1kLt05\"><a target=\"_blank\" rel=\"noopener noreferrer\" href=\"/motorola-g62-5g-midnight-gray-128-gb/p/itm37da299ffb2d0?pid=MOBGEDT5ZZMZQZSJ&amp;marketplace=FLIPKART\"><div class=\"_1W9f5C\"><div>2. MOTOROLA G62 5G (Midnight G...</div></div><div class=\"_3VDxyD\"><div class=\"_3LWZlK\">4.1<img src=\"data:image/svg+xml;base64,PHN2ZyB4bWxucz0iaHR0cDovL3d3dy53My5vcmcvMjAwMC9zdmciIHdpZHRoPSIxMyIgaGVpZ2h0PSIxMiI+PHBhdGggZmlsbD0iI0ZGRiIgZD0iTTYuNSA5LjQzOWwtMy42NzQgMi4yMy45NC00LjI2LTMuMjEtMi44ODMgNC4yNTQtLjQwNEw2LjUuMTEybDEuNjkgNC4wMSA0LjI1NC40MDQtMy4yMSAyLjg4Mi45NCA0LjI2eiIvPjwvc3ZnPg==\" class=\"_1wB99o\"/></div><span class=\"_34hpFu\"><span>12,345 Ratings</span><span><span class=\"_2oY1qB\">&amp;</span><span>1,289 Reviews</span></span></span></div><div class=\"_2wYYVP\"><div class=\"_25b18c\"><div class=\"_30jeq3 UMT9wN\">\\xe2\\x82\\xb914,999</div><div class=\"_3Ay6Sb _2FuKQX\"><span>31% off</span></div></div></div></a><ul class=\"_1Sq2Fs\"><li class=\"_2OosNL\">6 GB RAM | 128 GB ROM</li><li class=\"_2OosNL\">16.64 cm (6.55 inch) Full HD+ Display</li><li class=\"_2OosNL\">50MP + 8MP + 2MP | 16MP Front Camera</li></ul></div></div><div class=\"_2tzWk4\"><div class=\"_1A_Aux\">Most Helpful Review</div><div class=\"col\"><div class=\"col _2wzgFH _2cVXgz\"><div class=\"row\"><div class=\"_3LWZlK _1BLPMq\">5<img src=\"data:image/svg+xml;base64,PHN2ZyB4bWxucz0iaHR0cDovL3d3dy53My5vcmcvMjAwMC9zdmciIHdpZHRoPSIxMyIgaGVpZ2h0PSIxMiI+PHBhdGggZmlsbD0iI0ZGRiIgZD0iTTYuNSA5LjQzOWwtMy42NzQgMi4yMy45NC00LjI2LTMuMjEtMi44ODMgNC4yNTQtLjQwNEw2LjUuMTEybDEuNjkgNC4wMSA0LjI1NC40MDQtMy4yMSAyLjg4Mi45NCA0LjI2eiIvPjwvc3ZnPg==\" class=\"_1wB99o\"/></div><p class=\"_2-N8zT\">Great product</p></div><div class=\"row\"><div class=\"t-ZTKy\"><div><div class=\"\">I love moto \\xf0\\x9f\\x98\\x8d<br/>1 performance good 5/5\\xf0\\x9f\\x91\\x8d\\xf0\\x9f\\x8f\\xbb<br/>2 battery good 5/5\\xf0\\x9f\\x91\\x8d\\xf0\\x9f\\x8f\\xbb<br/>3 stock UI good 5/5\\xf0\\x9f\\x91\\x8d\\xf0\\x9f\\x8f\\xbb<br/>4 sound good 5/5\\xf0\\x9f\\x91\\x8d\\xf0\\x9f\\x8f\\xbb<br/>5 Stock camera bad 1/5\\xf0\\x9f\\x98\\x91 (please use GCam app f...</div><span class=\"_1BWGvX\"><span>Read full review</span></span></div></div></div><div class=\"row _3n8db9\"><div class=\"row\"><p class=\"_2sc7ZR _2V5EHH\">Nandkishore Prajapati</p><svg width=\"14\" height=\"14\" viewBox=\"0 0 12 12\" xmlns=\"http://www.w3.org/2000/svg\" class=\"_2a1p_T\"><g><circle cx=\"6\" cy=\"6\" r=\"6\" fill=\"#878787\"></circle><path stroke=\"#FFF\" stroke-width=\"1.5\" d=\"M3 6l2 2 4-4\" fill=\"#878787\"></path></g></svg><p id=\"review-decddb83-b43c-46a3-9a47-9f4ad5b4d512\" class=\"_2mcZGG\"><span>Certified Buyer</span></p><p class=\"_2sc7ZR\">2 months ago</p></div></div></div></div></div><div class=\"_2tzWk4\"><div class=\"_1A_Aux\">Recent Review</div><div class=\"col\"><div class=\"col _2wzgFH _2cVXgz\"><div class=\"row\"><div class=\"_3LWZlK _1rdVr6 _1BLPMq\">1<img src=\"data:image/svg+xml;base64,PHN2ZyB4bWxucz0iaHR0cDovL3d3dy53My5vcmcvMjAwMC9zdmciIHdpZHRoPSIxMyIgaGVpZ2h0PSIxMiI+PHBhdGggZmlsbD0iI0ZGRiIgZD0iTTYuNSA5LjQzOWwtMy42NzQgMi4yMy45NC00LjI2LTMuMjEtMi44ODMgNC4yNTQtLjQwNEw2LjUuMTEybDEuNjkgNC4wMSA0LjI1NC40MDQtMy4yMSAyLjg4Mi45NCA0LjI2eiIvPjwvc3ZnPg==\" class=\"_1wB99o\"/></div><p class=\"_2-N8zT\">Unsatisfactory</p></div><div class=\"row\"><div class=\"t-ZTKy\"><div><div class=\"\">Very bad product I got. Microphone is not working it is not a trustfull product.</div><span class=\"_1H-bmy\"><span>Read full review</span></span></div></div></div><div class=\"row _3n8db9\"><div class=\"row\"><p class=\"_2sc7ZR _2V5EHH\">Akash yadav</p><svg width=\"14\" height=\"14\" viewBox=\"0 0 12 12\" xmlns=\"http://www.w3.org/2000/svg\" class=\"_2a1p_T\"><g><circle cx=\"6\" cy=\"6\" r=\"6\" fill=\"#878787\"></circle><path stroke=\"#FFF\" stroke-width=\"1.5\" d=\"M3 6l2 2 4-4\" fill=\"#878787\"></path></g></svg><p id=\"review-15ab9c3f-8c70-4caa-9ab3-38ee5c4eb091\" class=\"_2mcZGG\"><span>Certified Buyer</span></p><p class=\"_2sc7ZR\">Today</p></div></div></div></div></div></div><div class=\"_2nRPpA\"><div class=\"_1Ni40J\"><div class=\"_3hVUcF\"><div class=\"CXW8mj\" style=\"height:150px;width:150px\"><img loading=\"lazy\" class=\"_396cs4\" alt=\"REDMI 10 (Caribbean Green, 64 GB)\" src=\"https://rukminim1.flixcart.com/image/300/300/xif0q/mobile/g/p/x/-original-imagk4nz54s7a7rf.jpeg?q=90\"/></div></div><div class=\"_1kLt05\"><a target=\"_blank\" rel=\"noopener noreferrer\" href=\"/redmi-10-caribbean-green-64-gb/p/itmbfb8dfcdd6e10?pid=MOBGC9GYQGGKWEU3&amp;marketplace=FLIPKART\"><div class=\"_1W9f5C\"><div>3. REDMI 10 (Caribbean Green, ...</div></div><div class=\"_3VDxyD\"><div class=\"_3LWZlK\">4.3<img src=\"data:image/svg+xml;base64,PHN2ZyB4bWxucz0iaHR0cDovL3d3dy53My5vcmcvMjAwMC9zdmciIHdpZHRoPSIxMyIgaGVpZ2h0PSIxMiI+PHBhdGggZmlsbD0iI0ZGRiIgZD0iTTYuNSA5LjQzOWwtMy42NzQgMi4yMy45NC00LjI2LTMuMjEtMi44ODMgNC4yNTQtLjQwNEw2LjUuMTEybDEuNjkgNC4wMSA0LjI1NC40MDQtMy4yMSAyLjg4Mi45NCA0LjI2eiIvPjwvc3ZnPg==\" class=\"_1wB99o\"/></div><span class=\"_34hpFu\"><span>1,75,722 Ratings</span><span><span class=\"_2oY1qB\">&amp;</span><span>11,500 Reviews</span></span></span></div><div class=\"_2wYYVP\"><div class=\"_25b18c\"><div class=\"_30jeq3 UMT9wN\">\\xe2\\x82\\xb99,999</div><div class=\"_3Ay6Sb _2FuKQX\"><span>33% off</span></div></div></div></a><ul class=\"_1Sq2Fs\"><li class=\"_2OosNL\">4 GB RAM | 64 GB ROM | Expandable Upto 1 TB</li><li class=\"_2OosNL\">17.02 cm (6.7 inch) HD+ Display</li><li class=\"_2OosNL\">50MP + 2MP | 5MP Front Camera</li></ul></div></div><div class=\"_2tzWk4\"><div class=\"_1A_Aux\">Most Helpful Review</div><div class=\"col\"><div class=\"col _2wzgFH _2cVXgz\"><div class=\"row\"><div class=\"_3LWZlK _1BLPMq\">5<img src=\"data:image/svg+xml;base64,PHN2ZyB4bWxucz0iaHR0cDovL3d3dy53My5vcmcvMjAwMC9zdmciIHdpZHRoPSIxMyIgaGVpZ2h0PSIxMiI+PHBhdGggZmlsbD0iI0ZGRiIgZD0iTTYuNSA5LjQzOWwtMy42NzQgMi4yMy45NC00LjI2LTMuMjEtMi44ODMgNC4yNTQtLjQwNEw2LjUuMTEybDEuNjkgNC4wMSA0LjI1NC40MDQtMy4yMSAyLjg4Mi45NCA0LjI2eiIvPjwvc3ZnPg==\" class=\"_1wB99o\"/></div><p class=\"_2-N8zT\">Fabulous!</p></div><div class=\"row\"><div class=\"t-ZTKy\"><div><div class=\"\">Good phone in this price range, battery backup good, camera ok ok, and performance very very good \\xf0\\x9f\\x94\\xa5 I am mi love <br/><br/>And very fast delivery Flipkart, thanks</div><span class=\"_1H-bmy\"><span>Read full review</span></span></div></div></div><div class=\"row _3n8db9\"><div class=\"row\"><p class=\"_2sc7ZR _2V5EHH\">Rupam Dhara</p><svg width=\"14\" height=\"14\" viewBox=\"0 0 12 12\" xmlns=\"http://www.w3.org/2000/svg\" class=\"_2a1p_T\"><g><circle cx=\"6\" cy=\"6\" r=\"6\" fill=\"#878787\"></circle><path stroke=\"#FFF\" stroke-width=\"1.5\" d=\"M3 6l2 2 4-4\" fill=\"#878787\"></path></g></svg><p id=\"review-e2efe6ad-ff76-4607-ab5d-f97f606dfd9a\" class=\"_2mcZGG\"><span>Certified Buyer</span></p><p class=\"_2sc7ZR\">3 months ago</p></div></div></div></div></div><div class=\"_2tzWk4\"><div class=\"_1A_Aux\">Recent Review</div><div class=\"col\"><div class=\"col _2wzgFH _2cVXgz\"><div class=\"row\"><div class=\"_3LWZlK _1BLPMq\">4<img src=\"data:image/svg+xml;base64,PHN2ZyB4bWxucz0iaHR0cDovL3d3dy53My5vcmcvMjAwMC9zdmciIHdpZHRoPSIxMyIgaGVpZ2h0PSIxMiI+PHBhdGggZmlsbD0iI0ZGRiIgZD0iTTYuNSA5LjQzOWwtMy42NzQgMi4yMy45NC00LjI2LTMuMjEtMi44ODMgNC4yNTQtLjQwNEw2LjUuMTEybDEuNjkgNC4wMSA0LjI1NC40MDQtMy4yMSAyLjg4Mi45NCA0LjI2eiIvPjwvc3ZnPg==\" class=\"_1wB99o\"/></div><p class=\"_2-N8zT\">Good choice</p></div><div class=\"row\"><div class=\"t-ZTKy\"><div><div class=\"\">Value for money. Nice phone</div><span class=\"_1H-bmy\"><span>Read full review</span></span></div></div></div><div class=\"row _3n8db9\"><div class=\"row\"><p class=\"_2sc7ZR _2V5EHH\">Dinesh Kumar Sakthivel</p><svg width=\"14\" height=\"14\" viewBox=\"0 0 12 12\" xmlns=\"http://www.w3.org/2000/svg\" class=\"_2a1p_T\"><g><circle cx=\"6\" cy=\"6\" r=\"6\" fill=\"#878787\"></circle><path stroke=\"#FFF\" stroke-width=\"1.5\" d=\"M3 6l2 2 4-4\" fill=\"#878787\"></path></g></svg><p id=\"review-1c3fec4b-4704-47b0-ad29-7da9893387da\" class=\"_2mcZGG\"><span>Certified Buyer</span></p><p class=\"_2sc7ZR\">1 day ago</p></div></div></div></div></div></div><div class=\"_2nRPpA\"><div class=\"_1Ni40J\"><div class=\"_3hVUcF\"><div class=\"CXW8mj\" style=\"height:150px;width:150px\"><img loading=\"lazy\" class=\"_396cs4\" alt=\"MOTOROLA G32 (Mineral Gray, 64 GB)\" src=\"https://rukminim1.flixcart.com/image/300/300/xif0q/mobile/l/l/z/-original-imaggvfzzt7qhhax.jpeg?q=90\"/></div></div><div class=\"_1kLt05\"><a target=\"_blank\" rel=\"noopener noreferrer\" href=\"/motorola-g32-mineral-gray-64-gb/p/itmdcfa4c4022714?pid=MOBGEA3CZ8Z7HWCY&amp;marketplace=FLIPKART\"><div class=\"_1W9f5C\"><div>4. MOTOROLA G32 (Mineral Gray,...</div></div><div class=\"_3VDxyD\"><div class=\"_3LWZlK\">4.2<img src=\"data:image/svg+xml;base64,PHN2ZyB4bWxucz0iaHR0cDovL3d3dy53My5vcmcvMjAwMC9zdmciIHdpZHRoPSIxMyIgaGVpZ2h0PSIxMiI+PHBhdGggZmlsbD0iI0ZGRiIgZD0iTTYuNSA5LjQzOWwtMy42NzQgMi4yMy45NC00LjI2LTMuMjEtMi44ODMgNC4yNTQtLjQwNEw2LjUuMTEybDEuNjkgNC4wMSA0LjI1NC40MDQtMy4yMSAyLjg4Mi45NCA0LjI2eiIvPjwvc3ZnPg==\" class=\"_1wB99o\"/></div><span class=\"_34hpFu\"><span>22,057 Ratings</span><span><span class=\"_2oY1qB\">&amp;</span><span>2,179 Reviews</span></span></span></div><div class=\"_2wYYVP\"><div class=\"_25b18c\"><div class=\"_30jeq3 UMT9wN\">\\xe2\\x82\\xb910,499</div><div class=\"_3Ay6Sb _2FuKQX\"><span>38% off</span></div></div></div></a><ul class=\"_1Sq2Fs\"><li class=\"_2OosNL\">4 GB RAM | 64 GB ROM</li><li class=\"_2OosNL\">16.64 cm (6.55 inch) Full HD+ Display</li><li class=\"_2OosNL\">50MP + 8MP + 2MP | 16MP Front Camera</li></ul></div></div><div class=\"_2tzWk4\"><div class=\"_1A_Aux\">Most Helpful Review</div><div class=\"col\"><div class=\"col _2wzgFH _2cVXgz\"><div class=\"row\"><div class=\"_3LWZlK _1BLPMq\">4<img src=\"data:image/svg+xml;base64,PHN2ZyB4bWxucz0iaHR0cDovL3d3dy53My5vcmcvMjAwMC9zdmciIHdpZHRoPSIxMyIgaGVpZ2h0PSIxMiI+PHBhdGggZmlsbD0iI0ZGRiIgZD0iTTYuNSA5LjQzOWwtMy42NzQgMi4yMy45NC00LjI2LTMuMjEtMi44ODMgNC4yNTQtLjQwNEw2LjUuMTEybDEuNjkgNC4wMSA0LjI1NC40MDQtMy4yMSAyLjg4Mi45NCA0LjI2eiIvPjwvc3ZnPg==\" class=\"_1wB99o\"/></div><p class=\"_2-N8zT\">Good quality product</p></div><div class=\"row\"><div class=\"t-ZTKy\"><div><div class=\"\">Phone is best for regular users<br/>Camera performance is low in nighttime but in day light it is good.<br/>Battery is wonderful and display is nice</div><span class=\"_1H-bmy\"><span>Read full review</span></span></div></div></div><div class=\"row _3n8db9\"><div class=\"row\"><p class=\"_2sc7ZR _2V5EHH\">Purushottam Tirumareddi</p><svg width=\"14\" height=\"14\" viewBox=\"0 0 12 12\" xmlns=\"http://www.w3.org/2000/svg\" class=\"_2a1p_T\"><g><circle cx=\"6\" cy=\"6\" r=\"6\" fill=\"#878787\"></circle><path stroke=\"#FFF\" stroke-width=\"1.5\" d=\"M3 6l2 2 4-4\" fill=\"#878787\"></path></g></svg><p id=\"review-5f1d44ad-d95f-4ec0-9f07-ff704a097e69\" class=\"_2mcZGG\"><span>Certified Buyer</span></p><p class=\"_2sc7ZR\">5 months ago</p></div></div></div></div></div><div class=\"_2tzWk4\"><div class=\"_1A_Aux\">Recent Review</div><div class=\"col\"><div class=\"col _2wzgFH _2cVXgz\"><div class=\"row\"><div class=\"_3LWZlK _1BLPMq\">5<img src=\"data:image/svg+xml;base64,PHN2ZyB4bWxucz0iaHR0cDovL3d3dy53My5vcmcvMjAwMC9zdmciIHdpZHRoPSIxMyIgaGVpZ2h0PSIxMiI+PHBhdGggZmlsbD0iI0ZGRiIgZD0iTTYuNSA5LjQzOWwtMy42NzQgMi4yMy45NC00LjI2LTMuMjEtMi44ODMgNC4yNTQtLjQwNEw2LjUuMTEybDEuNjkgNC4wMSA0LjI1NC40MDQtMy4yMSAyLjg4Mi45NCA0LjI2eiIvPjwvc3ZnPg==\" class=\"_1wB99o\"/></div><p class=\"_2-N8zT\">Awesome</p></div><div class=\"row\"><div class=\"t-ZTKy\"><div><div class=\"\">It is very nice and beautiful to use , really appreciated.</div><span class=\"_1H-bmy\"><span>Read full review</span></span></div></div></div><div class=\"row _3n8db9\"><div class=\"row\"><p class=\"_2sc7ZR _2V5EHH\">Flipkart Customer</p><svg width=\"14\" height=\"14\" viewBox=\"0 0 12 12\" xmlns=\"http://www.w3.org/2000/svg\" class=\"_2a1p_T\"><g><circle cx=\"6\" cy=\"6\" r=\"6\" fill=\"#878787\"></circle><path stroke=\"#FFF\" stroke-width=\"1.5\" d=\"M3 6l2 2 4-4\" fill=\"#878787\"></path></g></svg><p id=\"review-b5ba2e2e-6b17-4db3-9227-75ffb919ca47\" class=\"_2mcZGG\"><span>Certified Buyer</span></p><p class=\"_2sc7ZR\">1 day ago</p></div></div></div></div></div></div><div class=\"_2nRPpA\"><div class=\"_1Ni40J\"><div class=\"_3hVUcF\"><div class=\"CXW8mj\" style=\"height:150px;width:150px\"><img loading=\"lazy\" class=\"_396cs4\" alt=\"POCO C31 (Shadow Gray, 64 GB)\" src=\"https://rukminim1.flixcart.com/image/300/300/ku4ezrk0/mobile/b/o/m/c31-mzb0a0min-poco-original-imag7bzqxekkpkrv.jpeg?q=90\"/></div></div><div class=\"_1kLt05\"><a target=\"_blank\" rel=\"noopener noreferrer\" href=\"/poco-c31-shadow-gray-64-gb/p/itm162375acb8370?pid=MOBG73E7UBFXXMCH&amp;marketplace=FLIPKART\"><div class=\"_1W9f5C\"><div>5. POCO C31 (Shadow Gray, 64 G...</div></div><div class=\"_3VDxyD\"><div class=\"_3LWZlK\">4.3<img src=\"data:image/svg+xml;base64,PHN2ZyB4bWxucz0iaHR0cDovL3d3dy53My5vcmcvMjAwMC9zdmciIHdpZHRoPSIxMyIgaGVpZ2h0PSIxMiI+PHBhdGggZmlsbD0iI0ZGRiIgZD0iTTYuNSA5LjQzOWwtMy42NzQgMi4yMy45NC00LjI2LTMuMjEtMi44ODMgNC4yNTQtLjQwNEw2LjUuMTEybDEuNjkgNC4wMSA0LjI1NC40MDQtMy4yMSAyLjg4Mi45NCA0LjI2eiIvPjwvc3ZnPg==\" class=\"_1wB99o\"/></div><span class=\"_34hpFu\"><span>1,90,631 Ratings</span><span><span class=\"_2oY1qB\">&amp;</span><span>11,392 Reviews</span></span></span></div><div class=\"_2wYYVP\"><div class=\"_25b18c\"><div class=\"_30jeq3 UMT9wN\">\\xe2\\x82\\xb97,749</div><div class=\"_3Ay6Sb _2FuKQX\"><span>35% off</span></div></div></div></a><ul class=\"_1Sq2Fs\"><li class=\"_2OosNL\">4 GB RAM | 64 GB ROM | Expandable Upto 512 GB</li><li class=\"_2OosNL\">16.59 cm (6.53 inch) HD+ Display</li><li class=\"_2OosNL\">13MP + 2MP + 2MP | 5MP Front Camera</li></ul></div></div><div class=\"_2tzWk4\"><div class=\"_1A_Aux\">Most Helpful Review</div><div class=\"col\"><div class=\"col _2wzgFH _2cVXgz\"><div class=\"row\"><div class=\"_3LWZlK _1BLPMq\">4<img src=\"data:image/svg+xml;base64,PHN2ZyB4bWxucz0iaHR0cDovL3d3dy53My5vcmcvMjAwMC9zdmciIHdpZHRoPSIxMyIgaGVpZ2h0PSIxMiI+PHBhdGggZmlsbD0iI0ZGRiIgZD0iTTYuNSA5LjQzOWwtMy42NzQgMi4yMy45NC00LjI2LTMuMjEtMi44ODMgNC4yNTQtLjQwNEw2LjUuMTEybDEuNjkgNC4wMSA0LjI1NC40MDQtMy4yMSAyLjg4Mi45NCA0LjI2eiIvPjwvc3ZnPg==\" class=\"_1wB99o\"/></div><p class=\"_2-N8zT\">Good choice</p></div><div class=\"row\"><div class=\"t-ZTKy\"><div><div class=\"\">This is best budget phone.... Poco C31, and order this product because I have Poco M2 Reloaded, i was gift this phone to my sister on her birthday, she loved...</div><span class=\"_1BWGvX\"><span>Read full review</span></span></div></div></div><div class=\"row _3n8db9\"><div class=\"row\"><p class=\"_2sc7ZR _2V5EHH\">Kavi Lama</p><svg width=\"14\" height=\"14\" viewBox=\"0 0 12 12\" xmlns=\"http://www.w3.org/2000/svg\" class=\"_2a1p_T\"><g><circle cx=\"6\" cy=\"6\" r=\"6\" fill=\"#878787\"></circle><path stroke=\"#FFF\" stroke-width=\"1.5\" d=\"M3 6l2 2 4-4\" fill=\"#878787\"></path></g></svg><p id=\"review-b072d8c4-4d82-47ec-b52c-9a675f26574b\" class=\"_2mcZGG\"><span>Certified Buyer</span></p><p class=\"_2sc7ZR\">Jan, 2022</p></div></div></div></div></div><div class=\"_2tzWk4\"><div class=\"_1A_Aux\">Recent Review</div><div class=\"col\"><div class=\"col _2wzgFH _2cVXgz\"><div class=\"row\"><div class=\"_3LWZlK _1BLPMq\">3<img src=\"data:image/svg+xml;base64,PHN2ZyB4bWxucz0iaHR0cDovL3d3dy53My5vcmcvMjAwMC9zdmciIHdpZHRoPSIxMyIgaGVpZ2h0PSIxMiI+PHBhdGggZmlsbD0iI0ZGRiIgZD0iTTYuNSA5LjQzOWwtMy42NzQgMi4yMy45NC00LjI2LTMuMjEtMi44ODMgNC4yNTQtLjQwNEw2LjUuMTEybDEuNjkgNC4wMSA0LjI1NC40MDQtMy4yMSAyLjg4Mi45NCA0LjI2eiIvPjwvc3ZnPg==\" class=\"_1wB99o\"/></div><p class=\"_2-N8zT\">Fair</p></div><div class=\"row\"><div class=\"t-ZTKy\"><div><div class=\"\">It automatically switch off many more time of my mobile</div><span class=\"_1H-bmy\"><span>Read full review</span></span></div></div></div><div class=\"row _3n8db9\"><div class=\"row\"><p class=\"_2sc7ZR _2V5EHH\">Flipkart Customer</p><svg width=\"14\" height=\"14\" viewBox=\"0 0 12 12\" xmlns=\"http://www.w3.org/2000/svg\" class=\"_2a1p_T\"><g><circle cx=\"6\" cy=\"6\" r=\"6\" fill=\"#878787\"></circle><path stroke=\"#FFF\" stroke-width=\"1.5\" d=\"M3 6l2 2 4-4\" fill=\"#878787\"></path></g></svg><p id=\"review-a2c177e4-9069-4dca-a69a-5a95ae9b5fcd\" class=\"_2mcZGG\"><span>Certified Buyer</span></p><p class=\"_2sc7ZR\">3 days ago</p></div></div></div></div></div></div></div></div><div class=\"_1AtVbE col-12-12\"></div></div><footer class=\"_3voSl0\"><div class=\"_3rc_xQ\"><div class=\"row\"><div class=\"col gu12 _8Qljeg\"></div></div><div><div class=\"_2WErco row\"><div class=\"_2Brcj4\"><div class=\"_3-dnWo\">ABOUT</div><a href=\"/helpcentre?otracker=undefined_footer_navlinks\" class=\"_1arVWX\">Contact Us</a><a href=\"/about-us?otracker=undefined_footer_navlinks\" class=\"_1arVWX\">About Us</a><a href=\"https://www.flipkartcareers.com/?otracker=undefined_footer_navlinks\" class=\"_1arVWX\">Careers</a><a href=\"http://stories.flipkart.com/?otracker=undefined_footer_navlinks\" class=\"_1arVWX\">Flipkart Stories</a><a href=\"/s/press?otracker=undefined_footer_navlinks\" class=\"_1arVWX\">Press</a><a href=\"https://www.flipkartwholesale.com/?otracker=undefined_footer_navlinks\" target=\"_blank\" class=\"_1arVWX\" rel=\"noopener noreferrer\">Flipkart Wholesale</a><a href=\"/corporate-information\" class=\"_1arVWX\">Corporate Information</a></div><div class=\"_2Brcj4\"><div class=\"_3-dnWo\">HELP</div><a href=\"/pages/payments\" class=\"_1arVWX\">Payments</a><a href=\"/pages/shipping\" class=\"_1arVWX\">Shipping</a><a href=\"/helpcentre?catalog=55c9c6edb000002e002c1701&amp;view=CATALOG\" class=\"_1arVWX\">Cancellation &amp; Returns</a><a href=\"/helpcentre?catalog=55c9c8e2b0000023002c1702&amp;view=CATALOG\" class=\"_1arVWX\">FAQ</a><a href=\"https://seller.flipkart.com/fiv?otracker=undefined_footer_navlinks\" class=\"_1arVWX\">Report Infringement</a></div><div class=\"_2Brcj4\"><div class=\"_3-dnWo\">POLICY</div><a href=\"/pages/returnpolicy?otracker=undefined_footer_navlinks\" class=\"_1arVWX\">Return Policy</a><a href=\"/pages/terms?otracker=undefined_footer_navlinks\" class=\"_1arVWX\">Terms Of Use</a><a href=\"/pages/paymentsecurity?otracker=undefined_footer_navlinks\" class=\"_1arVWX\">Security</a><a href=\"/pages/privacypolicy?otracker=undefined_footer_navlinks\" class=\"_1arVWX\">Privacy</a><a href=\"/sitemap?otracker=undefined_footer_navlinks\" class=\"_1arVWX\">Sitemap</a><a href=\"/pages/ewaste-compliance-tnc?otracker=undefined_footer_navlinks\" class=\"_1arVWX\">EPR Compliance</a></div><div class=\"_2Brcj4\"><div class=\"_3-dnWo\">SOCIAL</div><a href=\"https://www.facebook.com/flipkart\" class=\"_1arVWX\">Facebook</a><a href=\"https://www.twitter.com/flipkart\" class=\"_1arVWX\">Twitter</a><a href=\"https://www.youtube.com/flipkart\" class=\"_1arVWX\">YouTube</a></div><div class=\"_2Brcj4 address\"><div class=\"_3JHi0r\"><div class=\"_3-dnWo\"><span>Mail Us:</span></div><div class=\"_1U1qnR\"><div class=\"_1LJS6T\"><div class=\"_2NKhZn _1U1qnR\"><p>Flipkart Internet Private Limited, </p>\\n<p> Buildings Alyssa, Begonia &amp; </p>\\n<p> Clove Embassy Tech Village, </p>\\n<p> Outer Ring Road, Devarabeesanahalli Village, </p>\\n<p> Bengaluru, 560103, </p>\\n<p> Karnataka, India</p>\\n</div></div></div></div></div><div class=\"_2Brcj4 address\"><div class=\"_3IT4e6\"><div class=\"_3-dnWo\"><span>Registered Office Address:</span></div><div class=\"_1U1qnR\"><div class=\"_1LJS6T\"><div class=\"_2NKhZn _1U1qnR\"><p>Flipkart Internet Private Limited, </p>\\n<p> Buildings Alyssa, Begonia &amp; </p>\\n<p> Clove Embassy Tech Village, </p>\\n<p> Outer Ring Road, Devarabeesanahalli Village, </p>\\n<p> Bengaluru, 560103, </p>\\n<p> Karnataka, India </p>\\n<p> CIN : U51109KA2012PTC066107 </p>\\n<p> Telephone: <a href=\"tel:18002029898\">044-45614700</a></p>\\n</div></div></div></div></div></div><div><div class=\"_2uz0vJ\"><div><img src=\"data:image/svg+xml;base64,PHN2ZyB4bWxucz0iaHR0cDovL3d3dy53My5vcmcvMjAwMC9zdmciIHdpZHRoPSIxNiIgaGVpZ2h0PSIxNSIgdmlld0JveD0iMCAwIDE2IDE1Ij4KICAgIDxkZWZzPgogICAgICAgIDxsaW5lYXJHcmFkaWVudCBpZD0iYSIgeDE9IjAlIiB4Mj0iODYuODc2JSIgeTE9IjAlIiB5Mj0iODAuMjAyJSI+CiAgICAgICAgICAgIDxzdG9wIG9mZnNldD0iMCUiIHN0b3AtY29sb3I9IiNGRkQ4MDAiLz4KICAgICAgICAgICAgPHN0b3Agb2Zmc2V0PSIxMDAlIiBzdG9wLWNvbG9yPSIjRkZBRjAwIi8+CiAgICAgICAgPC9saW5lYXJHcmFkaWVudD4KICAgIDwvZGVmcz4KICAgIDxnIGZpbGw9Im5vbmUiIGZpbGwtcnVsZT0iZXZlbm9kZCI+CiAgICAgICAgPHBhdGggZD0iTS0yLTJoMjB2MjBILTJ6Ii8+CiAgICAgICAgPHBhdGggZmlsbD0idXJsKCNhKSIgZmlsbC1ydWxlPSJub256ZXJvIiBkPSJNMTUuOTMgNS42MTRoLTIuOTQ4VjQuMTRjMC0uODE4LS42NTUtMS40NzMtMS40NzMtMS40NzNIOC41NmMtLjgxNyAwLTEuNDczLjY1NS0xLjQ3MyAxLjQ3M3YxLjQ3NEg0LjE0Yy0uODE4IDAtMS40NjYuNjU2LTEuNDY2IDEuNDc0bC0uMDA3IDguMTA1YzAgLjgxOC42NTUgMS40NzQgMS40NzMgMS40NzRoMTEuNzljLjgxOCAwIDEuNDc0LS42NTYgMS40NzQtMS40NzRWNy4wODhjMC0uODE4LS42NTYtMS40NzQtMS40NzQtMS40NzR6bS00LjQyMSAwSDguNTZWNC4xNGgyLjk0OHYxLjQ3NHoiIHRyYW5zZm9ybT0idHJhbnNsYXRlKC0yIC0yKSIvPgogICAgPC9nPgo8L3N2Zz4K\"/><a href=\"https://seller.flipkart.com/?utm_source=fkwebsite&amp;utm_medium=websitedirect\"><span class=\"hDTmm5\">Become a Seller</span></a></div><div><img src=\"data:image/svg+xml;base64,PHN2ZyB4bWxucz0iaHR0cDovL3d3dy53My5vcmcvMjAwMC9zdmciIHdpZHRoPSIxNSIgaGVpZ2h0PSIxNSIgdmlld0JveD0iMCAwIDE1IDE1Ij4KICAgIDxkZWZzPgogICAgICAgIDxsaW5lYXJHcmFkaWVudCBpZD0iYSIgeDE9IjAlIiB4Mj0iODYuODc2JSIgeTE9IjAlIiB5Mj0iODAuMjAyJSI+CiAgICAgICAgICAgIDxzdG9wIG9mZnNldD0iMCUiIHN0b3AtY29sb3I9IiNGRkQ4MDAiLz4KICAgICAgICAgICAgPHN0b3Agb2Zmc2V0PSIxMDAlIiBzdG9wLWNvbG9yPSIjRkZBRjAwIi8+CiAgICAgICAgPC9saW5lYXJHcmFkaWVudD4KICAgIDwvZGVmcz4KICAgIDxnIGZpbGw9Im5vbmUiIGZpbGwtcnVsZT0iZXZlbm9kZCI+CiAgICAgICAgPHBhdGggZD0iTS0zLTNoMjB2MjBILTN6Ii8+CiAgICAgICAgPHBhdGggZmlsbD0idXJsKCNhKSIgZmlsbC1ydWxlPSJub256ZXJvIiBkPSJNMTAuNDkyIDNDNi4zNTMgMyAzIDYuMzYgMyAxMC41YzAgNC4xNCAzLjM1MyA3LjUgNy40OTIgNy41QzE0LjY0IDE4IDE4IDE0LjY0IDE4IDEwLjUgMTggNi4zNiAxNC42NCAzIDEwLjQ5MiAzem0zLjE4IDEyTDEwLjUgMTMuMDg4IDcuMzI3IDE1bC44NC0zLjYwN0w1LjM3IDguOTdsMy42OS0uMzE1TDEwLjUgNS4yNWwxLjQ0IDMuMzk4IDMuNjkuMzE1LTIuNzk4IDIuNDIyLjg0IDMuNjE1eiIgdHJhbnNmb3JtPSJ0cmFuc2xhdGUoLTMgLTMpIi8+CiAgICA8L2c+Cjwvc3ZnPgo=\"/><a href=\"https://brands.flipkart.com\"><span class=\"hDTmm5\">Advertise</span></a></div><div><img src=\"data:image/svg+xml;base64,PHN2ZyB4bWxucz0iaHR0cDovL3d3dy53My5vcmcvMjAwMC9zdmciIHdpZHRoPSIxOCIgaGVpZ2h0PSIxNyIgdmlld0JveD0iMCAwIDE4IDE3Ij4KICAgIDxkZWZzPgogICAgICAgIDxsaW5lYXJHcmFkaWVudCBpZD0iYSIgeDE9IjAlIiB4Mj0iODYuODc2JSIgeTE9IjAlIiB5Mj0iODAuMjAyJSI+CiAgICAgICAgICAgIDxzdG9wIG9mZnNldD0iMCUiIHN0b3AtY29sb3I9IiNGRkQ4MDAiLz4KICAgICAgICAgICAgPHN0b3Agb2Zmc2V0PSIxMDAlIiBzdG9wLWNvbG9yPSIjRkZBRjAwIi8+CiAgICAgICAgPC9saW5lYXJHcmFkaWVudD4KICAgIDwvZGVmcz4KICAgIDxnIGZpbGw9Im5vbmUiIGZpbGwtcnVsZT0iZXZlbm9kZCI+CiAgICAgICAgPHBhdGggZD0iTS0xLTFoMjB2MjBILTF6Ii8+CiAgICAgICAgPHBhdGggZmlsbD0idXJsKCNhKSIgZmlsbC1ydWxlPSJub256ZXJvIiBkPSJNMTYuNjY3IDVIMTQuODVjLjA5Mi0uMjU4LjE1LS41NDIuMTUtLjgzM2EyLjQ5NyAyLjQ5NyAwIDAgMC00LjU4My0xLjM3NUwxMCAzLjM1bC0uNDE3LS41NjdBMi41MSAyLjUxIDAgMCAwIDcuNSAxLjY2N2EyLjQ5NyAyLjQ5NyAwIDAgMC0yLjUgMi41YzAgLjI5MS4wNTguNTc1LjE1LjgzM0gzLjMzM2MtLjkyNSAwLTEuNjU4Ljc0Mi0xLjY1OCAxLjY2N2wtLjAwOCA5LjE2NkExLjY2IDEuNjYgMCAwIDAgMy4zMzMgMTcuNWgxMy4zMzRhMS42NiAxLjY2IDAgMCAwIDEuNjY2LTEuNjY3VjYuNjY3QTEuNjYgMS42NiAwIDAgMCAxNi42NjcgNXptMCA2LjY2N0gzLjMzM3YtNWg0LjIzNEw1LjgzMyA5LjAyNWwxLjM1Ljk3NSAxLjk4NC0yLjdMMTAgNi4xNjdsLjgzMyAxLjEzMyAxLjk4NCAyLjcgMS4zNS0uOTc1LTEuNzM0LTIuMzU4aDQuMjM0djV6IiB0cmFuc2Zvcm09InRyYW5zbGF0ZSgtMSAtMSkiLz4KICAgIDwvZz4KPC9zdmc+Cg==\"/><a href=\"/the-gift-card-store?otracker=undefined_footer_footer_navlinks\"><span class=\"hDTmm5\">Gift Cards</span></a></div><div><img src=\"data:image/svg+xml;base64,PHN2ZyB4bWxucz0iaHR0cDovL3d3dy53My5vcmcvMjAwMC9zdmciIHdpZHRoPSIxNSIgaGVpZ2h0PSIxNSIgdmlld0JveD0iMCAwIDE1IDE1Ij4KICAgIDxkZWZzPgogICAgICAgIDxsaW5lYXJHcmFkaWVudCBpZD0iYSIgeDE9IjAlIiB4Mj0iODYuODc2JSIgeTE9IjAlIiB5Mj0iODAuMjAyJSI+CiAgICAgICAgICAgIDxzdG9wIG9mZnNldD0iMCUiIHN0b3AtY29sb3I9IiNGRkQ4MDAiLz4KICAgICAgICAgICAgPHN0b3Agb2Zmc2V0PSIxMDAlIiBzdG9wLWNvbG9yPSIjRkZBRjAwIi8+CiAgICAgICAgPC9saW5lYXJHcmFkaWVudD4KICAgIDwvZGVmcz4KICAgIDxnIGZpbGw9Im5vbmUiIGZpbGwtcnVsZT0iZXZlbm9kZCI+CiAgICAgICAgPHBhdGggZD0iTS0yLTNoMjB2MjBILTJ6Ii8+CiAgICAgICAgPHBhdGggZmlsbD0idXJsKCNhKSIgZmlsbC1ydWxlPSJub256ZXJvIiBkPSJNOS41IDNDNS4zNiAzIDIgNi4zNiAyIDEwLjUgMiAxNC42NCA1LjM2IDE4IDkuNSAxOGM0LjE0IDAgNy41LTMuMzYgNy41LTcuNUMxNyA2LjM2IDEzLjY0IDMgOS41IDN6bS43NSAxMi43NWgtMS41di0xLjVoMS41djEuNXptMS41NTMtNS44MTNsLS42NzYuNjljLS41NC41NDgtLjg3Ny45OTgtLjg3NyAyLjEyM2gtMS41di0uMzc1YzAtLjgyNS4zMzgtMS41NzUuODc3LTIuMTIzbC45My0uOTQ1Yy4yNzgtLjI3LjQ0My0uNjQ1LjQ0My0xLjA1NyAwLS44MjUtLjY3NS0xLjUtMS41LTEuNVM4IDcuNDI1IDggOC4yNUg2LjVhMyAzIDAgMSAxIDYgMGMwIC42Ni0uMjcgMS4yNi0uNjk3IDEuNjg4eiIgdHJhbnNmb3JtPSJ0cmFuc2xhdGUoLTIgLTMpIi8+CiAgICA8L2c+Cjwvc3ZnPgo=\"/><a href=\"/helpcentre?otracker=undefined_footer_footer_navlinks\"><span class=\"hDTmm5\">Help Center</span></a></div><span class=\"z3ht-w\">\\xc2\\xa9 2007-<!-- -->2023<!-- --> <span>Flipkart.com</span></span><img src=\"//static-assets-web.flixcart.com/fk-p-linchpin-web/fk-cp-zion/img/payment-method_69e7ec.svg\"/></div></div></div></div></footer><div class=\"_1EcK2J _38JCdA\"><div class=\"bra6U8\"><svg width=\"16\" height=\"27\" viewBox=\"0 0 16 27\" xmlns=\"http://www.w3.org/2000/svg\" class=\"_2TdLiZ\"><path d=\"M16 23.207L6.11 13.161 16 3.093 12.955 0 0 13.161l12.955 13.161z\" fill=\"#fff\" class=\"_3ZKfA2\"></path></svg><span>Back to top</span></div></div></div></div> <script type=\"application/ld+json\" nonce=\"3185603209901496840\" id=\"jsonLD\">{}</script> <script type=\"application/ld+json\" nonce=\"3185603209901496840\" id=\"jsonLD\">{}</script><script type=\"application/ld+json\" nonce=\"3185603209901496840\">{\\n    \"@context\": \"http://schema.org\",\\n    \"@type\": \"WebSite\",\\n    \"url\": \"http://www.flipkart.com/\",\\n    \"potentialAction\": [{\\n        \"@type\": \"SearchAction\",\\n        \"target\": \"http://www.flipkart.com/search?q={search_term_string}\",\\n        \"query-input\": \"required name=search_term_string\"\\n        },{\\n        \"@type\": \"SearchAction\",\\n        \"target\": \"android-app://com.flipkart.android/flipkart/de_sq_seg_-search.flipkart.com-_{search_term_string}\",\\n        \"query-input\": \"required name=search_term_string\"\\n    }]\\n}</script><script nonce=\"3185603209901496840\" id=\"is_script\">window.__INITIAL_STATE__ = {};</script> <link data-chunk=\"NavMenu\" rel=\"stylesheet\" href=\"//static-assets-web.flixcart.com/fk-p-linchpin-web/fk-cp-zion/css/NavMenu.chunk.1c9f80.css\">\\n<link data-chunk=\"SearchFeedback\" rel=\"stylesheet\" href=\"//static-assets-web.flixcart.com/fk-p-linchpin-web/fk-cp-zion/css/SearchFeedback.chunk.d0537a.css\"> <script id=\"__LOADABLE_REQUIRED_CHUNKS__\" type=\"application/json\">[119,191]</script><script id=\"__LOADABLE_REQUIRED_CHUNKS___ext\" type=\"application/json\">{\"namedChunks\":[\"NavMenu\",\"SearchFeedback\"]}</script>\\n<script async data-chunk=\"NavMenu\" src=\"//static-assets-web.flixcart.com/fk-p-linchpin-web/fk-cp-zion/js/NavMenu.chunk.3131f889.js\"></script>\\n<script async data-chunk=\"SearchFeedback\" src=\"//static-assets-web.flixcart.com/fk-p-linchpin-web/fk-cp-zion/js/SearchFeedback.chunk.e7ccbe9a.js\"></script><script nonce=\"3185603209901496840\">window.omniture={tpv:[],tl:[]};window.omniture.trackPageView=function(){window.omniture.tpv.push(arguments)};window.omniture.trackLink=function(){window.omniture.tl.push(arguments)}\\n\\n    if(window.location.host === \\'www.flipkart.com\\' || /\\\\.store\\\\.flipkart\\\\.com/i.test(window.location.host)){\\n        window.s_account = \"flipkart-prd\"; //omniture account id\\n    }else{\\n        window.s_account = \"flipkart-prd-test\";\\n    }\\n    window.s_isDesktop = true;</script><script nonce=\"3185603209901496840\">if (\\'serviceWorker\\' in navigator && navigator.userAgent.indexOf(\"Mobile\") === -1) {\\n\\t\\tnavigator.serviceWorker.register(\\'/sw.js\\').then(function(registration) {\\n\\t\\t\\tconsole.log(\\'ServiceWorker registration successful with scope: \\', registration.scope);\\n\\t\\t\\tnavigator.onLine && navigator.serviceWorker.controller && navigator.serviceWorker.controller.postMessage(\\'BANDWIDTH_COMPUTE\\');\\n\\t\\t\\tnavigator.serviceWorker.addEventListener(\\'message\\', function (event) {\\n\\t\\t\\t\\ttry {\\n\\t\\t\\t\\t\\tconst bandwidthData = JSON.parse(event.data);\\n\\t\\t\\t\\t\\tif (bandwidthData && bandwidthData.data) {\\n\\t\\t\\t\\t\\t\\twindow.bandwidth = bandwidthData.data.downlink + \\'_\\' + bandwidthData.data.computeMethod + \\'_\\' + bandwidthData.data.effectiveType + \\'_\\' + bandwidthData.data.type;\\n\\t\\t\\t\\t\\t}\\n\\t\\t\\t\\t}catch(err) {\\n\\t\\t\\t\\t\\tconsole.error(\\'JSON.parse failed:\\', err);\\n\\t\\t\\t\\t}\\n\\t\\t\\t});\\n\\t\\t})\\n\\t\\t.catch(function(err) {\\n\\t\\t\\tconsole.error(\\'ServiceWorker registration failed: \\', err);\\n\\t\\t});\\n\\t} else if(\\'serviceWorker\\' in navigator && navigator.userAgent.indexOf(\"Mobile\") > -1){\\n        navigator.serviceWorker.getRegistration().then(function(registration) {\\n            var serviceWorkerUnregistered=false;\\n            if(registration) {\\n                registration.unregister();\\n                serviceWorkerUnregistered=true;\\n            }\\n            serviceWorkerUnregistered && window.location.reload();\\n        });\\n    }</script> <script src=\"///www/linchpin/batman-returns/omni/omni16.js\" defer=\"defer\" async nonce=\"3185603209901496840\" id=\"omni_script\"></script>   <script nonce=\"3185603209901496840\">window._pxAppId = \\'PXgNtTli3A\\';</script><script nonce=\"3185603209901496840\" src=\"///px/gNtTli3A/init.js\" async></script></body></html>'"
            ]
          },
          "execution_count": 18,
          "metadata": {},
          "output_type": "execute_result"
        }
      ],
      "source": [
        "page_data.content"
      ]
    },
    {
      "cell_type": "code",
      "execution_count": null,
      "id": "29fef844",
      "metadata": {
        "id": "29fef844"
      },
      "outputs": [],
      "source": [
        "soup = BeautifulSoup(page_data.content, 'html.parser')"
      ]
    },
    {
      "cell_type": "code",
      "execution_count": null,
      "id": "9db4ba76",
      "metadata": {
        "id": "9db4ba76"
      },
      "outputs": [],
      "source": [
        "mobile_info = soup.find_all('div', class_='_2kHMtA')"
      ]
    },
    {
      "cell_type": "code",
      "execution_count": null,
      "id": "d46da84a",
      "metadata": {
        "id": "d46da84a",
        "outputId": "bd561c3b-dd11-4564-8fab-bfdd5ba394ae"
      },
      "outputs": [
        {
          "data": {
            "text/plain": [
              "24"
            ]
          },
          "execution_count": 6,
          "metadata": {},
          "output_type": "execute_result"
        }
      ],
      "source": [
        "len(mobile_info)"
      ]
    },
    {
      "cell_type": "code",
      "execution_count": null,
      "id": "830286f4",
      "metadata": {
        "id": "830286f4"
      },
      "outputs": [],
      "source": [
        "for mobile in mobile_info:\n",
        "    pass\n",
        "#     print(mobile.find('div', class_='_4rR01T'))\n",
        "#     print(mobile.find('div', class_='_4rR01T').text)\n",
        "#     print(mobile.find('div', class_='_30jeq3 _1_WHN1').text)"
      ]
    },
    {
      "cell_type": "code",
      "execution_count": null,
      "id": "59b77e22",
      "metadata": {
        "id": "59b77e22"
      },
      "outputs": [],
      "source": [
        "#creating dataframe from extracting name and price\n",
        "\n",
        "mobiles = []\n",
        "\n",
        "for mobile in mobile_info:\n",
        "    name = mobile.find('div', class_='_4rR01T').text\n",
        "    price = mobile.find('div', class_='_30jeq3 _1_WHN1').text\n",
        "    \n",
        "    mobiles.append({'name':name, 'price':price})\n",
        "    \n",
        "    \n",
        "mobile_ds = pd.DataFrame(mobiles)"
      ]
    },
    {
      "cell_type": "code",
      "execution_count": null,
      "id": "49eedc1b",
      "metadata": {
        "id": "49eedc1b",
        "outputId": "4eaa7d81-7c43-4d0d-89b7-2e17bbb66b18"
      },
      "outputs": [
        {
          "data": {
            "text/html": [
              "<div>\n",
              "<style scoped>\n",
              "    .dataframe tbody tr th:only-of-type {\n",
              "        vertical-align: middle;\n",
              "    }\n",
              "\n",
              "    .dataframe tbody tr th {\n",
              "        vertical-align: top;\n",
              "    }\n",
              "\n",
              "    .dataframe thead th {\n",
              "        text-align: right;\n",
              "    }\n",
              "</style>\n",
              "<table border=\"1\" class=\"dataframe\">\n",
              "  <thead>\n",
              "    <tr style=\"text-align: right;\">\n",
              "      <th></th>\n",
              "      <th>name</th>\n",
              "      <th>price</th>\n",
              "    </tr>\n",
              "  </thead>\n",
              "  <tbody>\n",
              "    <tr>\n",
              "      <th>0</th>\n",
              "      <td>MOTOROLA e40 (Carbon Gray, 64 GB)</td>\n",
              "      <td>₹7,999</td>\n",
              "    </tr>\n",
              "    <tr>\n",
              "      <th>1</th>\n",
              "      <td>APPLE iPhone 14 (Blue, 128 GB)</td>\n",
              "      <td>₹66,999</td>\n",
              "    </tr>\n",
              "    <tr>\n",
              "      <th>2</th>\n",
              "      <td>SAMSUNG Galaxy F23 5G (Copper Blush, 128 GB)</td>\n",
              "      <td>₹16,999</td>\n",
              "    </tr>\n",
              "    <tr>\n",
              "      <th>3</th>\n",
              "      <td>POCO C31 (Shadow Gray, 32 GB)</td>\n",
              "      <td>₹6,499</td>\n",
              "    </tr>\n",
              "    <tr>\n",
              "      <th>4</th>\n",
              "      <td>POCO C31 (Shadow Gray, 64 GB)</td>\n",
              "      <td>₹7,749</td>\n",
              "    </tr>\n",
              "    <tr>\n",
              "      <th>5</th>\n",
              "      <td>MOTOROLA G62 5G (Midnight Gray, 128 GB)</td>\n",
              "      <td>₹14,999</td>\n",
              "    </tr>\n",
              "    <tr>\n",
              "      <th>6</th>\n",
              "      <td>Infinix HOT 20 Play (Fantasy Purple, 64 GB)</td>\n",
              "      <td>₹8,199</td>\n",
              "    </tr>\n",
              "    <tr>\n",
              "      <th>7</th>\n",
              "      <td>SAMSUNG Galaxy F23 5G (Forest Green, 128 GB)</td>\n",
              "      <td>₹16,999</td>\n",
              "    </tr>\n",
              "    <tr>\n",
              "      <th>8</th>\n",
              "      <td>MOTOROLA G62 5G (Frosted Blue, 128 GB)</td>\n",
              "      <td>₹14,999</td>\n",
              "    </tr>\n",
              "    <tr>\n",
              "      <th>9</th>\n",
              "      <td>REDMI Note 11 SE (Cosmic White, 64 GB)</td>\n",
              "      <td>₹11,999</td>\n",
              "    </tr>\n",
              "    <tr>\n",
              "      <th>10</th>\n",
              "      <td>SAMSUNG Galaxy F23 5G (Copper Blush, 128 GB)</td>\n",
              "      <td>₹16,999</td>\n",
              "    </tr>\n",
              "    <tr>\n",
              "      <th>11</th>\n",
              "      <td>Infinix HOT 20 Play (Aurora Green, 64 GB)</td>\n",
              "      <td>₹8,199</td>\n",
              "    </tr>\n",
              "    <tr>\n",
              "      <th>12</th>\n",
              "      <td>Infinix HOT 20 Play (Racing Black, 64 GB)</td>\n",
              "      <td>₹8,199</td>\n",
              "    </tr>\n",
              "    <tr>\n",
              "      <th>13</th>\n",
              "      <td>POCO M4 Pro (Cool Blue, 128 GB)</td>\n",
              "      <td>₹12,999</td>\n",
              "    </tr>\n",
              "    <tr>\n",
              "      <th>14</th>\n",
              "      <td>POCO C31 (Royal Blue, 32 GB)</td>\n",
              "      <td>₹6,499</td>\n",
              "    </tr>\n",
              "    <tr>\n",
              "      <th>15</th>\n",
              "      <td>REDMI 9i Sport (Metallic Blue, 64 GB)</td>\n",
              "      <td>₹7,499</td>\n",
              "    </tr>\n",
              "    <tr>\n",
              "      <th>16</th>\n",
              "      <td>REDMI 10 (Caribbean Green, 64 GB)</td>\n",
              "      <td>₹9,999</td>\n",
              "    </tr>\n",
              "    <tr>\n",
              "      <th>17</th>\n",
              "      <td>MOTOROLA g52 (Charcoal Grey, 128 GB)</td>\n",
              "      <td>₹12,999</td>\n",
              "    </tr>\n",
              "    <tr>\n",
              "      <th>18</th>\n",
              "      <td>Infinix HOT 20 Play (Luna Blue, 64 GB)</td>\n",
              "      <td>₹8,199</td>\n",
              "    </tr>\n",
              "    <tr>\n",
              "      <th>19</th>\n",
              "      <td>REDMI 9i Sport (Coral Green, 64 GB)</td>\n",
              "      <td>₹7,499</td>\n",
              "    </tr>\n",
              "    <tr>\n",
              "      <th>20</th>\n",
              "      <td>MOTOROLA g52 (Metallic White, 128 GB)</td>\n",
              "      <td>₹12,999</td>\n",
              "    </tr>\n",
              "    <tr>\n",
              "      <th>21</th>\n",
              "      <td>MOTOROLA G32 (Mineral Gray, 64 GB)</td>\n",
              "      <td>₹10,499</td>\n",
              "    </tr>\n",
              "    <tr>\n",
              "      <th>22</th>\n",
              "      <td>OPPO K10 5G (Ocean Blue, 128 GB)</td>\n",
              "      <td>₹16,999</td>\n",
              "    </tr>\n",
              "    <tr>\n",
              "      <th>23</th>\n",
              "      <td>OPPO K10 5G (Midnight Black, 128 GB)</td>\n",
              "      <td>₹16,999</td>\n",
              "    </tr>\n",
              "  </tbody>\n",
              "</table>\n",
              "</div>"
            ],
            "text/plain": [
              "                                            name    price\n",
              "0              MOTOROLA e40 (Carbon Gray, 64 GB)   ₹7,999\n",
              "1                 APPLE iPhone 14 (Blue, 128 GB)  ₹66,999\n",
              "2   SAMSUNG Galaxy F23 5G (Copper Blush, 128 GB)  ₹16,999\n",
              "3                  POCO C31 (Shadow Gray, 32 GB)   ₹6,499\n",
              "4                  POCO C31 (Shadow Gray, 64 GB)   ₹7,749\n",
              "5        MOTOROLA G62 5G (Midnight Gray, 128 GB)  ₹14,999\n",
              "6    Infinix HOT 20 Play (Fantasy Purple, 64 GB)   ₹8,199\n",
              "7   SAMSUNG Galaxy F23 5G (Forest Green, 128 GB)  ₹16,999\n",
              "8         MOTOROLA G62 5G (Frosted Blue, 128 GB)  ₹14,999\n",
              "9         REDMI Note 11 SE (Cosmic White, 64 GB)  ₹11,999\n",
              "10  SAMSUNG Galaxy F23 5G (Copper Blush, 128 GB)  ₹16,999\n",
              "11     Infinix HOT 20 Play (Aurora Green, 64 GB)   ₹8,199\n",
              "12     Infinix HOT 20 Play (Racing Black, 64 GB)   ₹8,199\n",
              "13               POCO M4 Pro (Cool Blue, 128 GB)  ₹12,999\n",
              "14                  POCO C31 (Royal Blue, 32 GB)   ₹6,499\n",
              "15         REDMI 9i Sport (Metallic Blue, 64 GB)   ₹7,499\n",
              "16             REDMI 10 (Caribbean Green, 64 GB)   ₹9,999\n",
              "17          MOTOROLA g52 (Charcoal Grey, 128 GB)  ₹12,999\n",
              "18        Infinix HOT 20 Play (Luna Blue, 64 GB)   ₹8,199\n",
              "19           REDMI 9i Sport (Coral Green, 64 GB)   ₹7,499\n",
              "20         MOTOROLA g52 (Metallic White, 128 GB)  ₹12,999\n",
              "21            MOTOROLA G32 (Mineral Gray, 64 GB)  ₹10,499\n",
              "22              OPPO K10 5G (Ocean Blue, 128 GB)  ₹16,999\n",
              "23          OPPO K10 5G (Midnight Black, 128 GB)  ₹16,999"
            ]
          },
          "execution_count": 17,
          "metadata": {},
          "output_type": "execute_result"
        }
      ],
      "source": [
        "mobile_ds"
      ]
    },
    {
      "cell_type": "code",
      "execution_count": null,
      "id": "b631240a",
      "metadata": {
        "id": "b631240a"
      },
      "outputs": [],
      "source": [
        "#extracting data from staragile for scrum master\n",
        "\n",
        "page_url1 = 'https://staragile.com/in/'\n",
        "\n",
        "page_data1 = req.get(page_url1)\n",
        "\n",
        "soup1 = BeautifulSoup(page_data1.content, 'html.parser')\n",
        "\n"
      ]
    },
    {
      "cell_type": "code",
      "execution_count": null,
      "id": "01ccd566",
      "metadata": {
        "id": "01ccd566",
        "outputId": "0a10890d-a397-4921-e2a3-1ed662199d07"
      },
      "outputs": [
        {
          "data": {
            "text/plain": [
              "[<div class=\"row sub-content\"><div class=\"col-xl-3 col-md-3 col-sm-12 col-12 content-sub1\"><span>3,00,000+</span><p>careers advanced</p></div><div class=\"col-xl-3 col-md-3 col-sm-12 col-12 content-sub\"><span>250+</span><p>live classes every month</p></div><div class=\"col-xl-3 col-md-3 col-sm-12 col-12 content-third\"><span>92%</span><p>report career benefits including promotion or a new job</p></div><div class=\"col-xl-3 col-md-3 col-sm-12 col-12 content-btn page_speed_543201689\"><a href=\"#explore-our-programs\"><button class=\"btn know-btn\">EXPLORE COURSES <img class=\"lazy page_speed_1610150515\" data-src=\"https://staragile.com/public/images/image-webp/arrow.webp\" data-srcset=\"https://staragile.com/public/images/badge-lazy-load.jpg\" src=\"https://staragile.com/public/images/badge-lazy-load.jpg\"/></button></a></div></div>]"
            ]
          },
          "execution_count": 43,
          "metadata": {},
          "output_type": "execute_result"
        }
      ],
      "source": [
        "training_info = soup1.find_all('div', class_='row sub-content')\n",
        "\n",
        "training_info"
      ]
    },
    {
      "cell_type": "code",
      "execution_count": null,
      "id": "81c10e43",
      "metadata": {
        "id": "81c10e43",
        "outputId": "cdb9f0bb-86e6-4873-bf8f-ba16db2bd136"
      },
      "outputs": [
        {
          "name": "stdout",
          "output_type": "stream",
          "text": [
            "careers advanced\n",
            "3,00,000+\n"
          ]
        }
      ],
      "source": [
        "for ele in training_info:\n",
        "    print(ele.find_all('p')[0].text)\n",
        "    print(ele.find_all('span')[0].text)"
      ]
    },
    {
      "cell_type": "code",
      "execution_count": null,
      "id": "235a62f6",
      "metadata": {
        "id": "235a62f6",
        "outputId": "2246a480-26c6-4284-e7a9-bd2543f129de"
      },
      "outputs": [
        {
          "name": "stdout",
          "output_type": "stream",
          "text": [
            "careers advanced\n",
            "live classes every month\n",
            "report career benefits including promotion or a new job\n"
          ]
        }
      ],
      "source": [
        "for p_ele in training_info[0].find_all('p'):\n",
        "    print(p_ele.text)"
      ]
    },
    {
      "cell_type": "code",
      "execution_count": null,
      "id": "e2cefa97",
      "metadata": {
        "id": "e2cefa97",
        "outputId": "e97d1c31-4db5-49f6-ffda-53eb0e20ee94"
      },
      "outputs": [
        {
          "name": "stdout",
          "output_type": "stream",
          "text": [
            "3,00,000+\n",
            "250+\n",
            "92%\n"
          ]
        }
      ],
      "source": [
        "for span_ele in training_info[0].find_all('span'):\n",
        "    print(span_ele.text)"
      ]
    },
    {
      "cell_type": "code",
      "execution_count": null,
      "id": "6dbc0d28",
      "metadata": {
        "id": "6dbc0d28",
        "outputId": "bb368b07-198e-47dc-a428-8f147de497bc"
      },
      "outputs": [
        {
          "data": {
            "text/plain": [
              "[<a class=\"navbar-brand\" href=\"https://staragile.com/in/\"><img alt=\"logo\" height=\"44\" src=\"https://d3w4ndrqcjig4l.cloudfront.net/logo.png\" width=\"160\"/></a>,\n",
              " <a class=\"al-crse nav-link\">All Courses</a>,\n",
              " <a class=\"nav-link\" href=\"https://staragile.com/blog/\">Blog</a>,\n",
              " <a class=\"nav-link\" href=\"https://staragile.com/corporate-training\">Corporate</a>,\n",
              " <a class=\"nav-link\" href=\"https://staragile.com/refer-and-earn\">Refer &amp; Earn</a>,\n",
              " <a class=\"nav-link\" href=\"https://staragile.com/contact\">Contact Us</a>,\n",
              " <a class=\"nav-link\" href=\"http://lms.staragile.com/lms/auth/login\" title=\"Login/Register\"><img alt=\"login\" height=\"16\" src=\"https://d3w4ndrqcjig4l.cloudfront.net/user-login.png\" width=\"16\"/></a>,\n",
              " <a class=\"nav-item nav-link active nav-mobile\" href=\"tel:+919513393880\">India: +91 95133 93880</a>,\n",
              " <a class=\"nav-item nav-link active nav-mobile\" href=\"tel:+19293562010\">USA: +1 929 356 2010</a>,\n",
              " <a class=\"nav-item nav-link active nav-mobile\" href=\"tel:+442039666118\">UK: +44 2039 666118</a>,\n",
              " <a class=\"nav-item nav-link active nav-mobile\" href=\"/cdn-cgi/l/email-protection#dfabadbeb6b1b6b1b8ac9facabbeadbeb8b6b3baf1bcb0b2\">Email: <span class=\"__cf_email__\" data-cfemail=\"40343221292e292e273300333421322127292c256e232f2d\">[email protected]</span></a>,\n",
              " <a class=\"toggle-nav close-btn float-right\" href=\"javascript:void(0);\"><i class=\"fa fa-times\"></i></a>,\n",
              " <a class=\"list-group-item\" href=\"#\">HOME</a>,\n",
              " <a class=\"list-group-item course-a\" data-target=\"#course-drop-mobile\" data-toggle=\"collapse\" href=\"javascript:void(0);\">All COURSES</a>,\n",
              " <a class=\"list-group-item\" href=\"https://staragile.com/corporate-training\">CORPORATE</a>,\n",
              " <a class=\"list-group-item\" href=\"https://staragile.com/refer-and-earn\">REFER &amp; EARN</a>,\n",
              " <a class=\"list-group-item\" href=\"https://staragile.com/contact\">CONTACT US</a>,\n",
              " <a class=\"list-group-item\" href=\"https://staragile.com/my-account\"><i class=\"fa fa-user pr-2\"></i> LOGIN</a>,\n",
              " <a class=\"list-group-item can-but\" data-target=\"#query-modal\" data-toggle=\"modal\" href=\"javascript:void(0);\">DROP A QUERY? </a>,\n",
              " <a data-target=\"#query-modal\" data-toggle=\"modal\" href=\"javascript:\" id=\"staticQuery\">DROP A QUERY </a>,\n",
              " <a class=\"page_speed_1707800344\" href=\"javascript:\" id=\"return-to-top2\"><img class=\"\" src=\"https://d3w4ndrqcjig4l.cloudfront.net/image-webp/blue-up.webp\"/></a>,\n",
              " <a class=\"a-sub\" href=\"https://staragile.com/in/agile-and-scrum/\">Agile and Scrum</a>,\n",
              " <a href=\"https://staragile.com/in/agile-and-scrum/csm-certification-training\">Certified Scrum Master</a>,\n",
              " <a href=\"https://staragile.com/in/agile-and-scrum/safe-agilist-certification-training\">Leading SAFe® Agilist</a>,\n",
              " <a href=\"https://staragile.com/in/agile-and-scrum/cspo-certification-training\">Certified Scrum Product Owner</a>,\n",
              " <a href=\"https://staragile.com/in/agile-and-scrum/psm-certification-training\">Professional Scrum Master</a>,\n",
              " <a href=\"https://staragile.com/in/agile-and-scrum/jira-certification-training\">JIRA</a>,\n",
              " <a href=\"https://staragile.com/in/agile-and-scrum/certified-agile-coach-certification-training\">ICP Agile Certified Coaching</a>,\n",
              " <a href=\"https://staragile.com/in/agile-and-scrum/safe-popm-certification-training\">SAFe® Product Owner/Product Manager</a>,\n",
              " <a href=\"https://staragile.com/in/agile-and-scrum/pmi-acp-certification-training\">PMI-Agile Certified Practitioner</a>,\n",
              " <a class=\"more-courses-link\" href=\"https://staragile.com/in/agile-and-scrum/\"> view All Courses <span class=\"arrow-info\"><i class=\"common-icons right-arrow-icon lazy\"></i></span></a>,\n",
              " <a href=\"https://staragile.com/in/masters-program/agile-masters-program\">Agile Master’s Program</a>,\n",
              " <a class=\"a-sub\" href=\"https://staragile.com/in/project-management/\">Project Management</a>,\n",
              " <a href=\"https://staragile.com/in/project-management/pmp-certification-training\">PMP® Certification</a>,\n",
              " <a href=\"https://staragile.com/in/project-management/prince2-foundation-and-practitioner-certification\">PRINCE2 Foundation and Practitioner</a>,\n",
              " <a href=\"https://staragile.com/in/project-management/capm-certification-training\">Certified Associate in Project Management</a>,\n",
              " <a href=\"https://staragile.com/in/project-management/ms-project-certification-training\">MS Project Certification</a>,\n",
              " <a href=\"https://staragile.com/in/project-management/pgmp-certification-training\">PgMP Certification</a>,\n",
              " <a href=\"https://staragile.com/in/project-management/pmi-rmp-certification-training\">PMI RMP Certification Training</a>,\n",
              " <a class=\"more-courses-link\" href=\"https://staragile.com/in/project-management/\"> view All Courses <span class=\"arrow-info\"><i class=\"common-icons right-arrow-icon lazy\"></i></span></a>,\n",
              " <a href=\"https://staragile.com/in/masters-program/pmp-plus-masters-program\">PMP Plus Master's Program</a>,\n",
              " <a class=\"a-sub\" href=\"https://staragile.com/in/devops/\">DevOps</a>,\n",
              " <a href=\"https://staragile.com/in/devops/devops-certification-training\">DevOps Certification Training</a>,\n",
              " <a href=\"https://staragile.com/in/devops/devops-certification-training-placement-guarantee\">DevOps With Placement</a>,\n",
              " <a href=\"https://staragile.com/in/devops/aws-devops-certification-training\">AWS Solution Architect Associate</a>,\n",
              " <a href=\"https://staragile.com/in/devops/docker-certification-training\">Dockers Certification</a>,\n",
              " <a href=\"https://staragile.com/in/devops/jenkins-certification-training\">Jenkins Certification</a>,\n",
              " <a href=\"https://staragile.com/in/devops/kubernetes-certification-training\">Kubernetes Certification</a>,\n",
              " <a class=\"more-courses-link\" href=\"https://staragile.com/in/devops/\"> view All Courses <span class=\"arrow-info\"><i class=\"common-icons right-arrow-icon lazy\"></i></span></a>,\n",
              " <a href=\"https://staragile.com/in/masters-program/cloud-architect-masters-program\">Cloud Architect Master’s Program</a>,\n",
              " <a class=\"a-sub\" href=\"https://staragile.com/in/quality-management/\">Quality Management</a>,\n",
              " <a href=\"https://staragile.com/in/quality-management/lean-six-sigma-green-belt-certification\">Lean Six Sigma Green Belt</a>,\n",
              " <a href=\"https://staragile.com/in/quality-management/lean-six-sigma-black-belt-certification-training\">Lean Six Sigma Black Belt</a>,\n",
              " <a class=\"more-courses-link\" href=\"https://staragile.com/in/quality-management/\"> view All Courses <span class=\"arrow-info\"><i class=\"common-icons right-arrow-icon lazy\"></i></span></a>,\n",
              " <a href=\"https://staragile.com/in/masters-program/lean-six-sigma-masters-program\">Lean Six Sigma Master’s Program</a>,\n",
              " <a class=\"a-sub\" href=\"https://staragile.com/in/data-science/\">Data Science</a>,\n",
              " <a href=\"https://staragile.com/in/data-science/data-science-course-training\">Data Science Course</a>,\n",
              " <a href=\"https://staragile.com/in/data-science/data-science-course-training-with-placement\">Data Science Course With Job Guarantee</a>,\n",
              " <a href=\"https://staragile.com/in/data-science/artificial-intelligence-certification-training\">Artificial Intelligence Course</a>,\n",
              " <a href=\"https://staragile.com/in/data-science/data-science-with-python-certification-training\">Data Science with Python</a>,\n",
              " <a href=\"https://staragile.com/in/data-science/data-science-with-r-certification-training\">Data Science with R</a>,\n",
              " <a href=\"https://staragile.com/in/data-science/deep-learning-certification-training\">Deep Learning Course</a>,\n",
              " <a href=\"https://staragile.com/in/data-science/machine-learning-certification-training\">Machine Learning</a>,\n",
              " <a href=\"https://staragile.com/in/data-science/sas-certification-training\">SAS Certification</a>,\n",
              " <a class=\"more-courses-link\" href=\"https://staragile.com/in/data-science/\"> view All Courses <span class=\"arrow-info\"><i class=\"common-icons right-arrow-icon lazy\"></i></span></a>,\n",
              " <a class=\"a-sub\" href=\"https://staragile.com/in/big-data/\">Big Data</a>,\n",
              " <a href=\"https://staragile.com/in/big-data/big-data-hadoop-certification-training\">Big Data Hadoop Course</a>,\n",
              " <a href=\"https://staragile.com/in/big-data/hadoop-administration-certification-training\">Hadoop Administrator Course</a>,\n",
              " <a class=\"more-courses-link\" href=\"https://staragile.com/in/big-data/\"> view All Courses <span class=\"arrow-info\"><i class=\"common-icons right-arrow-icon lazy\"></i></span></a>,\n",
              " <a class=\"a-sub\" href=\"https://staragile.com/in/software-testing/\">Software Testing</a>,\n",
              " <a href=\"https://staragile.com/in/software-testing/selenium-certification-training\">Selenium Certification Training</a>,\n",
              " <a class=\"more-courses-link\" href=\"https://staragile.com/in/software-testing/\"> view All Courses <span class=\"arrow-info\"><i class=\"common-icons right-arrow-icon lazy\"></i></span></a>,\n",
              " <a class=\"a-sub\" href=\"https://staragile.com/in/it-service-and-architecture/\">IT Service and Architecture</a>,\n",
              " <a href=\"https://staragile.com/in/it-service-and-architecture/itil-foundation-certification-training\">ITIL 4 Foundation Certification Training</a>,\n",
              " <a class=\"more-courses-link\" href=\"https://staragile.com/in/it-service-and-architecture/\"> view All Courses <span class=\"arrow-info\"><i class=\"common-icons right-arrow-icon lazy\"></i></span></a>,\n",
              " <a href=\"#explore-our-programs\"><button class=\"btn know-btn\">EXPLORE COURSES <img class=\"lazy page_speed_1610150515\" data-src=\"https://staragile.com/public/images/image-webp/arrow.webp\" data-srcset=\"https://staragile.com/public/images/badge-lazy-load.jpg\" src=\"https://staragile.com/public/images/badge-lazy-load.jpg\"/></button></a>,\n",
              " <a href=\"https://staragile.com/in/agile-and-scrum/csm-certification-training\" target=\"_blank\"><span>KNOW MORE <img class=\"org-img ml-2\" src=\"https://staragile.com/public/images/image-webp/Orange_Icon.webp\"/></span></a>,\n",
              " <a href=\"https://staragile.com/in/agile-and-scrum/cspo-certification-training\" target=\"_blank\"><span>KNOW MORE <img class=\"org-img ml-2\" src=\"https://staragile.com/public/images/image-webp/Orange_Icon.webp\"/></span></a>,\n",
              " <a href=\"https://staragile.com/in/agile-and-scrum/safe-agilist-certification-training\" target=\"_blank\"><span>KNOW MORE <img class=\"org-img ml-2\" src=\"https://staragile.com/public/images/image-webp/Orange_Icon.webp\"/></span></a>,\n",
              " <a href=\"https://staragile.com/in/agile-and-scrum/pmi-acp-certification-training\" target=\"_blank\"><span>KNOW MORE <img class=\"org-img ml-2\" src=\"https://staragile.com/public/images/image-webp/Orange_Icon.webp\"/></span></a>,\n",
              " <a href=\"https://staragile.com/in/agile-and-scrum/advanced-certified-scrum-master-training\" target=\"_blank\"><span>KNOW MORE <img class=\"org-img ml-2\" src=\"https://staragile.com/public/images/image-webp/Orange_Icon.webp\"/></span></a>,\n",
              " <a href=\"https://staragile.com/in/agile-and-scrum/certified-agile-coach-certification-training\" target=\"_blank\"><span>KNOW MORE <img class=\"org-img ml-2\" src=\"https://staragile.com/public/images/image-webp/Orange_Icon.webp\"/></span></a>,\n",
              " <a href=\"https://staragile.com/in/agile-and-scrum/safe-lean-portfolio-management-training\" target=\"_blank\"><span>KNOW MORE <img class=\"org-img ml-2\" src=\"https://staragile.com/public/images/image-webp/Orange_Icon.webp\"/></span></a>,\n",
              " <a href=\"https://staragile.com/in/agile-and-scrum/ssm-certification-training\" target=\"_blank\"><span>KNOW MORE <img class=\"org-img ml-2\" src=\"https://staragile.com/public/images/image-webp/Orange_Icon.webp\"/></span></a>,\n",
              " <a href=\"https://staragile.com/in/agile-and-scrum/safe-for-teams-certification-training\" target=\"_blank\"><span>KNOW MORE <img class=\"org-img ml-2\" src=\"https://staragile.com/public/images/image-webp/Orange_Icon.webp\"/></span></a>,\n",
              " <a href=\"https://staragile.com/in/agile-and-scrum/sasm-certification-training\" target=\"_blank\"><span>KNOW MORE <img class=\"org-img ml-2\" src=\"https://staragile.com/public/images/image-webp/Orange_Icon.webp\"/></span></a>,\n",
              " <a href=\"https://staragile.com/in/agile-and-scrum/safe-popm-certification-training\" target=\"_blank\"><span>KNOW MORE <img class=\"org-img ml-2\" src=\"https://staragile.com/public/images/image-webp/Orange_Icon.webp\"/></span></a>,\n",
              " <a href=\"https://staragile.com/in/agile-and-scrum/kanban-certificaiton-training\" target=\"_blank\"><span>KNOW MORE <img class=\"org-img ml-2\" src=\"https://staragile.com/public/images/image-webp/Orange_Icon.webp\"/></span></a>,\n",
              " <a href=\"https://staragile.com/in/agile-and-scrum/kanban-management-professional-kmp-2\" target=\"_blank\"><span>KNOW MORE <img class=\"org-img ml-2\" src=\"https://staragile.com/public/images/image-webp/Orange_Icon.webp\"/></span></a>,\n",
              " <a href=\"https://staragile.com/in/agile-and-scrum/jira-certification-training\" target=\"_blank\"><span>KNOW MORE <img class=\"org-img ml-2\" src=\"https://staragile.com/public/images/image-webp/Orange_Icon.webp\"/></span></a>,\n",
              " <a href=\"https://staragile.com/in/agile-and-scrum/psm-certification-training\" target=\"_blank\"><span>KNOW MORE <img class=\"org-img ml-2\" src=\"https://staragile.com/public/images/image-webp/Orange_Icon.webp\"/></span></a>,\n",
              " <a href=\"https://staragile.com/in/agile-and-scrum/psmII-certification-training\" target=\"_blank\"><span>KNOW MORE <img class=\"org-img ml-2\" src=\"https://staragile.com/public/images/image-webp/Orange_Icon.webp\"/></span></a>,\n",
              " <a href=\"https://staragile.com/in/agile-and-scrum/pspo-certification-training\" target=\"_blank\"><span>KNOW MORE <img class=\"org-img ml-2\" src=\"https://staragile.com/public/images/image-webp/Orange_Icon.webp\"/></span></a>,\n",
              " <a href=\"https://staragile.com/in/agile-and-scrum/jira-administration-training\" target=\"_blank\"><span>KNOW MORE <img class=\"org-img ml-2\" src=\"https://staragile.com/public/images/image-webp/Orange_Icon.webp\"/></span></a>,\n",
              " <a href=\"https://staragile.com/in/agile-and-scrum/agile-scrum-master-certification-training\" target=\"_blank\"><span>KNOW MORE <img class=\"org-img ml-2\" src=\"https://staragile.com/public/images/image-webp/Orange_Icon.webp\"/></span></a>,\n",
              " <a href=\"https://staragile.com/in/project-management/pmp-certification-training\" target=\"_blank\"><span>KNOW MORE <img class=\"org-img ml-2\" src=\"https://staragile.com/public/images/image-webp/Orange_Icon.webp\"/></span></a>,\n",
              " <a href=\"https://staragile.com/in/project-management/prince2-foundation-and-practitioner-certification\" target=\"_blank\"><span>KNOW MORE <img class=\"org-img ml-2\" src=\"https://staragile.com/public/images/image-webp/Orange_Icon.webp\"/></span></a>,\n",
              " <a href=\"https://staragile.com/in/project-management/capm-certification-training\" target=\"_blank\"><span>KNOW MORE <img class=\"org-img ml-2\" src=\"https://staragile.com/public/images/image-webp/Orange_Icon.webp\"/></span></a>,\n",
              " <a href=\"https://staragile.com/in/project-management/pgmp-certification-training\" target=\"_blank\"><span>KNOW MORE <img class=\"org-img ml-2\" src=\"https://staragile.com/public/images/image-webp/Orange_Icon.webp\"/></span></a>,\n",
              " <a href=\"https://staragile.com/in/project-management/pmi-rmp-certification-training\" target=\"_blank\"><span>KNOW MORE <img class=\"org-img ml-2\" src=\"https://staragile.com/public/images/image-webp/Orange_Icon.webp\"/></span></a>,\n",
              " <a href=\"https://staragile.com/in/project-management/ms-project-certification-training\" target=\"_blank\"><span>KNOW MORE <img class=\"org-img ml-2\" src=\"https://staragile.com/public/images/image-webp/Orange_Icon.webp\"/></span></a>,\n",
              " <a href=\"https://staragile.com/in/devops/devops-certification-training\" target=\"_blank\"><span>KNOW MORE <img class=\"org-img ml-2\" src=\"https://staragile.com/public/images/image-webp/Orange_Icon.webp\"/></span></a>,\n",
              " <a href=\"https://staragile.com/in/devops/jenkins-certification-training\" target=\"_blank\"><span>KNOW MORE <img class=\"org-img ml-2\" src=\"https://staragile.com/public/images/image-webp/Orange_Icon.webp\"/></span></a>,\n",
              " <a href=\"https://staragile.com/in/devops/aws-devops-certification-training\" target=\"_blank\"><span>KNOW MORE <img class=\"org-img ml-2\" src=\"https://staragile.com/public/images/image-webp/Orange_Icon.webp\"/></span></a>,\n",
              " <a href=\"https://staragile.com/in/devops/docker-certification-training\" target=\"_blank\"><span>KNOW MORE <img class=\"org-img ml-2\" src=\"https://staragile.com/public/images/image-webp/Orange_Icon.webp\"/></span></a>,\n",
              " <a href=\"https://staragile.com/in/devops/kubernetes-certification-training\" target=\"_blank\"><span>KNOW MORE <img class=\"org-img ml-2\" src=\"https://staragile.com/public/images/image-webp/Orange_Icon.webp\"/></span></a>,\n",
              " <a href=\"https://staragile.com/in/devops/devops-certification-training-placement-guarantee\" target=\"_blank\"><span>KNOW MORE <img class=\"org-img ml-2\" src=\"https://staragile.com/public/images/image-webp/Orange_Icon.webp\"/></span></a>,\n",
              " <a href=\"https://staragile.com/in/quality-management/lean-six-sigma-green-belt-certification\" target=\"_blank\"><span>KNOW MORE <img class=\"org-img ml-2\" src=\"https://staragile.com/public/images/image-webp/Orange_Icon.webp\"/></span></a>,\n",
              " <a href=\"https://staragile.com/in/quality-management/lean-six-sigma-black-belt-certification-training\" target=\"_blank\"><span>KNOW MORE <img class=\"org-img ml-2\" src=\"https://staragile.com/public/images/image-webp/Orange_Icon.webp\"/></span></a>,\n",
              " <a href=\"https://staragile.com/in/data-science/data-science-with-python-certification-training\" target=\"_blank\"><span>KNOW MORE <img class=\"org-img ml-2\" src=\"https://staragile.com/public/images/image-webp/Orange_Icon.webp\"/></span></a>,\n",
              " <a href=\"https://staragile.com/in/data-science/data-science-with-r-certification-training\" target=\"_blank\"><span>KNOW MORE <img class=\"org-img ml-2\" src=\"https://staragile.com/public/images/image-webp/Orange_Icon.webp\"/></span></a>,\n",
              " <a href=\"https://staragile.com/in/data-science/machine-learning-certification-training\" target=\"_blank\"><span>KNOW MORE <img class=\"org-img ml-2\" src=\"https://staragile.com/public/images/image-webp/Orange_Icon.webp\"/></span></a>,\n",
              " <a href=\"https://staragile.com/in/data-science/sas-certification-training\" target=\"_blank\"><span>KNOW MORE <img class=\"org-img ml-2\" src=\"https://staragile.com/public/images/image-webp/Orange_Icon.webp\"/></span></a>,\n",
              " <a href=\"https://staragile.com/in/data-science/data-science-course-training\" target=\"_blank\"><span>KNOW MORE <img class=\"org-img ml-2\" src=\"https://staragile.com/public/images/image-webp/Orange_Icon.webp\"/></span></a>,\n",
              " <a href=\"https://staragile.com/in/data-science/deep-learning-certification-training\" target=\"_blank\"><span>KNOW MORE <img class=\"org-img ml-2\" src=\"https://staragile.com/public/images/image-webp/Orange_Icon.webp\"/></span></a>,\n",
              " <a href=\"https://staragile.com/in/data-science/artificial-intelligence-certification-training\" target=\"_blank\"><span>KNOW MORE <img class=\"org-img ml-2\" src=\"https://staragile.com/public/images/image-webp/Orange_Icon.webp\"/></span></a>,\n",
              " <a href=\"https://staragile.com/in/data-science/data-science-course-training-with-placement\" target=\"_blank\"><span>KNOW MORE <img class=\"org-img ml-2\" src=\"https://staragile.com/public/images/image-webp/Orange_Icon.webp\"/></span></a>,\n",
              " <a href=\"https://staragile.com/in/big-data/big-data-hadoop-certification-training\" target=\"_blank\"><span>KNOW MORE <img class=\"org-img ml-2\" src=\"https://staragile.com/public/images/image-webp/Orange_Icon.webp\"/></span></a>,\n",
              " <a href=\"https://staragile.com/in/big-data/hadoop-administration-certification-training\" target=\"_blank\"><span>KNOW MORE <img class=\"org-img ml-2\" src=\"https://staragile.com/public/images/image-webp/Orange_Icon.webp\"/></span></a>,\n",
              " <a href=\"https://staragile.com/in/masters-program/agile-masters-program\" target=\"_blank\"><span>KNOW MORE <img class=\"org-img ml-2\" src=\"https://staragile.com/public/images/image-webp/Orange_Icon.webp\"/></span></a>,\n",
              " <a href=\"https://staragile.com/in/masters-program/cloud-architect-masters-program\" target=\"_blank\"><span>KNOW MORE <img class=\"org-img ml-2\" src=\"https://staragile.com/public/images/image-webp/Orange_Icon.webp\"/></span></a>,\n",
              " <a href=\"https://staragile.com/in/masters-program/lean-six-sigma-masters-program\" target=\"_blank\"><span>KNOW MORE <img class=\"org-img ml-2\" src=\"https://staragile.com/public/images/image-webp/Orange_Icon.webp\"/></span></a>,\n",
              " <a href=\"https://staragile.com/in/masters-program/pmp-plus-masters-program\" target=\"_blank\"><span>KNOW MORE <img class=\"org-img ml-2\" src=\"https://staragile.com/public/images/image-webp/Orange_Icon.webp\"/></span></a>,\n",
              " <a href=\"https://staragile.com/in/software-testing/selenium-certification-training\" target=\"_blank\"><span>KNOW MORE <img class=\"org-img ml-2\" src=\"https://staragile.com/public/images/image-webp/Orange_Icon.webp\"/></span></a>,\n",
              " <a href=\"https://staragile.com/in/it-service-and-architecture/itil-foundation-certification-training\" target=\"_blank\"><span>KNOW MORE <img class=\"org-img ml-2\" src=\"https://staragile.com/public/images/image-webp/Orange_Icon.webp\"/></span></a>,\n",
              " <a href=\"https://staragile.com/in/masters-program/agile-masters-program\"><div class=\"owl-item\"><div class=\"col-xl-12 col-md-12 col-sm-12 col-12\"><div class=\"master-cardd1\"><h4 class=\"master-heading3\">Agile Master’s Program</h4><div class=\"master-bottom3\"><div class=\"calender3\"><div class=\"calender3\"><span><img alt=\"calender\" class=\"cal-img mr-2 lazy\" data-src=\"https://staragile.com/public/images/image-webp/black-cal.webp\" data-srcset=\"https://staragile.com/public/images/badge-lazy-load.jpg\" height=\"13\" src=\"https://staragile.com/public/images/badge-lazy-load.jpg\" width=\"12\"/>2 Months</span><span class=\"vertical-line\"></span><span><img alt=\"calender\" class=\"pl-img mr-2 lazy\" data-src=\"https://staragile.com/public/images/image-webp/book3.webp\" data-srcset=\"https://staragile.com/public/images/badge-lazy-load.jpg\" height=\"13\" src=\"https://staragile.com/public/images/badge-lazy-load.jpg\" width=\"16\"/>5 Courses</span></div></div></div><div class=\"master-list3\"><div class=\"pb-2\"><span class=\"master-circle3 page_speed_2050990946\">69+ Hours of Live online classes</span></div><div class=\"pb-2\"><span class=\"master-circle3 page_speed_2050990946\">In Collaboration with IBM</span></div><div class=\"pb-2\"><span class=\"master-circle3 page_speed_2050990946\">Globally Recognized</span></div></div></div><div class=\"design-card\"><h2 class=\"he\">Master <br/> Program</h2></div></div></div></a>,\n",
              " <a href=\"https://staragile.com/in/masters-program/cloud-architect-masters-program\"><div class=\"owl-item\"><div class=\"col-xl-12 col-md-12 col-sm-12 col-12\"><div class=\"master-cardd2\"><h4 class=\"master-heading3\">Cloud Architect Master’s Program</h4><div class=\"master-bottom3\"><div class=\"calender3\"><div class=\"calender3\"><span><img alt=\"calender\" class=\"cal-img mr-2 lazy\" data-src=\"https://staragile.com/public/images/image-webp/black-cal.webp\" data-srcset=\"https://staragile.com/public/images/badge-lazy-load.jpg\" height=\"13\" src=\"https://staragile.com/public/images/badge-lazy-load.jpg\" width=\"12\"/>2 Months</span><span class=\"vertical-line\"></span><span><img alt=\"calender\" class=\"pl-img mr-2 lazy\" data-src=\"https://staragile.com/public/images/image-webp/book3.webp\" data-srcset=\"https://staragile.com/public/images/badge-lazy-load.jpg\" height=\"13\" src=\"https://staragile.com/public/images/badge-lazy-load.jpg\" width=\"16\"/>4 Courses</span></div></div></div><div class=\"master-list3\"><div class=\"pb-2\"><span class=\"master-circle3 page_speed_2050990946\">225+ hours of Applied Learning</span></div><div class=\"pb-2\"><span class=\"master-circle3 page_speed_2050990946\">In Collaboration with IBM</span></div><div class=\"pb-2\"><span class=\"master-circle3 page_speed_2050990946\">Project in 3 domains</span></div></div></div><div class=\"design-card\"><h2 class=\"he\">Master <br/> Program</h2></div></div></div></a>,\n",
              " <a href=\"https://staragile.com/in/masters-program/lean-six-sigma-masters-program\"><div class=\"owl-item\"><div class=\"col-xl-12 col-md-12 col-sm-12 col-12\"><div class=\"master-cardd3\"><h4 class=\"master-heading3\">Lean Six Sigma Master’s Program</h4><div class=\"master-bottom3\"><div class=\"calender3\"><div class=\"calender3\"><span><img alt=\"calender\" class=\"cal-img mr-2 lazy\" data-src=\"https://staragile.com/public/images/image-webp/black-cal.webp\" data-srcset=\"https://staragile.com/public/images/badge-lazy-load.jpg\" height=\"13\" src=\"https://staragile.com/public/images/badge-lazy-load.jpg\" width=\"12\"/>45 Days</span><span class=\"vertical-line\"></span><span><img alt=\"calender\" class=\"pl-img mr-2 lazy\" data-src=\"https://staragile.com/public/images/image-webp/book3.webp\" data-srcset=\"https://staragile.com/public/images/badge-lazy-load.jpg\" height=\"13\" src=\"https://staragile.com/public/images/badge-lazy-load.jpg\" width=\"16\"/>3 Courses</span></div></div></div><div class=\"master-list3\"><div class=\"pb-2\"><span class=\"master-circle3 page_speed_2050990946\">60+ Hours of Blending Learning</span></div><div class=\"pb-2\"><span class=\"master-circle3 page_speed_2050990946\">Content Aligned with IASSC &amp; ASQ</span></div><div class=\"pb-2\"><span class=\"master-circle3 page_speed_2050990946\">4 Projects &amp; 6 Case Studies</span></div></div></div><div class=\"design-card\"><h2 class=\"he\">Master <br/> Program</h2></div></div></div></a>,\n",
              " <a href=\"https://staragile.com/in/masters-program/pmp-plus-masters-program\"><div class=\"owl-item\"><div class=\"col-xl-12 col-md-12 col-sm-12 col-12\"><div class=\"master-cardd4\"><h4 class=\"master-heading3\">PMP Plus Master's Program</h4><div class=\"master-bottom3\"><div class=\"calender3\"><div class=\"calender3\"><span><img alt=\"calender\" class=\"cal-img mr-2 lazy\" data-src=\"https://staragile.com/public/images/image-webp/black-cal.webp\" data-srcset=\"https://staragile.com/public/images/badge-lazy-load.jpg\" height=\"13\" src=\"https://staragile.com/public/images/badge-lazy-load.jpg\" width=\"12\"/>1 Month</span><span class=\"vertical-line\"></span><span><img alt=\"calender\" class=\"pl-img mr-2 lazy\" data-src=\"https://staragile.com/public/images/image-webp/book3.webp\" data-srcset=\"https://staragile.com/public/images/badge-lazy-load.jpg\" height=\"13\" src=\"https://staragile.com/public/images/badge-lazy-load.jpg\" width=\"16\"/>5 Courses</span></div></div></div><div class=\"master-list3\"><div class=\"pb-2\"><span class=\"master-circle3 page_speed_2050990946\">3 Year Course Access</span></div><div class=\"pb-2\"><span class=\"master-circle3 page_speed_2050990946\">Earn 60+ PDU’s &amp; Real Life Projects</span></div><div class=\"pb-2\"><span class=\"master-circle3 page_speed_2050990946\">Get 5 Certifications</span></div></div></div><div class=\"design-card\"><h2 class=\"he\">Master <br/> Program</h2></div></div></div></a>,\n",
              " <a><img alt=\"user\" class=\"lazy\" data-src=\"https://staragile.com/public/images/image-webp/link-img.webp\" data-srcset=\"https://staragile.com/public/images/badge-lazy-load.jpg\" src=\"https://staragile.com/public/images/badge-lazy-load.jpg\"/></a>,\n",
              " <a><img alt=\"user\" class=\"lazy\" data-src=\"https://staragile.com/public/images/image-webp/link-img.webp\" data-srcset=\"https://staragile.com/public/images/badge-lazy-load.jpg\" src=\"https://staragile.com/public/images/badge-lazy-load.jpg\"/></a>,\n",
              " <a><img alt=\"user\" class=\"lazy\" data-src=\"https://staragile.com/public/images/image-webp/link-img.webp\" data-srcset=\"https://staragile.com/public/images/badge-lazy-load.jpg\" src=\"https://staragile.com/public/images/badge-lazy-load.jpg\"/></a>,\n",
              " <a><img alt=\"user\" class=\"lazy\" data-src=\"https://staragile.com/public/images/image-webp/link-img.webp\" data-srcset=\"https://staragile.com/public/images/badge-lazy-load.jpg\" src=\"https://staragile.com/public/images/badge-lazy-load.jpg\"/></a>,\n",
              " <a><img alt=\"user\" class=\"lazy\" data-src=\"https://staragile.com/public/images/image-webp/link-img.webp\" data-srcset=\"https://staragile.com/public/images/badge-lazy-load.jpg\" src=\"https://staragile.com/public/images/badge-lazy-load.jpg\"/></a>,\n",
              " <a><img alt=\"user\" class=\"lazy\" data-src=\"https://staragile.com/public/images/image-webp/link-img.webp\" data-srcset=\"https://staragile.com/public/images/badge-lazy-load.jpg\" src=\"https://staragile.com/public/images/badge-lazy-load.jpg\"/></a>,\n",
              " <a><img alt=\"user\" class=\"lazy\" data-src=\"https://staragile.com/public/images/image-webp/link-img.webp\" data-srcset=\"https://staragile.com/public/images/badge-lazy-load.jpg\" src=\"https://staragile.com/public/images/badge-lazy-load.jpg\"/></a>,\n",
              " <a><img alt=\"user\" class=\"lazy\" data-src=\"https://staragile.com/public/images/image-webp/link-img.webp\" data-srcset=\"https://staragile.com/public/images/badge-lazy-load.jpg\" src=\"https://staragile.com/public/images/badge-lazy-load.jpg\"/></a>,\n",
              " <a><img alt=\"user\" class=\"lazy\" data-src=\"https://staragile.com/public/images/image-webp/link-img.webp\" data-srcset=\"https://staragile.com/public/images/badge-lazy-load.jpg\" src=\"https://staragile.com/public/images/badge-lazy-load.jpg\"/></a>,\n",
              " <a><img alt=\"user\" class=\"lazy\" data-src=\"https://staragile.com/public/images/image-webp/link-img.webp\" data-srcset=\"https://staragile.com/public/images/badge-lazy-load.jpg\" src=\"https://staragile.com/public/images/badge-lazy-load.jpg\"/></a>,\n",
              " <a><img alt=\"user\" class=\"lazy\" data-src=\"https://staragile.com/public/images/image-webp/link-img.webp\" data-srcset=\"https://staragile.com/public/images/badge-lazy-load.jpg\" src=\"https://staragile.com/public/images/badge-lazy-load.jpg\"/></a>,\n",
              " <a><img alt=\"user\" class=\"lazy\" data-src=\"https://staragile.com/public/images/image-webp/link-img.webp\" data-srcset=\"https://staragile.com/public/images/badge-lazy-load.jpg\" src=\"https://staragile.com/public/images/badge-lazy-load.jpg\"/></a>,\n",
              " <a><img alt=\"user\" class=\"lazy\" data-src=\"https://staragile.com/public/images/image-webp/link-img.webp\" data-srcset=\"https://staragile.com/public/images/badge-lazy-load.jpg\" src=\"https://staragile.com/public/images/badge-lazy-load.jpg\"/></a>,\n",
              " <a><img alt=\"user\" class=\"lazy\" data-src=\"https://staragile.com/public/images/image-webp/link-img.webp\" data-srcset=\"https://staragile.com/public/images/badge-lazy-load.jpg\" src=\"https://staragile.com/public/images/badge-lazy-load.jpg\"/></a>,\n",
              " <a><img alt=\"user\" class=\"lazy\" data-src=\"https://staragile.com/public/images/image-webp/link-img.webp\" data-srcset=\"https://staragile.com/public/images/badge-lazy-load.jpg\" src=\"https://staragile.com/public/images/badge-lazy-load.jpg\"/></a>,\n",
              " <a><img alt=\"user\" class=\"lazy\" data-src=\"https://staragile.com/public/images/image-webp/link-img.webp\" data-srcset=\"https://staragile.com/public/images/badge-lazy-load.jpg\" src=\"https://staragile.com/public/images/badge-lazy-load.jpg\"/></a>,\n",
              " <a><img alt=\"user\" class=\"lazy\" data-src=\"https://staragile.com/public/images/image-webp/link-img.webp\" data-srcset=\"https://staragile.com/public/images/badge-lazy-load.jpg\" src=\"https://staragile.com/public/images/badge-lazy-load.jpg\"/></a>,\n",
              " <a><img alt=\"user\" class=\"lazy\" data-src=\"https://staragile.com/public/images/image-webp/link-img.webp\" data-srcset=\"https://staragile.com/public/images/badge-lazy-load.jpg\" src=\"https://staragile.com/public/images/badge-lazy-load.jpg\"/></a>,\n",
              " <a><img alt=\"user\" class=\"lazy\" data-src=\"https://staragile.com/public/images/image-webp/link-img.webp\" data-srcset=\"https://staragile.com/public/images/badge-lazy-load.jpg\" src=\"https://staragile.com/public/images/badge-lazy-load.jpg\"/></a>,\n",
              " <a><img alt=\"user\" class=\"lazy\" data-src=\"https://staragile.com/public/images/image-webp/link-img.webp\" data-srcset=\"https://staragile.com/public/images/badge-lazy-load.jpg\" src=\"https://staragile.com/public/images/badge-lazy-load.jpg\"/></a>,\n",
              " <a><img alt=\"user\" class=\"lazy\" data-src=\"https://staragile.com/public/images/image-webp/link-img.webp\" data-srcset=\"https://staragile.com/public/images/badge-lazy-load.jpg\" src=\"https://staragile.com/public/images/badge-lazy-load.jpg\"/></a>,\n",
              " <a><img alt=\"user\" class=\"lazy\" data-src=\"https://staragile.com/public/images/image-webp/link-img.webp\" data-srcset=\"https://staragile.com/public/images/badge-lazy-load.jpg\" src=\"https://staragile.com/public/images/badge-lazy-load.jpg\"/></a>,\n",
              " <a><img alt=\"user\" class=\"lazy\" data-src=\"https://staragile.com/public/images/image-webp/link-img.webp\" data-srcset=\"https://staragile.com/public/images/badge-lazy-load.jpg\" src=\"https://staragile.com/public/images/badge-lazy-load.jpg\"/></a>,\n",
              " <a><img alt=\"user\" class=\"lazy\" data-src=\"https://staragile.com/public/images/image-webp/link-img.webp\" data-srcset=\"https://staragile.com/public/images/badge-lazy-load.jpg\" src=\"https://staragile.com/public/images/badge-lazy-load.jpg\"/></a>,\n",
              " <a><img alt=\"user\" class=\"lazy\" data-src=\"https://staragile.com/public/images/image-webp/link-img.webp\" data-srcset=\"https://staragile.com/public/images/badge-lazy-load.jpg\" src=\"https://staragile.com/public/images/badge-lazy-load.jpg\"/></a>,\n",
              " <a><img alt=\"user\" class=\"lazy\" data-src=\"https://staragile.com/public/images/image-webp/link-img.webp\" data-srcset=\"https://staragile.com/public/images/badge-lazy-load.jpg\" src=\"https://staragile.com/public/images/badge-lazy-load.jpg\"/></a>,\n",
              " <a><img alt=\"user\" class=\"lazy\" data-src=\"https://staragile.com/public/images/image-webp/link-img.webp\" data-srcset=\"https://staragile.com/public/images/badge-lazy-load.jpg\" src=\"https://staragile.com/public/images/badge-lazy-load.jpg\"/></a>,\n",
              " <a><img alt=\"user\" class=\"lazy\" data-src=\"https://staragile.com/public/images/image-webp/link-img.webp\" data-srcset=\"https://staragile.com/public/images/badge-lazy-load.jpg\" src=\"https://staragile.com/public/images/badge-lazy-load.jpg\"/></a>,\n",
              " <a><img alt=\"user\" class=\"lazy\" data-src=\"https://staragile.com/public/images/image-webp/link-img.webp\" data-srcset=\"https://staragile.com/public/images/badge-lazy-load.jpg\" src=\"https://staragile.com/public/images/badge-lazy-load.jpg\"/></a>,\n",
              " <a><img alt=\"user\" class=\"lazy\" data-src=\"https://staragile.com/public/images/image-webp/link-img.webp\" data-srcset=\"https://staragile.com/public/images/badge-lazy-load.jpg\" src=\"https://staragile.com/public/images/badge-lazy-load.jpg\"/></a>,\n",
              " <a><img alt=\"user\" class=\"lazy\" data-src=\"https://staragile.com/public/images/image-webp/link-img.webp\" data-srcset=\"https://staragile.com/public/images/badge-lazy-load.jpg\" src=\"https://staragile.com/public/images/badge-lazy-load.jpg\"/></a>,\n",
              " <a><img alt=\"user\" class=\"lazy\" data-src=\"https://staragile.com/public/images/image-webp/link-img.webp\" data-srcset=\"https://staragile.com/public/images/badge-lazy-load.jpg\" src=\"https://staragile.com/public/images/badge-lazy-load.jpg\"/></a>,\n",
              " <a><img alt=\"user\" class=\"lazy\" data-src=\"https://staragile.com/public/images/image-webp/link-img.webp\" data-srcset=\"https://staragile.com/public/images/badge-lazy-load.jpg\" src=\"https://staragile.com/public/images/badge-lazy-load.jpg\"/></a>,\n",
              " <a><img alt=\"user\" class=\"lazy\" data-src=\"https://staragile.com/public/images/image-webp/link-img.webp\" data-srcset=\"https://staragile.com/public/images/badge-lazy-load.jpg\" src=\"https://staragile.com/public/images/badge-lazy-load.jpg\"/></a>,\n",
              " <a><img alt=\"user\" class=\"lazy\" data-src=\"https://staragile.com/public/images/image-webp/link-img.webp\" data-srcset=\"https://staragile.com/public/images/badge-lazy-load.jpg\" src=\"https://staragile.com/public/images/badge-lazy-load.jpg\"/></a>,\n",
              " <a><img alt=\"user\" class=\"lazy\" data-src=\"https://staragile.com/public/images/image-webp/link-img.webp\" data-srcset=\"https://staragile.com/public/images/badge-lazy-load.jpg\" src=\"https://staragile.com/public/images/badge-lazy-load.jpg\"/></a>,\n",
              " <a><img alt=\"user\" class=\"lazy\" data-src=\"https://staragile.com/public/images/image-webp/link-img.webp\" data-srcset=\"https://staragile.com/public/images/badge-lazy-load.jpg\" src=\"https://staragile.com/public/images/badge-lazy-load.jpg\"/></a>,\n",
              " <a><img alt=\"user\" class=\"lazy\" data-src=\"https://staragile.com/public/images/image-webp/link-img.webp\" data-srcset=\"https://staragile.com/public/images/badge-lazy-load.jpg\" src=\"https://staragile.com/public/images/badge-lazy-load.jpg\"/></a>,\n",
              " <a><img alt=\"user\" class=\"lazy\" data-src=\"https://staragile.com/public/images/image-webp/link-img.webp\" data-srcset=\"https://staragile.com/public/images/badge-lazy-load.jpg\" src=\"https://staragile.com/public/images/badge-lazy-load.jpg\"/></a>,\n",
              " <a><img alt=\"user\" class=\"lazy\" data-src=\"https://staragile.com/public/images/image-webp/link-img.webp\" data-srcset=\"https://staragile.com/public/images/badge-lazy-load.jpg\" src=\"https://staragile.com/public/images/badge-lazy-load.jpg\"/></a>,\n",
              " <a><img alt=\"user\" class=\"lazy\" data-src=\"https://staragile.com/public/images/image-webp/link-img.webp\" data-srcset=\"https://staragile.com/public/images/badge-lazy-load.jpg\" src=\"https://staragile.com/public/images/badge-lazy-load.jpg\"/></a>,\n",
              " <a><img alt=\"user\" class=\"lazy\" data-src=\"https://staragile.com/public/images/image-webp/link-img.webp\" data-srcset=\"https://staragile.com/public/images/badge-lazy-load.jpg\" src=\"https://staragile.com/public/images/badge-lazy-load.jpg\"/></a>,\n",
              " <a><img alt=\"user\" class=\"lazy\" data-src=\"https://staragile.com/public/images/image-webp/link-img.webp\" data-srcset=\"https://staragile.com/public/images/badge-lazy-load.jpg\" src=\"https://staragile.com/public/images/badge-lazy-load.jpg\"/></a>,\n",
              " <a><img alt=\"user\" class=\"lazy\" data-src=\"https://staragile.com/public/images/image-webp/link-img.webp\" data-srcset=\"https://staragile.com/public/images/badge-lazy-load.jpg\" src=\"https://staragile.com/public/images/badge-lazy-load.jpg\"/></a>,\n",
              " <a><img alt=\"user\" class=\"lazy\" data-src=\"https://staragile.com/public/images/image-webp/link-img.webp\" data-srcset=\"https://staragile.com/public/images/badge-lazy-load.jpg\" src=\"https://staragile.com/public/images/badge-lazy-load.jpg\"/></a>,\n",
              " <a><img alt=\"user\" class=\"lazy\" data-src=\"https://staragile.com/public/images/image-webp/link-img.webp\" data-srcset=\"https://staragile.com/public/images/badge-lazy-load.jpg\" src=\"https://staragile.com/public/images/badge-lazy-load.jpg\"/></a>,\n",
              " <a><img alt=\"user\" class=\"lazy\" data-src=\"https://staragile.com/public/images/image-webp/link-img.webp\" data-srcset=\"https://staragile.com/public/images/badge-lazy-load.jpg\" src=\"https://staragile.com/public/images/badge-lazy-load.jpg\"/></a>,\n",
              " <a><img alt=\"user\" class=\"lazy\" data-src=\"https://staragile.com/public/images/image-webp/link-img.webp\" data-srcset=\"https://staragile.com/public/images/badge-lazy-load.jpg\" src=\"https://staragile.com/public/images/badge-lazy-load.jpg\"/></a>,\n",
              " <a><img alt=\"user\" class=\"lazy\" data-src=\"https://staragile.com/public/images/image-webp/link-img.webp\" data-srcset=\"https://staragile.com/public/images/badge-lazy-load.jpg\" src=\"https://staragile.com/public/images/badge-lazy-load.jpg\"/></a>,\n",
              " <a><img alt=\"user\" class=\"lazy\" data-src=\"https://staragile.com/public/images/image-webp/link-img.webp\" data-srcset=\"https://staragile.com/public/images/badge-lazy-load.jpg\" src=\"https://staragile.com/public/images/badge-lazy-load.jpg\"/></a>,\n",
              " <a><img alt=\"user\" class=\"lazy\" data-src=\"https://staragile.com/public/images/image-webp/link-img.webp\" data-srcset=\"https://staragile.com/public/images/badge-lazy-load.jpg\" src=\"https://staragile.com/public/images/badge-lazy-load.jpg\"/></a>,\n",
              " <a><img alt=\"user\" class=\"lazy\" data-src=\"https://staragile.com/public/images/image-webp/link-img.webp\" data-srcset=\"https://staragile.com/public/images/badge-lazy-load.jpg\" src=\"https://staragile.com/public/images/badge-lazy-load.jpg\"/></a>,\n",
              " <a><img alt=\"user\" class=\"lazy\" data-src=\"https://staragile.com/public/images/image-webp/link-img.webp\" data-srcset=\"https://staragile.com/public/images/badge-lazy-load.jpg\" src=\"https://staragile.com/public/images/badge-lazy-load.jpg\"/></a>,\n",
              " <a><img alt=\"user\" class=\"lazy\" data-src=\"https://staragile.com/public/images/image-webp/link-img.webp\" data-srcset=\"https://staragile.com/public/images/badge-lazy-load.jpg\" src=\"https://staragile.com/public/images/badge-lazy-load.jpg\"/></a>,\n",
              " <a><img alt=\"user\" class=\"lazy\" data-src=\"https://staragile.com/public/images/image-webp/link-img.webp\" data-srcset=\"https://staragile.com/public/images/badge-lazy-load.jpg\" src=\"https://staragile.com/public/images/badge-lazy-load.jpg\"/></a>,\n",
              " <a><img alt=\"user\" class=\"lazy\" data-src=\"https://staragile.com/public/images/image-webp/link-img.webp\" data-srcset=\"https://staragile.com/public/images/badge-lazy-load.jpg\" src=\"https://staragile.com/public/images/badge-lazy-load.jpg\"/></a>,\n",
              " <a><img alt=\"user\" class=\"lazy\" data-src=\"https://staragile.com/public/images/image-webp/link-img.webp\" data-srcset=\"https://staragile.com/public/images/badge-lazy-load.jpg\" src=\"https://staragile.com/public/images/badge-lazy-load.jpg\"/></a>,\n",
              " <a><img alt=\"user\" class=\"lazy\" data-src=\"https://staragile.com/public/images/image-webp/link-img.webp\" data-srcset=\"https://staragile.com/public/images/badge-lazy-load.jpg\" src=\"https://staragile.com/public/images/badge-lazy-load.jpg\"/></a>,\n",
              " <a><img alt=\"user\" class=\"lazy\" data-src=\"https://staragile.com/public/images/image-webp/link-img.webp\" data-srcset=\"https://staragile.com/public/images/badge-lazy-load.jpg\" src=\"https://staragile.com/public/images/badge-lazy-load.jpg\"/></a>,\n",
              " <a><img alt=\"user\" class=\"lazy\" data-src=\"https://staragile.com/public/images/image-webp/link-img.webp\" data-srcset=\"https://staragile.com/public/images/badge-lazy-load.jpg\" src=\"https://staragile.com/public/images/badge-lazy-load.jpg\"/></a>,\n",
              " <a><img alt=\"user\" class=\"lazy\" data-src=\"https://staragile.com/public/images/image-webp/link-img.webp\" data-srcset=\"https://staragile.com/public/images/badge-lazy-load.jpg\" src=\"https://staragile.com/public/images/badge-lazy-load.jpg\"/></a>,\n",
              " <a><img alt=\"user\" class=\"lazy\" data-src=\"https://staragile.com/public/images/image-webp/link-img.webp\" data-srcset=\"https://staragile.com/public/images/badge-lazy-load.jpg\" src=\"https://staragile.com/public/images/badge-lazy-load.jpg\"/></a>,\n",
              " <a><img alt=\"user\" class=\"lazy\" data-src=\"https://staragile.com/public/images/image-webp/link-img.webp\" data-srcset=\"https://staragile.com/public/images/badge-lazy-load.jpg\" src=\"https://staragile.com/public/images/badge-lazy-load.jpg\"/></a>,\n",
              " <a><img alt=\"user\" class=\"lazy\" data-src=\"https://staragile.com/public/images/image-webp/link-img.webp\" data-srcset=\"https://staragile.com/public/images/badge-lazy-load.jpg\" src=\"https://staragile.com/public/images/badge-lazy-load.jpg\"/></a>,\n",
              " <a><img alt=\"user\" class=\"lazy\" data-src=\"https://staragile.com/public/images/image-webp/link-img.webp\" data-srcset=\"https://staragile.com/public/images/badge-lazy-load.jpg\" src=\"https://staragile.com/public/images/badge-lazy-load.jpg\"/></a>,\n",
              " <a><img alt=\"user\" class=\"lazy\" data-src=\"https://staragile.com/public/images/image-webp/link-img.webp\" data-srcset=\"https://staragile.com/public/images/badge-lazy-load.jpg\" src=\"https://staragile.com/public/images/badge-lazy-load.jpg\"/></a>,\n",
              " <a><img alt=\"user\" class=\"lazy\" data-src=\"https://staragile.com/public/images/image-webp/link-img.webp\" data-srcset=\"https://staragile.com/public/images/badge-lazy-load.jpg\" src=\"https://staragile.com/public/images/badge-lazy-load.jpg\"/></a>,\n",
              " <a><img alt=\"user\" class=\"lazy\" data-src=\"https://staragile.com/public/images/image-webp/link-img.webp\" data-srcset=\"https://staragile.com/public/images/badge-lazy-load.jpg\" src=\"https://staragile.com/public/images/badge-lazy-load.jpg\"/></a>,\n",
              " <a><img alt=\"user\" class=\"lazy\" data-src=\"https://staragile.com/public/images/image-webp/link-img.webp\" data-srcset=\"https://staragile.com/public/images/badge-lazy-load.jpg\" src=\"https://staragile.com/public/images/badge-lazy-load.jpg\"/></a>,\n",
              " <a><img alt=\"user\" class=\"lazy\" data-src=\"https://staragile.com/public/images/image-webp/link-img.webp\" data-srcset=\"https://staragile.com/public/images/badge-lazy-load.jpg\" src=\"https://staragile.com/public/images/badge-lazy-load.jpg\"/></a>,\n",
              " <a><img alt=\"user\" class=\"lazy\" data-src=\"https://staragile.com/public/images/image-webp/link-img.webp\" data-srcset=\"https://staragile.com/public/images/badge-lazy-load.jpg\" src=\"https://staragile.com/public/images/badge-lazy-load.jpg\"/></a>,\n",
              " <a><img alt=\"user\" class=\"lazy\" data-src=\"https://staragile.com/public/images/image-webp/link-img.webp\" data-srcset=\"https://staragile.com/public/images/badge-lazy-load.jpg\" src=\"https://staragile.com/public/images/badge-lazy-load.jpg\"/></a>,\n",
              " <a><img alt=\"user\" class=\"lazy\" data-src=\"https://staragile.com/public/images/image-webp/link-img.webp\" data-srcset=\"https://staragile.com/public/images/badge-lazy-load.jpg\" src=\"https://staragile.com/public/images/badge-lazy-load.jpg\"/></a>,\n",
              " <a><img alt=\"user\" class=\"lazy\" data-src=\"https://staragile.com/public/images/image-webp/link-img.webp\" data-srcset=\"https://staragile.com/public/images/badge-lazy-load.jpg\" src=\"https://staragile.com/public/images/badge-lazy-load.jpg\"/></a>,\n",
              " <a><img alt=\"user\" class=\"lazy\" data-src=\"https://staragile.com/public/images/image-webp/link-img.webp\" data-srcset=\"https://staragile.com/public/images/badge-lazy-load.jpg\" src=\"https://staragile.com/public/images/badge-lazy-load.jpg\"/></a>,\n",
              " <a><img alt=\"user\" class=\"lazy\" data-src=\"https://staragile.com/public/images/image-webp/link-img.webp\" data-srcset=\"https://staragile.com/public/images/badge-lazy-load.jpg\" src=\"https://staragile.com/public/images/badge-lazy-load.jpg\"/></a>,\n",
              " <a><img alt=\"user\" class=\"lazy\" data-src=\"https://staragile.com/public/images/image-webp/link-img.webp\" data-srcset=\"https://staragile.com/public/images/badge-lazy-load.jpg\" src=\"https://staragile.com/public/images/badge-lazy-load.jpg\"/></a>,\n",
              " <a><img alt=\"user\" class=\"lazy\" data-src=\"https://staragile.com/public/images/image-webp/link-img.webp\" data-srcset=\"https://staragile.com/public/images/badge-lazy-load.jpg\" src=\"https://staragile.com/public/images/badge-lazy-load.jpg\"/></a>,\n",
              " <a><img alt=\"user\" class=\"lazy\" data-src=\"https://staragile.com/public/images/image-webp/link-img.webp\" data-srcset=\"https://staragile.com/public/images/badge-lazy-load.jpg\" src=\"https://staragile.com/public/images/badge-lazy-load.jpg\"/></a>,\n",
              " <a><img alt=\"user\" class=\"lazy\" data-src=\"https://staragile.com/public/images/image-webp/link-img.webp\" data-srcset=\"https://staragile.com/public/images/badge-lazy-load.jpg\" src=\"https://staragile.com/public/images/badge-lazy-load.jpg\"/></a>,\n",
              " <a><img alt=\"user\" class=\"lazy\" data-src=\"https://staragile.com/public/images/image-webp/link-img.webp\" data-srcset=\"https://staragile.com/public/images/badge-lazy-load.jpg\" src=\"https://staragile.com/public/images/badge-lazy-load.jpg\"/></a>,\n",
              " <a><img alt=\"user\" class=\"lazy\" data-src=\"https://staragile.com/public/images/image-webp/link-img.webp\" data-srcset=\"https://staragile.com/public/images/badge-lazy-load.jpg\" src=\"https://staragile.com/public/images/badge-lazy-load.jpg\"/></a>,\n",
              " <a><img alt=\"user\" class=\"lazy\" data-src=\"https://staragile.com/public/images/image-webp/link-img.webp\" data-srcset=\"https://staragile.com/public/images/badge-lazy-load.jpg\" src=\"https://staragile.com/public/images/badge-lazy-load.jpg\"/></a>,\n",
              " <a><img alt=\"user\" class=\"lazy\" data-src=\"https://staragile.com/public/images/image-webp/link-img.webp\" data-srcset=\"https://staragile.com/public/images/badge-lazy-load.jpg\" src=\"https://staragile.com/public/images/badge-lazy-load.jpg\"/></a>,\n",
              " <a><img alt=\"user\" class=\"lazy\" data-src=\"https://staragile.com/public/images/image-webp/link-img.webp\" data-srcset=\"https://staragile.com/public/images/badge-lazy-load.jpg\" src=\"https://staragile.com/public/images/badge-lazy-load.jpg\"/></a>,\n",
              " <a><img alt=\"user\" class=\"lazy\" data-src=\"https://staragile.com/public/images/image-webp/link-img.webp\" data-srcset=\"https://staragile.com/public/images/badge-lazy-load.jpg\" src=\"https://staragile.com/public/images/badge-lazy-load.jpg\"/></a>,\n",
              " <a><img alt=\"user\" class=\"lazy\" data-src=\"https://staragile.com/public/images/image-webp/link-img.webp\" data-srcset=\"https://staragile.com/public/images/badge-lazy-load.jpg\" src=\"https://staragile.com/public/images/badge-lazy-load.jpg\"/></a>,\n",
              " <a><img alt=\"user\" class=\"lazy\" data-src=\"https://staragile.com/public/images/image-webp/link-img.webp\" data-srcset=\"https://staragile.com/public/images/badge-lazy-load.jpg\" src=\"https://staragile.com/public/images/badge-lazy-load.jpg\"/></a>,\n",
              " <a><img alt=\"user\" class=\"lazy\" data-src=\"https://staragile.com/public/images/image-webp/link-img.webp\" data-srcset=\"https://staragile.com/public/images/badge-lazy-load.jpg\" src=\"https://staragile.com/public/images/badge-lazy-load.jpg\"/></a>,\n",
              " <a><img alt=\"user\" class=\"lazy\" data-src=\"https://staragile.com/public/images/image-webp/link-img.webp\" data-srcset=\"https://staragile.com/public/images/badge-lazy-load.jpg\" src=\"https://staragile.com/public/images/badge-lazy-load.jpg\"/></a>,\n",
              " <a><img alt=\"user\" class=\"lazy\" data-src=\"https://staragile.com/public/images/image-webp/link-img.webp\" data-srcset=\"https://staragile.com/public/images/badge-lazy-load.jpg\" src=\"https://staragile.com/public/images/badge-lazy-load.jpg\"/></a>,\n",
              " <a><img alt=\"user\" class=\"lazy\" data-src=\"https://staragile.com/public/images/image-webp/link-img.webp\" data-srcset=\"https://staragile.com/public/images/badge-lazy-load.jpg\" src=\"https://staragile.com/public/images/badge-lazy-load.jpg\"/></a>,\n",
              " <a><img alt=\"user\" class=\"lazy\" data-src=\"https://staragile.com/public/images/image-webp/link-img.webp\" data-srcset=\"https://staragile.com/public/images/badge-lazy-load.jpg\" src=\"https://staragile.com/public/images/badge-lazy-load.jpg\"/></a>,\n",
              " <a><img alt=\"user\" class=\"lazy\" data-src=\"https://staragile.com/public/images/image-webp/link-img.webp\" data-srcset=\"https://staragile.com/public/images/badge-lazy-load.jpg\" src=\"https://staragile.com/public/images/badge-lazy-load.jpg\"/></a>,\n",
              " <a><img alt=\"user\" class=\"lazy\" data-src=\"https://staragile.com/public/images/image-webp/link-img.webp\" data-srcset=\"https://staragile.com/public/images/badge-lazy-load.jpg\" src=\"https://staragile.com/public/images/badge-lazy-load.jpg\"/></a>,\n",
              " <a><img alt=\"user\" class=\"lazy\" data-src=\"https://staragile.com/public/images/image-webp/link-img.webp\" data-srcset=\"https://staragile.com/public/images/badge-lazy-load.jpg\" src=\"https://staragile.com/public/images/badge-lazy-load.jpg\"/></a>,\n",
              " <a><img alt=\"user\" class=\"lazy\" data-src=\"https://staragile.com/public/images/image-webp/link-img.webp\" data-srcset=\"https://staragile.com/public/images/badge-lazy-load.jpg\" src=\"https://staragile.com/public/images/badge-lazy-load.jpg\"/></a>,\n",
              " <a><img alt=\"user\" class=\"lazy\" data-src=\"https://staragile.com/public/images/image-webp/link-img.webp\" data-srcset=\"https://staragile.com/public/images/badge-lazy-load.jpg\" src=\"https://staragile.com/public/images/badge-lazy-load.jpg\"/></a>,\n",
              " <a><img alt=\"user\" class=\"lazy\" data-src=\"https://staragile.com/public/images/image-webp/link-img.webp\" data-srcset=\"https://staragile.com/public/images/badge-lazy-load.jpg\" src=\"https://staragile.com/public/images/badge-lazy-load.jpg\"/></a>,\n",
              " <a><img alt=\"user\" class=\"lazy\" data-src=\"https://staragile.com/public/images/image-webp/link-img.webp\" data-srcset=\"https://staragile.com/public/images/badge-lazy-load.jpg\" src=\"https://staragile.com/public/images/badge-lazy-load.jpg\"/></a>,\n",
              " <a><img alt=\"user\" class=\"lazy\" data-src=\"https://staragile.com/public/images/image-webp/link-img.webp\" data-srcset=\"https://staragile.com/public/images/badge-lazy-load.jpg\" src=\"https://staragile.com/public/images/badge-lazy-load.jpg\"/></a>,\n",
              " <a><img alt=\"user\" class=\"lazy\" data-src=\"https://staragile.com/public/images/image-webp/link-img.webp\" data-srcset=\"https://staragile.com/public/images/badge-lazy-load.jpg\" src=\"https://staragile.com/public/images/badge-lazy-load.jpg\"/></a>,\n",
              " <a><img alt=\"user\" class=\"lazy\" data-src=\"https://staragile.com/public/images/image-webp/link-img.webp\" data-srcset=\"https://staragile.com/public/images/badge-lazy-load.jpg\" src=\"https://staragile.com/public/images/badge-lazy-load.jpg\"/></a>,\n",
              " <a><img alt=\"user\" class=\"lazy\" data-src=\"https://staragile.com/public/images/image-webp/link-img.webp\" data-srcset=\"https://staragile.com/public/images/badge-lazy-load.jpg\" src=\"https://staragile.com/public/images/badge-lazy-load.jpg\"/></a>,\n",
              " <a><img alt=\"user\" class=\"lazy\" data-src=\"https://staragile.com/public/images/image-webp/link-img.webp\" data-srcset=\"https://staragile.com/public/images/badge-lazy-load.jpg\" src=\"https://staragile.com/public/images/badge-lazy-load.jpg\"/></a>,\n",
              " <a><img alt=\"user\" class=\"lazy\" data-src=\"https://staragile.com/public/images/image-webp/link-img.webp\" data-srcset=\"https://staragile.com/public/images/badge-lazy-load.jpg\" src=\"https://staragile.com/public/images/badge-lazy-load.jpg\"/></a>,\n",
              " <a><img alt=\"user\" class=\"lazy\" data-src=\"https://staragile.com/public/images/image-webp/link-img.webp\" data-srcset=\"https://staragile.com/public/images/badge-lazy-load.jpg\" src=\"https://staragile.com/public/images/badge-lazy-load.jpg\"/></a>,\n",
              " <a><img alt=\"user\" class=\"lazy\" data-src=\"https://staragile.com/public/images/image-webp/link-img.webp\" data-srcset=\"https://staragile.com/public/images/badge-lazy-load.jpg\" src=\"https://staragile.com/public/images/badge-lazy-load.jpg\"/></a>,\n",
              " <a><img alt=\"user\" class=\"lazy\" data-src=\"https://staragile.com/public/images/image-webp/link-img.webp\" data-srcset=\"https://staragile.com/public/images/badge-lazy-load.jpg\" src=\"https://staragile.com/public/images/badge-lazy-load.jpg\"/></a>,\n",
              " <a><img alt=\"user\" class=\"lazy\" data-src=\"https://staragile.com/public/images/image-webp/link-img.webp\" data-srcset=\"https://staragile.com/public/images/badge-lazy-load.jpg\" src=\"https://staragile.com/public/images/badge-lazy-load.jpg\"/></a>,\n",
              " <a><img alt=\"user\" class=\"lazy\" data-src=\"https://staragile.com/public/images/image-webp/link-img.webp\" data-srcset=\"https://staragile.com/public/images/badge-lazy-load.jpg\" src=\"https://staragile.com/public/images/badge-lazy-load.jpg\"/></a>,\n",
              " <a><img alt=\"user\" class=\"lazy\" data-src=\"https://staragile.com/public/images/image-webp/link-img.webp\" data-srcset=\"https://staragile.com/public/images/badge-lazy-load.jpg\" src=\"https://staragile.com/public/images/badge-lazy-load.jpg\"/></a>,\n",
              " <a><img alt=\"user\" class=\"lazy\" data-src=\"https://staragile.com/public/images/image-webp/link-img.webp\" data-srcset=\"https://staragile.com/public/images/badge-lazy-load.jpg\" src=\"https://staragile.com/public/images/badge-lazy-load.jpg\"/></a>,\n",
              " <a><img alt=\"user\" class=\"lazy\" data-src=\"https://staragile.com/public/images/image-webp/link-img.webp\" data-srcset=\"https://staragile.com/public/images/badge-lazy-load.jpg\" src=\"https://staragile.com/public/images/badge-lazy-load.jpg\"/></a>,\n",
              " <a><img alt=\"user\" class=\"lazy\" data-src=\"https://staragile.com/public/images/image-webp/link-img.webp\" data-srcset=\"https://staragile.com/public/images/badge-lazy-load.jpg\" src=\"https://staragile.com/public/images/badge-lazy-load.jpg\"/></a>,\n",
              " <a><img alt=\"user\" class=\"lazy\" data-src=\"https://staragile.com/public/images/image-webp/link-img.webp\" data-srcset=\"https://staragile.com/public/images/badge-lazy-load.jpg\" src=\"https://staragile.com/public/images/badge-lazy-load.jpg\"/></a>,\n",
              " <a><img alt=\"user\" class=\"lazy\" data-src=\"https://staragile.com/public/images/image-webp/link-img.webp\" data-srcset=\"https://staragile.com/public/images/badge-lazy-load.jpg\" src=\"https://staragile.com/public/images/badge-lazy-load.jpg\"/></a>,\n",
              " <a><img alt=\"user\" class=\"lazy\" data-src=\"https://staragile.com/public/images/image-webp/link-img.webp\" data-srcset=\"https://staragile.com/public/images/badge-lazy-load.jpg\" src=\"https://staragile.com/public/images/badge-lazy-load.jpg\"/></a>,\n",
              " <a><img alt=\"user\" class=\"lazy\" data-src=\"https://staragile.com/public/images/image-webp/link-img.webp\" data-srcset=\"https://staragile.com/public/images/badge-lazy-load.jpg\" src=\"https://staragile.com/public/images/badge-lazy-load.jpg\"/></a>,\n",
              " <a><img alt=\"user\" class=\"lazy\" data-src=\"https://staragile.com/public/images/image-webp/link-img.webp\" data-srcset=\"https://staragile.com/public/images/badge-lazy-load.jpg\" src=\"https://staragile.com/public/images/badge-lazy-load.jpg\"/></a>,\n",
              " <a><img alt=\"user\" class=\"lazy\" data-src=\"https://staragile.com/public/images/image-webp/link-img.webp\" data-srcset=\"https://staragile.com/public/images/badge-lazy-load.jpg\" src=\"https://staragile.com/public/images/badge-lazy-load.jpg\"/></a>,\n",
              " <a><img alt=\"user\" class=\"lazy\" data-src=\"https://staragile.com/public/images/image-webp/link-img.webp\" data-srcset=\"https://staragile.com/public/images/badge-lazy-load.jpg\" src=\"https://staragile.com/public/images/badge-lazy-load.jpg\"/></a>,\n",
              " <a><img alt=\"user\" class=\"lazy\" data-src=\"https://staragile.com/public/images/image-webp/link-img.webp\" data-srcset=\"https://staragile.com/public/images/badge-lazy-load.jpg\" src=\"https://staragile.com/public/images/badge-lazy-load.jpg\"/></a>,\n",
              " <a><img alt=\"user\" class=\"lazy\" data-src=\"https://staragile.com/public/images/image-webp/link-img.webp\" data-srcset=\"https://staragile.com/public/images/badge-lazy-load.jpg\" src=\"https://staragile.com/public/images/badge-lazy-load.jpg\"/></a>,\n",
              " <a><img alt=\"user\" class=\"lazy\" data-src=\"https://staragile.com/public/images/image-webp/link-img.webp\" data-srcset=\"https://staragile.com/public/images/badge-lazy-load.jpg\" src=\"https://staragile.com/public/images/badge-lazy-load.jpg\"/></a>,\n",
              " <a><img alt=\"user\" class=\"lazy\" data-src=\"https://staragile.com/public/images/image-webp/link-img.webp\" data-srcset=\"https://staragile.com/public/images/badge-lazy-load.jpg\" src=\"https://staragile.com/public/images/badge-lazy-load.jpg\"/></a>,\n",
              " <a><img alt=\"user\" class=\"lazy\" data-src=\"https://staragile.com/public/images/image-webp/link-img.webp\" data-srcset=\"https://staragile.com/public/images/badge-lazy-load.jpg\" src=\"https://staragile.com/public/images/badge-lazy-load.jpg\"/></a>,\n",
              " <a><img alt=\"user\" class=\"lazy\" data-src=\"https://staragile.com/public/images/image-webp/link-img.webp\" data-srcset=\"https://staragile.com/public/images/badge-lazy-load.jpg\" src=\"https://staragile.com/public/images/badge-lazy-load.jpg\"/></a>,\n",
              " <a><img alt=\"user\" class=\"lazy\" data-src=\"https://staragile.com/public/images/image-webp/link-img.webp\" data-srcset=\"https://staragile.com/public/images/badge-lazy-load.jpg\" src=\"https://staragile.com/public/images/badge-lazy-load.jpg\"/></a>,\n",
              " <a><img alt=\"user\" class=\"lazy\" data-src=\"https://staragile.com/public/images/image-webp/link-img.webp\" data-srcset=\"https://staragile.com/public/images/badge-lazy-load.jpg\" src=\"https://staragile.com/public/images/badge-lazy-load.jpg\"/></a>,\n",
              " <a><img alt=\"user\" class=\"lazy\" data-src=\"https://staragile.com/public/images/image-webp/link-img.webp\" data-srcset=\"https://staragile.com/public/images/badge-lazy-load.jpg\" src=\"https://staragile.com/public/images/badge-lazy-load.jpg\"/></a>,\n",
              " <a><img alt=\"user\" class=\"lazy\" data-src=\"https://staragile.com/public/images/image-webp/link-img.webp\" data-srcset=\"https://staragile.com/public/images/badge-lazy-load.jpg\" src=\"https://staragile.com/public/images/badge-lazy-load.jpg\"/></a>,\n",
              " <a><img alt=\"user\" class=\"lazy\" data-src=\"https://staragile.com/public/images/image-webp/link-img.webp\" data-srcset=\"https://staragile.com/public/images/badge-lazy-load.jpg\" src=\"https://staragile.com/public/images/badge-lazy-load.jpg\"/></a>,\n",
              " <a><img alt=\"user\" class=\"lazy\" data-src=\"https://staragile.com/public/images/image-webp/link-img.webp\" data-srcset=\"https://staragile.com/public/images/badge-lazy-load.jpg\" src=\"https://staragile.com/public/images/badge-lazy-load.jpg\"/></a>,\n",
              " <a><img alt=\"user\" class=\"lazy\" data-src=\"https://staragile.com/public/images/image-webp/link-img.webp\" data-srcset=\"https://staragile.com/public/images/badge-lazy-load.jpg\" src=\"https://staragile.com/public/images/badge-lazy-load.jpg\"/></a>,\n",
              " <a><img alt=\"user\" class=\"lazy\" data-src=\"https://staragile.com/public/images/image-webp/link-img.webp\" data-srcset=\"https://staragile.com/public/images/badge-lazy-load.jpg\" src=\"https://staragile.com/public/images/badge-lazy-load.jpg\"/></a>,\n",
              " <a><img alt=\"user\" class=\"lazy\" data-src=\"https://staragile.com/public/images/image-webp/link-img.webp\" data-srcset=\"https://staragile.com/public/images/badge-lazy-load.jpg\" src=\"https://staragile.com/public/images/badge-lazy-load.jpg\"/></a>,\n",
              " <a><img alt=\"user\" class=\"lazy\" data-src=\"https://staragile.com/public/images/image-webp/link-img.webp\" data-srcset=\"https://staragile.com/public/images/badge-lazy-load.jpg\" src=\"https://staragile.com/public/images/badge-lazy-load.jpg\"/></a>,\n",
              " <a><img alt=\"user\" class=\"lazy\" data-src=\"https://staragile.com/public/images/image-webp/link-img.webp\" data-srcset=\"https://staragile.com/public/images/badge-lazy-load.jpg\" src=\"https://staragile.com/public/images/badge-lazy-load.jpg\"/></a>,\n",
              " <a><img alt=\"user\" class=\"lazy\" data-src=\"https://staragile.com/public/images/image-webp/link-img.webp\" data-srcset=\"https://staragile.com/public/images/badge-lazy-load.jpg\" src=\"https://staragile.com/public/images/badge-lazy-load.jpg\"/></a>,\n",
              " <a><img alt=\"user\" class=\"lazy\" data-src=\"https://staragile.com/public/images/image-webp/link-img.webp\" data-srcset=\"https://staragile.com/public/images/badge-lazy-load.jpg\" src=\"https://staragile.com/public/images/badge-lazy-load.jpg\"/></a>,\n",
              " <a><img alt=\"user\" class=\"lazy\" data-src=\"https://staragile.com/public/images/image-webp/link-img.webp\" data-srcset=\"https://staragile.com/public/images/badge-lazy-load.jpg\" src=\"https://staragile.com/public/images/badge-lazy-load.jpg\"/></a>,\n",
              " <a><img alt=\"user\" class=\"lazy\" data-src=\"https://staragile.com/public/images/image-webp/link-img.webp\" data-srcset=\"https://staragile.com/public/images/badge-lazy-load.jpg\" src=\"https://staragile.com/public/images/badge-lazy-load.jpg\"/></a>,\n",
              " <a><img alt=\"user\" class=\"lazy\" data-src=\"https://staragile.com/public/images/image-webp/link-img.webp\" data-srcset=\"https://staragile.com/public/images/badge-lazy-load.jpg\" src=\"https://staragile.com/public/images/badge-lazy-load.jpg\"/></a>,\n",
              " <a><img alt=\"user\" class=\"lazy\" data-src=\"https://staragile.com/public/images/image-webp/link-img.webp\" data-srcset=\"https://staragile.com/public/images/badge-lazy-load.jpg\" src=\"https://staragile.com/public/images/badge-lazy-load.jpg\"/></a>,\n",
              " <a><img alt=\"user\" class=\"lazy\" data-src=\"https://staragile.com/public/images/image-webp/link-img.webp\" data-srcset=\"https://staragile.com/public/images/badge-lazy-load.jpg\" src=\"https://staragile.com/public/images/badge-lazy-load.jpg\"/></a>,\n",
              " <a><img alt=\"user\" class=\"lazy\" data-src=\"https://staragile.com/public/images/image-webp/link-img.webp\" data-srcset=\"https://staragile.com/public/images/badge-lazy-load.jpg\" src=\"https://staragile.com/public/images/badge-lazy-load.jpg\"/></a>,\n",
              " <a><img alt=\"user\" class=\"lazy\" data-src=\"https://staragile.com/public/images/image-webp/link-img.webp\" data-srcset=\"https://staragile.com/public/images/badge-lazy-load.jpg\" src=\"https://staragile.com/public/images/badge-lazy-load.jpg\"/></a>,\n",
              " <a><img alt=\"user\" class=\"lazy\" data-src=\"https://staragile.com/public/images/image-webp/link-img.webp\" data-srcset=\"https://staragile.com/public/images/badge-lazy-load.jpg\" src=\"https://staragile.com/public/images/badge-lazy-load.jpg\"/></a>,\n",
              " <a><img alt=\"user\" class=\"lazy\" data-src=\"https://staragile.com/public/images/image-webp/link-img.webp\" data-srcset=\"https://staragile.com/public/images/badge-lazy-load.jpg\" src=\"https://staragile.com/public/images/badge-lazy-load.jpg\"/></a>,\n",
              " <a><img alt=\"user\" class=\"lazy\" data-src=\"https://staragile.com/public/images/image-webp/link-img.webp\" data-srcset=\"https://staragile.com/public/images/badge-lazy-load.jpg\" src=\"https://staragile.com/public/images/badge-lazy-load.jpg\"/></a>,\n",
              " <a><img alt=\"user\" class=\"lazy\" data-src=\"https://staragile.com/public/images/image-webp/link-img.webp\" data-srcset=\"https://staragile.com/public/images/badge-lazy-load.jpg\" src=\"https://staragile.com/public/images/badge-lazy-load.jpg\"/></a>,\n",
              " <a><img alt=\"user\" class=\"lazy\" data-src=\"https://staragile.com/public/images/image-webp/link-img.webp\" data-srcset=\"https://staragile.com/public/images/badge-lazy-load.jpg\" src=\"https://staragile.com/public/images/badge-lazy-load.jpg\"/></a>,\n",
              " <a><img alt=\"user\" class=\"lazy\" data-src=\"https://staragile.com/public/images/image-webp/link-img.webp\" data-srcset=\"https://staragile.com/public/images/badge-lazy-load.jpg\" src=\"https://staragile.com/public/images/badge-lazy-load.jpg\"/></a>,\n",
              " <a><img alt=\"user\" class=\"lazy\" data-src=\"https://staragile.com/public/images/image-webp/link-img.webp\" data-srcset=\"https://staragile.com/public/images/badge-lazy-load.jpg\" src=\"https://staragile.com/public/images/badge-lazy-load.jpg\"/></a>,\n",
              " <a><img alt=\"user\" class=\"lazy\" data-src=\"https://staragile.com/public/images/image-webp/link-img.webp\" data-srcset=\"https://staragile.com/public/images/badge-lazy-load.jpg\" src=\"https://staragile.com/public/images/badge-lazy-load.jpg\"/></a>,\n",
              " <a><img alt=\"user\" class=\"lazy\" data-src=\"https://staragile.com/public/images/image-webp/link-img.webp\" data-srcset=\"https://staragile.com/public/images/badge-lazy-load.jpg\" src=\"https://staragile.com/public/images/badge-lazy-load.jpg\"/></a>,\n",
              " <a><img alt=\"user\" class=\"lazy\" data-src=\"https://staragile.com/public/images/image-webp/link-img.webp\" data-srcset=\"https://staragile.com/public/images/badge-lazy-load.jpg\" src=\"https://staragile.com/public/images/badge-lazy-load.jpg\"/></a>,\n",
              " <a><img alt=\"user\" class=\"lazy\" data-src=\"https://staragile.com/public/images/image-webp/link-img.webp\" data-srcset=\"https://staragile.com/public/images/badge-lazy-load.jpg\" src=\"https://staragile.com/public/images/badge-lazy-load.jpg\"/></a>,\n",
              " <a><img alt=\"user\" class=\"lazy\" data-src=\"https://staragile.com/public/images/image-webp/link-img.webp\" data-srcset=\"https://staragile.com/public/images/badge-lazy-load.jpg\" src=\"https://staragile.com/public/images/badge-lazy-load.jpg\"/></a>,\n",
              " <a><img alt=\"user\" class=\"lazy\" data-src=\"https://staragile.com/public/images/image-webp/link-img.webp\" data-srcset=\"https://staragile.com/public/images/badge-lazy-load.jpg\" src=\"https://staragile.com/public/images/badge-lazy-load.jpg\"/></a>,\n",
              " <a><img alt=\"user\" class=\"lazy\" data-src=\"https://staragile.com/public/images/image-webp/link-img.webp\" data-srcset=\"https://staragile.com/public/images/badge-lazy-load.jpg\" src=\"https://staragile.com/public/images/badge-lazy-load.jpg\"/></a>,\n",
              " <a><img alt=\"user\" class=\"lazy\" data-src=\"https://staragile.com/public/images/image-webp/link-img.webp\" data-srcset=\"https://staragile.com/public/images/badge-lazy-load.jpg\" src=\"https://staragile.com/public/images/badge-lazy-load.jpg\"/></a>,\n",
              " <a><img alt=\"user\" class=\"lazy\" data-src=\"https://staragile.com/public/images/image-webp/link-img.webp\" data-srcset=\"https://staragile.com/public/images/badge-lazy-load.jpg\" src=\"https://staragile.com/public/images/badge-lazy-load.jpg\"/></a>,\n",
              " <a><img alt=\"user\" class=\"lazy\" data-src=\"https://staragile.com/public/images/image-webp/link-img.webp\" data-srcset=\"https://staragile.com/public/images/badge-lazy-load.jpg\" src=\"https://staragile.com/public/images/badge-lazy-load.jpg\"/></a>,\n",
              " <a><img alt=\"user\" class=\"lazy\" data-src=\"https://staragile.com/public/images/image-webp/link-img.webp\" data-srcset=\"https://staragile.com/public/images/badge-lazy-load.jpg\" src=\"https://staragile.com/public/images/badge-lazy-load.jpg\"/></a>,\n",
              " <a><img alt=\"user\" class=\"lazy\" data-src=\"https://staragile.com/public/images/image-webp/link-img.webp\" data-srcset=\"https://staragile.com/public/images/badge-lazy-load.jpg\" src=\"https://staragile.com/public/images/badge-lazy-load.jpg\"/></a>,\n",
              " <a><img alt=\"user\" class=\"lazy\" data-src=\"https://staragile.com/public/images/image-webp/link-img.webp\" data-srcset=\"https://staragile.com/public/images/badge-lazy-load.jpg\" src=\"https://staragile.com/public/images/badge-lazy-load.jpg\"/></a>,\n",
              " <a><img alt=\"user\" class=\"lazy\" data-src=\"https://staragile.com/public/images/image-webp/link-img.webp\" data-srcset=\"https://staragile.com/public/images/badge-lazy-load.jpg\" src=\"https://staragile.com/public/images/badge-lazy-load.jpg\"/></a>,\n",
              " <a><img alt=\"user\" class=\"lazy\" data-src=\"https://staragile.com/public/images/image-webp/link-img.webp\" data-srcset=\"https://staragile.com/public/images/badge-lazy-load.jpg\" src=\"https://staragile.com/public/images/badge-lazy-load.jpg\"/></a>,\n",
              " <a><img alt=\"user\" class=\"lazy\" data-src=\"https://staragile.com/public/images/image-webp/link-img.webp\" data-srcset=\"https://staragile.com/public/images/badge-lazy-load.jpg\" src=\"https://staragile.com/public/images/badge-lazy-load.jpg\"/></a>,\n",
              " <a><img alt=\"user\" class=\"lazy\" data-src=\"https://staragile.com/public/images/image-webp/link-img.webp\" data-srcset=\"https://staragile.com/public/images/badge-lazy-load.jpg\" src=\"https://staragile.com/public/images/badge-lazy-load.jpg\"/></a>,\n",
              " <a><img alt=\"user\" class=\"lazy\" data-src=\"https://staragile.com/public/images/image-webp/link-img.webp\" data-srcset=\"https://staragile.com/public/images/badge-lazy-load.jpg\" src=\"https://staragile.com/public/images/badge-lazy-load.jpg\"/></a>,\n",
              " <a><img alt=\"user\" class=\"lazy\" data-src=\"https://staragile.com/public/images/image-webp/link-img.webp\" data-srcset=\"https://staragile.com/public/images/badge-lazy-load.jpg\" src=\"https://staragile.com/public/images/badge-lazy-load.jpg\"/></a>,\n",
              " <a><img alt=\"user\" class=\"lazy\" data-src=\"https://staragile.com/public/images/image-webp/link-img.webp\" data-srcset=\"https://staragile.com/public/images/badge-lazy-load.jpg\" src=\"https://staragile.com/public/images/badge-lazy-load.jpg\"/></a>,\n",
              " <a><img alt=\"user\" class=\"lazy\" data-src=\"https://staragile.com/public/images/image-webp/link-img.webp\" data-srcset=\"https://staragile.com/public/images/badge-lazy-load.jpg\" src=\"https://staragile.com/public/images/badge-lazy-load.jpg\"/></a>,\n",
              " <a><img alt=\"user\" class=\"lazy\" data-src=\"https://staragile.com/public/images/image-webp/link-img.webp\" data-srcset=\"https://staragile.com/public/images/badge-lazy-load.jpg\" src=\"https://staragile.com/public/images/badge-lazy-load.jpg\"/></a>,\n",
              " <a><img alt=\"user\" class=\"lazy\" data-src=\"https://staragile.com/public/images/image-webp/link-img.webp\" data-srcset=\"https://staragile.com/public/images/badge-lazy-load.jpg\" src=\"https://staragile.com/public/images/badge-lazy-load.jpg\"/></a>,\n",
              " <a><img alt=\"user\" class=\"lazy\" data-src=\"https://staragile.com/public/images/image-webp/link-img.webp\" data-srcset=\"https://staragile.com/public/images/badge-lazy-load.jpg\" src=\"https://staragile.com/public/images/badge-lazy-load.jpg\"/></a>,\n",
              " <a><img alt=\"user\" class=\"lazy\" data-src=\"https://staragile.com/public/images/image-webp/link-img.webp\" data-srcset=\"https://staragile.com/public/images/badge-lazy-load.jpg\" src=\"https://staragile.com/public/images/badge-lazy-load.jpg\"/></a>,\n",
              " <a><img alt=\"user\" class=\"lazy\" data-src=\"https://staragile.com/public/images/image-webp/link-img.webp\" data-srcset=\"https://staragile.com/public/images/badge-lazy-load.jpg\" src=\"https://staragile.com/public/images/badge-lazy-load.jpg\"/></a>,\n",
              " <a><img alt=\"user\" class=\"lazy\" data-src=\"https://staragile.com/public/images/image-webp/link-img.webp\" data-srcset=\"https://staragile.com/public/images/badge-lazy-load.jpg\" src=\"https://staragile.com/public/images/badge-lazy-load.jpg\"/></a>,\n",
              " <a><img alt=\"user\" class=\"lazy\" data-src=\"https://staragile.com/public/images/image-webp/link-img.webp\" data-srcset=\"https://staragile.com/public/images/badge-lazy-load.jpg\" src=\"https://staragile.com/public/images/badge-lazy-load.jpg\"/></a>,\n",
              " <a><img alt=\"user\" class=\"lazy\" data-src=\"https://staragile.com/public/images/image-webp/link-img.webp\" data-srcset=\"https://staragile.com/public/images/badge-lazy-load.jpg\" src=\"https://staragile.com/public/images/badge-lazy-load.jpg\"/></a>,\n",
              " <a><img alt=\"user\" class=\"lazy\" data-src=\"https://staragile.com/public/images/image-webp/link-img.webp\" data-srcset=\"https://staragile.com/public/images/badge-lazy-load.jpg\" src=\"https://staragile.com/public/images/badge-lazy-load.jpg\"/></a>,\n",
              " <a><img alt=\"user\" class=\"lazy\" data-src=\"https://staragile.com/public/images/image-webp/link-img.webp\" data-srcset=\"https://staragile.com/public/images/badge-lazy-load.jpg\" src=\"https://staragile.com/public/images/badge-lazy-load.jpg\"/></a>,\n",
              " <a><img alt=\"user\" class=\"lazy\" data-src=\"https://staragile.com/public/images/image-webp/link-img.webp\" data-srcset=\"https://staragile.com/public/images/badge-lazy-load.jpg\" src=\"https://staragile.com/public/images/badge-lazy-load.jpg\"/></a>,\n",
              " <a><img alt=\"user\" class=\"lazy\" data-src=\"https://staragile.com/public/images/image-webp/link-img.webp\" data-srcset=\"https://staragile.com/public/images/badge-lazy-load.jpg\" src=\"https://staragile.com/public/images/badge-lazy-load.jpg\"/></a>,\n",
              " <a><img alt=\"user\" class=\"lazy\" data-src=\"https://staragile.com/public/images/image-webp/link-img.webp\" data-srcset=\"https://staragile.com/public/images/badge-lazy-load.jpg\" src=\"https://staragile.com/public/images/badge-lazy-load.jpg\"/></a>,\n",
              " <a><img alt=\"user\" class=\"lazy\" data-src=\"https://staragile.com/public/images/image-webp/link-img.webp\" data-srcset=\"https://staragile.com/public/images/badge-lazy-load.jpg\" src=\"https://staragile.com/public/images/badge-lazy-load.jpg\"/></a>,\n",
              " <a><img alt=\"user\" class=\"lazy\" data-src=\"https://staragile.com/public/images/image-webp/link-img.webp\" data-srcset=\"https://staragile.com/public/images/badge-lazy-load.jpg\" src=\"https://staragile.com/public/images/badge-lazy-load.jpg\"/></a>,\n",
              " <a><img alt=\"user\" class=\"lazy\" data-src=\"https://staragile.com/public/images/image-webp/link-img.webp\" data-srcset=\"https://staragile.com/public/images/badge-lazy-load.jpg\" src=\"https://staragile.com/public/images/badge-lazy-load.jpg\"/></a>,\n",
              " <a><img alt=\"user\" class=\"lazy\" data-src=\"https://staragile.com/public/images/image-webp/link-img.webp\" data-srcset=\"https://staragile.com/public/images/badge-lazy-load.jpg\" src=\"https://staragile.com/public/images/badge-lazy-load.jpg\"/></a>,\n",
              " <a><img alt=\"user\" class=\"lazy\" data-src=\"https://staragile.com/public/images/image-webp/link-img.webp\" data-srcset=\"https://staragile.com/public/images/badge-lazy-load.jpg\" src=\"https://staragile.com/public/images/badge-lazy-load.jpg\"/></a>,\n",
              " <a><img alt=\"user\" class=\"lazy\" data-src=\"https://staragile.com/public/images/image-webp/link-img.webp\" data-srcset=\"https://staragile.com/public/images/badge-lazy-load.jpg\" src=\"https://staragile.com/public/images/badge-lazy-load.jpg\"/></a>,\n",
              " <a><img alt=\"user\" class=\"lazy\" data-src=\"https://staragile.com/public/images/image-webp/link-img.webp\" data-srcset=\"https://staragile.com/public/images/badge-lazy-load.jpg\" src=\"https://staragile.com/public/images/badge-lazy-load.jpg\"/></a>,\n",
              " <a><img alt=\"user\" class=\"lazy\" data-src=\"https://staragile.com/public/images/image-webp/link-img.webp\" data-srcset=\"https://staragile.com/public/images/badge-lazy-load.jpg\" src=\"https://staragile.com/public/images/badge-lazy-load.jpg\"/></a>,\n",
              " <a><img alt=\"user\" class=\"lazy\" data-src=\"https://staragile.com/public/images/image-webp/link-img.webp\" data-srcset=\"https://staragile.com/public/images/badge-lazy-load.jpg\" src=\"https://staragile.com/public/images/badge-lazy-load.jpg\"/></a>,\n",
              " <a><img alt=\"user\" class=\"lazy\" data-src=\"https://staragile.com/public/images/image-webp/link-img.webp\" data-srcset=\"https://staragile.com/public/images/badge-lazy-load.jpg\" src=\"https://staragile.com/public/images/badge-lazy-load.jpg\"/></a>,\n",
              " <a><img alt=\"user\" class=\"lazy\" data-src=\"https://staragile.com/public/images/image-webp/link-img.webp\" data-srcset=\"https://staragile.com/public/images/badge-lazy-load.jpg\" src=\"https://staragile.com/public/images/badge-lazy-load.jpg\"/></a>,\n",
              " <a><img alt=\"user\" class=\"lazy\" data-src=\"https://staragile.com/public/images/image-webp/link-img.webp\" data-srcset=\"https://staragile.com/public/images/badge-lazy-load.jpg\" src=\"https://staragile.com/public/images/badge-lazy-load.jpg\"/></a>,\n",
              " <a><img alt=\"user\" class=\"lazy\" data-src=\"https://staragile.com/public/images/image-webp/link-img.webp\" data-srcset=\"https://staragile.com/public/images/badge-lazy-load.jpg\" src=\"https://staragile.com/public/images/badge-lazy-load.jpg\"/></a>,\n",
              " <a><img alt=\"user\" class=\"lazy\" data-src=\"https://staragile.com/public/images/image-webp/link-img.webp\" data-srcset=\"https://staragile.com/public/images/badge-lazy-load.jpg\" src=\"https://staragile.com/public/images/badge-lazy-load.jpg\"/></a>,\n",
              " <a><img alt=\"user\" class=\"lazy\" data-src=\"https://staragile.com/public/images/image-webp/link-img.webp\" data-srcset=\"https://staragile.com/public/images/badge-lazy-load.jpg\" src=\"https://staragile.com/public/images/badge-lazy-load.jpg\"/></a>,\n",
              " <a><img alt=\"user\" class=\"lazy\" data-src=\"https://staragile.com/public/images/image-webp/link-img.webp\" data-srcset=\"https://staragile.com/public/images/badge-lazy-load.jpg\" src=\"https://staragile.com/public/images/badge-lazy-load.jpg\"/></a>,\n",
              " <a><img alt=\"user\" class=\"lazy\" data-src=\"https://staragile.com/public/images/image-webp/link-img.webp\" data-srcset=\"https://staragile.com/public/images/badge-lazy-load.jpg\" src=\"https://staragile.com/public/images/badge-lazy-load.jpg\"/></a>,\n",
              " <a><img alt=\"user\" class=\"lazy\" data-src=\"https://staragile.com/public/images/image-webp/link-img.webp\" data-srcset=\"https://staragile.com/public/images/badge-lazy-load.jpg\" src=\"https://staragile.com/public/images/badge-lazy-load.jpg\"/></a>,\n",
              " <a><img alt=\"user\" class=\"lazy\" data-src=\"https://staragile.com/public/images/image-webp/link-img.webp\" data-srcset=\"https://staragile.com/public/images/badge-lazy-load.jpg\" src=\"https://staragile.com/public/images/badge-lazy-load.jpg\"/></a>,\n",
              " <a><img alt=\"user\" class=\"lazy\" data-src=\"https://staragile.com/public/images/image-webp/link-img.webp\" data-srcset=\"https://staragile.com/public/images/badge-lazy-load.jpg\" src=\"https://staragile.com/public/images/badge-lazy-load.jpg\"/></a>,\n",
              " <a><img alt=\"user\" class=\"lazy\" data-src=\"https://staragile.com/public/images/image-webp/link-img.webp\" data-srcset=\"https://staragile.com/public/images/badge-lazy-load.jpg\" src=\"https://staragile.com/public/images/badge-lazy-load.jpg\"/></a>,\n",
              " <a><img alt=\"user\" class=\"lazy\" data-src=\"https://staragile.com/public/images/image-webp/link-img.webp\" data-srcset=\"https://staragile.com/public/images/badge-lazy-load.jpg\" src=\"https://staragile.com/public/images/badge-lazy-load.jpg\"/></a>,\n",
              " <a><img alt=\"user\" class=\"lazy\" data-src=\"https://staragile.com/public/images/image-webp/link-img.webp\" data-srcset=\"https://staragile.com/public/images/badge-lazy-load.jpg\" src=\"https://staragile.com/public/images/badge-lazy-load.jpg\"/></a>,\n",
              " <a><img alt=\"user\" class=\"lazy\" data-src=\"https://staragile.com/public/images/image-webp/link-img.webp\" data-srcset=\"https://staragile.com/public/images/badge-lazy-load.jpg\" src=\"https://staragile.com/public/images/badge-lazy-load.jpg\"/></a>,\n",
              " <a><img alt=\"user\" class=\"lazy\" data-src=\"https://staragile.com/public/images/image-webp/link-img.webp\" data-srcset=\"https://staragile.com/public/images/badge-lazy-load.jpg\" src=\"https://staragile.com/public/images/badge-lazy-load.jpg\"/></a>,\n",
              " <a><img alt=\"user\" class=\"lazy\" data-src=\"https://staragile.com/public/images/image-webp/link-img.webp\" data-srcset=\"https://staragile.com/public/images/badge-lazy-load.jpg\" src=\"https://staragile.com/public/images/badge-lazy-load.jpg\"/></a>,\n",
              " <a><img alt=\"user\" class=\"lazy\" data-src=\"https://staragile.com/public/images/image-webp/link-img.webp\" data-srcset=\"https://staragile.com/public/images/badge-lazy-load.jpg\" src=\"https://staragile.com/public/images/badge-lazy-load.jpg\"/></a>,\n",
              " <a><img alt=\"user\" class=\"lazy\" data-src=\"https://staragile.com/public/images/image-webp/link-img.webp\" data-srcset=\"https://staragile.com/public/images/badge-lazy-load.jpg\" src=\"https://staragile.com/public/images/badge-lazy-load.jpg\"/></a>,\n",
              " <a><img alt=\"user\" class=\"lazy\" data-src=\"https://staragile.com/public/images/image-webp/link-img.webp\" data-srcset=\"https://staragile.com/public/images/badge-lazy-load.jpg\" src=\"https://staragile.com/public/images/badge-lazy-load.jpg\"/></a>,\n",
              " <a><img alt=\"user\" class=\"lazy\" data-src=\"https://staragile.com/public/images/image-webp/link-img.webp\" data-srcset=\"https://staragile.com/public/images/badge-lazy-load.jpg\" src=\"https://staragile.com/public/images/badge-lazy-load.jpg\"/></a>,\n",
              " <a><img alt=\"user\" class=\"lazy\" data-src=\"https://staragile.com/public/images/image-webp/link-img.webp\" data-srcset=\"https://staragile.com/public/images/badge-lazy-load.jpg\" src=\"https://staragile.com/public/images/badge-lazy-load.jpg\"/></a>,\n",
              " <a><img alt=\"user\" class=\"lazy\" data-src=\"https://staragile.com/public/images/image-webp/link-img.webp\" data-srcset=\"https://staragile.com/public/images/badge-lazy-load.jpg\" src=\"https://staragile.com/public/images/badge-lazy-load.jpg\"/></a>,\n",
              " <a><img alt=\"user\" class=\"lazy\" data-src=\"https://staragile.com/public/images/image-webp/link-img.webp\" data-srcset=\"https://staragile.com/public/images/badge-lazy-load.jpg\" src=\"https://staragile.com/public/images/badge-lazy-load.jpg\"/></a>,\n",
              " <a><img alt=\"user\" class=\"lazy\" data-src=\"https://staragile.com/public/images/image-webp/link-img.webp\" data-srcset=\"https://staragile.com/public/images/badge-lazy-load.jpg\" src=\"https://staragile.com/public/images/badge-lazy-load.jpg\"/></a>,\n",
              " <a><img alt=\"user\" class=\"lazy\" data-src=\"https://staragile.com/public/images/image-webp/link-img.webp\" data-srcset=\"https://staragile.com/public/images/badge-lazy-load.jpg\" src=\"https://staragile.com/public/images/badge-lazy-load.jpg\"/></a>,\n",
              " <a><img alt=\"user\" class=\"lazy\" data-src=\"https://staragile.com/public/images/image-webp/link-img.webp\" data-srcset=\"https://staragile.com/public/images/badge-lazy-load.jpg\" src=\"https://staragile.com/public/images/badge-lazy-load.jpg\"/></a>,\n",
              " <a><img alt=\"user\" class=\"lazy\" data-src=\"https://staragile.com/public/images/image-webp/link-img.webp\" data-srcset=\"https://staragile.com/public/images/badge-lazy-load.jpg\" src=\"https://staragile.com/public/images/badge-lazy-load.jpg\"/></a>,\n",
              " <a><img alt=\"user\" class=\"lazy\" data-src=\"https://staragile.com/public/images/image-webp/link-img.webp\" data-srcset=\"https://staragile.com/public/images/badge-lazy-load.jpg\" src=\"https://staragile.com/public/images/badge-lazy-load.jpg\"/></a>,\n",
              " <a><img alt=\"user\" class=\"lazy\" data-src=\"https://staragile.com/public/images/image-webp/link-img.webp\" data-srcset=\"https://staragile.com/public/images/badge-lazy-load.jpg\" src=\"https://staragile.com/public/images/badge-lazy-load.jpg\"/></a>,\n",
              " <a><img alt=\"user\" class=\"lazy\" data-src=\"https://staragile.com/public/images/image-webp/link-img.webp\" data-srcset=\"https://staragile.com/public/images/badge-lazy-load.jpg\" src=\"https://staragile.com/public/images/badge-lazy-load.jpg\"/></a>,\n",
              " <a><img alt=\"user\" class=\"lazy\" data-src=\"https://staragile.com/public/images/image-webp/link-img.webp\" data-srcset=\"https://staragile.com/public/images/badge-lazy-load.jpg\" src=\"https://staragile.com/public/images/badge-lazy-load.jpg\"/></a>,\n",
              " <a><img alt=\"user\" class=\"lazy\" data-src=\"https://staragile.com/public/images/image-webp/link-img.webp\" data-srcset=\"https://staragile.com/public/images/badge-lazy-load.jpg\" src=\"https://staragile.com/public/images/badge-lazy-load.jpg\"/></a>,\n",
              " <a><img alt=\"user\" class=\"lazy\" data-src=\"https://staragile.com/public/images/image-webp/link-img.webp\" data-srcset=\"https://staragile.com/public/images/badge-lazy-load.jpg\" src=\"https://staragile.com/public/images/badge-lazy-load.jpg\"/></a>,\n",
              " <a><img alt=\"user\" class=\"lazy\" data-src=\"https://staragile.com/public/images/image-webp/link-img.webp\" data-srcset=\"https://staragile.com/public/images/badge-lazy-load.jpg\" src=\"https://staragile.com/public/images/badge-lazy-load.jpg\"/></a>,\n",
              " <a><img alt=\"user\" class=\"lazy\" data-src=\"https://staragile.com/public/images/image-webp/link-img.webp\" data-srcset=\"https://staragile.com/public/images/badge-lazy-load.jpg\" src=\"https://staragile.com/public/images/badge-lazy-load.jpg\"/></a>,\n",
              " <a><img alt=\"user\" class=\"lazy\" data-src=\"https://staragile.com/public/images/image-webp/link-img.webp\" data-srcset=\"https://staragile.com/public/images/badge-lazy-load.jpg\" src=\"https://staragile.com/public/images/badge-lazy-load.jpg\"/></a>,\n",
              " <a><img alt=\"user\" class=\"lazy\" data-src=\"https://staragile.com/public/images/image-webp/link-img.webp\" data-srcset=\"https://staragile.com/public/images/badge-lazy-load.jpg\" src=\"https://staragile.com/public/images/badge-lazy-load.jpg\"/></a>,\n",
              " <a><img alt=\"user\" class=\"lazy\" data-src=\"https://staragile.com/public/images/image-webp/link-img.webp\" data-srcset=\"https://staragile.com/public/images/badge-lazy-load.jpg\" src=\"https://staragile.com/public/images/badge-lazy-load.jpg\"/></a>,\n",
              " <a><img alt=\"user\" class=\"lazy\" data-src=\"https://staragile.com/public/images/image-webp/link-img.webp\" data-srcset=\"https://staragile.com/public/images/badge-lazy-load.jpg\" src=\"https://staragile.com/public/images/badge-lazy-load.jpg\"/></a>,\n",
              " <a href=\"https://staragile.com/corporate-training\" target=\"_blank\"><button class=\"req-btn\">REQUEST A FREE DEMO <img class=\"arr-img lazy page_speed_473343252\" data-src=\"https://staragile.com/public/images/image-webp/arrow.webp\" data-srcset=\"https://staragile.com/public/images/badge-lazy-load.jpg\" src=\"https://staragile.com/public/images/badge-lazy-load.jpg\"/></button></a>,\n",
              " <a href=\"tel:+919513393880\"><i aria-hidden=\"true\" class=\"fa fa-phone\"></i> Call Us </a>,\n",
              " <a class=\"myBtn\" data-target=\"#query-modal\" data-toggle=\"modal\" href=\"\"><i aria-hidden=\"true\" class=\"fa fa-envelope\"></i> Drop A Query</a>,\n",
              " <a data-target=\"#query-modal\" data-toggle=\"modal\" href=\"javascript:void(0);\"><span><i aria-hidden=\"true\" class=\"fa fa-pencil\"></i> Drop a Query </span></a>,\n",
              " <a href=\"tel:+918050205233\" id=\"footer-link\"><i aria-hidden=\"true\" class=\"fa fa-phone\"></i><span class=\"page_speed_1212395177\" id=\"footer-phone\"></span></a>,\n",
              " <a href=\"/cdn-cgi/l/email-protection#98eceaf9f1f6f1f6ffebd8ebecf9eaf9fff1f4fdb6fbf7f5\"><span><i aria-hidden=\"true\" class=\"fa fa-envelope\"></i> <span class=\"__cf_email__\" data-cfemail=\"eb9f998a828582858c98ab989f8a998a8c82878ec5888486\">[email protected]</span> </span></a>,\n",
              " <a class=\"refer-earn\" href=\"https://staragile.com/refer-and-earn\"><h2>Refer and Earn</h2></a>,\n",
              " <a class=\"icoFacebook\" href=\"https://www.facebook.com/StarAgile/\" target=\"_blank\" title=\"Facebook\"><i class=\"fa fa-facebook\"></i></a>,\n",
              " <a class=\"icoTwitter\" href=\"https://twitter.com/StarAgile_com\" target=\"_blank\" title=\"Twitter\"><i class=\"fa fa-twitter\"></i></a>,\n",
              " <a class=\"icoLinkedin\" href=\"https://in.linkedin.com/company/staragile\" target=\"_blank\" title=\"Linkedin\"><i class=\"fa fa-linkedin\"></i></a>,\n",
              " <a class=\"iconyoutube\" href=\"https://www.youtube.com/channel/UCZdbPJ6BfourklJIOBXodDg\" target=\"_blank\" title=\"youtube\"><i class=\"fa fa-youtube\"></i></a>,\n",
              " <a class=\"iconinstagram\" href=\"https://www.instagram.com/staragile_training/\" target=\"_blank\" title=\"instagram\"><i class=\"fa fa-instagram\"></i></a>,\n",
              " <a href=\"https://staragile.com\">Home</a>,\n",
              " <a href=\"https://staragile-careerportal.prosple.com/\" target=\"_blank\">Student Job Portal</a>,\n",
              " <a href=\"https://staragile.com/about-us\">About us</a>,\n",
              " <a href=\"https://staragile.com/trainers\">Trainer</a>,\n",
              " <a href=\"https://staragile.com/corporate-training\">Corporate Training</a>,\n",
              " <a href=\"https://staragile.com/webinars\">Webinar</a>,\n",
              " <a href=\"https://staragile.com/blog/\">Blog</a>,\n",
              " <a href=\"https://staragile.com/contact\">Contact us</a>,\n",
              " <a href=\"https://staragile.com/sitemap\">Sitemap</a>,\n",
              " <a href=\"https://staragile.com/hiretalent\">HireTalent</a>,\n",
              " <a href=\"https://staragile.com/refund-policy\">Refund Policy</a>,\n",
              " <a href=\"https://staragile.com/terms-of-use\">Term-Condition</a>,\n",
              " <a href=\"https://staragile.com/privacy-policy\">Privacy Policy</a>,\n",
              " <a href=\"https://staragile.com/become-instructor\">Become an instructor</a>,\n",
              " <a href=\"https://staragile.com/blog-as-guest\">Blog as guest</a>,\n",
              " <a href=\"https://staragile.com/partner-with-us\">Become an affiliate</a>,\n",
              " <a href=\"https://staragile.com/\" target=\"_blank\">StarAgile.com</a>,\n",
              " <a href=\"#\">Algoworks Solutions Inc.</a>]"
            ]
          },
          "execution_count": 53,
          "metadata": {},
          "output_type": "execute_result"
        }
      ],
      "source": [
        "courses = soup1.find_all('a')\n",
        "\n",
        "courses"
      ]
    },
    {
      "cell_type": "code",
      "execution_count": null,
      "id": "d909d9ed",
      "metadata": {
        "id": "d909d9ed",
        "outputId": "547ca62b-b63e-4520-8758-a20f606bfee1"
      },
      "outputs": [
        {
          "data": {
            "text/plain": [
              "[]"
            ]
          },
          "execution_count": 54,
          "metadata": {},
          "output_type": "execute_result"
        }
      ],
      "source": [
        "soup1.find_all('div', class_='sub-menu2 page_speed_2099501721')"
      ]
    },
    {
      "cell_type": "code",
      "execution_count": null,
      "id": "c900bb7d",
      "metadata": {
        "id": "c900bb7d"
      },
      "outputs": [],
      "source": [
        "ms_url = 'https://powerbi.microsoft.com/en-us/'\n",
        "\n",
        "ms_page = req.get(ms_url)\n",
        "\n",
        "ms_soup = BeautifulSoup(ms_page.content, 'html.parser')"
      ]
    },
    {
      "cell_type": "code",
      "execution_count": null,
      "id": "7d950373",
      "metadata": {
        "id": "7d950373"
      },
      "outputs": [],
      "source": [
        "ms_info = ms_soup.find_all('div', class_='column content')"
      ]
    },
    {
      "cell_type": "code",
      "execution_count": null,
      "id": "2f2c8872",
      "metadata": {
        "id": "2f2c8872",
        "outputId": "429ede66-da63-43d9-8d25-db96cc149687"
      },
      "outputs": [
        {
          "data": {
            "text/html": [
              "<div>\n",
              "<style scoped>\n",
              "    .dataframe tbody tr th:only-of-type {\n",
              "        vertical-align: middle;\n",
              "    }\n",
              "\n",
              "    .dataframe tbody tr th {\n",
              "        vertical-align: top;\n",
              "    }\n",
              "\n",
              "    .dataframe thead th {\n",
              "        text-align: right;\n",
              "    }\n",
              "</style>\n",
              "<table border=\"1\" class=\"dataframe\">\n",
              "  <thead>\n",
              "    <tr style=\"text-align: right;\">\n",
              "      <th></th>\n",
              "      <th>head</th>\n",
              "      <th>info</th>\n",
              "    </tr>\n",
              "  </thead>\n",
              "  <tbody>\n",
              "    <tr>\n",
              "      <th>0</th>\n",
              "      <td>Get self-service analytics at enterprise scale</td>\n",
              "      <td>Reduce the added cost, complexity, and securit...</td>\n",
              "    </tr>\n",
              "    <tr>\n",
              "      <th>1</th>\n",
              "      <td>Use smart tools for strong results</td>\n",
              "      <td>Find and share meaningful insights with hundre...</td>\n",
              "    </tr>\n",
              "    <tr>\n",
              "      <th>2</th>\n",
              "      <td>Help protect your analytics data</td>\n",
              "      <td>Keep your data secure with industry-leading da...</td>\n",
              "    </tr>\n",
              "  </tbody>\n",
              "</table>\n",
              "</div>"
            ],
            "text/plain": [
              "                                             head  \\\n",
              "0  Get self-service analytics at enterprise scale   \n",
              "1              Use smart tools for strong results   \n",
              "2                Help protect your analytics data   \n",
              "\n",
              "                                                info  \n",
              "0  Reduce the added cost, complexity, and securit...  \n",
              "1  Find and share meaningful insights with hundre...  \n",
              "2  Keep your data secure with industry-leading da...  "
            ]
          },
          "execution_count": 58,
          "metadata": {},
          "output_type": "execute_result"
        }
      ],
      "source": [
        "lists = []\n",
        "for ele in ms_info:\n",
        "    head = ele.find('h3').text\n",
        "    info = ele.find('p').text\n",
        "    \n",
        "    lists.append({'head':head, 'info':info})\n",
        "    \n",
        "ms_ds = pd.DataFrame(lists)\n",
        "\n",
        "ms_ds"
      ]
    },
    {
      "cell_type": "markdown",
      "id": "061dd334",
      "metadata": {
        "id": "061dd334"
      },
      "source": [
        "## Data Preprocessing"
      ]
    },
    {
      "cell_type": "code",
      "execution_count": null,
      "id": "ab28fc2d",
      "metadata": {
        "id": "ab28fc2d",
        "outputId": "74710b74-374f-4de9-cdc3-f6c6696100a5"
      },
      "outputs": [
        {
          "data": {
            "text/html": [
              "<div>\n",
              "<style scoped>\n",
              "    .dataframe tbody tr th:only-of-type {\n",
              "        vertical-align: middle;\n",
              "    }\n",
              "\n",
              "    .dataframe tbody tr th {\n",
              "        vertical-align: top;\n",
              "    }\n",
              "\n",
              "    .dataframe thead th {\n",
              "        text-align: right;\n",
              "    }\n",
              "</style>\n",
              "<table border=\"1\" class=\"dataframe\">\n",
              "  <thead>\n",
              "    <tr style=\"text-align: right;\">\n",
              "      <th></th>\n",
              "      <th>c1</th>\n",
              "      <th>c2</th>\n",
              "    </tr>\n",
              "  </thead>\n",
              "  <tbody>\n",
              "    <tr>\n",
              "      <th>0</th>\n",
              "      <td>10.0</td>\n",
              "      <td>apple</td>\n",
              "    </tr>\n",
              "    <tr>\n",
              "      <th>1</th>\n",
              "      <td>20.0</td>\n",
              "      <td>samsung</td>\n",
              "    </tr>\n",
              "    <tr>\n",
              "      <th>2</th>\n",
              "      <td>NaN</td>\n",
              "      <td>apple</td>\n",
              "    </tr>\n",
              "    <tr>\n",
              "      <th>3</th>\n",
              "      <td>30.0</td>\n",
              "      <td>hp</td>\n",
              "    </tr>\n",
              "    <tr>\n",
              "      <th>4</th>\n",
              "      <td>NaN</td>\n",
              "      <td>hp</td>\n",
              "    </tr>\n",
              "  </tbody>\n",
              "</table>\n",
              "</div>"
            ],
            "text/plain": [
              "     c1       c2\n",
              "0  10.0    apple\n",
              "1  20.0  samsung\n",
              "2   NaN    apple\n",
              "3  30.0       hp\n",
              "4   NaN       hp"
            ]
          },
          "execution_count": 59,
          "metadata": {},
          "output_type": "execute_result"
        }
      ],
      "source": [
        "#1. Handling missing values\n",
        "\n",
        "ds1 = pd.DataFrame({\n",
        "    'c1':[10, 20, np.nan, 30, np.nan],\n",
        "    'c2':['apple', 'samsung', 'apple', 'hp', 'hp']\n",
        "})\n",
        "\n",
        "ds1"
      ]
    },
    {
      "cell_type": "code",
      "execution_count": null,
      "id": "4cfb8162",
      "metadata": {
        "id": "4cfb8162"
      },
      "outputs": [],
      "source": [
        "from sklearn.impute import SimpleImputer"
      ]
    },
    {
      "cell_type": "code",
      "execution_count": null,
      "id": "d43733e4",
      "metadata": {
        "id": "d43733e4",
        "outputId": "772e8b70-c870-4768-9f6a-b573b6fb21bb"
      },
      "outputs": [
        {
          "data": {
            "text/html": [
              "<div>\n",
              "<style scoped>\n",
              "    .dataframe tbody tr th:only-of-type {\n",
              "        vertical-align: middle;\n",
              "    }\n",
              "\n",
              "    .dataframe tbody tr th {\n",
              "        vertical-align: top;\n",
              "    }\n",
              "\n",
              "    .dataframe thead th {\n",
              "        text-align: right;\n",
              "    }\n",
              "</style>\n",
              "<table border=\"1\" class=\"dataframe\">\n",
              "  <thead>\n",
              "    <tr style=\"text-align: right;\">\n",
              "      <th></th>\n",
              "      <th>c1</th>\n",
              "      <th>c2</th>\n",
              "    </tr>\n",
              "  </thead>\n",
              "  <tbody>\n",
              "    <tr>\n",
              "      <th>0</th>\n",
              "      <td>10.0</td>\n",
              "      <td>0</td>\n",
              "    </tr>\n",
              "    <tr>\n",
              "      <th>1</th>\n",
              "      <td>20.0</td>\n",
              "      <td>2</td>\n",
              "    </tr>\n",
              "    <tr>\n",
              "      <th>2</th>\n",
              "      <td>20.0</td>\n",
              "      <td>0</td>\n",
              "    </tr>\n",
              "    <tr>\n",
              "      <th>3</th>\n",
              "      <td>30.0</td>\n",
              "      <td>1</td>\n",
              "    </tr>\n",
              "    <tr>\n",
              "      <th>4</th>\n",
              "      <td>20.0</td>\n",
              "      <td>1</td>\n",
              "    </tr>\n",
              "  </tbody>\n",
              "</table>\n",
              "</div>"
            ],
            "text/plain": [
              "     c1  c2\n",
              "0  10.0   0\n",
              "1  20.0   2\n",
              "2  20.0   0\n",
              "3  30.0   1\n",
              "4  20.0   1"
            ]
          },
          "execution_count": 65,
          "metadata": {},
          "output_type": "execute_result"
        }
      ],
      "source": [
        "si = SimpleImputer(strategy='mean')\n",
        "\n",
        "ds1['c1'] = si.fit_transform(ds1[['c1']])\n",
        "\n",
        "ds1"
      ]
    },
    {
      "cell_type": "code",
      "execution_count": null,
      "id": "5684ed62",
      "metadata": {
        "id": "5684ed62"
      },
      "outputs": [],
      "source": [
        "#label encoder\n",
        "from sklearn.preprocessing import LabelEncoder\n",
        "\n",
        "le = LabelEncoder()\n",
        "\n",
        "columns = ['c2', 'c1']\n",
        "\n",
        "for col in columns:\n",
        "    ds1[col] = le.fit_transform(ds1[col])"
      ]
    },
    {
      "cell_type": "code",
      "execution_count": null,
      "id": "e231cd3b",
      "metadata": {
        "id": "e231cd3b",
        "outputId": "f10e3a97-c8dc-42e5-c5a9-8e717fe6c817"
      },
      "outputs": [
        {
          "data": {
            "text/html": [
              "<div>\n",
              "<style scoped>\n",
              "    .dataframe tbody tr th:only-of-type {\n",
              "        vertical-align: middle;\n",
              "    }\n",
              "\n",
              "    .dataframe tbody tr th {\n",
              "        vertical-align: top;\n",
              "    }\n",
              "\n",
              "    .dataframe thead th {\n",
              "        text-align: right;\n",
              "    }\n",
              "</style>\n",
              "<table border=\"1\" class=\"dataframe\">\n",
              "  <thead>\n",
              "    <tr style=\"text-align: right;\">\n",
              "      <th></th>\n",
              "      <th>c1</th>\n",
              "      <th>c2</th>\n",
              "    </tr>\n",
              "  </thead>\n",
              "  <tbody>\n",
              "    <tr>\n",
              "      <th>0</th>\n",
              "      <td>0</td>\n",
              "      <td>0</td>\n",
              "    </tr>\n",
              "    <tr>\n",
              "      <th>1</th>\n",
              "      <td>1</td>\n",
              "      <td>2</td>\n",
              "    </tr>\n",
              "    <tr>\n",
              "      <th>2</th>\n",
              "      <td>1</td>\n",
              "      <td>0</td>\n",
              "    </tr>\n",
              "    <tr>\n",
              "      <th>3</th>\n",
              "      <td>2</td>\n",
              "      <td>1</td>\n",
              "    </tr>\n",
              "    <tr>\n",
              "      <th>4</th>\n",
              "      <td>1</td>\n",
              "      <td>1</td>\n",
              "    </tr>\n",
              "  </tbody>\n",
              "</table>\n",
              "</div>"
            ],
            "text/plain": [
              "   c1  c2\n",
              "0   0   0\n",
              "1   1   2\n",
              "2   1   0\n",
              "3   2   1\n",
              "4   1   1"
            ]
          },
          "execution_count": 69,
          "metadata": {},
          "output_type": "execute_result"
        }
      ],
      "source": [
        "ds1"
      ]
    },
    {
      "cell_type": "code",
      "execution_count": null,
      "id": "4d29b0e4",
      "metadata": {
        "id": "4d29b0e4"
      },
      "outputs": [],
      "source": [
        "#one hot encoding\n",
        "\n",
        "from sklearn.preprocessing import OneHotEncoder\n",
        "\n",
        "ohe = OneHotEncoder(sparse=False)\n",
        "\n",
        "x_ohe = ohe.fit_transform(ds1[['c1']])"
      ]
    },
    {
      "cell_type": "code",
      "execution_count": null,
      "id": "a42dbcff",
      "metadata": {
        "id": "a42dbcff",
        "outputId": "d72bb034-1cad-41f7-d8cf-6a05acd2a662"
      },
      "outputs": [
        {
          "data": {
            "text/plain": [
              "array([[1., 0., 0.],\n",
              "       [0., 1., 0.],\n",
              "       [0., 1., 0.],\n",
              "       [0., 0., 1.],\n",
              "       [0., 1., 0.]])"
            ]
          },
          "execution_count": 72,
          "metadata": {},
          "output_type": "execute_result"
        }
      ],
      "source": [
        "x_ohe"
      ]
    },
    {
      "cell_type": "code",
      "execution_count": null,
      "id": "9805ed97",
      "metadata": {
        "id": "9805ed97",
        "outputId": "a05f0f99-8ea6-4a0d-9f05-8cca0086a170"
      },
      "outputs": [
        {
          "data": {
            "text/html": [
              "<div>\n",
              "<style scoped>\n",
              "    .dataframe tbody tr th:only-of-type {\n",
              "        vertical-align: middle;\n",
              "    }\n",
              "\n",
              "    .dataframe tbody tr th {\n",
              "        vertical-align: top;\n",
              "    }\n",
              "\n",
              "    .dataframe thead th {\n",
              "        text-align: right;\n",
              "    }\n",
              "</style>\n",
              "<table border=\"1\" class=\"dataframe\">\n",
              "  <thead>\n",
              "    <tr style=\"text-align: right;\">\n",
              "      <th></th>\n",
              "      <th>c1</th>\n",
              "      <th>c2</th>\n",
              "    </tr>\n",
              "  </thead>\n",
              "  <tbody>\n",
              "    <tr>\n",
              "      <th>0</th>\n",
              "      <td>10</td>\n",
              "      <td>10000</td>\n",
              "    </tr>\n",
              "    <tr>\n",
              "      <th>1</th>\n",
              "      <td>20</td>\n",
              "      <td>11000</td>\n",
              "    </tr>\n",
              "    <tr>\n",
              "      <th>2</th>\n",
              "      <td>30</td>\n",
              "      <td>12000</td>\n",
              "    </tr>\n",
              "  </tbody>\n",
              "</table>\n",
              "</div>"
            ],
            "text/plain": [
              "   c1     c2\n",
              "0  10  10000\n",
              "1  20  11000\n",
              "2  30  12000"
            ]
          },
          "execution_count": 73,
          "metadata": {},
          "output_type": "execute_result"
        }
      ],
      "source": [
        "ds2 = pd.DataFrame({\n",
        "    'c1':[10,20,30],\n",
        "    'c2':[10000, 11000, 12000]\n",
        "})\n",
        "\n",
        "ds2"
      ]
    },
    {
      "cell_type": "code",
      "execution_count": null,
      "id": "4edcfd7f",
      "metadata": {
        "id": "4edcfd7f"
      },
      "outputs": [],
      "source": [
        "ds12 = ds2\n",
        "ds13 = ds2"
      ]
    },
    {
      "cell_type": "code",
      "execution_count": null,
      "id": "da9e759f",
      "metadata": {
        "id": "da9e759f"
      },
      "outputs": [],
      "source": [
        "#normalization and standardization\n",
        "\n",
        "from sklearn.preprocessing import MinMaxScaler, StandardScaler\n",
        "\n",
        "ds12 = MinMaxScaler().fit_transform(ds12)\n",
        "ds13 = StandardScaler().fit_transform(ds13)"
      ]
    },
    {
      "cell_type": "code",
      "execution_count": null,
      "id": "37c6abc4",
      "metadata": {
        "id": "37c6abc4",
        "outputId": "42cb1a88-36bd-4e21-f5ac-fcbd2d046ac9"
      },
      "outputs": [
        {
          "data": {
            "text/plain": [
              "array([[0. , 0. ],\n",
              "       [0.5, 0.5],\n",
              "       [1. , 1. ]])"
            ]
          },
          "execution_count": 76,
          "metadata": {},
          "output_type": "execute_result"
        }
      ],
      "source": [
        "ds12"
      ]
    },
    {
      "cell_type": "code",
      "execution_count": null,
      "id": "55443d39",
      "metadata": {
        "id": "55443d39",
        "outputId": "94e38d64-013d-4973-b429-c08705dbceb6"
      },
      "outputs": [
        {
          "data": {
            "text/plain": [
              "array([[-1.22474487, -1.22474487],\n",
              "       [ 0.        ,  0.        ],\n",
              "       [ 1.22474487,  1.22474487]])"
            ]
          },
          "execution_count": 77,
          "metadata": {},
          "output_type": "execute_result"
        }
      ],
      "source": [
        "ds13"
      ]
    },
    {
      "cell_type": "code",
      "execution_count": null,
      "id": "0064ddf4",
      "metadata": {
        "id": "0064ddf4",
        "outputId": "63b18c6c-818d-40a1-e6d9-99bed3f27b5f"
      },
      "outputs": [
        {
          "data": {
            "text/html": [
              "<div>\n",
              "<style scoped>\n",
              "    .dataframe tbody tr th:only-of-type {\n",
              "        vertical-align: middle;\n",
              "    }\n",
              "\n",
              "    .dataframe tbody tr th {\n",
              "        vertical-align: top;\n",
              "    }\n",
              "\n",
              "    .dataframe thead th {\n",
              "        text-align: right;\n",
              "    }\n",
              "</style>\n",
              "<table border=\"1\" class=\"dataframe\">\n",
              "  <thead>\n",
              "    <tr style=\"text-align: right;\">\n",
              "      <th></th>\n",
              "      <th>c1</th>\n",
              "      <th>c2</th>\n",
              "    </tr>\n",
              "  </thead>\n",
              "  <tbody>\n",
              "    <tr>\n",
              "      <th>0</th>\n",
              "      <td>0</td>\n",
              "      <td>0</td>\n",
              "    </tr>\n",
              "    <tr>\n",
              "      <th>1</th>\n",
              "      <td>1</td>\n",
              "      <td>2</td>\n",
              "    </tr>\n",
              "    <tr>\n",
              "      <th>2</th>\n",
              "      <td>1</td>\n",
              "      <td>0</td>\n",
              "    </tr>\n",
              "    <tr>\n",
              "      <th>3</th>\n",
              "      <td>2</td>\n",
              "      <td>1</td>\n",
              "    </tr>\n",
              "    <tr>\n",
              "      <th>4</th>\n",
              "      <td>1</td>\n",
              "      <td>1</td>\n",
              "    </tr>\n",
              "  </tbody>\n",
              "</table>\n",
              "</div>"
            ],
            "text/plain": [
              "   c1  c2\n",
              "0   0   0\n",
              "1   1   2\n",
              "2   1   0\n",
              "3   2   1\n",
              "4   1   1"
            ]
          },
          "execution_count": 79,
          "metadata": {},
          "output_type": "execute_result"
        }
      ],
      "source": [
        "ds1"
      ]
    },
    {
      "cell_type": "code",
      "execution_count": null,
      "id": "c1497b0a",
      "metadata": {
        "id": "c1497b0a"
      },
      "outputs": [],
      "source": [
        "#train test split\n",
        "\n",
        "from sklearn.model_selection import train_test_split\n",
        "\n",
        "x = ds1[['c1']] #x always 2D array\n",
        "y = ds1['c2'] #y always 1D array\n",
        "\n",
        "x_train, x_test, y_train, y_test = train_test_split(x, y, test_size=.2)\n",
        "\n",
        "#Indepedent Var (x)\n",
        "#Dependent Var (y)"
      ]
    },
    {
      "cell_type": "code",
      "execution_count": null,
      "id": "18573a46",
      "metadata": {
        "id": "18573a46",
        "outputId": "cb9098e5-7c97-494d-9be2-1d2ad6838581"
      },
      "outputs": [
        {
          "data": {
            "text/plain": [
              "(4, 1)"
            ]
          },
          "execution_count": 81,
          "metadata": {},
          "output_type": "execute_result"
        }
      ],
      "source": [
        "x_train.shape"
      ]
    },
    {
      "cell_type": "code",
      "execution_count": null,
      "id": "0bf85ddf",
      "metadata": {
        "id": "0bf85ddf",
        "outputId": "5d2ddb9f-543b-4f1d-899a-f46310a8aee9"
      },
      "outputs": [
        {
          "data": {
            "text/html": [
              "<div>\n",
              "<style scoped>\n",
              "    .dataframe tbody tr th:only-of-type {\n",
              "        vertical-align: middle;\n",
              "    }\n",
              "\n",
              "    .dataframe tbody tr th {\n",
              "        vertical-align: top;\n",
              "    }\n",
              "\n",
              "    .dataframe thead th {\n",
              "        text-align: right;\n",
              "    }\n",
              "</style>\n",
              "<table border=\"1\" class=\"dataframe\">\n",
              "  <thead>\n",
              "    <tr style=\"text-align: right;\">\n",
              "      <th></th>\n",
              "      <th>c1</th>\n",
              "    </tr>\n",
              "  </thead>\n",
              "  <tbody>\n",
              "    <tr>\n",
              "      <th>4</th>\n",
              "      <td>1</td>\n",
              "    </tr>\n",
              "    <tr>\n",
              "      <th>3</th>\n",
              "      <td>2</td>\n",
              "    </tr>\n",
              "    <tr>\n",
              "      <th>0</th>\n",
              "      <td>0</td>\n",
              "    </tr>\n",
              "    <tr>\n",
              "      <th>1</th>\n",
              "      <td>1</td>\n",
              "    </tr>\n",
              "  </tbody>\n",
              "</table>\n",
              "</div>"
            ],
            "text/plain": [
              "   c1\n",
              "4   1\n",
              "3   2\n",
              "0   0\n",
              "1   1"
            ]
          },
          "execution_count": 82,
          "metadata": {},
          "output_type": "execute_result"
        }
      ],
      "source": [
        "x_train"
      ]
    },
    {
      "cell_type": "code",
      "execution_count": null,
      "id": "d9194213",
      "metadata": {
        "id": "d9194213",
        "outputId": "1b8911e7-363e-4ae8-d92a-67d3ea003f16"
      },
      "outputs": [
        {
          "data": {
            "text/html": [
              "<div>\n",
              "<style scoped>\n",
              "    .dataframe tbody tr th:only-of-type {\n",
              "        vertical-align: middle;\n",
              "    }\n",
              "\n",
              "    .dataframe tbody tr th {\n",
              "        vertical-align: top;\n",
              "    }\n",
              "\n",
              "    .dataframe thead th {\n",
              "        text-align: right;\n",
              "    }\n",
              "</style>\n",
              "<table border=\"1\" class=\"dataframe\">\n",
              "  <thead>\n",
              "    <tr style=\"text-align: right;\">\n",
              "      <th></th>\n",
              "      <th>c1</th>\n",
              "    </tr>\n",
              "  </thead>\n",
              "  <tbody>\n",
              "    <tr>\n",
              "      <th>2</th>\n",
              "      <td>1</td>\n",
              "    </tr>\n",
              "  </tbody>\n",
              "</table>\n",
              "</div>"
            ],
            "text/plain": [
              "   c1\n",
              "2   1"
            ]
          },
          "execution_count": 83,
          "metadata": {},
          "output_type": "execute_result"
        }
      ],
      "source": [
        "x_test"
      ]
    },
    {
      "cell_type": "code",
      "execution_count": null,
      "id": "d7e299e6",
      "metadata": {
        "id": "d7e299e6"
      },
      "outputs": [],
      "source": [
        "emp_ds = pd.read_csv('data/employee.csv')"
      ]
    },
    {
      "cell_type": "code",
      "execution_count": null,
      "id": "3013f71f",
      "metadata": {
        "id": "3013f71f",
        "outputId": "7bf845cf-9b1e-48f4-af38-7a9e27d63c51"
      },
      "outputs": [
        {
          "data": {
            "text/plain": [
              "(50, 11)"
            ]
          },
          "execution_count": 87,
          "metadata": {},
          "output_type": "execute_result"
        }
      ],
      "source": [
        "emp_ds.shape"
      ]
    },
    {
      "cell_type": "code",
      "execution_count": null,
      "id": "de96658c",
      "metadata": {
        "id": "de96658c",
        "outputId": "811eca1a-43a0-46f5-c765-2a63d574d469"
      },
      "outputs": [
        {
          "data": {
            "text/html": [
              "<div>\n",
              "<style scoped>\n",
              "    .dataframe tbody tr th:only-of-type {\n",
              "        vertical-align: middle;\n",
              "    }\n",
              "\n",
              "    .dataframe tbody tr th {\n",
              "        vertical-align: top;\n",
              "    }\n",
              "\n",
              "    .dataframe thead th {\n",
              "        text-align: right;\n",
              "    }\n",
              "</style>\n",
              "<table border=\"1\" class=\"dataframe\">\n",
              "  <thead>\n",
              "    <tr style=\"text-align: right;\">\n",
              "      <th></th>\n",
              "      <th>EMPLOYEE_ID</th>\n",
              "      <th>FIRST_NAME</th>\n",
              "      <th>LAST_NAME</th>\n",
              "      <th>EMAIL</th>\n",
              "      <th>PHONE_NUMBER</th>\n",
              "      <th>HIRE_DATE</th>\n",
              "      <th>JOB_ID</th>\n",
              "      <th>SALARY</th>\n",
              "      <th>COMMISSION_PCT</th>\n",
              "      <th>MANAGER_ID</th>\n",
              "      <th>DEPARTMENT_ID</th>\n",
              "    </tr>\n",
              "  </thead>\n",
              "  <tbody>\n",
              "    <tr>\n",
              "      <th>0</th>\n",
              "      <td>198</td>\n",
              "      <td>Donald</td>\n",
              "      <td>OConnell</td>\n",
              "      <td>DOCONNEL</td>\n",
              "      <td>650.507.9833</td>\n",
              "      <td>21-JUN-07</td>\n",
              "      <td>SH_CLERK</td>\n",
              "      <td>2600</td>\n",
              "      <td>-</td>\n",
              "      <td>124</td>\n",
              "      <td>50</td>\n",
              "    </tr>\n",
              "    <tr>\n",
              "      <th>1</th>\n",
              "      <td>199</td>\n",
              "      <td>Douglas</td>\n",
              "      <td>Grant</td>\n",
              "      <td>DGRANT</td>\n",
              "      <td>650.507.9844</td>\n",
              "      <td>13-JAN-08</td>\n",
              "      <td>SH_CLERK</td>\n",
              "      <td>2600</td>\n",
              "      <td>-</td>\n",
              "      <td>124</td>\n",
              "      <td>50</td>\n",
              "    </tr>\n",
              "  </tbody>\n",
              "</table>\n",
              "</div>"
            ],
            "text/plain": [
              "   EMPLOYEE_ID FIRST_NAME LAST_NAME     EMAIL  PHONE_NUMBER  HIRE_DATE  \\\n",
              "0          198     Donald  OConnell  DOCONNEL  650.507.9833  21-JUN-07   \n",
              "1          199    Douglas     Grant    DGRANT  650.507.9844  13-JAN-08   \n",
              "\n",
              "     JOB_ID  SALARY COMMISSION_PCT MANAGER_ID  DEPARTMENT_ID  \n",
              "0  SH_CLERK    2600             -         124             50  \n",
              "1  SH_CLERK    2600             -         124             50  "
            ]
          },
          "execution_count": 88,
          "metadata": {},
          "output_type": "execute_result"
        }
      ],
      "source": [
        "emp_ds.head(2)"
      ]
    },
    {
      "cell_type": "code",
      "execution_count": null,
      "id": "4fc11d71",
      "metadata": {
        "id": "4fc11d71"
      },
      "outputs": [],
      "source": [
        "x = emp_ds[['PHONE_NUMBER', 'MANAGER_ID', 'EMAIL']]\n",
        "y = emp_ds['SALARY']\n",
        "\n",
        "x_train, x_test, y_train, y_test = train_test_split(x, y, test_size=.2)"
      ]
    },
    {
      "cell_type": "code",
      "execution_count": null,
      "id": "bc747251",
      "metadata": {
        "id": "bc747251",
        "outputId": "a807f7c6-3c0e-41f1-bc60-e2fb8d663744"
      },
      "outputs": [
        {
          "data": {
            "text/plain": [
              "(40, 3)"
            ]
          },
          "execution_count": 90,
          "metadata": {},
          "output_type": "execute_result"
        }
      ],
      "source": [
        "x_train.shape"
      ]
    },
    {
      "cell_type": "code",
      "execution_count": null,
      "id": "e9cc91dc",
      "metadata": {
        "id": "e9cc91dc",
        "outputId": "a71b36a5-fb3d-40e9-8600-b3efc0707d36"
      },
      "outputs": [
        {
          "data": {
            "text/plain": [
              "(10, 3)"
            ]
          },
          "execution_count": 92,
          "metadata": {},
          "output_type": "execute_result"
        }
      ],
      "source": [
        "x_test.shape"
      ]
    },
    {
      "cell_type": "code",
      "execution_count": null,
      "id": "1bab20b1",
      "metadata": {
        "id": "1bab20b1",
        "outputId": "e27839f8-ca2f-49e4-b9c8-ca80316a8594"
      },
      "outputs": [
        {
          "data": {
            "text/html": [
              "<div>\n",
              "<style scoped>\n",
              "    .dataframe tbody tr th:only-of-type {\n",
              "        vertical-align: middle;\n",
              "    }\n",
              "\n",
              "    .dataframe tbody tr th {\n",
              "        vertical-align: top;\n",
              "    }\n",
              "\n",
              "    .dataframe thead th {\n",
              "        text-align: right;\n",
              "    }\n",
              "</style>\n",
              "<table border=\"1\" class=\"dataframe\">\n",
              "  <thead>\n",
              "    <tr style=\"text-align: right;\">\n",
              "      <th></th>\n",
              "      <th>PHONE_NUMBER</th>\n",
              "      <th>MANAGER_ID</th>\n",
              "      <th>EMAIL</th>\n",
              "    </tr>\n",
              "  </thead>\n",
              "  <tbody>\n",
              "    <tr>\n",
              "      <th>5</th>\n",
              "      <td>515.123.7777</td>\n",
              "      <td>101</td>\n",
              "      <td>SMAVRIS</td>\n",
              "    </tr>\n",
              "    <tr>\n",
              "      <th>12</th>\n",
              "      <td>590.423.4567</td>\n",
              "      <td>102</td>\n",
              "      <td>AHUNOLD</td>\n",
              "    </tr>\n",
              "    <tr>\n",
              "      <th>19</th>\n",
              "      <td>515.124.4269</td>\n",
              "      <td>108</td>\n",
              "      <td>JCHEN</td>\n",
              "    </tr>\n",
              "    <tr>\n",
              "      <th>17</th>\n",
              "      <td>515.124.4569</td>\n",
              "      <td>101</td>\n",
              "      <td>NGREENBE</td>\n",
              "    </tr>\n",
              "    <tr>\n",
              "      <th>37</th>\n",
              "      <td>650.124.1434</td>\n",
              "      <td>120</td>\n",
              "      <td>SMARKLE</td>\n",
              "    </tr>\n",
              "    <tr>\n",
              "      <th>10</th>\n",
              "      <td>515.123.4568</td>\n",
              "      <td>100</td>\n",
              "      <td>NKOCHHAR</td>\n",
              "    </tr>\n",
              "    <tr>\n",
              "      <th>38</th>\n",
              "      <td>650.124.5234</td>\n",
              "      <td>121</td>\n",
              "      <td>LBISSOT</td>\n",
              "    </tr>\n",
              "    <tr>\n",
              "      <th>25</th>\n",
              "      <td>515.127.4563</td>\n",
              "      <td>114</td>\n",
              "      <td>SBAIDA</td>\n",
              "    </tr>\n",
              "    <tr>\n",
              "      <th>34</th>\n",
              "      <td>650.124.1214</td>\n",
              "      <td>120</td>\n",
              "      <td>JNAYER</td>\n",
              "    </tr>\n",
              "    <tr>\n",
              "      <th>46</th>\n",
              "      <td>650.121.1234</td>\n",
              "      <td>123</td>\n",
              "      <td>RLADWIG</td>\n",
              "    </tr>\n",
              "    <tr>\n",
              "      <th>30</th>\n",
              "      <td>650.123.2234</td>\n",
              "      <td>100</td>\n",
              "      <td>AFRIPP</td>\n",
              "    </tr>\n",
              "    <tr>\n",
              "      <th>22</th>\n",
              "      <td>515.124.4567</td>\n",
              "      <td>108</td>\n",
              "      <td>LPOPP</td>\n",
              "    </tr>\n",
              "    <tr>\n",
              "      <th>0</th>\n",
              "      <td>650.507.9833</td>\n",
              "      <td>124</td>\n",
              "      <td>DOCONNEL</td>\n",
              "    </tr>\n",
              "    <tr>\n",
              "      <th>29</th>\n",
              "      <td>650.123.1234</td>\n",
              "      <td>100</td>\n",
              "      <td>MWEISS</td>\n",
              "    </tr>\n",
              "    <tr>\n",
              "      <th>31</th>\n",
              "      <td>650.123.3234</td>\n",
              "      <td>100</td>\n",
              "      <td>PKAUFLIN</td>\n",
              "    </tr>\n",
              "    <tr>\n",
              "      <th>2</th>\n",
              "      <td>515.123.4444</td>\n",
              "      <td>101</td>\n",
              "      <td>JWHALEN</td>\n",
              "    </tr>\n",
              "    <tr>\n",
              "      <th>4</th>\n",
              "      <td>603.123.6666</td>\n",
              "      <td>201</td>\n",
              "      <td>PFAY</td>\n",
              "    </tr>\n",
              "    <tr>\n",
              "      <th>39</th>\n",
              "      <td>650.124.6234</td>\n",
              "      <td>121</td>\n",
              "      <td>MATKINSO</td>\n",
              "    </tr>\n",
              "    <tr>\n",
              "      <th>36</th>\n",
              "      <td>650.124.1334</td>\n",
              "      <td>120</td>\n",
              "      <td>JLANDRY</td>\n",
              "    </tr>\n",
              "    <tr>\n",
              "      <th>3</th>\n",
              "      <td>515.123.5555</td>\n",
              "      <td>100</td>\n",
              "      <td>MHARTSTE</td>\n",
              "    </tr>\n",
              "    <tr>\n",
              "      <th>43</th>\n",
              "      <td>650.127.1834</td>\n",
              "      <td>122</td>\n",
              "      <td>MROGERS</td>\n",
              "    </tr>\n",
              "    <tr>\n",
              "      <th>13</th>\n",
              "      <td>590.423.4568</td>\n",
              "      <td>103</td>\n",
              "      <td>BERNST</td>\n",
              "    </tr>\n",
              "    <tr>\n",
              "      <th>8</th>\n",
              "      <td>515.123.8181</td>\n",
              "      <td>205</td>\n",
              "      <td>WGIETZ</td>\n",
              "    </tr>\n",
              "    <tr>\n",
              "      <th>45</th>\n",
              "      <td>650.127.1634</td>\n",
              "      <td>122</td>\n",
              "      <td>HPHILTAN</td>\n",
              "    </tr>\n",
              "    <tr>\n",
              "      <th>33</th>\n",
              "      <td>650.123.5234</td>\n",
              "      <td>100</td>\n",
              "      <td>KMOURGOS</td>\n",
              "    </tr>\n",
              "    <tr>\n",
              "      <th>6</th>\n",
              "      <td>515.123.8888</td>\n",
              "      <td>101</td>\n",
              "      <td>HBAER</td>\n",
              "    </tr>\n",
              "    <tr>\n",
              "      <th>27</th>\n",
              "      <td>515.127.4565</td>\n",
              "      <td>114</td>\n",
              "      <td>GHIMURO</td>\n",
              "    </tr>\n",
              "    <tr>\n",
              "      <th>41</th>\n",
              "      <td>650.124.8234</td>\n",
              "      <td>121</td>\n",
              "      <td>TJOLSON</td>\n",
              "    </tr>\n",
              "    <tr>\n",
              "      <th>47</th>\n",
              "      <td>650.121.2034</td>\n",
              "      <td>123</td>\n",
              "      <td>SSTILES</td>\n",
              "    </tr>\n",
              "    <tr>\n",
              "      <th>32</th>\n",
              "      <td>650.123.4234</td>\n",
              "      <td>100</td>\n",
              "      <td>SVOLLMAN</td>\n",
              "    </tr>\n",
              "    <tr>\n",
              "      <th>42</th>\n",
              "      <td>650.127.1934</td>\n",
              "      <td>122</td>\n",
              "      <td>JMALLIN</td>\n",
              "    </tr>\n",
              "    <tr>\n",
              "      <th>40</th>\n",
              "      <td>650.124.7234</td>\n",
              "      <td>121</td>\n",
              "      <td>JAMRLOW</td>\n",
              "    </tr>\n",
              "    <tr>\n",
              "      <th>24</th>\n",
              "      <td>515.127.4562</td>\n",
              "      <td>114</td>\n",
              "      <td>AKHOO</td>\n",
              "    </tr>\n",
              "    <tr>\n",
              "      <th>35</th>\n",
              "      <td>650.124.1224</td>\n",
              "      <td>120</td>\n",
              "      <td>IMIKKILI</td>\n",
              "    </tr>\n",
              "    <tr>\n",
              "      <th>11</th>\n",
              "      <td>515.123.4569</td>\n",
              "      <td>100</td>\n",
              "      <td>LDEHAAN</td>\n",
              "    </tr>\n",
              "    <tr>\n",
              "      <th>14</th>\n",
              "      <td>590.423.4569</td>\n",
              "      <td>103</td>\n",
              "      <td>DAUSTIN</td>\n",
              "    </tr>\n",
              "    <tr>\n",
              "      <th>21</th>\n",
              "      <td>515.124.4469</td>\n",
              "      <td>108</td>\n",
              "      <td>JMURMAN</td>\n",
              "    </tr>\n",
              "    <tr>\n",
              "      <th>26</th>\n",
              "      <td>515.127.4564</td>\n",
              "      <td>114</td>\n",
              "      <td>STOBIAS</td>\n",
              "    </tr>\n",
              "    <tr>\n",
              "      <th>20</th>\n",
              "      <td>515.124.4369</td>\n",
              "      <td>108</td>\n",
              "      <td>ISCIARRA</td>\n",
              "    </tr>\n",
              "    <tr>\n",
              "      <th>23</th>\n",
              "      <td>515.127.4561</td>\n",
              "      <td>100</td>\n",
              "      <td>DRAPHEAL</td>\n",
              "    </tr>\n",
              "  </tbody>\n",
              "</table>\n",
              "</div>"
            ],
            "text/plain": [
              "    PHONE_NUMBER MANAGER_ID     EMAIL\n",
              "5   515.123.7777        101   SMAVRIS\n",
              "12  590.423.4567        102   AHUNOLD\n",
              "19  515.124.4269        108     JCHEN\n",
              "17  515.124.4569        101  NGREENBE\n",
              "37  650.124.1434        120   SMARKLE\n",
              "10  515.123.4568        100  NKOCHHAR\n",
              "38  650.124.5234        121   LBISSOT\n",
              "25  515.127.4563        114    SBAIDA\n",
              "34  650.124.1214        120    JNAYER\n",
              "46  650.121.1234        123   RLADWIG\n",
              "30  650.123.2234        100    AFRIPP\n",
              "22  515.124.4567        108     LPOPP\n",
              "0   650.507.9833        124  DOCONNEL\n",
              "29  650.123.1234        100    MWEISS\n",
              "31  650.123.3234        100  PKAUFLIN\n",
              "2   515.123.4444        101   JWHALEN\n",
              "4   603.123.6666        201      PFAY\n",
              "39  650.124.6234        121  MATKINSO\n",
              "36  650.124.1334        120   JLANDRY\n",
              "3   515.123.5555        100  MHARTSTE\n",
              "43  650.127.1834        122   MROGERS\n",
              "13  590.423.4568        103    BERNST\n",
              "8   515.123.8181        205    WGIETZ\n",
              "45  650.127.1634        122  HPHILTAN\n",
              "33  650.123.5234        100  KMOURGOS\n",
              "6   515.123.8888        101     HBAER\n",
              "27  515.127.4565        114   GHIMURO\n",
              "41  650.124.8234        121   TJOLSON\n",
              "47  650.121.2034        123   SSTILES\n",
              "32  650.123.4234        100  SVOLLMAN\n",
              "42  650.127.1934        122   JMALLIN\n",
              "40  650.124.7234        121   JAMRLOW\n",
              "24  515.127.4562        114     AKHOO\n",
              "35  650.124.1224        120  IMIKKILI\n",
              "11  515.123.4569        100   LDEHAAN\n",
              "14  590.423.4569        103   DAUSTIN\n",
              "21  515.124.4469        108   JMURMAN\n",
              "26  515.127.4564        114   STOBIAS\n",
              "20  515.124.4369        108  ISCIARRA\n",
              "23  515.127.4561        100  DRAPHEAL"
            ]
          },
          "execution_count": 93,
          "metadata": {},
          "output_type": "execute_result"
        }
      ],
      "source": [
        "x_train"
      ]
    },
    {
      "cell_type": "code",
      "execution_count": null,
      "id": "2ca64b86",
      "metadata": {
        "id": "2ca64b86",
        "outputId": "cadccced-7355-4eff-f363-bcdb7ebbf91a"
      },
      "outputs": [
        {
          "data": {
            "text/html": [
              "<div>\n",
              "<style scoped>\n",
              "    .dataframe tbody tr th:only-of-type {\n",
              "        vertical-align: middle;\n",
              "    }\n",
              "\n",
              "    .dataframe tbody tr th {\n",
              "        vertical-align: top;\n",
              "    }\n",
              "\n",
              "    .dataframe thead th {\n",
              "        text-align: right;\n",
              "    }\n",
              "</style>\n",
              "<table border=\"1\" class=\"dataframe\">\n",
              "  <thead>\n",
              "    <tr style=\"text-align: right;\">\n",
              "      <th></th>\n",
              "      <th>PHONE_NUMBER</th>\n",
              "      <th>MANAGER_ID</th>\n",
              "      <th>EMAIL</th>\n",
              "    </tr>\n",
              "  </thead>\n",
              "  <tbody>\n",
              "    <tr>\n",
              "      <th>15</th>\n",
              "      <td>590.423.4560</td>\n",
              "      <td>103</td>\n",
              "      <td>VPATABAL</td>\n",
              "    </tr>\n",
              "    <tr>\n",
              "      <th>48</th>\n",
              "      <td>650.121.2019</td>\n",
              "      <td>123</td>\n",
              "      <td>JSEO</td>\n",
              "    </tr>\n",
              "    <tr>\n",
              "      <th>18</th>\n",
              "      <td>515.124.4169</td>\n",
              "      <td>108</td>\n",
              "      <td>DFAVIET</td>\n",
              "    </tr>\n",
              "    <tr>\n",
              "      <th>49</th>\n",
              "      <td>650.121.1834</td>\n",
              "      <td>123</td>\n",
              "      <td>JPATEL</td>\n",
              "    </tr>\n",
              "    <tr>\n",
              "      <th>9</th>\n",
              "      <td>515.123.4567</td>\n",
              "      <td>-</td>\n",
              "      <td>SKING</td>\n",
              "    </tr>\n",
              "    <tr>\n",
              "      <th>44</th>\n",
              "      <td>650.127.1734</td>\n",
              "      <td>122</td>\n",
              "      <td>KGEE</td>\n",
              "    </tr>\n",
              "    <tr>\n",
              "      <th>16</th>\n",
              "      <td>590.423.5567</td>\n",
              "      <td>103</td>\n",
              "      <td>DLORENTZ</td>\n",
              "    </tr>\n",
              "    <tr>\n",
              "      <th>28</th>\n",
              "      <td>515.127.4566</td>\n",
              "      <td>114</td>\n",
              "      <td>KCOLMENA</td>\n",
              "    </tr>\n",
              "    <tr>\n",
              "      <th>7</th>\n",
              "      <td>515.123.8080</td>\n",
              "      <td>101</td>\n",
              "      <td>SHIGGINS</td>\n",
              "    </tr>\n",
              "    <tr>\n",
              "      <th>1</th>\n",
              "      <td>650.507.9844</td>\n",
              "      <td>124</td>\n",
              "      <td>DGRANT</td>\n",
              "    </tr>\n",
              "  </tbody>\n",
              "</table>\n",
              "</div>"
            ],
            "text/plain": [
              "    PHONE_NUMBER MANAGER_ID     EMAIL\n",
              "15  590.423.4560        103  VPATABAL\n",
              "48  650.121.2019        123      JSEO\n",
              "18  515.124.4169        108   DFAVIET\n",
              "49  650.121.1834        123    JPATEL\n",
              "9   515.123.4567         -      SKING\n",
              "44  650.127.1734        122      KGEE\n",
              "16  590.423.5567        103  DLORENTZ\n",
              "28  515.127.4566        114  KCOLMENA\n",
              "7   515.123.8080        101  SHIGGINS\n",
              "1   650.507.9844        124    DGRANT"
            ]
          },
          "execution_count": 95,
          "metadata": {},
          "output_type": "execute_result"
        }
      ],
      "source": [
        "x_test"
      ]
    },
    {
      "cell_type": "code",
      "execution_count": null,
      "id": "b6f3676c",
      "metadata": {
        "id": "b6f3676c"
      },
      "outputs": [],
      "source": []
    }
  ],
  "metadata": {
    "kernelspec": {
      "display_name": "Python 3 (ipykernel)",
      "language": "python",
      "name": "python3"
    },
    "language_info": {
      "codemirror_mode": {
        "name": "ipython",
        "version": 3
      },
      "file_extension": ".py",
      "mimetype": "text/x-python",
      "name": "python",
      "nbconvert_exporter": "python",
      "pygments_lexer": "ipython3",
      "version": "3.9.13"
    },
    "colab": {
      "provenance": [],
      "include_colab_link": true
    }
  },
  "nbformat": 4,
  "nbformat_minor": 5
}